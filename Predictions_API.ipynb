{
  "nbformat": 4,
  "nbformat_minor": 0,
  "metadata": {
    "colab": {
      "name": "Predictions_API.ipynb",
      "provenance": [],
      "authorship_tag": "ABX9TyMgboGqlHrLWxPPLRZN4pQ5",
      "include_colab_link": true
    },
    "kernelspec": {
      "name": "python3",
      "display_name": "Python 3"
    },
    "language_info": {
      "name": "python"
    }
  },
  "cells": [
    {
      "cell_type": "markdown",
      "metadata": {
        "id": "view-in-github",
        "colab_type": "text"
      },
      "source": [
        "<a href=\"https://colab.research.google.com/github/phelipe-sb/Rain-Prediction/blob/main/Predictions_API.ipynb\" target=\"_parent\"><img src=\"https://colab.research.google.com/assets/colab-badge.svg\" alt=\"Open In Colab\"/></a>"
      ]
    },
    {
      "cell_type": "code",
      "metadata": {
        "id": "qNcrD8b9LdTz"
      },
      "source": [
        "from flask import Flask\n",
        "from flask_restful import Resource, Api, reqparse\n",
        "import os\n",
        "import json\n",
        "from google.cloud import bigquery\n",
        "from google.oauth2 import service_account\n",
        "\n",
        "client = bigquery.Client(project='weather-project-305419')\n",
        "app = Flask(__name__)\n",
        "api = Api(app)\n",
        "\n",
        "class Weather_Prediction(Resource):\n",
        "    def get(self):\n",
        "\n",
        "      query = \"\"\" SELECT *\n",
        "                  FROM (\n",
        "                  SELECT prediction_timestamp\n",
        "                      , city\n",
        "                      , rain_probability\n",
        "                      , ROW_NUMBER() OVER (PARTITION BY prediction_timestamp, city ORDER BY prediction_datetime DESC, city) AS row_num\n",
        "                  FROM `weather-project-305419.Daily_Weather.Prediction_Results` AS weather_pred\n",
        "                  ORDER BY prediction_timestamp DESC\n",
        "                  )\n",
        "                  WHERE row_num = 1\n",
        "                  LIMIT 50\n",
        "              \"\"\"\n",
        "      df = (\n",
        "      client.query(query)\n",
        "      .result()\n",
        "      .to_dataframe()\n",
        "      )\n",
        "      predictions = json.dumps(df.values.tolist())\n",
        "        # return our data and 200 OK HTTP code\n",
        "        return {'predictions': predictions}, 200\n",
        "\n",
        "api.add_resource(Weather_Prediction, '/predictions')\n",
        "\n",
        "if __name__ == '__main__':\n",
        "    app.run(debug=True, host='0.0.0.0', port=int(os.environ.get('PORT', 8080)))"
      ],
      "execution_count": null,
      "outputs": []
    }
  ]
}