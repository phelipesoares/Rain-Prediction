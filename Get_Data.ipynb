{
 "cells": [
  {
   "cell_type": "code",
   "execution_count": 134,
   "metadata": {},
   "outputs": [
    {
     "name": "stdout",
     "output_type": "stream",
     "text": [
      "list:[{'last_updated_epoch': 1628739000, 'last_updated': '2021-08-12 00:30', 'temp_c': 14.0, 'temp_f': 57.2, 'is_day': 0, 'condition': 'Partly cloudy', 'wind_mph': 4.3, 'wind_kph': 6.8, 'wind_degree': 120, 'wind_dir': 'ESE', 'pressure_mb': 1025.0, 'pressure_in': 30.27, 'precip_mm': 0.4, 'precip_in': 0.02, 'humidity': 82, 'cloud': 75, 'feelslike_c': 12.9, 'feelslike_f': 55.2, 'vis_km': 8.0, 'vis_miles': 4.0, 'uv': 1.0, 'gust_mph': 10.5, 'gust_kph': 16.9, 'city': 'Sao Paulo'}, {'last_updated_epoch': 1628739000, 'last_updated': '2021-08-12 00:30', 'temp_c': 14.0, 'temp_f': 57.2, 'is_day': 0, 'condition': 'Partly cloudy', 'wind_mph': 4.3, 'wind_kph': 6.8, 'wind_degree': 120, 'wind_dir': 'ESE', 'pressure_mb': 1025.0, 'pressure_in': 30.27, 'precip_mm': 0.2, 'precip_in': 0.01, 'humidity': 82, 'cloud': 75, 'feelslike_c': 12.6, 'feelslike_f': 54.8, 'vis_km': 8.0, 'vis_miles': 4.0, 'uv': 1.0, 'gust_mph': 16.1, 'gust_kph': 25.9, 'city': 'Carapicuiba'}, {'last_updated_epoch': 1628739000, 'last_updated': '2021-08-11 23:30', 'temp_c': 23.9, 'temp_f': 75.0, 'is_day': 0, 'condition': 'Light rain', 'wind_mph': 4.3, 'wind_kph': 6.8, 'wind_degree': 260, 'wind_dir': 'W', 'pressure_mb': 1017.0, 'pressure_in': 30.02, 'precip_mm': 0.0, 'precip_in': 0.0, 'humidity': 94, 'cloud': 75, 'feelslike_c': 25.1, 'feelslike_f': 77.2, 'vis_km': 9.7, 'vis_miles': 6.0, 'uv': 1.0, 'gust_mph': 12.8, 'gust_kph': 20.5, 'city': 'New York'}, {'last_updated_epoch': 1628739000, 'last_updated': '2021-08-12 05:30', 'temp_c': 15.0, 'temp_f': 59.0, 'is_day': 0, 'condition': 'Clear', 'wind_mph': 2.5, 'wind_kph': 4.0, 'wind_degree': 360, 'wind_dir': 'N', 'pressure_mb': 1019.0, 'pressure_in': 30.09, 'precip_mm': 0.0, 'precip_in': 0.0, 'humidity': 94, 'cloud': 0, 'feelslike_c': 15.4, 'feelslike_f': 59.8, 'vis_km': 10.0, 'vis_miles': 6.0, 'uv': 1.0, 'gust_mph': 5.1, 'gust_kph': 8.3, 'city': 'Paris'}, {'last_updated_epoch': 1628739000, 'last_updated': '2021-08-12 04:30', 'temp_c': 17.0, 'temp_f': 62.6, 'is_day': 0, 'condition': 'Overcast', 'wind_mph': 6.9, 'wind_kph': 11.2, 'wind_degree': 230, 'wind_dir': 'SW', 'pressure_mb': 1018.0, 'pressure_in': 30.06, 'precip_mm': 0.0, 'precip_in': 0.0, 'humidity': 83, 'cloud': 100, 'feelslike_c': 17.0, 'feelslike_f': 62.6, 'vis_km': 10.0, 'vis_miles': 6.0, 'uv': 1.0, 'gust_mph': 8.1, 'gust_kph': 13.0, 'city': 'London'}, {'last_updated_epoch': 1628739000, 'last_updated': '2021-08-12 05:30', 'temp_c': 24.7, 'temp_f': 76.5, 'is_day': 0, 'condition': 'Partly cloudy', 'wind_mph': 5.4, 'wind_kph': 8.6, 'wind_degree': 7, 'wind_dir': 'N', 'pressure_mb': 1015.0, 'pressure_in': 29.98, 'precip_mm': 0.0, 'precip_in': 0.0, 'humidity': 48, 'cloud': 1, 'feelslike_c': 25.6, 'feelslike_f': 78.1, 'vis_km': 10.0, 'vis_miles': 6.0, 'uv': 1.0, 'gust_mph': 11.2, 'gust_kph': 18.0, 'city': 'Rome'}, {'last_updated_epoch': 1628739000, 'last_updated': '2021-08-12 06:30', 'temp_c': 18.0, 'temp_f': 64.4, 'is_day': 1, 'condition': 'Light rain', 'wind_mph': 6.9, 'wind_kph': 11.2, 'wind_degree': 10, 'wind_dir': 'N', 'pressure_mb': 1010.0, 'pressure_in': 29.83, 'precip_mm': 3.9, 'precip_in': 0.15, 'humidity': 94, 'cloud': 50, 'feelslike_c': 18.0, 'feelslike_f': 64.4, 'vis_km': 7.0, 'vis_miles': 4.0, 'uv': 1.0, 'gust_mph': 6.7, 'gust_kph': 10.8, 'city': 'Moscow'}, {'last_updated_epoch': 1628739000, 'last_updated': '2021-08-11 23:30', 'temp_c': 25.0, 'temp_f': 77.0, 'is_day': 0, 'condition': 'Partly cloudy', 'wind_mph': 5.6, 'wind_kph': 9.0, 'wind_degree': 190, 'wind_dir': 'S', 'pressure_mb': 1010.0, 'pressure_in': 29.83, 'precip_mm': 0.9, 'precip_in': 0.04, 'humidity': 83, 'cloud': 75, 'feelslike_c': 26.7, 'feelslike_f': 80.1, 'vis_km': 24.0, 'vis_miles': 14.0, 'uv': 6.0, 'gust_mph': 15.9, 'gust_kph': 25.6, 'city': 'Ottawa'}, {'last_updated_epoch': 1628739000, 'last_updated': '2021-08-12 11:30', 'temp_c': 28.2, 'temp_f': 82.8, 'is_day': 1, 'condition': 'Patchy rain possible', 'wind_mph': 5.8, 'wind_kph': 9.4, 'wind_degree': 197, 'wind_dir': 'SSW', 'pressure_mb': 1010.0, 'pressure_in': 29.82, 'precip_mm': 1.2, 'precip_in': 0.05, 'humidity': 84, 'cloud': 71, 'feelslike_c': 33.5, 'feelslike_f': 92.3, 'vis_km': 9.0, 'vis_miles': 5.0, 'uv': 6.0, 'gust_mph': 8.3, 'gust_kph': 13.3, 'city': 'Hong Kong'}, {'last_updated_epoch': 1628739000, 'last_updated': '2021-08-12 11:30', 'temp_c': 27.0, 'temp_f': 80.6, 'is_day': 1, 'condition': 'Partly cloudy', 'wind_mph': 4.3, 'wind_kph': 6.8, 'wind_degree': 140, 'wind_dir': 'SE', 'pressure_mb': 1013.0, 'pressure_in': 29.91, 'precip_mm': 1.5, 'precip_in': 0.06, 'humidity': 70, 'cloud': 25, 'feelslike_c': 31.6, 'feelslike_f': 88.8, 'vis_km': 10.0, 'vis_miles': 6.0, 'uv': 5.0, 'gust_mph': 3.1, 'gust_kph': 5.0, 'city': 'Beijing'}]\n",
      "rows_to_insert:[{'last_updated_epoch': '1628739000', 'last_updated': '2021-08-12 00:30', 'temp_c': '14.0', 'temp_f': '57.2', 'is_day': '0', 'condition': 'Partly cloudy', 'wind_mph': '4.3', 'wind_kph': '6.8', 'wind_degree': '120', 'wind_dir': 'ESE', 'pressure_mb': '1025.0', 'pressure_in': '30.27', 'precip_mm': '0.4', 'precip_in': '0.02', 'humidity': '82', 'cloud': '75', 'feelslike_c': '12.9', 'feelslike_f': '55.2', 'vis_km': '8.0', 'vis_miles': '4.0', 'uv': '1.0', 'gust_mph': '10.5', 'gust_kph': '16.9', 'city': 'Sao Paulo', 'extraction_date': '12/08/2021 00:36:19'}]\n",
      "rows_to_insert:[{'last_updated_epoch': '1628739000', 'last_updated': '2021-08-12 00:30', 'temp_c': '14.0', 'temp_f': '57.2', 'is_day': '0', 'condition': 'Partly cloudy', 'wind_mph': '4.3', 'wind_kph': '6.8', 'wind_degree': '120', 'wind_dir': 'ESE', 'pressure_mb': '1025.0', 'pressure_in': '30.27', 'precip_mm': '0.2', 'precip_in': '0.01', 'humidity': '82', 'cloud': '75', 'feelslike_c': '12.6', 'feelslike_f': '54.8', 'vis_km': '8.0', 'vis_miles': '4.0', 'uv': '1.0', 'gust_mph': '16.1', 'gust_kph': '25.9', 'city': 'Carapicuiba', 'extraction_date': '12/08/2021 00:36:19'}]\n",
      "rows_to_insert:[{'last_updated_epoch': '1628739000', 'last_updated': '2021-08-11 23:30', 'temp_c': '23.9', 'temp_f': '75.0', 'is_day': '0', 'condition': 'Light rain', 'wind_mph': '4.3', 'wind_kph': '6.8', 'wind_degree': '260', 'wind_dir': 'W', 'pressure_mb': '1017.0', 'pressure_in': '30.02', 'precip_mm': '0.0', 'precip_in': '0.0', 'humidity': '94', 'cloud': '75', 'feelslike_c': '25.1', 'feelslike_f': '77.2', 'vis_km': '9.7', 'vis_miles': '6.0', 'uv': '1.0', 'gust_mph': '12.8', 'gust_kph': '20.5', 'city': 'New York', 'extraction_date': '12/08/2021 00:36:20'}]\n",
      "rows_to_insert:[{'last_updated_epoch': '1628739000', 'last_updated': '2021-08-12 05:30', 'temp_c': '15.0', 'temp_f': '59.0', 'is_day': '0', 'condition': 'Clear', 'wind_mph': '2.5', 'wind_kph': '4.0', 'wind_degree': '360', 'wind_dir': 'N', 'pressure_mb': '1019.0', 'pressure_in': '30.09', 'precip_mm': '0.0', 'precip_in': '0.0', 'humidity': '94', 'cloud': '0', 'feelslike_c': '15.4', 'feelslike_f': '59.8', 'vis_km': '10.0', 'vis_miles': '6.0', 'uv': '1.0', 'gust_mph': '5.1', 'gust_kph': '8.3', 'city': 'Paris', 'extraction_date': '12/08/2021 00:36:20'}]\n",
      "rows_to_insert:[{'last_updated_epoch': '1628739000', 'last_updated': '2021-08-12 04:30', 'temp_c': '17.0', 'temp_f': '62.6', 'is_day': '0', 'condition': 'Overcast', 'wind_mph': '6.9', 'wind_kph': '11.2', 'wind_degree': '230', 'wind_dir': 'SW', 'pressure_mb': '1018.0', 'pressure_in': '30.06', 'precip_mm': '0.0', 'precip_in': '0.0', 'humidity': '83', 'cloud': '100', 'feelslike_c': '17.0', 'feelslike_f': '62.6', 'vis_km': '10.0', 'vis_miles': '6.0', 'uv': '1.0', 'gust_mph': '8.1', 'gust_kph': '13.0', 'city': 'London', 'extraction_date': '12/08/2021 00:36:20'}]\n",
      "rows_to_insert:[{'last_updated_epoch': '1628739000', 'last_updated': '2021-08-12 05:30', 'temp_c': '24.7', 'temp_f': '76.5', 'is_day': '0', 'condition': 'Partly cloudy', 'wind_mph': '5.4', 'wind_kph': '8.6', 'wind_degree': '7', 'wind_dir': 'N', 'pressure_mb': '1015.0', 'pressure_in': '29.98', 'precip_mm': '0.0', 'precip_in': '0.0', 'humidity': '48', 'cloud': '1', 'feelslike_c': '25.6', 'feelslike_f': '78.1', 'vis_km': '10.0', 'vis_miles': '6.0', 'uv': '1.0', 'gust_mph': '11.2', 'gust_kph': '18.0', 'city': 'Rome', 'extraction_date': '12/08/2021 00:36:21'}]\n",
      "rows_to_insert:[{'last_updated_epoch': '1628739000', 'last_updated': '2021-08-12 06:30', 'temp_c': '18.0', 'temp_f': '64.4', 'is_day': '1', 'condition': 'Light rain', 'wind_mph': '6.9', 'wind_kph': '11.2', 'wind_degree': '10', 'wind_dir': 'N', 'pressure_mb': '1010.0', 'pressure_in': '29.83', 'precip_mm': '3.9', 'precip_in': '0.15', 'humidity': '94', 'cloud': '50', 'feelslike_c': '18.0', 'feelslike_f': '64.4', 'vis_km': '7.0', 'vis_miles': '4.0', 'uv': '1.0', 'gust_mph': '6.7', 'gust_kph': '10.8', 'city': 'Moscow', 'extraction_date': '12/08/2021 00:36:21'}]\n",
      "rows_to_insert:[{'last_updated_epoch': '1628739000', 'last_updated': '2021-08-11 23:30', 'temp_c': '25.0', 'temp_f': '77.0', 'is_day': '0', 'condition': 'Partly cloudy', 'wind_mph': '5.6', 'wind_kph': '9.0', 'wind_degree': '190', 'wind_dir': 'S', 'pressure_mb': '1010.0', 'pressure_in': '29.83', 'precip_mm': '0.9', 'precip_in': '0.04', 'humidity': '83', 'cloud': '75', 'feelslike_c': '26.7', 'feelslike_f': '80.1', 'vis_km': '24.0', 'vis_miles': '14.0', 'uv': '6.0', 'gust_mph': '15.9', 'gust_kph': '25.6', 'city': 'Ottawa', 'extraction_date': '12/08/2021 00:36:21'}]\n",
      "rows_to_insert:[{'last_updated_epoch': '1628739000', 'last_updated': '2021-08-12 11:30', 'temp_c': '28.2', 'temp_f': '82.8', 'is_day': '1', 'condition': 'Patchy rain possible', 'wind_mph': '5.8', 'wind_kph': '9.4', 'wind_degree': '197', 'wind_dir': 'SSW', 'pressure_mb': '1010.0', 'pressure_in': '29.82', 'precip_mm': '1.2', 'precip_in': '0.05', 'humidity': '84', 'cloud': '71', 'feelslike_c': '33.5', 'feelslike_f': '92.3', 'vis_km': '9.0', 'vis_miles': '5.0', 'uv': '6.0', 'gust_mph': '8.3', 'gust_kph': '13.3', 'city': 'Hong Kong', 'extraction_date': '12/08/2021 00:36:22'}]\n",
      "rows_to_insert:[{'last_updated_epoch': '1628739000', 'last_updated': '2021-08-12 11:30', 'temp_c': '27.0', 'temp_f': '80.6', 'is_day': '1', 'condition': 'Partly cloudy', 'wind_mph': '4.3', 'wind_kph': '6.8', 'wind_degree': '140', 'wind_dir': 'SE', 'pressure_mb': '1013.0', 'pressure_in': '29.91', 'precip_mm': '1.5', 'precip_in': '0.06', 'humidity': '70', 'cloud': '25', 'feelslike_c': '31.6', 'feelslike_f': '88.8', 'vis_km': '10.0', 'vis_miles': '6.0', 'uv': '5.0', 'gust_mph': '3.1', 'gust_kph': '5.0', 'city': 'Beijing', 'extraction_date': '12/08/2021 00:36:22'}]\n"
     ]
    }
   ],
   "source": [
    "### Take the data from API\n",
    "\n",
    "import requests\n",
    "import time\n",
    "from datetime import datetime\n",
    "\n",
    "f = open(r\"C:\\Users\\Phelipe\\Desktop\\The New Beginning\\project_info.txt\", \"r\")\n",
    "info_list = eval(f.read())\n",
    "\n",
    "for x in info_list[1]:\n",
    "    table_id = x\n",
    "    \n",
    "for x in info_list[2]:\n",
    "    path = x\n",
    "    \n",
    "for x in info_list[3]:\n",
    "    url = x\n",
    "    \n",
    "headers = info_list[0]\n",
    "\n",
    "cities = list((\"Sao Paulo\", \"Carapicuiba\", \"New York\", \"Paris\", \"London\", \"Rome\", \"Moscow\", \"Ottawa\", \"Hong Kong\", \"Beijing\"))\n",
    "listdict = list(())\n",
    "for i in cities:\n",
    "    querystring = {\"q\":\"{}\".format(i)}\n",
    "    response = requests.request(\"GET\", url, headers=headers, params=querystring)\n",
    "    var = response.json()\n",
    "    dic = var['current']\n",
    "    dic['condition'] = dic['condition']['text']\n",
    "    dic['city'] = \"{}\".format(i)\n",
    "    listdict.append(dic)\n",
    "    time.sleep(1)\n",
    "    \n",
    "from google.cloud import bigquery\n",
    "from google.oauth2 import service_account\n",
    "credentials = service_account.Credentials.from_service_account_file(path)\n",
    "project_id = credentials.project_id\n",
    "client = bigquery.Client(project=project_id, credentials=credentials)\n",
    "print(f'list:{listdict}')\n",
    "\n",
    "input = []\n",
    "for x in listdict:\n",
    "    for i in x.values():\n",
    "        input.append(i)\n",
    "        if len(input) < 24:\n",
    "            pass\n",
    "        else:\n",
    "            rows_to_insert = [\n",
    "            {\n",
    "            u\"last_updated_epoch\": u\"{}\".format(input[0]), \n",
    "            u\"last_updated\": u\"{}\".format(input[1]),\n",
    "            u\"temp_c\": u\"{}\".format(input[2]),\n",
    "            u\"temp_f\": u\"{}\".format(input[3]),\n",
    "            u\"is_day\": u\"{}\".format(input[4]),\n",
    "            u\"condition\": u\"{}\".format(input[5]),\n",
    "            u\"wind_mph\": u\"{}\".format(input[6]),\n",
    "            u\"wind_kph\": u\"{}\".format(input[7]),\n",
    "            u\"wind_degree\": u\"{}\".format(input[8]),\n",
    "            u\"wind_dir\": u\"{}\".format(input[9]),\n",
    "            u\"pressure_mb\": u\"{}\".format(input[10]),\n",
    "            u\"pressure_in\": u\"{}\".format(input[11]),\n",
    "            u\"precip_mm\": u\"{}\".format(input[12]),\n",
    "            u\"precip_in\": u\"{}\".format(input[13]),\n",
    "            u\"humidity\": u\"{}\".format(input[14]),\n",
    "            u\"cloud\": u\"{}\".format(input[15]),\n",
    "            u\"feelslike_c\": u\"{}\".format(input[16]),\n",
    "            u\"feelslike_f\": u\"{}\".format(input[17]),\n",
    "            u\"vis_km\": u\"{}\".format(input[18]),\n",
    "            u\"vis_miles\": u\"{}\".format(input[19]),\n",
    "            u\"uv\": u\"{}\".format(input[20]),\n",
    "            u\"gust_mph\": u\"{}\".format(input[21]),\n",
    "            u\"gust_kph\": u\"{}\".format(input[22]),\n",
    "            u\"city\": u\"{}\".format(input[23]),\n",
    "            u\"extraction_date\": u\"{}\".format(datetime.now().strftime(\"%d/%m/%Y %H:%M:%S\"))\n",
    "            },\n",
    "            ]\n",
    "            print(f'rows_to_insert:{rows_to_insert}')\n",
    "            errors = client.insert_rows_json(table_id, rows_to_insert)\n",
    "            input = []"
   ]
  },
  {
   "cell_type": "code",
   "execution_count": 133,
   "metadata": {},
   "outputs": [
    {
     "data": {
      "text/plain": [
       "[]"
      ]
     },
     "execution_count": 133,
     "metadata": {},
     "output_type": "execute_result"
    }
   ],
   "source": [
    "errors"
   ]
  }
 ],
 "metadata": {
  "kernelspec": {
   "display_name": "Python 3",
   "language": "python",
   "name": "python3"
  },
  "language_info": {
   "codemirror_mode": {
    "name": "ipython",
    "version": 3
   },
   "file_extension": ".py",
   "mimetype": "text/x-python",
   "name": "python",
   "nbconvert_exporter": "python",
   "pygments_lexer": "ipython3",
   "version": "3.7.6"
  }
 },
 "nbformat": 4,
 "nbformat_minor": 4
}
