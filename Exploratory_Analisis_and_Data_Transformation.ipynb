{
  "nbformat": 4,
  "nbformat_minor": 0,
  "metadata": {
    "colab": {
      "name": "Exploratory_Analisis_and_Data_Transformation.ipynb",
      "provenance": [],
      "collapsed_sections": [
        "unA2Dm3Dqult",
        "M4-27ri1-5Su",
        "CID-oGdHMLGS",
        "-3wUANjOM5QR",
        "v9UXRmsooNnZ",
        "AEQPrxS3FrpS"
      ],
      "include_colab_link": true
    },
    "kernelspec": {
      "name": "python3",
      "display_name": "Python 3"
    },
    "language_info": {
      "name": "python"
    }
  },
  "cells": [
    {
      "cell_type": "markdown",
      "metadata": {
        "id": "view-in-github",
        "colab_type": "text"
      },
      "source": [
        "<a href=\"https://colab.research.google.com/github/phelipe-sb/Rain-Prediction/blob/main/Exploratory_Analisis_and_Data_Transformation.ipynb\" target=\"_parent\"><img src=\"https://colab.research.google.com/assets/colab-badge.svg\" alt=\"Open In Colab\"/></a>"
      ]
    },
    {
      "cell_type": "markdown",
      "metadata": {
        "id": "unA2Dm3Dqult"
      },
      "source": [
        "### **1. Calling Libraries and Defining Functions**"
      ]
    },
    {
      "cell_type": "code",
      "source": [
        "pip install scikit-optimize"
      ],
      "metadata": {
        "colab": {
          "base_uri": "https://localhost:8080/"
        },
        "id": "qWXlGBubE3CS",
        "outputId": "d3fb7453-6862-4f6f-c92c-68e912bf1319"
      },
      "execution_count": 38,
      "outputs": [
        {
          "output_type": "stream",
          "name": "stdout",
          "text": [
            "Collecting scikit-optimize\n",
            "  Downloading scikit_optimize-0.9.0-py2.py3-none-any.whl (100 kB)\n",
            "\u001b[?25l\r\u001b[K     |███▎                            | 10 kB 17.3 MB/s eta 0:00:01\r\u001b[K     |██████▌                         | 20 kB 19.6 MB/s eta 0:00:01\r\u001b[K     |█████████▉                      | 30 kB 20.9 MB/s eta 0:00:01\r\u001b[K     |█████████████                   | 40 kB 15.8 MB/s eta 0:00:01\r\u001b[K     |████████████████▍               | 51 kB 12.3 MB/s eta 0:00:01\r\u001b[K     |███████████████████▋            | 61 kB 14.0 MB/s eta 0:00:01\r\u001b[K     |██████████████████████▉         | 71 kB 12.1 MB/s eta 0:00:01\r\u001b[K     |██████████████████████████▏     | 81 kB 12.9 MB/s eta 0:00:01\r\u001b[K     |█████████████████████████████▍  | 92 kB 13.8 MB/s eta 0:00:01\r\u001b[K     |████████████████████████████████| 100 kB 5.9 MB/s \n",
            "\u001b[?25hRequirement already satisfied: joblib>=0.11 in /usr/local/lib/python3.7/dist-packages (from scikit-optimize) (1.1.0)\n",
            "Requirement already satisfied: scipy>=0.19.1 in /usr/local/lib/python3.7/dist-packages (from scikit-optimize) (1.4.1)\n",
            "Collecting pyaml>=16.9\n",
            "  Downloading pyaml-21.10.1-py2.py3-none-any.whl (24 kB)\n",
            "Requirement already satisfied: numpy>=1.13.3 in /usr/local/lib/python3.7/dist-packages (from scikit-optimize) (1.21.5)\n",
            "Requirement already satisfied: scikit-learn>=0.20.0 in /usr/local/lib/python3.7/dist-packages (from scikit-optimize) (1.0.2)\n",
            "Requirement already satisfied: PyYAML in /usr/local/lib/python3.7/dist-packages (from pyaml>=16.9->scikit-optimize) (3.13)\n",
            "Requirement already satisfied: threadpoolctl>=2.0.0 in /usr/local/lib/python3.7/dist-packages (from scikit-learn>=0.20.0->scikit-optimize) (3.1.0)\n",
            "Installing collected packages: pyaml, scikit-optimize\n",
            "Successfully installed pyaml-21.10.1 scikit-optimize-0.9.0\n"
          ]
        }
      ]
    },
    {
      "cell_type": "code",
      "metadata": {
        "id": "ib7vkqvLlH4y"
      },
      "source": [
        "# GCP Libraries\n",
        "from google.cloud import bigquery\n",
        "from google.oauth2 import service_account\n",
        "\n",
        "# Python libraries\n",
        "import pandas as pd\n",
        "from dateutil import relativedelta\n",
        "import numpy as np\n",
        "import seaborn as sns\n",
        "import matplotlib.pyplot as plt\n",
        "import time\n",
        "from datetime import date\n",
        "from datetime import datetime\n",
        " \n",
        "# Preprocessing\n",
        "from sklearn.utils import resample\n",
        "from imblearn.over_sampling import SMOTE\n",
        "from sklearn.preprocessing import StandardScaler, OneHotEncoder, RobustScaler, OrdinalEncoder\n",
        "from sklearn.impute import SimpleImputer\n",
        "from sklearn.compose import ColumnTransformer\n",
        "from sklearn.pipeline import Pipeline\n",
        "from imblearn.pipeline import Pipeline\n",
        "\n",
        "# Feature Selection\n",
        "from sklearn.feature_selection import VarianceThreshold\n",
        "from sklearn.feature_selection import SelectPercentile, f_classif\n",
        "\n",
        "# Models\n",
        "from sklearn.ensemble import RandomForestClassifier\n",
        "from sklearn.linear_model import LogisticRegression\n",
        "from sklearn.neighbors import KNeighborsClassifier\n",
        "from sklearn.ensemble import GradientBoostingClassifier\n",
        "\n",
        "# Tuning Hyperparameters\n",
        "\n",
        "from skopt import BayesSearchCV\n",
        "from skopt.space import Real, Categorical, Integer\n",
        "\n",
        "# Model Evaluation\n",
        "from sklearn.model_selection import cross_val_score\n",
        "from sklearn.metrics import roc_auc_score"
      ],
      "execution_count": 39,
      "outputs": []
    },
    {
      "cell_type": "code",
      "source": [
        "from google.colab import drive\n",
        "drive.mount('/content/drive')"
      ],
      "metadata": {
        "colab": {
          "base_uri": "https://localhost:8080/"
        },
        "id": "51mdrHDcW7EB",
        "outputId": "0e01790b-e51c-4d16-efce-aa98da9a5433"
      },
      "execution_count": 1,
      "outputs": [
        {
          "output_type": "stream",
          "name": "stdout",
          "text": [
            "Mounted at /content/drive\n"
          ]
        }
      ]
    },
    {
      "cell_type": "code",
      "metadata": {
        "id": "TSEUrGL1l3Jv"
      },
      "source": [
        "def gcp_credentials(path):\n",
        "  credentials = service_account.Credentials.from_service_account_file(path)\n",
        "  project_id = credentials.project_id\n",
        "  client = bigquery.Client(project=project_id, credentials=credentials)\n",
        "  return client, project_id, credentials"
      ],
      "execution_count": 3,
      "outputs": []
    },
    {
      "cell_type": "code",
      "source": [
        "def get_table(query_string):\n",
        "  df = (\n",
        "    client.query(query_string)\n",
        "    .result()\n",
        "    .to_dataframe()\n",
        "  )\n",
        "  return df"
      ],
      "metadata": {
        "id": "lmuLvOEnz24x"
      },
      "execution_count": 4,
      "outputs": []
    },
    {
      "cell_type": "code",
      "metadata": {
        "id": "5-I2QvB_LYz7"
      },
      "source": [
        "def cities_filter(df, cidades):\n",
        "  df = df.loc[df['city'].isin(cidades)]\n",
        "  df['last_updated'] = pd.to_datetime(df['last_updated'])\n",
        "  return df"
      ],
      "execution_count": 5,
      "outputs": []
    },
    {
      "cell_type": "code",
      "metadata": {
        "id": "yrojat6snPSX"
      },
      "source": [
        "def drop_columns(df, columns):\n",
        "  df = df.drop(columns)\n",
        "  df = df.dropna()\n",
        "  return df"
      ],
      "execution_count": 6,
      "outputs": []
    },
    {
      "cell_type": "code",
      "metadata": {
        "id": "mU5t6p1mupkb"
      },
      "source": [
        "def tag_target(df, raining_list):\n",
        "  df['target'] = df['condition'].apply(lambda x: 1 if x in raining_list else 0)\n",
        "  print(df['target'].unique())\n",
        "  return df"
      ],
      "execution_count": 7,
      "outputs": []
    },
    {
      "cell_type": "code",
      "metadata": {
        "id": "NyIMln6b-T7N"
      },
      "source": [
        "# function to convert columns to float\n",
        "def to_float(df):\n",
        "  float_list = list()\n",
        "  for column_name in df.drop(columns='target').columns:\n",
        "    if str(df[f'{column_name}'][0]).replace(\".\", \"\").replace(\"-\", \"\").isnumeric() == True:\n",
        "      float_list.append(column_name)\n",
        "\n",
        "  for column in df.columns:\n",
        "    if column in float_list:\n",
        "      df[f'{column}'] = df[f'{column}'].astype(\"float\")\n",
        "  return df"
      ],
      "execution_count": 8,
      "outputs": []
    },
    {
      "cell_type": "code",
      "metadata": {
        "id": "eVkqn0Y0KThK"
      },
      "source": [
        "def algorithm_columns(df, columns):\n",
        "  df = df[[columns]]\n",
        "  return df"
      ],
      "execution_count": 9,
      "outputs": []
    },
    {
      "cell_type": "code",
      "metadata": {
        "id": "VfcfI0IpNn_Q"
      },
      "source": [
        "# Calculate the difference between the actual and previous register\n",
        "def date_diff_calc(df):\n",
        "  df = df.sort_values(by=['city', 'last_updated']).reset_index().drop(columns='index')\n",
        "  i = 1\n",
        "  date_diff_list = list()\n",
        "  for cell in df['last_updated']:\n",
        "    if i < len(df['last_updated']):\n",
        "      date_diff_min = (df['last_updated'][i] - cell).total_seconds()/60\n",
        "      date_diff_list.append(date_diff_min)\n",
        "      i += 1\n",
        "  df['date_diff'] = pd.DataFrame(date_diff_list)\n",
        "  return df"
      ],
      "execution_count": 12,
      "outputs": []
    },
    {
      "cell_type": "code",
      "metadata": {
        "id": "px8rcQR1YVKZ"
      },
      "source": [
        "# create a column that tells us weather is raining in the next hour\n",
        "def rain_next1(df):\n",
        "  i = 4\n",
        "  rain_next1 = list()\n",
        "  for cell in df['target']:\n",
        "    if i < len(df['target']):\n",
        "      rain_next1.append(df['target'][i])\n",
        "      i += 1\n",
        "  df['target_1'] = pd.DataFrame(rain_next1)\n",
        "  return df"
      ],
      "execution_count": 16,
      "outputs": []
    },
    {
      "cell_type": "code",
      "source": [
        "def split_x_y(df):\n",
        "  x = df.drop(columns=['target'])\n",
        "  y = df['target']\n",
        "  return x, y"
      ],
      "metadata": {
        "id": "4hLcMdPKD_jp"
      },
      "execution_count": 29,
      "outputs": []
    },
    {
      "cell_type": "markdown",
      "source": [
        "### **2. Collecting, cleaning and transforming**"
      ],
      "metadata": {
        "id": "M4-27ri1-5Su"
      }
    },
    {
      "cell_type": "code",
      "source": [
        "client, project_id, credentials = gcp_credentials(path = '/content/drive/MyDrive/Weather_Project/Weather Project-6fa8e059f642.json')\n",
        "\n",
        "df = get_table(query_string = \"\"\"\n",
        "  SELECT *\n",
        "  FROM (SELECT *\n",
        "              , ROW_NUMBER() OVER(PARTITION BY last_updated, city ORDER BY last_updated, city) AS row_num\n",
        "              FROM `weather-project-305419.Daily_Weather.Weather-Info`) as row_weather\n",
        "  WHERE row_num = 1\n",
        "  \"\"\")\n",
        "\n",
        "df = cities_filter(df, cidades = ['Paris', 'Sao Paulo', 'Carapicuiba', 'New York', 'Otawwa', 'London', 'Rome', 'Moscow'\n",
        "          , 'Hong Kong', 'Beijing'])\n",
        "\n",
        "df = tag_target(df, raining_list = ['Light rain', 'Light rain shower', 'Light drizzle', 'Heavy rain', 'Moderate rain'\n",
        "  , 'Patchy light rain with thunder', 'Moderate or heavy rain shower', 'Patchy light rain', 'Torrential rain shower'\n",
        "  , 'Moderate rain at times', 'Moderate or heavy rain with thunder'])\n",
        "\n",
        "df = to_float(df)\n",
        "\n",
        "df = date_diff_calc(df)\n",
        "\n",
        "df = rain_next1(df)"
      ],
      "metadata": {
        "colab": {
          "base_uri": "https://localhost:8080/"
        },
        "id": "3_sy5vS2zKfw",
        "outputId": "82157097-4e74-48b7-ad17-28171b802e85"
      },
      "execution_count": 18,
      "outputs": [
        {
          "output_type": "stream",
          "name": "stderr",
          "text": [
            "/usr/local/lib/python3.7/dist-packages/ipykernel_launcher.py:3: SettingWithCopyWarning: \n",
            "A value is trying to be set on a copy of a slice from a DataFrame.\n",
            "Try using .loc[row_indexer,col_indexer] = value instead\n",
            "\n",
            "See the caveats in the documentation: https://pandas.pydata.org/pandas-docs/stable/user_guide/indexing.html#returning-a-view-versus-a-copy\n",
            "  This is separate from the ipykernel package so we can avoid doing imports until\n",
            "/usr/local/lib/python3.7/dist-packages/ipykernel_launcher.py:2: SettingWithCopyWarning: \n",
            "A value is trying to be set on a copy of a slice from a DataFrame.\n",
            "Try using .loc[row_indexer,col_indexer] = value instead\n",
            "\n",
            "See the caveats in the documentation: https://pandas.pydata.org/pandas-docs/stable/user_guide/indexing.html#returning-a-view-versus-a-copy\n",
            "  \n"
          ]
        },
        {
          "output_type": "stream",
          "name": "stdout",
          "text": [
            "[0 1]\n"
          ]
        }
      ]
    },
    {
      "cell_type": "code",
      "source": [
        "# High Correlation with another variables (creating interaction terms)\n",
        "\n",
        "#x['temp_c_with_feelslike_c'] = x['feelslike_c']*x['temp_c']\n",
        "#x['pressure_with_gust'] = x['pressure_mb']*x['gust_kph']\n",
        "#x['uv_with_humidity'] = x['uv']*x['humidity']\n",
        "\n",
        "#x = x.drop(columns=['uv', 'feelslike_c', 'humidity', 'temp_c', 'pressure_mb', 'gust_kph'])"
      ],
      "metadata": {
        "id": "bULao6uniLJP"
      },
      "execution_count": null,
      "outputs": []
    },
    {
      "cell_type": "code",
      "metadata": {
        "colab": {
          "base_uri": "https://localhost:8080/"
        },
        "id": "zhtw2mbJDrs7",
        "outputId": "199c3711-205d-47e9-a0ee-73ff967b2617"
      },
      "source": [
        "%cd /content/drive/MyDrive/Weather_Project"
      ],
      "execution_count": 19,
      "outputs": [
        {
          "output_type": "stream",
          "name": "stdout",
          "text": [
            "/content/drive/MyDrive/Weather_Project\n"
          ]
        }
      ]
    },
    {
      "cell_type": "markdown",
      "metadata": {
        "id": "CID-oGdHMLGS"
      },
      "source": [
        "### **3. Data Analysis**"
      ]
    },
    {
      "cell_type": "code",
      "metadata": {
        "colab": {
          "base_uri": "https://localhost:8080/",
          "height": 314
        },
        "id": "FgablHw9w5s-",
        "outputId": "0a852c4e-afaf-4b38-a430-241b421366e4"
      },
      "source": [
        "# Target Variable Ocurrency\n",
        "percent = str(round(sum(df['target'])/len(df['target']), 1)*100) + '%'\n",
        "print(f'percentage of target == 1 is: {percent}')\n",
        "sns.histplot(data=df['target'])"
      ],
      "execution_count": 20,
      "outputs": [
        {
          "output_type": "stream",
          "name": "stdout",
          "text": [
            "percentage of target == 1 is: 10.0%\n"
          ]
        },
        {
          "output_type": "execute_result",
          "data": {
            "text/plain": [
              "<matplotlib.axes._subplots.AxesSubplot at 0x7fca4428f710>"
            ]
          },
          "metadata": {},
          "execution_count": 20
        },
        {
          "output_type": "display_data",
          "data": {
            "image/png": "[encoded data removed]",
            "text/plain": [
              "<Figure size 432x288 with 1 Axes>"
            ]
          },
          "metadata": {
            "needs_background": "light"
          }
        }
      ]
    },
    {
      "cell_type": "code",
      "metadata": {
        "colab": {
          "base_uri": "https://localhost:8080/",
          "height": 297
        },
        "id": "ZvXZugBGxkLp",
        "outputId": "cd9dd688-8850-4acb-a24f-bc9cdc067b0b"
      },
      "source": [
        "sns.countplot(x=df['is_day'], hue=df['target'])"
      ],
      "execution_count": 21,
      "outputs": [
        {
          "output_type": "execute_result",
          "data": {
            "text/plain": [
              "<matplotlib.axes._subplots.AxesSubplot at 0x7fca441441d0>"
            ]
          },
          "metadata": {},
          "execution_count": 21
        },
        {
          "output_type": "display_data",
          "data": {
            "image/png": "[encoded data removed]",
            "text/plain": [
              "<Figure size 432x288 with 1 Axes>"
            ]
          },
          "metadata": {
            "needs_background": "light"
          }
        }
      ]
    },
    {
      "cell_type": "code",
      "metadata": {
        "colab": {
          "base_uri": "https://localhost:8080/",
          "height": 334
        },
        "id": "ofjyyMAH3Z3a",
        "outputId": "83b0b59b-d91e-4756-9ab2-53434ca0b3ae"
      },
      "source": [
        "plt.figure(figsize=(15, 5))\n",
        "ax = sns.countplot(x=df['city'], hue=df['target'])"
      ],
      "execution_count": 22,
      "outputs": [
        {
          "output_type": "display_data",
          "data": {
            "image/png": "[encoded data removed]",
            "text/plain": [
              "<Figure size 1080x360 with 1 Axes>"
            ]
          },
          "metadata": {
            "needs_background": "light"
          }
        }
      ]
    },
    {
      "cell_type": "code",
      "metadata": {
        "colab": {
          "base_uri": "https://localhost:8080/",
          "height": 386
        },
        "id": "BR5U93VN6jTT",
        "outputId": "f69ecec0-d840-4bff-a344-bc8fb48f0425"
      },
      "source": [
        "plt.figure(figsize=(10, 5))\n",
        "ax = sns.displot(x=df['feelslike_c'], bins='sturges', col=df['target'])"
      ],
      "execution_count": 23,
      "outputs": [
        {
          "output_type": "display_data",
          "data": {
            "text/plain": [
              "<Figure size 720x360 with 0 Axes>"
            ]
          },
          "metadata": {}
        },
        {
          "output_type": "display_data",
          "data": {
            "image/png": "[encoded data removed]",
            "text/plain": [
              "<Figure size 720x360 with 2 Axes>"
            ]
          },
          "metadata": {
            "needs_background": "light"
          }
        }
      ]
    },
    {
      "cell_type": "code",
      "metadata": {
        "colab": {
          "base_uri": "https://localhost:8080/",
          "height": 296
        },
        "id": "Aox5-p0cLwh6",
        "outputId": "4fbbde6a-09d2-46ad-fdf4-8c68dc9678d1"
      },
      "source": [
        "sns.boxplot(x=df['target'], y=df['feelslike_c'])"
      ],
      "execution_count": null,
      "outputs": [
        {
          "output_type": "execute_result",
          "data": {
            "text/plain": [
              "<matplotlib.axes._subplots.AxesSubplot at 0x7ff316bb6d90>"
            ]
          },
          "metadata": {},
          "execution_count": 22
        },
        {
          "output_type": "display_data",
          "data": {
            "image/png": "[encoded data removed]",
            "text/plain": [
              "<Figure size 432x288 with 1 Axes>"
            ]
          },
          "metadata": {
            "needs_background": "light"
          }
        }
      ]
    },
    {
      "cell_type": "code",
      "metadata": {
        "colab": {
          "base_uri": "https://localhost:8080/",
          "height": 386
        },
        "id": "lmopZ608IUkX",
        "outputId": "73ea6bff-c322-4641-e0ff-3a393456590e"
      },
      "source": [
        "plt.figure(figsize=(10, 5))\n",
        "ax = sns.displot(x=df['temp_c'], bins='sturges', col=df['target'])"
      ],
      "execution_count": null,
      "outputs": [
        {
          "output_type": "display_data",
          "data": {
            "text/plain": [
              "<Figure size 720x360 with 0 Axes>"
            ]
          },
          "metadata": {}
        },
        {
          "output_type": "display_data",
          "data": {
            "image/png": "[encoded data removed]",
            "text/plain": [
              "<Figure size 720x360 with 2 Axes>"
            ]
          },
          "metadata": {
            "needs_background": "light"
          }
        }
      ]
    },
    {
      "cell_type": "code",
      "metadata": {
        "colab": {
          "base_uri": "https://localhost:8080/",
          "height": 299
        },
        "id": "ZQWcuO9MLrFt",
        "outputId": "676fd85d-188e-4528-a6d9-4767624fde27"
      },
      "source": [
        "sns.boxplot(x=df['target'], y=df['temp_c'])"
      ],
      "execution_count": null,
      "outputs": [
        {
          "output_type": "execute_result",
          "data": {
            "text/plain": [
              "<matplotlib.axes._subplots.AxesSubplot at 0x7ff33b2e7490>"
            ]
          },
          "metadata": {},
          "execution_count": 24
        },
        {
          "output_type": "display_data",
          "data": {
            "image/png": "[encoded data removed]",
            "text/plain": [
              "<Figure size 432x288 with 1 Axes>"
            ]
          },
          "metadata": {
            "needs_background": "light"
          }
        }
      ]
    },
    {
      "cell_type": "code",
      "metadata": {
        "colab": {
          "base_uri": "https://localhost:8080/",
          "height": 296
        },
        "id": "6hvq2UTs6L9q",
        "outputId": "a11be736-28c0-4277-dea8-e9ec921b4973"
      },
      "source": [
        "sns.boxplot(x=df['target'], y=df['cloud'])"
      ],
      "execution_count": null,
      "outputs": [
        {
          "output_type": "execute_result",
          "data": {
            "text/plain": [
              "<matplotlib.axes._subplots.AxesSubplot at 0x7ff3388aa9d0>"
            ]
          },
          "metadata": {},
          "execution_count": 25
        },
        {
          "output_type": "display_data",
          "data": {
            "image/png": "[encoded data removed]",
            "text/plain": [
              "<Figure size 432x288 with 1 Axes>"
            ]
          },
          "metadata": {
            "needs_background": "light"
          }
        }
      ]
    },
    {
      "cell_type": "code",
      "metadata": {
        "colab": {
          "base_uri": "https://localhost:8080/",
          "height": 386
        },
        "id": "8zwItGzOJISV",
        "outputId": "900f197b-caac-4859-b4e0-c0f924618eac"
      },
      "source": [
        "sns.displot(x=df['wind_kph'], col=df['target'], bins='sturges')"
      ],
      "execution_count": null,
      "outputs": [
        {
          "output_type": "execute_result",
          "data": {
            "text/plain": [
              "<seaborn.axisgrid.FacetGrid at 0x7ff338dc0b10>"
            ]
          },
          "metadata": {},
          "execution_count": 26
        },
        {
          "output_type": "display_data",
          "data": {
            "image/png": "[encoded data removed]",
            "text/plain": [
              "<Figure size 720x360 with 2 Axes>"
            ]
          },
          "metadata": {
            "needs_background": "light"
          }
        }
      ]
    },
    {
      "cell_type": "code",
      "metadata": {
        "colab": {
          "base_uri": "https://localhost:8080/",
          "height": 296
        },
        "id": "nY9eedAHJt6l",
        "outputId": "dfa1ce8d-474c-4c6c-e6da-838e667be0b2"
      },
      "source": [
        "sns.boxplot(x=df['target'], y=df['wind_kph'])"
      ],
      "execution_count": null,
      "outputs": [
        {
          "output_type": "execute_result",
          "data": {
            "text/plain": [
              "<matplotlib.axes._subplots.AxesSubplot at 0x7ff33a770610>"
            ]
          },
          "metadata": {},
          "execution_count": 27
        },
        {
          "output_type": "display_data",
          "data": {
            "image/png": "[encoded data removed]",
            "text/plain": [
              "<Figure size 432x288 with 1 Axes>"
            ]
          },
          "metadata": {
            "needs_background": "light"
          }
        }
      ]
    },
    {
      "cell_type": "code",
      "metadata": {
        "colab": {
          "base_uri": "https://localhost:8080/",
          "height": 702
        },
        "id": "D2QGHZvojbzx",
        "outputId": "4277b4d9-63d7-4c65-ea90-9abf29613fc0"
      },
      "source": [
        "plt.figure(figsize=(15,10))\n",
        "sns.heatmap(df.corr())"
      ],
      "execution_count": 24,
      "outputs": [
        {
          "output_type": "execute_result",
          "data": {
            "text/plain": [
              "<matplotlib.axes._subplots.AxesSubplot at 0x7fca44f4ec10>"
            ]
          },
          "metadata": {},
          "execution_count": 24
        },
        {
          "output_type": "display_data",
          "data": {
            "image/png": "[encoded data removed]",
            "text/plain": [
              "<Figure size 1080x720 with 2 Axes>"
            ]
          },
          "metadata": {
            "needs_background": "light"
          }
        }
      ]
    },
    {
      "cell_type": "code",
      "metadata": {
        "colab": {
          "base_uri": "https://localhost:8080/",
          "height": 297
        },
        "id": "qP-M8zh-dp5p",
        "outputId": "4260a3a4-4eb4-49ba-96fb-61284dd24eef"
      },
      "source": [
        "sns.countplot(x=df['target_1'])"
      ],
      "execution_count": null,
      "outputs": [
        {
          "output_type": "execute_result",
          "data": {
            "text/plain": [
              "<matplotlib.axes._subplots.AxesSubplot at 0x7ff33aba1290>"
            ]
          },
          "metadata": {},
          "execution_count": 42
        },
        {
          "output_type": "display_data",
          "data": {
            "image/png": "[encoded data removed]",
            "text/plain": [
              "<Figure size 432x288 with 1 Axes>"
            ]
          },
          "metadata": {
            "needs_background": "light"
          }
        }
      ]
    },
    {
      "cell_type": "code",
      "metadata": {
        "colab": {
          "base_uri": "https://localhost:8080/",
          "height": 579
        },
        "id": "dao_NoWv67U-",
        "outputId": "07f5eca8-e460-443a-c528-4e6933665e1d"
      },
      "source": [
        "plt.figure(figsize=(25, 10))\n",
        "sns.barplot(y=df['condition'], x=df['target_1'], orient='horizontal')"
      ],
      "execution_count": null,
      "outputs": [
        {
          "output_type": "execute_result",
          "data": {
            "text/plain": [
              "<matplotlib.axes._subplots.AxesSubplot at 0x7ff34d06edd0>"
            ]
          },
          "metadata": {},
          "execution_count": 41
        },
        {
          "output_type": "display_data",
          "data": {
            "image/png": "[encoded data removed]",
            "text/plain": [
              "<Figure size 1800x720 with 1 Axes>"
            ]
          },
          "metadata": {
            "needs_background": "light"
          }
        }
      ]
    },
    {
      "cell_type": "code",
      "metadata": {
        "colab": {
          "base_uri": "https://localhost:8080/",
          "height": 297
        },
        "id": "CtwPOh_khk58",
        "outputId": "7bbb419b-6923-4667-a8f8-2fa932af8fb6"
      },
      "source": [
        "sns.boxplot(y=df['cloud'], x=df['target_1'])"
      ],
      "execution_count": null,
      "outputs": [
        {
          "output_type": "execute_result",
          "data": {
            "text/plain": [
              "<matplotlib.axes._subplots.AxesSubplot at 0x7ff33b0ac610>"
            ]
          },
          "metadata": {},
          "execution_count": 43
        },
        {
          "output_type": "display_data",
          "data": {
            "image/png": "[encoded data removed]",
            "text/plain": [
              "<Figure size 432x288 with 1 Axes>"
            ]
          },
          "metadata": {
            "needs_background": "light"
          }
        }
      ]
    },
    {
      "cell_type": "code",
      "metadata": {
        "colab": {
          "base_uri": "https://localhost:8080/",
          "height": 296
        },
        "id": "wpnSmJf8imRy",
        "outputId": "b6e7f589-3f97-4da3-cb71-5f9f4b54c3a9"
      },
      "source": [
        "sns.countplot(x=df['target'], hue=df['target_1'])"
      ],
      "execution_count": null,
      "outputs": [
        {
          "output_type": "execute_result",
          "data": {
            "text/plain": [
              "<matplotlib.axes._subplots.AxesSubplot at 0x7ff33c36b790>"
            ]
          },
          "metadata": {},
          "execution_count": 44
        },
        {
          "output_type": "display_data",
          "data": {
            "image/png": "[encoded data removed]",
            "text/plain": [
              "<Figure size 432x288 with 1 Axes>"
            ]
          },
          "metadata": {
            "needs_background": "light"
          }
        }
      ]
    },
    {
      "cell_type": "code",
      "source": [
        "df.describe()"
      ],
      "metadata": {
        "colab": {
          "base_uri": "https://localhost:8080/",
          "height": 364
        },
        "id": "Qn3Z8-I3fa3W",
        "outputId": "8b241158-d84f-4d99-9b2e-f4c95902dafc"
      },
      "execution_count": null,
      "outputs": [
        {
          "output_type": "execute_result",
          "data": {
            "text/html": [
              "\n",
              "  <div id=\"df-dcf9c33e-3fce-4dc3-b114-6ad2d49fc436\">\n",
              "    <div class=\"colab-df-container\">\n",
              "      <div>\n",
              "<style scoped>\n",
              "    .dataframe tbody tr th:only-of-type {\n",
              "        vertical-align: middle;\n",
              "    }\n",
              "\n",
              "    .dataframe tbody tr th {\n",
              "        vertical-align: top;\n",
              "    }\n",
              "\n",
              "    .dataframe thead th {\n",
              "        text-align: right;\n",
              "    }\n",
              "</style>\n",
              "<table border=\"1\" class=\"dataframe\">\n",
              "  <thead>\n",
              "    <tr style=\"text-align: right;\">\n",
              "      <th></th>\n",
              "      <th>temp_c</th>\n",
              "      <th>is_day</th>\n",
              "      <th>wind_kph</th>\n",
              "      <th>wind_degree</th>\n",
              "      <th>pressure_mb</th>\n",
              "      <th>precip_mm</th>\n",
              "      <th>humidity</th>\n",
              "      <th>cloud</th>\n",
              "      <th>feelslike_c</th>\n",
              "      <th>vis_km</th>\n",
              "      <th>uv</th>\n",
              "      <th>gust_kph</th>\n",
              "      <th>target</th>\n",
              "      <th>target_1</th>\n",
              "    </tr>\n",
              "  </thead>\n",
              "  <tbody>\n",
              "    <tr>\n",
              "      <th>count</th>\n",
              "      <td>97871.000000</td>\n",
              "      <td>97871.000000</td>\n",
              "      <td>97871.000000</td>\n",
              "      <td>97871.000000</td>\n",
              "      <td>97871.000000</td>\n",
              "      <td>97871.000000</td>\n",
              "      <td>97871.000000</td>\n",
              "      <td>97871.000000</td>\n",
              "      <td>97871.000000</td>\n",
              "      <td>97871.000000</td>\n",
              "      <td>97871.000000</td>\n",
              "      <td>97871.000000</td>\n",
              "      <td>97871.000000</td>\n",
              "      <td>97867.000000</td>\n",
              "    </tr>\n",
              "    <tr>\n",
              "      <th>mean</th>\n",
              "      <td>16.636618</td>\n",
              "      <td>0.501006</td>\n",
              "      <td>10.914232</td>\n",
              "      <td>163.831707</td>\n",
              "      <td>1016.820018</td>\n",
              "      <td>0.262013</td>\n",
              "      <td>71.013937</td>\n",
              "      <td>38.607616</td>\n",
              "      <td>16.436316</td>\n",
              "      <td>10.187202</td>\n",
              "      <td>2.991223</td>\n",
              "      <td>16.239476</td>\n",
              "      <td>0.089363</td>\n",
              "      <td>0.089346</td>\n",
              "    </tr>\n",
              "    <tr>\n",
              "      <th>std</th>\n",
              "      <td>7.310923</td>\n",
              "      <td>0.500002</td>\n",
              "      <td>7.947392</td>\n",
              "      <td>104.532379</td>\n",
              "      <td>7.638399</td>\n",
              "      <td>1.668816</td>\n",
              "      <td>18.277906</td>\n",
              "      <td>38.880118</td>\n",
              "      <td>8.841164</td>\n",
              "      <td>2.788276</td>\n",
              "      <td>2.312982</td>\n",
              "      <td>9.202578</td>\n",
              "      <td>0.285268</td>\n",
              "      <td>0.285244</td>\n",
              "    </tr>\n",
              "    <tr>\n",
              "      <th>min</th>\n",
              "      <td>-9.000000</td>\n",
              "      <td>0.000000</td>\n",
              "      <td>0.000000</td>\n",
              "      <td>0.000000</td>\n",
              "      <td>967.000000</td>\n",
              "      <td>0.000000</td>\n",
              "      <td>8.000000</td>\n",
              "      <td>0.000000</td>\n",
              "      <td>-16.100000</td>\n",
              "      <td>0.000000</td>\n",
              "      <td>1.000000</td>\n",
              "      <td>0.000000</td>\n",
              "      <td>0.000000</td>\n",
              "      <td>0.000000</td>\n",
              "    </tr>\n",
              "    <tr>\n",
              "      <th>25%</th>\n",
              "      <td>12.000000</td>\n",
              "      <td>0.000000</td>\n",
              "      <td>6.100000</td>\n",
              "      <td>80.000000</td>\n",
              "      <td>1013.000000</td>\n",
              "      <td>0.000000</td>\n",
              "      <td>60.000000</td>\n",
              "      <td>0.000000</td>\n",
              "      <td>11.100000</td>\n",
              "      <td>10.000000</td>\n",
              "      <td>1.000000</td>\n",
              "      <td>9.700000</td>\n",
              "      <td>0.000000</td>\n",
              "      <td>0.000000</td>\n",
              "    </tr>\n",
              "    <tr>\n",
              "      <th>50%</th>\n",
              "      <td>17.000000</td>\n",
              "      <td>1.000000</td>\n",
              "      <td>11.200000</td>\n",
              "      <td>150.000000</td>\n",
              "      <td>1018.000000</td>\n",
              "      <td>0.000000</td>\n",
              "      <td>75.000000</td>\n",
              "      <td>25.000000</td>\n",
              "      <td>17.000000</td>\n",
              "      <td>10.000000</td>\n",
              "      <td>1.000000</td>\n",
              "      <td>14.800000</td>\n",
              "      <td>0.000000</td>\n",
              "      <td>0.000000</td>\n",
              "    </tr>\n",
              "    <tr>\n",
              "      <th>75%</th>\n",
              "      <td>21.700000</td>\n",
              "      <td>1.000000</td>\n",
              "      <td>15.100000</td>\n",
              "      <td>250.000000</td>\n",
              "      <td>1022.000000</td>\n",
              "      <td>0.000000</td>\n",
              "      <td>87.000000</td>\n",
              "      <td>75.000000</td>\n",
              "      <td>21.700000</td>\n",
              "      <td>10.000000</td>\n",
              "      <td>5.000000</td>\n",
              "      <td>20.900000</td>\n",
              "      <td>0.000000</td>\n",
              "      <td>0.000000</td>\n",
              "    </tr>\n",
              "    <tr>\n",
              "      <th>max</th>\n",
              "      <td>37.900000</td>\n",
              "      <td>1.000000</td>\n",
              "      <td>61.600000</td>\n",
              "      <td>360.000000</td>\n",
              "      <td>1044.000000</td>\n",
              "      <td>113.800000</td>\n",
              "      <td>100.000000</td>\n",
              "      <td>100.000000</td>\n",
              "      <td>51.700000</td>\n",
              "      <td>16.000000</td>\n",
              "      <td>9.000000</td>\n",
              "      <td>92.900000</td>\n",
              "      <td>1.000000</td>\n",
              "      <td>1.000000</td>\n",
              "    </tr>\n",
              "  </tbody>\n",
              "</table>\n",
              "</div>\n",
              "      <button class=\"colab-df-convert\" onclick=\"convertToInteractive('df-dcf9c33e-3fce-4dc3-b114-6ad2d49fc436')\"\n",
              "              title=\"Convert this dataframe to an interactive table.\"\n",
              "              style=\"display:none;\">\n",
              "        \n",
              "  <svg xmlns=\"http://www.w3.org/2000/svg\" height=\"24px\"viewBox=\"0 0 24 24\"\n",
              "       width=\"24px\">\n",
              "    <path d=\"M0 0h24v24H0V0z\" fill=\"none\"/>\n",
              "    <path d=\"M18.56 5.44l.94 2.06.94-2.06 2.06-.94-2.06-.94-.94-2.06-.94 2.06-2.06.94zm-11 1L8.5 8.5l.94-2.06 2.06-.94-2.06-.94L8.5 2.5l-.94 2.06-2.06.94zm10 10l.94 2.06.94-2.06 2.06-.94-2.06-.94-.94-2.06-.94 2.06-2.06.94z\"/><path d=\"M17.41 7.96l-1.37-1.37c-.4-.4-.92-.59-1.43-.59-.52 0-1.04.2-1.43.59L10.3 9.45l-7.72 7.72c-.78.78-.78 2.05 0 2.83L4 21.41c.39.39.9.59 1.41.59.51 0 1.02-.2 1.41-.59l7.78-7.78 2.81-2.81c.8-.78.8-2.07 0-2.86zM5.41 20L4 18.59l7.72-7.72 1.47 1.35L5.41 20z\"/>\n",
              "  </svg>\n",
              "      </button>\n",
              "      \n",
              "  <style>\n",
              "    .colab-df-container {\n",
              "      display:flex;\n",
              "      flex-wrap:wrap;\n",
              "      gap: 12px;\n",
              "    }\n",
              "\n",
              "    .colab-df-convert {\n",
              "      background-color: #E8F0FE;\n",
              "      border: none;\n",
              "      border-radius: 50%;\n",
              "      cursor: pointer;\n",
              "      display: none;\n",
              "      fill: #1967D2;\n",
              "      height: 32px;\n",
              "      padding: 0 0 0 0;\n",
              "      width: 32px;\n",
              "    }\n",
              "\n",
              "    .colab-df-convert:hover {\n",
              "      background-color: #E2EBFA;\n",
              "      box-shadow: 0px 1px 2px rgba(60, 64, 67, 0.3), 0px 1px 3px 1px rgba(60, 64, 67, 0.15);\n",
              "      fill: #174EA6;\n",
              "    }\n",
              "\n",
              "    [theme=dark] .colab-df-convert {\n",
              "      background-color: #3B4455;\n",
              "      fill: #D2E3FC;\n",
              "    }\n",
              "\n",
              "    [theme=dark] .colab-df-convert:hover {\n",
              "      background-color: #434B5C;\n",
              "      box-shadow: 0px 1px 3px 1px rgba(0, 0, 0, 0.15);\n",
              "      filter: drop-shadow(0px 1px 2px rgba(0, 0, 0, 0.3));\n",
              "      fill: #FFFFFF;\n",
              "    }\n",
              "  </style>\n",
              "\n",
              "      <script>\n",
              "        const buttonEl =\n",
              "          document.querySelector('#df-dcf9c33e-3fce-4dc3-b114-6ad2d49fc436 button.colab-df-convert');\n",
              "        buttonEl.style.display =\n",
              "          google.colab.kernel.accessAllowed ? 'block' : 'none';\n",
              "\n",
              "        async function convertToInteractive(key) {\n",
              "          const element = document.querySelector('#df-dcf9c33e-3fce-4dc3-b114-6ad2d49fc436');\n",
              "          const dataTable =\n",
              "            await google.colab.kernel.invokeFunction('convertToInteractive',\n",
              "                                                     [key], {});\n",
              "          if (!dataTable) return;\n",
              "\n",
              "          const docLinkHtml = 'Like what you see? Visit the ' +\n",
              "            '<a target=\"_blank\" href=https://colab.research.google.com/notebooks/data_table.ipynb>data table notebook</a>'\n",
              "            + ' to learn more about interactive tables.';\n",
              "          element.innerHTML = '';\n",
              "          dataTable['output_type'] = 'display_data';\n",
              "          await google.colab.output.renderOutput(dataTable, element);\n",
              "          const docLink = document.createElement('div');\n",
              "          docLink.innerHTML = docLinkHtml;\n",
              "          element.appendChild(docLink);\n",
              "        }\n",
              "      </script>\n",
              "    </div>\n",
              "  </div>\n",
              "  "
            ],
            "text/plain": [
              "             temp_c        is_day  ...        target      target_1\n",
              "count  97871.000000  97871.000000  ...  97871.000000  97867.000000\n",
              "mean      16.636618      0.501006  ...      0.089363      0.089346\n",
              "std        7.310923      0.500002  ...      0.285268      0.285244\n",
              "min       -9.000000      0.000000  ...      0.000000      0.000000\n",
              "25%       12.000000      0.000000  ...      0.000000      0.000000\n",
              "50%       17.000000      1.000000  ...      0.000000      0.000000\n",
              "75%       21.700000      1.000000  ...      0.000000      0.000000\n",
              "max       37.900000      1.000000  ...      1.000000      1.000000\n",
              "\n",
              "[8 rows x 14 columns]"
            ]
          },
          "metadata": {},
          "execution_count": 45
        }
      ]
    },
    {
      "cell_type": "markdown",
      "metadata": {
        "id": "-3wUANjOM5QR"
      },
      "source": [
        "### **4. Modelling DataSet for MachineLearning Algorithm**"
      ]
    },
    {
      "cell_type": "code",
      "metadata": {
        "id": "_cJBtEZBGzUi"
      },
      "source": [
        "# Transform categorical variables in columns and generate X array\n",
        "df = df[['city', 'temp_c', 'is_day', 'condition', 'wind_kph', 'wind_degree'\n",
        "          , 'pressure_mb', 'precip_mm', 'humidity', 'cloud', 'feelslike_c', 'vis_km', 'uv'\n",
        "          , 'gust_kph', 'target']]\n",
        "\n",
        "x, y = split_x_y(df)"
      ],
      "execution_count": 28,
      "outputs": []
    },
    {
      "cell_type": "markdown",
      "metadata": {
        "id": "v9UXRmsooNnZ"
      },
      "source": [
        "### **5. Applying Machine Learning Model**\n",
        "\n"
      ]
    },
    {
      "cell_type": "code",
      "metadata": {
        "id": "3LXL-pqLP3Nh"
      },
      "source": [
        "# Numerical\n",
        "numeric_cols = ['temp_c', 'wind_kph', 'wind_degree', 'pressure_mb', 'precip_mm', 'cloud', 'feelslike_c', 'vis_km'\n",
        "  , 'uv', 'gust_kph']\n",
        "  \n",
        "numeric_transformer = Pipeline(\n",
        "    steps=[(\"scaler\", StandardScaler())]\n",
        ")\n",
        "\n",
        "# Categorical\n",
        "categ_cols = ['condition', 'city', 'is_day']\n",
        "categ_transformer = OneHotEncoder(handle_unknown=\"ignore\")\n",
        "\n",
        "# Preprocessing\n",
        "preprocessor = ColumnTransformer(\n",
        "    transformers=[\n",
        "        (\"num\", numeric_transformer, numeric_cols),\n",
        "        (\"cat\", categ_transformer, categ_cols),\n",
        "    ],\n",
        "    remainder='passthrough'\n",
        ")"
      ],
      "execution_count": 40,
      "outputs": []
    },
    {
      "cell_type": "code",
      "source": [
        "lr_pipe = Pipeline(\n",
        "    steps=[(\"preprocessor\", preprocessor),\n",
        "           (\"missing_values\", SimpleImputer()),\n",
        "           (\"feature_selection_var\", VarianceThreshold()),\n",
        "           (\"feature_selection_percentile\", SelectPercentile(f_classif, percentile=65)),\n",
        "           (\"classifier\", (LogisticRegression(n_jobs=-1, class_weight='balanced',\n",
        "                                                 C=0.39150960589925055, penalty='l1',\n",
        "                                                 solver='liblinear')))]\n",
        ")\n",
        "cross_score = cross_val_score(lr_pipe, x, y, cv=10, scoring='roc_auc', n_jobs=-1)\n",
        "print(f'cross_mean: {cross_score.mean()}, cross_std: {cross_score.std()}')\n",
        "lr_pipe.fit(x, y)\n",
        "y_predict = lr_pipe.predict(x)"
      ],
      "metadata": {
        "colab": {
          "base_uri": "https://localhost:8080/"
        },
        "id": "Aeneu2cxyr-c",
        "outputId": "3bf43df6-947c-41a7-ad38-15b2e13239a2"
      },
      "execution_count": 55,
      "outputs": [
        {
          "output_type": "stream",
          "name": "stdout",
          "text": [
            "cross_mean: 1.0, cross_std: 0.0\n"
          ]
        },
        {
          "output_type": "stream",
          "name": "stderr",
          "text": [
            "/usr/local/lib/python3.7/dist-packages/sklearn/linear_model/_logistic.py:1526: UserWarning: 'n_jobs' > 1 does not have any effect when 'solver' is set to 'liblinear'. Got 'n_jobs' = 2.\n",
            "  \" = {}.\".format(effective_n_jobs(self.n_jobs))\n"
          ]
        }
      ]
    },
    {
      "cell_type": "code",
      "source": [
        "opt_lr.best_params_"
      ],
      "metadata": {
        "colab": {
          "base_uri": "https://localhost:8080/"
        },
        "id": "BQ_rbAU1y7x0",
        "outputId": "3407b2f4-7baf-4f3b-92b2-0ab1ef9a90e9"
      },
      "execution_count": 52,
      "outputs": [
        {
          "output_type": "execute_result",
          "data": {
            "text/plain": [
              "OrderedDict([('feature_selection_percentile__percentile', 65),\n",
              "             ('model',\n",
              "              LogisticRegression(C=0.39150960589925055, penalty='l1', solver='liblinear')),\n",
              "             ('model__C', 0.39150960589925055),\n",
              "             ('model__penalty', 'l1'),\n",
              "             ('model__solver', 'liblinear')])"
            ]
          },
          "metadata": {},
          "execution_count": 52
        }
      ]
    },
    {
      "cell_type": "code",
      "source": [
        "xg_pipe = Pipeline(\n",
        "    steps=[(\"preprocessor\", preprocessor),\n",
        "           (\"smote\", SMOTE()),\n",
        "           (\"missing_values\", SimpleImputer()),\n",
        "           (\"feature_selection_var\", VarianceThreshold()),\n",
        "           (\"feature_selection_percentile\", SelectPercentile(f_classif, percentile=77)),\n",
        "           (\"classifier\", (GradientBoostingClassifier(max_features=10,\n",
        "                                                 min_samples_leaf=50, n_estimators=50,\n",
        "                                                  subsample=0.5185055196417474, loss='deviance',\n",
        "                                                  learning_rate=0.9)))]\n",
        ")\n",
        "cross_score = cross_val_score(xg_pipe, x, y, cv=10, scoring='roc_auc', n_jobs=-1)\n",
        "print(f'cross_mean: {cross_score.mean()}, cross_std: {cross_score.std()}')\n",
        "xg_pipe.fit(x, y)\n",
        "y_predict = xg_pipe.predict(x)"
      ],
      "metadata": {
        "colab": {
          "base_uri": "https://localhost:8080/"
        },
        "id": "AL12RmOkysA0",
        "outputId": "2ec3598f-eae0-4436-aab3-f8a4aec7b7cc"
      },
      "execution_count": 58,
      "outputs": [
        {
          "output_type": "stream",
          "name": "stderr",
          "text": [
            "/usr/local/lib/python3.7/dist-packages/joblib/externals/loky/process_executor.py:705: UserWarning: A worker stopped while some jobs were given to the executor. This can be caused by a too short worker timeout or by a memory leak.\n",
            "  \"timeout or by a memory leak.\", UserWarning\n"
          ]
        },
        {
          "output_type": "stream",
          "name": "stdout",
          "text": [
            "cross_mean: 1.0, cross_std: 6.080941944488117e-17\n"
          ]
        }
      ]
    },
    {
      "cell_type": "code",
      "source": [
        "opt_xg.best_params_"
      ],
      "metadata": {
        "colab": {
          "base_uri": "https://localhost:8080/"
        },
        "id": "UVMvLuVhzTgk",
        "outputId": "7623a826-32a5-4b6d-d8da-f515fb321e9f"
      },
      "execution_count": 53,
      "outputs": [
        {
          "output_type": "execute_result",
          "data": {
            "text/plain": [
              "OrderedDict([('feature_selection_percentile__percentile', 77),\n",
              "             ('model',\n",
              "              GradientBoostingClassifier(learning_rate=0.9, max_features=10,\n",
              "                                         min_samples_leaf=50, n_estimators=50,\n",
              "                                         subsample=0.5185055196417474)),\n",
              "             ('model__learning_rate', 0.9),\n",
              "             ('model__loss', 'deviance'),\n",
              "             ('model__max_features', 10),\n",
              "             ('model__min_samples_leaf', 50),\n",
              "             ('model__n_estimators', 50),\n",
              "             ('model__subsample', 0.5185055196417474)])"
            ]
          },
          "metadata": {},
          "execution_count": 53
        }
      ]
    },
    {
      "cell_type": "code",
      "source": [
        "rf_pipe = Pipeline(\n",
        "    steps=[(\"preprocessor\", preprocessor),\n",
        "           (\"missing_values\", SimpleImputer()),\n",
        "           (\"feature_selection_var\", VarianceThreshold()),\n",
        "           (\"feature_selection_percentile\", SelectPercentile(f_classif, percentile=89)),\n",
        "           (\"classifier\", (RandomForestClassifier(n_jobs=-1, class_weight='balanced',\n",
        "                                                 criterion='entropy', max_features=10,\n",
        "                                                 min_samples_leaf=50, n_estimators=380)))]\n",
        ")\n",
        "cross_score = cross_val_score(rf_pipe, x, y, cv=10, scoring='roc_auc', n_jobs=-1)\n",
        "print(f'cross_mean: {cross_score.mean()}, cross_std: {cross_score.std()}')\n",
        "rf_pipe.fit(x, y)\n",
        "y_predict = rf_pipe.predict(x)"
      ],
      "metadata": {
        "colab": {
          "base_uri": "https://localhost:8080/"
        },
        "id": "229RX7BODpjT",
        "outputId": "0fb28f19-a8ca-4acb-b360-bba43528e058"
      },
      "execution_count": 59,
      "outputs": [
        {
          "output_type": "stream",
          "name": "stdout",
          "text": [
            "cross_mean: 0.9996501632025749, cross_std: 0.0003668873191468094\n"
          ]
        }
      ]
    },
    {
      "cell_type": "code",
      "source": [
        "opt.best_params_"
      ],
      "metadata": {
        "colab": {
          "base_uri": "https://localhost:8080/"
        },
        "id": "8i3OepEuz6i0",
        "outputId": "19994721-b04b-4f33-bd53-23da60d973a0"
      },
      "execution_count": 54,
      "outputs": [
        {
          "output_type": "execute_result",
          "data": {
            "text/plain": [
              "OrderedDict([('feature_selection_percentile__percentile', 89),\n",
              "             ('model',\n",
              "              RandomForestClassifier(criterion='entropy', max_features=10,\n",
              "                                     min_samples_leaf=50, n_estimators=380)),\n",
              "             ('model__criterion', 'entropy'),\n",
              "             ('model__max_features', 10),\n",
              "             ('model__min_samples_leaf', 50),\n",
              "             ('model__n_estimators', 380)])"
            ]
          },
          "metadata": {},
          "execution_count": 54
        }
      ]
    },
    {
      "cell_type": "code",
      "source": [
        "x_features = preprocessor.fit(x).get_feature_names_out()\n",
        "mask_used_ft = rf_pipe.named_steps['feature_selection_percentile'].get_support()\n",
        "x_features_used = np.delete((x_features * mask_used_ft), np.where(x_features * mask_used_ft == \"\"))\n",
        "importances = rf_pipe.named_steps['classifier'].feature_importances_\n",
        "indices = np.argsort(importances)\n",
        "\n",
        "plt.figure(figsize=(15,10))\n",
        "plt.title('Feature Importances')\n",
        "plt.barh(range(len(indices)), importances[indices], color='b', align='center')\n",
        "plt.yticks(range(len(indices)), [x_features_used[i] for i in indices])\n",
        "plt.xlabel('Relative Importance')\n",
        "plt.show()"
      ],
      "metadata": {
        "colab": {
          "base_uri": "https://localhost:8080/",
          "height": 621
        },
        "id": "UlFErUd7FMYb",
        "outputId": "a181eb5e-948a-4a2c-c6b5-460477cfb854"
      },
      "execution_count": 60,
      "outputs": [
        {
          "output_type": "display_data",
          "data": {
            "image/png": "[encoded data removed]",
            "text/plain": [
              "<Figure size 1080x720 with 1 Axes>"
            ]
          },
          "metadata": {
            "needs_background": "light"
          }
        }
      ]
    },
    {
      "cell_type": "code",
      "source": [
        "df[['rain_prob', 'not_rain_prob']] = rf_pipe.predict_proba(x)"
      ],
      "metadata": {
        "id": "9YZSzvtg2unJ"
      },
      "execution_count": 61,
      "outputs": []
    },
    {
      "cell_type": "code",
      "source": [
        "df.to_excel(\"results.xlsx\")"
      ],
      "metadata": {
        "id": "esosYNwV3TOJ"
      },
      "execution_count": 62,
      "outputs": []
    },
    {
      "cell_type": "markdown",
      "source": [
        "### Finding Best Parameters"
      ],
      "metadata": {
        "id": "AEQPrxS3FrpS"
      }
    },
    {
      "cell_type": "code",
      "source": [
        "lr_search = {\n",
        "    'model': [LogisticRegression()],\n",
        "    'model__C': Real(0.01, 1, prior='log-uniform'),\n",
        "    'model__solver': Categorical(['liblinear']),\n",
        "    'model__penalty': Categorical(['l1', 'l2']),\n",
        "    'feature_selection_percentile__percentile': Integer(10, 100)\n",
        "}\n",
        "\n",
        "pipe = Pipeline(\n",
        "    steps=[(\"preprocessor\", preprocessor),\n",
        "           (\"missing_values\", SimpleImputer()),\n",
        "           (\"feature_selection_var\", VarianceThreshold()),\n",
        "           (\"feature_selection_percentile\", SelectPercentile(f_classif)),\n",
        "           (\"model\", (LogisticRegression(class_weight='balanced', n_jobs=-1)))]\n",
        ")\n",
        "\n",
        "opt_lr = BayesSearchCV(\n",
        "    pipe,\n",
        "    [(lr_search, 15)],\n",
        "    cv=10,\n",
        "    scoring='roc_auc',\n",
        "    verbose=1,\n",
        "    n_jobs=-1\n",
        "    \n",
        ")\n",
        "\n",
        "opt_lr.fit(x, y)\n",
        "\n",
        "print(\"val. score: %s\" % opt_lr.best_score_)"
      ],
      "metadata": {
        "colab": {
          "base_uri": "https://localhost:8080/"
        },
        "id": "OIqaFQ6hFvsr",
        "outputId": "240db809-be53-4c88-b0ea-b318abb0772b"
      },
      "execution_count": 45,
      "outputs": [
        {
          "output_type": "stream",
          "name": "stdout",
          "text": [
            "Fitting 10 folds for each of 1 candidates, totalling 10 fits\n",
            "Fitting 10 folds for each of 1 candidates, totalling 10 fits\n",
            "Fitting 10 folds for each of 1 candidates, totalling 10 fits\n",
            "Fitting 10 folds for each of 1 candidates, totalling 10 fits\n",
            "Fitting 10 folds for each of 1 candidates, totalling 10 fits\n",
            "Fitting 10 folds for each of 1 candidates, totalling 10 fits\n",
            "Fitting 10 folds for each of 1 candidates, totalling 10 fits\n",
            "Fitting 10 folds for each of 1 candidates, totalling 10 fits\n",
            "Fitting 10 folds for each of 1 candidates, totalling 10 fits\n",
            "Fitting 10 folds for each of 1 candidates, totalling 10 fits\n",
            "Fitting 10 folds for each of 1 candidates, totalling 10 fits\n",
            "Fitting 10 folds for each of 1 candidates, totalling 10 fits\n",
            "Fitting 10 folds for each of 1 candidates, totalling 10 fits\n",
            "Fitting 10 folds for each of 1 candidates, totalling 10 fits\n",
            "Fitting 10 folds for each of 1 candidates, totalling 10 fits\n",
            "val. score: 1.0\n"
          ]
        }
      ]
    },
    {
      "cell_type": "code",
      "source": [
        "rf_search = {\n",
        "    'model': [RandomForestClassifier()],\n",
        "    'model__n_estimators': Integer(50, 500), #prior=\"log-uniform\"),\n",
        "    'model__max_features': Integer(4, 10),\n",
        "    #'model__max_leaf_nodes': Integer(2, 1000),\n",
        "    'model__min_samples_leaf': Integer(50,1000),\n",
        "    'model__criterion': Categorical(['gini', 'entropy']),\n",
        "    'feature_selection_percentile__percentile': Integer(50, 90)\n",
        "}\n",
        "\n",
        "pipe = Pipeline(\n",
        "    steps=[(\"preprocessor\", preprocessor),\n",
        "           (\"missing_values\", SimpleImputer()),\n",
        "           (\"feature_selection_var\", VarianceThreshold()),\n",
        "           (\"feature_selection_percentile\", SelectPercentile(f_classif)),\n",
        "           (\"model\", (RandomForestClassifier(class_weight='balanced', n_jobs=-1)))]\n",
        ")\n",
        "\n",
        "opt = BayesSearchCV(\n",
        "    pipe,\n",
        "    [(rf_search, 15)],\n",
        "    cv=10,\n",
        "    scoring='roc_auc',\n",
        "    verbose=1,\n",
        "    n_jobs=-1\n",
        "    \n",
        ")\n",
        "\n",
        "opt.fit(x, y)\n",
        "\n",
        "print(\"val. score: %s\" % opt.best_score_)"
      ],
      "metadata": {
        "colab": {
          "base_uri": "https://localhost:8080/"
        },
        "id": "j9kERFhcF7FQ",
        "outputId": "f33ac939-06d4-4faf-d9ad-0fe12190a80f"
      },
      "execution_count": 46,
      "outputs": [
        {
          "output_type": "stream",
          "name": "stdout",
          "text": [
            "Fitting 10 folds for each of 1 candidates, totalling 10 fits\n",
            "Fitting 10 folds for each of 1 candidates, totalling 10 fits\n",
            "Fitting 10 folds for each of 1 candidates, totalling 10 fits\n",
            "Fitting 10 folds for each of 1 candidates, totalling 10 fits\n",
            "Fitting 10 folds for each of 1 candidates, totalling 10 fits\n",
            "Fitting 10 folds for each of 1 candidates, totalling 10 fits\n",
            "Fitting 10 folds for each of 1 candidates, totalling 10 fits\n",
            "Fitting 10 folds for each of 1 candidates, totalling 10 fits\n",
            "Fitting 10 folds for each of 1 candidates, totalling 10 fits\n",
            "Fitting 10 folds for each of 1 candidates, totalling 10 fits\n",
            "Fitting 10 folds for each of 1 candidates, totalling 10 fits\n",
            "Fitting 10 folds for each of 1 candidates, totalling 10 fits\n",
            "Fitting 10 folds for each of 1 candidates, totalling 10 fits\n",
            "Fitting 10 folds for each of 1 candidates, totalling 10 fits\n",
            "Fitting 10 folds for each of 1 candidates, totalling 10 fits\n",
            "val. score: 0.9995347669903623\n"
          ]
        }
      ]
    },
    {
      "cell_type": "code",
      "source": [
        "xg_search = {\n",
        "    'model': [GradientBoostingClassifier()],\n",
        "    'model__loss': Categorical(['deviance', 'exponential']), #prior=\"log-uniform\"),\n",
        "    'model__learning_rate': Real(0.00001, 0.9, prior='log-uniform'),\n",
        "    'model__n_estimators': Integer(50, 500),\n",
        "    'model__subsample': Real(0.1,1, prior='uniform'),\n",
        "    'model__max_features': Integer(4, 10),\n",
        "    'model__min_samples_leaf': Integer(50,1000),\n",
        "    'feature_selection_percentile__percentile': Integer(50, 90)                                   \n",
        "}\n",
        "\n",
        "pipe = Pipeline(\n",
        "    steps=[(\"preprocessor\", preprocessor), \n",
        "           (\"smote\", SMOTE()),\n",
        "           (\"feature_selection_var\", VarianceThreshold()),\n",
        "           (\"feature_selection_percentile\", SelectPercentile(f_classif)),\n",
        "           (\"model\", (GradientBoostingClassifier()))]\n",
        ")\n",
        "\n",
        "opt_xg = BayesSearchCV(\n",
        "    pipe,\n",
        "    [(xg_search, 15)],\n",
        "    cv=10,\n",
        "    scoring='roc_auc',\n",
        "    verbose=1,\n",
        "    n_jobs=-1\n",
        "    \n",
        ")\n",
        "\n",
        "opt_xg.fit(x, y)\n",
        "\n",
        "print(\"val. score: %s\" % opt_xg.best_score_)"
      ],
      "metadata": {
        "colab": {
          "base_uri": "https://localhost:8080/"
        },
        "id": "pNFag0jzF-RB",
        "outputId": "df373dea-e0e2-4aec-9363-597b0d446c09"
      },
      "execution_count": 48,
      "outputs": [
        {
          "output_type": "stream",
          "name": "stdout",
          "text": [
            "Fitting 10 folds for each of 1 candidates, totalling 10 fits\n"
          ]
        },
        {
          "output_type": "stream",
          "name": "stderr",
          "text": [
            "/usr/local/lib/python3.7/dist-packages/joblib/externals/loky/process_executor.py:705: UserWarning: A worker stopped while some jobs were given to the executor. This can be caused by a too short worker timeout or by a memory leak.\n",
            "  \"timeout or by a memory leak.\", UserWarning\n"
          ]
        },
        {
          "output_type": "stream",
          "name": "stdout",
          "text": [
            "Fitting 10 folds for each of 1 candidates, totalling 10 fits\n",
            "Fitting 10 folds for each of 1 candidates, totalling 10 fits\n",
            "Fitting 10 folds for each of 1 candidates, totalling 10 fits\n",
            "Fitting 10 folds for each of 1 candidates, totalling 10 fits\n",
            "Fitting 10 folds for each of 1 candidates, totalling 10 fits\n",
            "Fitting 10 folds for each of 1 candidates, totalling 10 fits\n",
            "Fitting 10 folds for each of 1 candidates, totalling 10 fits\n",
            "Fitting 10 folds for each of 1 candidates, totalling 10 fits\n",
            "Fitting 10 folds for each of 1 candidates, totalling 10 fits\n",
            "Fitting 10 folds for each of 1 candidates, totalling 10 fits\n",
            "Fitting 10 folds for each of 1 candidates, totalling 10 fits\n",
            "Fitting 10 folds for each of 1 candidates, totalling 10 fits\n",
            "Fitting 10 folds for each of 1 candidates, totalling 10 fits\n",
            "Fitting 10 folds for each of 1 candidates, totalling 10 fits\n",
            "val. score: 0.9999987681741077\n"
          ]
        }
      ]
    },
    {
      "cell_type": "code",
      "source": [
        "opt_xg.best_params_"
      ],
      "metadata": {
        "colab": {
          "base_uri": "https://localhost:8080/"
        },
        "id": "oEXj4o7YpiNK",
        "outputId": "4c580ba3-23f3-40f5-e438-f52cc4369c5f"
      },
      "execution_count": 49,
      "outputs": [
        {
          "output_type": "execute_result",
          "data": {
            "text/plain": [
              "OrderedDict([('feature_selection_percentile__percentile', 77),\n",
              "             ('model',\n",
              "              GradientBoostingClassifier(learning_rate=0.9, max_features=10,\n",
              "                                         min_samples_leaf=50, n_estimators=50,\n",
              "                                         subsample=0.5185055196417474)),\n",
              "             ('model__learning_rate', 0.9),\n",
              "             ('model__loss', 'deviance'),\n",
              "             ('model__max_features', 10),\n",
              "             ('model__min_samples_leaf', 50),\n",
              "             ('model__n_estimators', 50),\n",
              "             ('model__subsample', 0.5185055196417474)])"
            ]
          },
          "metadata": {},
          "execution_count": 49
        }
      ]
    },
    {
      "cell_type": "code",
      "source": [
        "opt.best_params_"
      ],
      "metadata": {
        "colab": {
          "base_uri": "https://localhost:8080/"
        },
        "id": "VeCZD-JNpm9u",
        "outputId": "b120bd3b-dfdd-48c1-b16a-766f2679c17f"
      },
      "execution_count": 50,
      "outputs": [
        {
          "output_type": "execute_result",
          "data": {
            "text/plain": [
              "OrderedDict([('feature_selection_percentile__percentile', 89),\n",
              "             ('model',\n",
              "              RandomForestClassifier(criterion='entropy', max_features=10,\n",
              "                                     min_samples_leaf=50, n_estimators=380)),\n",
              "             ('model__criterion', 'entropy'),\n",
              "             ('model__max_features', 10),\n",
              "             ('model__min_samples_leaf', 50),\n",
              "             ('model__n_estimators', 380)])"
            ]
          },
          "metadata": {},
          "execution_count": 50
        }
      ]
    },
    {
      "cell_type": "code",
      "source": [
        "opt_lr.best_params_"
      ],
      "metadata": {
        "colab": {
          "base_uri": "https://localhost:8080/"
        },
        "id": "KGXFjTgppnAc",
        "outputId": "e3b1c15e-4934-4d08-ea66-59ec5476151a"
      },
      "execution_count": 51,
      "outputs": [
        {
          "output_type": "execute_result",
          "data": {
            "text/plain": [
              "OrderedDict([('feature_selection_percentile__percentile', 65),\n",
              "             ('model',\n",
              "              LogisticRegression(C=0.39150960589925055, penalty='l1', solver='liblinear')),\n",
              "             ('model__C', 0.39150960589925055),\n",
              "             ('model__penalty', 'l1'),\n",
              "             ('model__solver', 'liblinear')])"
            ]
          },
          "metadata": {},
          "execution_count": 51
        }
      ]
    }
  ]
}