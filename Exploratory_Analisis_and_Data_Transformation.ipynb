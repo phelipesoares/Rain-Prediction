{
  "nbformat": 4,
  "nbformat_minor": 0,
  "metadata": {
    "colab": {
      "name": "Exploratory Analisis and Data Transformation.ipynb",
      "provenance": [],
      "collapsed_sections": [
        "unA2Dm3Dqult",
        "aNrh6276rIjL",
        "CID-oGdHMLGS"
      ],
      "mount_file_id": "1MvyhD2h--JaLsCbiI1jj5utzJmOI_5n0",
      "authorship_tag": "ABX9TyOBMDOD9iHY6QPtbKC7lOQP",
      "include_colab_link": true
    },
    "kernelspec": {
      "name": "python3",
      "display_name": "Python 3"
    },
    "language_info": {
      "name": "python"
    }
  },
  "cells": [
    {
      "cell_type": "markdown",
      "metadata": {
        "id": "view-in-github",
        "colab_type": "text"
      },
      "source": [
        "<a href=\"https://colab.research.google.com/github/phelipe-sb/Rain-Prediction/blob/main/Exploratory_Analisis_and_Data_Transformation.ipynb\" target=\"_parent\"><img src=\"https://colab.research.google.com/assets/colab-badge.svg\" alt=\"Open In Colab\"/></a>"
      ]
    },
    {
      "cell_type": "markdown",
      "metadata": {
        "id": "unA2Dm3Dqult"
      },
      "source": [
        "### **1. Get Data from BigQuery**"
      ]
    },
    {
      "cell_type": "code",
      "metadata": {
        "id": "ib7vkqvLlH4y"
      },
      "source": [
        "from google.cloud import bigquery\n",
        "from google.oauth2 import service_account\n",
        "import numpy as np\n",
        "import pandas as pd"
      ],
      "execution_count": 1,
      "outputs": []
    },
    {
      "cell_type": "code",
      "metadata": {
        "id": "TSEUrGL1l3Jv"
      },
      "source": [
        "# Projett credentials with account service\n",
        "path = '/content/drive/MyDrive/Weather_Project/Weather Project-6fa8e059f642.json'"
      ],
      "execution_count": 2,
      "outputs": []
    },
    {
      "cell_type": "code",
      "metadata": {
        "id": "VoshDZOHlQuc"
      },
      "source": [
        "# Credentials\n",
        "credentials = service_account.Credentials.from_service_account_file(path)\n",
        "project_id = credentials.project_id\n",
        "client = bigquery.Client(project=project_id, credentials=credentials)"
      ],
      "execution_count": 3,
      "outputs": []
    },
    {
      "cell_type": "code",
      "metadata": {
        "id": "ur7VpbzUk4cY"
      },
      "source": [
        "# SQL Query that will run in BQ\n",
        "query_string = \"\"\"\n",
        "SELECT *\n",
        "FROM (SELECT *\n",
        "            , ROW_NUMBER() OVER(PARTITION BY last_updated, city ORDER BY last_updated, city) AS row_num\n",
        "            FROM `weather-project-305419.Daily_Weather.Weather-Info`) as row_weather\n",
        "WHERE row_num = 1\n",
        "\"\"\""
      ],
      "execution_count": 4,
      "outputs": []
    },
    {
      "cell_type": "code",
      "metadata": {
        "id": "Qpob5wiimrFM",
        "colab": {
          "base_uri": "https://localhost:8080/",
          "height": 309
        },
        "outputId": "cb0a986f-cd85-48c5-b39c-891f8d5510a7"
      },
      "source": [
        "# Transform sql query results in a pandas dataframe\n",
        "df = (\n",
        "    client.query(query_string)\n",
        "    .result()\n",
        "    .to_dataframe()\n",
        ")\n",
        "df.head()"
      ],
      "execution_count": 5,
      "outputs": [
        {
          "output_type": "execute_result",
          "data": {
            "text/html": [
              "<div>\n",
              "<style scoped>\n",
              "    .dataframe tbody tr th:only-of-type {\n",
              "        vertical-align: middle;\n",
              "    }\n",
              "\n",
              "    .dataframe tbody tr th {\n",
              "        vertical-align: top;\n",
              "    }\n",
              "\n",
              "    .dataframe thead th {\n",
              "        text-align: right;\n",
              "    }\n",
              "</style>\n",
              "<table border=\"1\" class=\"dataframe\">\n",
              "  <thead>\n",
              "    <tr style=\"text-align: right;\">\n",
              "      <th></th>\n",
              "      <th>last_updated_epoch</th>\n",
              "      <th>last_updated</th>\n",
              "      <th>temp_c</th>\n",
              "      <th>temp_f</th>\n",
              "      <th>is_day</th>\n",
              "      <th>condition</th>\n",
              "      <th>wind_mph</th>\n",
              "      <th>wind_kph</th>\n",
              "      <th>wind_degree</th>\n",
              "      <th>wind_dir</th>\n",
              "      <th>pressure_mb</th>\n",
              "      <th>pressure_in</th>\n",
              "      <th>precip_mm</th>\n",
              "      <th>precip_in</th>\n",
              "      <th>humidity</th>\n",
              "      <th>cloud</th>\n",
              "      <th>feelslike_c</th>\n",
              "      <th>feelslike_f</th>\n",
              "      <th>vis_km</th>\n",
              "      <th>vis_miles</th>\n",
              "      <th>uv</th>\n",
              "      <th>gust_mph</th>\n",
              "      <th>gust_kph</th>\n",
              "      <th>city</th>\n",
              "      <th>extraction_date</th>\n",
              "      <th>row_num</th>\n",
              "    </tr>\n",
              "  </thead>\n",
              "  <tbody>\n",
              "    <tr>\n",
              "      <th>0</th>\n",
              "      <td>1619162100</td>\n",
              "      <td>2021-04-23 04:15</td>\n",
              "      <td>13.9</td>\n",
              "      <td>57.0</td>\n",
              "      <td>0</td>\n",
              "      <td>Partly cloudy</td>\n",
              "      <td>5.4</td>\n",
              "      <td>8.6</td>\n",
              "      <td>153</td>\n",
              "      <td>SSE</td>\n",
              "      <td>1018.0</td>\n",
              "      <td>30.5</td>\n",
              "      <td>0.0</td>\n",
              "      <td>0.0</td>\n",
              "      <td>91</td>\n",
              "      <td>48</td>\n",
              "      <td>13.5</td>\n",
              "      <td>56.3</td>\n",
              "      <td>10.0</td>\n",
              "      <td>6.0</td>\n",
              "      <td>1.0</td>\n",
              "      <td>8.7</td>\n",
              "      <td>14.0</td>\n",
              "      <td>Carapicuiba</td>\n",
              "      <td>None</td>\n",
              "      <td>1</td>\n",
              "    </tr>\n",
              "    <tr>\n",
              "      <th>1</th>\n",
              "      <td>1619244900</td>\n",
              "      <td>2021-04-24 03:15</td>\n",
              "      <td>18.4</td>\n",
              "      <td>65.1</td>\n",
              "      <td>0</td>\n",
              "      <td>Partly cloudy</td>\n",
              "      <td>5.6</td>\n",
              "      <td>9.0</td>\n",
              "      <td>129</td>\n",
              "      <td>SE</td>\n",
              "      <td>1017.0</td>\n",
              "      <td>30.5</td>\n",
              "      <td>0.0</td>\n",
              "      <td>0.0</td>\n",
              "      <td>79</td>\n",
              "      <td>43</td>\n",
              "      <td>18.4</td>\n",
              "      <td>65.1</td>\n",
              "      <td>10.0</td>\n",
              "      <td>6.0</td>\n",
              "      <td>1.0</td>\n",
              "      <td>6.5</td>\n",
              "      <td>10.4</td>\n",
              "      <td>Sao Paulo</td>\n",
              "      <td>None</td>\n",
              "      <td>1</td>\n",
              "    </tr>\n",
              "    <tr>\n",
              "      <th>2</th>\n",
              "      <td>1619249400</td>\n",
              "      <td>2021-04-24 04:30</td>\n",
              "      <td>18.5</td>\n",
              "      <td>65.3</td>\n",
              "      <td>0</td>\n",
              "      <td>Partly cloudy</td>\n",
              "      <td>5.4</td>\n",
              "      <td>8.6</td>\n",
              "      <td>122</td>\n",
              "      <td>ESE</td>\n",
              "      <td>1016.0</td>\n",
              "      <td>30.5</td>\n",
              "      <td>0.0</td>\n",
              "      <td>0.0</td>\n",
              "      <td>78</td>\n",
              "      <td>49</td>\n",
              "      <td>18.5</td>\n",
              "      <td>65.3</td>\n",
              "      <td>10.0</td>\n",
              "      <td>6.0</td>\n",
              "      <td>1.0</td>\n",
              "      <td>6.0</td>\n",
              "      <td>9.7</td>\n",
              "      <td>Sao Paulo</td>\n",
              "      <td>None</td>\n",
              "      <td>1</td>\n",
              "    </tr>\n",
              "    <tr>\n",
              "      <th>3</th>\n",
              "      <td>1619270100</td>\n",
              "      <td>2021-04-24 09:15</td>\n",
              "      <td>13.9</td>\n",
              "      <td>57.0</td>\n",
              "      <td>1</td>\n",
              "      <td>Sunny</td>\n",
              "      <td>5.6</td>\n",
              "      <td>9.0</td>\n",
              "      <td>320</td>\n",
              "      <td>NW</td>\n",
              "      <td>1018.0</td>\n",
              "      <td>30.5</td>\n",
              "      <td>0.0</td>\n",
              "      <td>0.0</td>\n",
              "      <td>34</td>\n",
              "      <td>0</td>\n",
              "      <td>13.3</td>\n",
              "      <td>55.9</td>\n",
              "      <td>16.0</td>\n",
              "      <td>9.0</td>\n",
              "      <td>1.0</td>\n",
              "      <td>8.1</td>\n",
              "      <td>13.0</td>\n",
              "      <td>New York</td>\n",
              "      <td>None</td>\n",
              "      <td>1</td>\n",
              "    </tr>\n",
              "    <tr>\n",
              "      <th>4</th>\n",
              "      <td>1619308800</td>\n",
              "      <td>2021-04-25 02:00</td>\n",
              "      <td>10.2</td>\n",
              "      <td>50.4</td>\n",
              "      <td>0</td>\n",
              "      <td>Partly cloudy</td>\n",
              "      <td>9.8</td>\n",
              "      <td>15.8</td>\n",
              "      <td>43</td>\n",
              "      <td>NE</td>\n",
              "      <td>1023.0</td>\n",
              "      <td>30.7</td>\n",
              "      <td>0.0</td>\n",
              "      <td>0.0</td>\n",
              "      <td>65</td>\n",
              "      <td>31</td>\n",
              "      <td>8.1</td>\n",
              "      <td>46.6</td>\n",
              "      <td>10.0</td>\n",
              "      <td>6.0</td>\n",
              "      <td>1.0</td>\n",
              "      <td>13.4</td>\n",
              "      <td>21.6</td>\n",
              "      <td>Paris</td>\n",
              "      <td>None</td>\n",
              "      <td>1</td>\n",
              "    </tr>\n",
              "  </tbody>\n",
              "</table>\n",
              "</div>"
            ],
            "text/plain": [
              "  last_updated_epoch      last_updated  ... extraction_date row_num\n",
              "0         1619162100  2021-04-23 04:15  ...            None       1\n",
              "1         1619244900  2021-04-24 03:15  ...            None       1\n",
              "2         1619249400  2021-04-24 04:30  ...            None       1\n",
              "3         1619270100  2021-04-24 09:15  ...            None       1\n",
              "4         1619308800  2021-04-25 02:00  ...            None       1\n",
              "\n",
              "[5 rows x 26 columns]"
            ]
          },
          "metadata": {},
          "execution_count": 5
        }
      ]
    },
    {
      "cell_type": "code",
      "metadata": {
        "colab": {
          "base_uri": "https://localhost:8080/"
        },
        "id": "zhtw2mbJDrs7",
        "outputId": "df51dc64-8730-410c-8f94-6812e3330f14"
      },
      "source": [
        "%cd /content/drive/MyDrive/Weather_Project"
      ],
      "execution_count": 6,
      "outputs": [
        {
          "output_type": "stream",
          "name": "stdout",
          "text": [
            "/content/drive/MyDrive/Weather_Project\n"
          ]
        }
      ]
    },
    {
      "cell_type": "code",
      "metadata": {
        "id": "0fgu3JrLnwpz"
      },
      "source": [
        "# Saving in a pickle file so we don't need query in database again\n",
        "import pickle\n",
        "df.to_pickle(\"weather_data\")"
      ],
      "execution_count": 7,
      "outputs": []
    },
    {
      "cell_type": "markdown",
      "metadata": {
        "id": "aNrh6276rIjL"
      },
      "source": [
        "### **2. Data Transformation**"
      ]
    },
    {
      "cell_type": "code",
      "metadata": {
        "id": "3nKKszo2rUMq"
      },
      "source": [
        "# Open pickle file\n",
        "file = open('/content/drive/MyDrive/Weather_Project/weather_data', 'rb')\n",
        "df = pickle.load(file)"
      ],
      "execution_count": 8,
      "outputs": []
    },
    {
      "cell_type": "code",
      "metadata": {
        "colab": {
          "base_uri": "https://localhost:8080/"
        },
        "id": "5-I2QvB_LYz7",
        "outputId": "68f76877-74f6-40ff-d5d5-a6ed03442a58"
      },
      "source": [
        "cidades = ['Paris', 'Sao Paulo', 'Carapicuiba', 'New York', 'Otawwa', 'London', 'Rome', 'Moscow'\n",
        "        , 'Hong Kong', 'Beijing']\n",
        "df = df.loc[df['city'].isin(cidades)]\n",
        "df['last_updated'] = pd.to_datetime(df['last_updated'])\n",
        "df.shape"
      ],
      "execution_count": 9,
      "outputs": [
        {
          "output_type": "execute_result",
          "data": {
            "text/plain": [
              "(53702, 26)"
            ]
          },
          "metadata": {},
          "execution_count": 9
        }
      ]
    },
    {
      "cell_type": "code",
      "metadata": {
        "id": "yrojat6snPSX",
        "colab": {
          "base_uri": "https://localhost:8080/"
        },
        "outputId": "632b62c5-48fe-4e13-a90a-9e12ecb1d0da"
      },
      "source": [
        "# Drop useless columns for analysis\n",
        "df = df.drop(columns=['row_num', 'last_updated_epoch', 'extraction_date'])\n",
        "df = df.dropna()\n",
        "# number of rows and columns\n",
        "print(df.shape, df['city'].unique())"
      ],
      "execution_count": 10,
      "outputs": [
        {
          "output_type": "stream",
          "name": "stdout",
          "text": [
            "(53702, 23) ['Carapicuiba' 'Sao Paulo' 'New York' 'Paris' 'Hong Kong' 'Rome' 'Moscow'\n",
            " 'London' 'Beijing']\n"
          ]
        }
      ]
    },
    {
      "cell_type": "code",
      "metadata": {
        "id": "5YYnR104sWGT"
      },
      "source": [
        "import seaborn as sns\n",
        "import matplotlib.pyplot as plt"
      ],
      "execution_count": 11,
      "outputs": []
    },
    {
      "cell_type": "code",
      "metadata": {
        "id": "C6qd17xDtV2Z",
        "colab": {
          "base_uri": "https://localhost:8080/"
        },
        "outputId": "4fb05b6b-edd3-4c69-ef1c-38cc15e5af86"
      },
      "source": [
        "# Target: Predict condition (that means wether is raining or not) \n",
        "df['condition'].unique()"
      ],
      "execution_count": 12,
      "outputs": [
        {
          "output_type": "execute_result",
          "data": {
            "text/plain": [
              "array(['Partly cloudy', 'Sunny', 'Light rain', 'Patchy rain possible',\n",
              "       'Overcast', 'Mist', 'Light rain shower', 'Clear', 'Cloudy',\n",
              "       'Patchy light rain with thunder', 'Thundery outbreaks possible',\n",
              "       'Heavy rain', 'Light drizzle', 'Fog', 'Moderate rain',\n",
              "       'Moderate rain at times', 'Moderate or heavy rain shower',\n",
              "       'Torrential rain shower', 'Patchy light rain', 'Light snow',\n",
              "       'Moderate or heavy rain with thunder',\n",
              "       'Moderate or heavy snow with thunder',\n",
              "       'Moderate or heavy snow showers', 'Heavy rain at times',\n",
              "       'Ice pellets'], dtype=object)"
            ]
          },
          "metadata": {},
          "execution_count": 12
        }
      ]
    },
    {
      "cell_type": "markdown",
      "metadata": {
        "id": "CFFD9XIGugi5"
      },
      "source": [
        "We need to resume this bunch of conditions and define our target class"
      ]
    },
    {
      "cell_type": "code",
      "metadata": {
        "id": "mU5t6p1mupkb"
      },
      "source": [
        "# This conditions means that it's raining in the moment\n",
        "raining_list = ['Light rain', 'Light rain shower', 'Light drizzle', 'Heavy rain', 'Moderate rain', 'Patchy light rain with thunder'\n",
        "            , 'Moderate or heavy rain shower', 'Patchy light rain', 'Torrential rain shower', 'Moderate rain at times'\n",
        "            , 'Moderate or heavy rain with thunder']"
      ],
      "execution_count": 13,
      "outputs": []
    },
    {
      "cell_type": "code",
      "metadata": {
        "id": "heg5yiubwMLQ",
        "colab": {
          "base_uri": "https://localhost:8080/"
        },
        "outputId": "069a65f4-3dfb-406c-cbe4-fa94eb5521e3"
      },
      "source": [
        "# Creating the target variable\n",
        "df['target'] = df['condition'].apply(lambda x: 1 if x in raining_list else 0)\n",
        "df['target'].unique()"
      ],
      "execution_count": 14,
      "outputs": [
        {
          "output_type": "execute_result",
          "data": {
            "text/plain": [
              "array([0, 1])"
            ]
          },
          "metadata": {},
          "execution_count": 14
        }
      ]
    },
    {
      "cell_type": "code",
      "metadata": {
        "id": "NGYN-O4y6pSU",
        "colab": {
          "base_uri": "https://localhost:8080/"
        },
        "outputId": "ec9db33b-1a79-4554-9cd2-335bcd5df0fb"
      },
      "source": [
        "df.info()"
      ],
      "execution_count": 15,
      "outputs": [
        {
          "output_type": "stream",
          "name": "stdout",
          "text": [
            "<class 'pandas.core.frame.DataFrame'>\n",
            "Int64Index: 53702 entries, 0 to 55605\n",
            "Data columns (total 24 columns):\n",
            " #   Column        Non-Null Count  Dtype         \n",
            "---  ------        --------------  -----         \n",
            " 0   last_updated  53702 non-null  datetime64[ns]\n",
            " 1   temp_c        53702 non-null  object        \n",
            " 2   temp_f        53702 non-null  object        \n",
            " 3   is_day        53702 non-null  object        \n",
            " 4   condition     53702 non-null  object        \n",
            " 5   wind_mph      53702 non-null  object        \n",
            " 6   wind_kph      53702 non-null  object        \n",
            " 7   wind_degree   53702 non-null  object        \n",
            " 8   wind_dir      53702 non-null  object        \n",
            " 9   pressure_mb   53702 non-null  object        \n",
            " 10  pressure_in   53702 non-null  object        \n",
            " 11  precip_mm     53702 non-null  object        \n",
            " 12  precip_in     53702 non-null  object        \n",
            " 13  humidity      53702 non-null  object        \n",
            " 14  cloud         53702 non-null  object        \n",
            " 15  feelslike_c   53702 non-null  object        \n",
            " 16  feelslike_f   53702 non-null  object        \n",
            " 17  vis_km        53702 non-null  object        \n",
            " 18  vis_miles     53702 non-null  object        \n",
            " 19  uv            53702 non-null  object        \n",
            " 20  gust_mph      53702 non-null  object        \n",
            " 21  gust_kph      53702 non-null  object        \n",
            " 22  city          53702 non-null  object        \n",
            " 23  target        53702 non-null  int64         \n",
            "dtypes: datetime64[ns](1), int64(1), object(22)\n",
            "memory usage: 10.2+ MB\n"
          ]
        }
      ]
    },
    {
      "cell_type": "code",
      "metadata": {
        "id": "Lep4_CRE6r32"
      },
      "source": [
        "# Create a list with columns to be converted\n",
        "float_list = list()\n",
        "for column_name in df.drop(columns='target').columns:\n",
        "  if str(df[f'{column_name}'][0]).replace(\".\", \"\").replace(\"-\", \"\").isnumeric() == True:\n",
        "    float_list.append(column_name)"
      ],
      "execution_count": 16,
      "outputs": []
    },
    {
      "cell_type": "code",
      "metadata": {
        "id": "NyIMln6b-T7N"
      },
      "source": [
        "# function to convert columns to float\n",
        "def to_float(df):\n",
        "  for column in df.columns:\n",
        "    if column in float_list:\n",
        "      df[f'{column}'] = df[f'{column}'].astype(\"float\")\n",
        "  return df.info()"
      ],
      "execution_count": 17,
      "outputs": []
    },
    {
      "cell_type": "code",
      "metadata": {
        "id": "qLQngUnK_SyD",
        "colab": {
          "base_uri": "https://localhost:8080/"
        },
        "outputId": "62dae696-876e-4198-aa61-1078a7e1750a"
      },
      "source": [
        "to_float(df)"
      ],
      "execution_count": 18,
      "outputs": [
        {
          "output_type": "stream",
          "name": "stdout",
          "text": [
            "<class 'pandas.core.frame.DataFrame'>\n",
            "Int64Index: 53702 entries, 0 to 55605\n",
            "Data columns (total 24 columns):\n",
            " #   Column        Non-Null Count  Dtype         \n",
            "---  ------        --------------  -----         \n",
            " 0   last_updated  53702 non-null  datetime64[ns]\n",
            " 1   temp_c        53702 non-null  float64       \n",
            " 2   temp_f        53702 non-null  float64       \n",
            " 3   is_day        53702 non-null  float64       \n",
            " 4   condition     53702 non-null  object        \n",
            " 5   wind_mph      53702 non-null  float64       \n",
            " 6   wind_kph      53702 non-null  float64       \n",
            " 7   wind_degree   53702 non-null  float64       \n",
            " 8   wind_dir      53702 non-null  object        \n",
            " 9   pressure_mb   53702 non-null  float64       \n",
            " 10  pressure_in   53702 non-null  float64       \n",
            " 11  precip_mm     53702 non-null  float64       \n",
            " 12  precip_in     53702 non-null  float64       \n",
            " 13  humidity      53702 non-null  float64       \n",
            " 14  cloud         53702 non-null  float64       \n",
            " 15  feelslike_c   53702 non-null  float64       \n",
            " 16  feelslike_f   53702 non-null  float64       \n",
            " 17  vis_km        53702 non-null  float64       \n",
            " 18  vis_miles     53702 non-null  float64       \n",
            " 19  uv            53702 non-null  float64       \n",
            " 20  gust_mph      53702 non-null  float64       \n",
            " 21  gust_kph      53702 non-null  float64       \n",
            " 22  city          53702 non-null  object        \n",
            " 23  target        53702 non-null  int64         \n",
            "dtypes: datetime64[ns](1), float64(19), int64(1), object(3)\n",
            "memory usage: 12.7+ MB\n"
          ]
        }
      ]
    },
    {
      "cell_type": "markdown",
      "metadata": {
        "id": "CID-oGdHMLGS"
      },
      "source": [
        "### **3. Data Analysis**"
      ]
    },
    {
      "cell_type": "code",
      "metadata": {
        "colab": {
          "base_uri": "https://localhost:8080/",
          "height": 313
        },
        "id": "FgablHw9w5s-",
        "outputId": "540b2f88-4874-45d0-8457-3f08616b29d0"
      },
      "source": [
        "# Target Variable Ocurrency\n",
        "percent = str(round(sum(df['target'])/len(df['target']), 1)*100) + '%'\n",
        "print(f'percentage of target == 1 is: {percent}')\n",
        "sns.histplot(data=df['target'])"
      ],
      "execution_count": 19,
      "outputs": [
        {
          "output_type": "stream",
          "name": "stdout",
          "text": [
            "percentage of target == 1 is: 10.0%\n"
          ]
        },
        {
          "output_type": "execute_result",
          "data": {
            "text/plain": [
              "<matplotlib.axes._subplots.AxesSubplot at 0x7f3c7e0ae050>"
            ]
          },
          "metadata": {},
          "execution_count": 19
        },
        {
          "output_type": "display_data",
          "data": {
            "image/png": "[encoded data removed]",
            "text/plain": [
              "<Figure size 432x288 with 1 Axes>"
            ]
          },
          "metadata": {
            "needs_background": "light"
          }
        }
      ]
    },
    {
      "cell_type": "code",
      "metadata": {
        "colab": {
          "base_uri": "https://localhost:8080/",
          "height": 297
        },
        "id": "ZvXZugBGxkLp",
        "outputId": "7ff83d37-7d1f-496e-f88d-2ca917a6cf57"
      },
      "source": [
        "sns.countplot(x=df['is_day'], hue=df['target'])"
      ],
      "execution_count": 20,
      "outputs": [
        {
          "output_type": "execute_result",
          "data": {
            "text/plain": [
              "<matplotlib.axes._subplots.AxesSubplot at 0x7f3c7e08d050>"
            ]
          },
          "metadata": {},
          "execution_count": 20
        },
        {
          "output_type": "display_data",
          "data": {
            "image/png": "[encoded data removed]",
            "text/plain": [
              "<Figure size 432x288 with 1 Axes>"
            ]
          },
          "metadata": {
            "needs_background": "light"
          }
        }
      ]
    },
    {
      "cell_type": "code",
      "metadata": {
        "colab": {
          "base_uri": "https://localhost:8080/",
          "height": 334
        },
        "id": "ofjyyMAH3Z3a",
        "outputId": "6b4321fc-7b30-4e14-e925-42baf388e477"
      },
      "source": [
        "plt.figure(figsize=(15, 5))\n",
        "ax = sns.countplot(x=df['city'], hue=df['target'])"
      ],
      "execution_count": 21,
      "outputs": [
        {
          "output_type": "display_data",
          "data": {
            "image/png": "[encoded data removed]",
            "text/plain": [
              "<Figure size 1080x360 with 1 Axes>"
            ]
          },
          "metadata": {
            "needs_background": "light"
          }
        }
      ]
    },
    {
      "cell_type": "code",
      "metadata": {
        "colab": {
          "base_uri": "https://localhost:8080/",
          "height": 386
        },
        "id": "BR5U93VN6jTT",
        "outputId": "8b49765d-c59c-42d7-a8c6-8e4575521d3d"
      },
      "source": [
        "plt.figure(figsize=(10, 5))\n",
        "ax = sns.displot(x=df['feelslike_c'], bins='sturges', col=df['target'])"
      ],
      "execution_count": 22,
      "outputs": [
        {
          "output_type": "display_data",
          "data": {
            "text/plain": [
              "<Figure size 720x360 with 0 Axes>"
            ]
          },
          "metadata": {}
        },
        {
          "output_type": "display_data",
          "data": {
            "image/png": "[encoded data removed]",
            "text/plain": [
              "<Figure size 720x360 with 2 Axes>"
            ]
          },
          "metadata": {
            "needs_background": "light"
          }
        }
      ]
    },
    {
      "cell_type": "code",
      "metadata": {
        "colab": {
          "base_uri": "https://localhost:8080/",
          "height": 296
        },
        "id": "Aox5-p0cLwh6",
        "outputId": "60d5d13b-7c19-484e-d167-8812acd86f0d"
      },
      "source": [
        "sns.boxplot(x=df['target'], y=df['feelslike_c'])"
      ],
      "execution_count": 23,
      "outputs": [
        {
          "output_type": "execute_result",
          "data": {
            "text/plain": [
              "<matplotlib.axes._subplots.AxesSubplot at 0x7f3c7e471f50>"
            ]
          },
          "metadata": {},
          "execution_count": 23
        },
        {
          "output_type": "display_data",
          "data": {
            "image/png": "[encoded data removed]",
            "text/plain": [
              "<Figure size 432x288 with 1 Axes>"
            ]
          },
          "metadata": {
            "needs_background": "light"
          }
        }
      ]
    },
    {
      "cell_type": "code",
      "metadata": {
        "colab": {
          "base_uri": "https://localhost:8080/",
          "height": 386
        },
        "id": "lmopZ608IUkX",
        "outputId": "001a9fe7-4d1e-42b8-8fc9-d25e3cb0d322"
      },
      "source": [
        "plt.figure(figsize=(10, 5))\n",
        "ax = sns.displot(x=df['temp_c'], bins='sturges', col=df['target'])"
      ],
      "execution_count": 24,
      "outputs": [
        {
          "output_type": "display_data",
          "data": {
            "text/plain": [
              "<Figure size 720x360 with 0 Axes>"
            ]
          },
          "metadata": {}
        },
        {
          "output_type": "display_data",
          "data": {
            "image/png": "[encoded data removed]",
            "text/plain": [
              "<Figure size 720x360 with 2 Axes>"
            ]
          },
          "metadata": {
            "needs_background": "light"
          }
        }
      ]
    },
    {
      "cell_type": "code",
      "metadata": {
        "colab": {
          "base_uri": "https://localhost:8080/",
          "height": 296
        },
        "id": "ZQWcuO9MLrFt",
        "outputId": "0a86b53f-f3e6-46ec-aa2c-b2ec6814480d"
      },
      "source": [
        "sns.boxplot(x=df['target'], y=df['temp_c'])"
      ],
      "execution_count": 25,
      "outputs": [
        {
          "output_type": "execute_result",
          "data": {
            "text/plain": [
              "<matplotlib.axes._subplots.AxesSubplot at 0x7f3c7e584ad0>"
            ]
          },
          "metadata": {},
          "execution_count": 25
        },
        {
          "output_type": "display_data",
          "data": {
            "image/png": "[encoded data removed]",
            "text/plain": [
              "<Figure size 432x288 with 1 Axes>"
            ]
          },
          "metadata": {
            "needs_background": "light"
          }
        }
      ]
    },
    {
      "cell_type": "code",
      "metadata": {
        "colab": {
          "base_uri": "https://localhost:8080/",
          "height": 296
        },
        "id": "6hvq2UTs6L9q",
        "outputId": "0c704994-100e-4f44-96ed-2d96ed20a75f"
      },
      "source": [
        "sns.boxplot(x=df['target'], y=df['cloud'])"
      ],
      "execution_count": 26,
      "outputs": [
        {
          "output_type": "execute_result",
          "data": {
            "text/plain": [
              "<matplotlib.axes._subplots.AxesSubplot at 0x7f3c7e6d1090>"
            ]
          },
          "metadata": {},
          "execution_count": 26
        },
        {
          "output_type": "display_data",
          "data": {
            "image/png": "[encoded data removed]",
            "text/plain": [
              "<Figure size 432x288 with 1 Axes>"
            ]
          },
          "metadata": {
            "needs_background": "light"
          }
        }
      ]
    },
    {
      "cell_type": "code",
      "metadata": {
        "colab": {
          "base_uri": "https://localhost:8080/",
          "height": 386
        },
        "id": "8zwItGzOJISV",
        "outputId": "6c351407-c598-4728-9fad-2f617efb4e2b"
      },
      "source": [
        "sns.displot(x=df['wind_kph'], col=df['target'], bins='sturges')"
      ],
      "execution_count": 27,
      "outputs": [
        {
          "output_type": "execute_result",
          "data": {
            "text/plain": [
              "<seaborn.axisgrid.FacetGrid at 0x7f3c7e592790>"
            ]
          },
          "metadata": {},
          "execution_count": 27
        },
        {
          "output_type": "display_data",
          "data": {
            "image/png": "[encoded data removed]",
            "text/plain": [
              "<Figure size 720x360 with 2 Axes>"
            ]
          },
          "metadata": {
            "needs_background": "light"
          }
        }
      ]
    },
    {
      "cell_type": "code",
      "metadata": {
        "colab": {
          "base_uri": "https://localhost:8080/",
          "height": 296
        },
        "id": "nY9eedAHJt6l",
        "outputId": "abf1fa03-a8fd-462c-e5af-2dcaab6947f6"
      },
      "source": [
        "sns.boxplot(x=df['target'], y=df['wind_kph'])"
      ],
      "execution_count": 28,
      "outputs": [
        {
          "output_type": "execute_result",
          "data": {
            "text/plain": [
              "<matplotlib.axes._subplots.AxesSubplot at 0x7f3c7e8e73d0>"
            ]
          },
          "metadata": {},
          "execution_count": 28
        },
        {
          "output_type": "display_data",
          "data": {
            "image/png": "[encoded data removed]",
            "text/plain": [
              "<Figure size 432x288 with 1 Axes>"
            ]
          },
          "metadata": {
            "needs_background": "light"
          }
        }
      ]
    },
    {
      "cell_type": "code",
      "metadata": {
        "colab": {
          "base_uri": "https://localhost:8080/",
          "height": 317
        },
        "id": "46-QTKRsGo3g",
        "outputId": "02aafb23-a792-4f70-8ab1-3a4c8bd8f63f"
      },
      "source": [
        "df.describe()"
      ],
      "execution_count": 29,
      "outputs": [
        {
          "output_type": "execute_result",
          "data": {
            "text/html": [
              "<div>\n",
              "<style scoped>\n",
              "    .dataframe tbody tr th:only-of-type {\n",
              "        vertical-align: middle;\n",
              "    }\n",
              "\n",
              "    .dataframe tbody tr th {\n",
              "        vertical-align: top;\n",
              "    }\n",
              "\n",
              "    .dataframe thead th {\n",
              "        text-align: right;\n",
              "    }\n",
              "</style>\n",
              "<table border=\"1\" class=\"dataframe\">\n",
              "  <thead>\n",
              "    <tr style=\"text-align: right;\">\n",
              "      <th></th>\n",
              "      <th>temp_c</th>\n",
              "      <th>temp_f</th>\n",
              "      <th>is_day</th>\n",
              "      <th>wind_mph</th>\n",
              "      <th>wind_kph</th>\n",
              "      <th>wind_degree</th>\n",
              "      <th>pressure_mb</th>\n",
              "      <th>pressure_in</th>\n",
              "      <th>precip_mm</th>\n",
              "      <th>precip_in</th>\n",
              "      <th>humidity</th>\n",
              "      <th>cloud</th>\n",
              "      <th>feelslike_c</th>\n",
              "      <th>feelslike_f</th>\n",
              "      <th>vis_km</th>\n",
              "      <th>vis_miles</th>\n",
              "      <th>uv</th>\n",
              "      <th>gust_mph</th>\n",
              "      <th>gust_kph</th>\n",
              "      <th>target</th>\n",
              "    </tr>\n",
              "  </thead>\n",
              "  <tbody>\n",
              "    <tr>\n",
              "      <th>count</th>\n",
              "      <td>53702.000000</td>\n",
              "      <td>53702.000000</td>\n",
              "      <td>53702.000000</td>\n",
              "      <td>53702.000000</td>\n",
              "      <td>53702.000000</td>\n",
              "      <td>53702.000000</td>\n",
              "      <td>53702.000000</td>\n",
              "      <td>53702.000000</td>\n",
              "      <td>53702.000000</td>\n",
              "      <td>53702.000000</td>\n",
              "      <td>53702.000000</td>\n",
              "      <td>53702.000000</td>\n",
              "      <td>53702.000000</td>\n",
              "      <td>53702.000000</td>\n",
              "      <td>53702.000000</td>\n",
              "      <td>53702.000000</td>\n",
              "      <td>53702.000000</td>\n",
              "      <td>53702.000000</td>\n",
              "      <td>53702.000000</td>\n",
              "      <td>53702.000000</td>\n",
              "    </tr>\n",
              "    <tr>\n",
              "      <th>mean</th>\n",
              "      <td>19.054827</td>\n",
              "      <td>66.298866</td>\n",
              "      <td>0.540352</td>\n",
              "      <td>5.938853</td>\n",
              "      <td>9.550330</td>\n",
              "      <td>155.589364</td>\n",
              "      <td>1017.466314</td>\n",
              "      <td>30.306288</td>\n",
              "      <td>0.281619</td>\n",
              "      <td>0.010898</td>\n",
              "      <td>68.695672</td>\n",
              "      <td>35.766657</td>\n",
              "      <td>19.284906</td>\n",
              "      <td>66.708707</td>\n",
              "      <td>10.428375</td>\n",
              "      <td>6.093572</td>\n",
              "      <td>3.329448</td>\n",
              "      <td>8.976224</td>\n",
              "      <td>14.444712</td>\n",
              "      <td>0.081915</td>\n",
              "    </tr>\n",
              "    <tr>\n",
              "      <th>std</th>\n",
              "      <td>5.699556</td>\n",
              "      <td>10.259258</td>\n",
              "      <td>0.498374</td>\n",
              "      <td>4.504499</td>\n",
              "      <td>7.257404</td>\n",
              "      <td>104.572549</td>\n",
              "      <td>6.080144</td>\n",
              "      <td>0.308978</td>\n",
              "      <td>1.617836</td>\n",
              "      <td>0.063738</td>\n",
              "      <td>18.224215</td>\n",
              "      <td>38.514937</td>\n",
              "      <td>6.847045</td>\n",
              "      <td>12.325199</td>\n",
              "      <td>2.780176</td>\n",
              "      <td>1.610234</td>\n",
              "      <td>2.442270</td>\n",
              "      <td>4.508642</td>\n",
              "      <td>7.255767</td>\n",
              "      <td>0.274238</td>\n",
              "    </tr>\n",
              "    <tr>\n",
              "      <th>min</th>\n",
              "      <td>1.000000</td>\n",
              "      <td>33.800000</td>\n",
              "      <td>0.000000</td>\n",
              "      <td>0.000000</td>\n",
              "      <td>0.000000</td>\n",
              "      <td>0.000000</td>\n",
              "      <td>994.000000</td>\n",
              "      <td>29.380000</td>\n",
              "      <td>0.000000</td>\n",
              "      <td>0.000000</td>\n",
              "      <td>8.000000</td>\n",
              "      <td>0.000000</td>\n",
              "      <td>-1.900000</td>\n",
              "      <td>28.700000</td>\n",
              "      <td>0.000000</td>\n",
              "      <td>0.000000</td>\n",
              "      <td>1.000000</td>\n",
              "      <td>0.200000</td>\n",
              "      <td>0.400000</td>\n",
              "      <td>0.000000</td>\n",
              "    </tr>\n",
              "    <tr>\n",
              "      <th>25%</th>\n",
              "      <td>15.000000</td>\n",
              "      <td>59.000000</td>\n",
              "      <td>0.000000</td>\n",
              "      <td>2.500000</td>\n",
              "      <td>4.000000</td>\n",
              "      <td>70.000000</td>\n",
              "      <td>1014.000000</td>\n",
              "      <td>30.060000</td>\n",
              "      <td>0.000000</td>\n",
              "      <td>0.000000</td>\n",
              "      <td>56.000000</td>\n",
              "      <td>0.000000</td>\n",
              "      <td>15.500000</td>\n",
              "      <td>59.900000</td>\n",
              "      <td>10.000000</td>\n",
              "      <td>6.000000</td>\n",
              "      <td>1.000000</td>\n",
              "      <td>5.600000</td>\n",
              "      <td>9.000000</td>\n",
              "      <td>0.000000</td>\n",
              "    </tr>\n",
              "    <tr>\n",
              "      <th>50%</th>\n",
              "      <td>19.000000</td>\n",
              "      <td>66.200000</td>\n",
              "      <td>1.000000</td>\n",
              "      <td>5.600000</td>\n",
              "      <td>9.000000</td>\n",
              "      <td>140.000000</td>\n",
              "      <td>1018.000000</td>\n",
              "      <td>30.300000</td>\n",
              "      <td>0.000000</td>\n",
              "      <td>0.000000</td>\n",
              "      <td>72.000000</td>\n",
              "      <td>22.000000</td>\n",
              "      <td>19.000000</td>\n",
              "      <td>66.200000</td>\n",
              "      <td>10.000000</td>\n",
              "      <td>6.000000</td>\n",
              "      <td>3.000000</td>\n",
              "      <td>8.500000</td>\n",
              "      <td>13.700000</td>\n",
              "      <td>0.000000</td>\n",
              "    </tr>\n",
              "    <tr>\n",
              "      <th>75%</th>\n",
              "      <td>23.000000</td>\n",
              "      <td>73.400000</td>\n",
              "      <td>1.000000</td>\n",
              "      <td>9.400000</td>\n",
              "      <td>15.100000</td>\n",
              "      <td>240.000000</td>\n",
              "      <td>1022.000000</td>\n",
              "      <td>30.600000</td>\n",
              "      <td>0.100000</td>\n",
              "      <td>0.000000</td>\n",
              "      <td>83.000000</td>\n",
              "      <td>75.000000</td>\n",
              "      <td>24.600000</td>\n",
              "      <td>76.300000</td>\n",
              "      <td>10.000000</td>\n",
              "      <td>6.000000</td>\n",
              "      <td>6.000000</td>\n",
              "      <td>11.600000</td>\n",
              "      <td>18.700000</td>\n",
              "      <td>0.000000</td>\n",
              "    </tr>\n",
              "    <tr>\n",
              "      <th>max</th>\n",
              "      <td>36.000000</td>\n",
              "      <td>96.800000</td>\n",
              "      <td>1.000000</td>\n",
              "      <td>27.300000</td>\n",
              "      <td>43.900000</td>\n",
              "      <td>360.000000</td>\n",
              "      <td>1035.000000</td>\n",
              "      <td>31.000000</td>\n",
              "      <td>113.800000</td>\n",
              "      <td>4.480000</td>\n",
              "      <td>100.000000</td>\n",
              "      <td>100.000000</td>\n",
              "      <td>51.700000</td>\n",
              "      <td>125.100000</td>\n",
              "      <td>16.000000</td>\n",
              "      <td>9.000000</td>\n",
              "      <td>9.000000</td>\n",
              "      <td>41.600000</td>\n",
              "      <td>67.000000</td>\n",
              "      <td>1.000000</td>\n",
              "    </tr>\n",
              "  </tbody>\n",
              "</table>\n",
              "</div>"
            ],
            "text/plain": [
              "             temp_c        temp_f  ...      gust_kph        target\n",
              "count  53702.000000  53702.000000  ...  53702.000000  53702.000000\n",
              "mean      19.054827     66.298866  ...     14.444712      0.081915\n",
              "std        5.699556     10.259258  ...      7.255767      0.274238\n",
              "min        1.000000     33.800000  ...      0.400000      0.000000\n",
              "25%       15.000000     59.000000  ...      9.000000      0.000000\n",
              "50%       19.000000     66.200000  ...     13.700000      0.000000\n",
              "75%       23.000000     73.400000  ...     18.700000      0.000000\n",
              "max       36.000000     96.800000  ...     67.000000      1.000000\n",
              "\n",
              "[8 rows x 20 columns]"
            ]
          },
          "metadata": {},
          "execution_count": 29
        }
      ]
    },
    {
      "cell_type": "markdown",
      "metadata": {
        "id": "-3wUANjOM5QR"
      },
      "source": [
        "### **4. Modeling DataSet for MachineLearning Algorithm**"
      ]
    },
    {
      "cell_type": "code",
      "metadata": {
        "id": "eVkqn0Y0KThK"
      },
      "source": [
        "# Our goal is to predict weather is going to rain or not based on the last register\n",
        "# Now we're going to split the data\n",
        "train_df = df[['last_updated', 'city', 'temp_c', 'is_day', 'condition', 'wind_kph', 'wind_degree'\n",
        "          , 'pressure_mb', 'precip_mm', 'humidity', 'cloud', 'feelslike_c', 'vis_km', 'uv'\n",
        "          , 'gust_kph', 'target']]"
      ],
      "execution_count": 30,
      "outputs": []
    },
    {
      "cell_type": "code",
      "metadata": {
        "id": "QlMHVtgsKTkq"
      },
      "source": [
        "train_df = train_df.sort_values(by=['city', 'last_updated']).reset_index().drop(columns='index')"
      ],
      "execution_count": 31,
      "outputs": []
    },
    {
      "cell_type": "code",
      "metadata": {
        "colab": {
          "base_uri": "https://localhost:8080/",
          "height": 419
        },
        "id": "kPRTCUK2NPWo",
        "outputId": "9400088a-5043-41c7-bc1a-12c570147092"
      },
      "source": [
        "train_df"
      ],
      "execution_count": 32,
      "outputs": [
        {
          "output_type": "execute_result",
          "data": {
            "text/html": [
              "<div>\n",
              "<style scoped>\n",
              "    .dataframe tbody tr th:only-of-type {\n",
              "        vertical-align: middle;\n",
              "    }\n",
              "\n",
              "    .dataframe tbody tr th {\n",
              "        vertical-align: top;\n",
              "    }\n",
              "\n",
              "    .dataframe thead th {\n",
              "        text-align: right;\n",
              "    }\n",
              "</style>\n",
              "<table border=\"1\" class=\"dataframe\">\n",
              "  <thead>\n",
              "    <tr style=\"text-align: right;\">\n",
              "      <th></th>\n",
              "      <th>last_updated</th>\n",
              "      <th>city</th>\n",
              "      <th>temp_c</th>\n",
              "      <th>is_day</th>\n",
              "      <th>condition</th>\n",
              "      <th>wind_kph</th>\n",
              "      <th>wind_degree</th>\n",
              "      <th>pressure_mb</th>\n",
              "      <th>precip_mm</th>\n",
              "      <th>humidity</th>\n",
              "      <th>cloud</th>\n",
              "      <th>feelslike_c</th>\n",
              "      <th>vis_km</th>\n",
              "      <th>uv</th>\n",
              "      <th>gust_kph</th>\n",
              "      <th>target</th>\n",
              "    </tr>\n",
              "  </thead>\n",
              "  <tbody>\n",
              "    <tr>\n",
              "      <th>0</th>\n",
              "      <td>2021-08-12 11:30:00</td>\n",
              "      <td>Beijing</td>\n",
              "      <td>27.0</td>\n",
              "      <td>1.0</td>\n",
              "      <td>Partly cloudy</td>\n",
              "      <td>6.8</td>\n",
              "      <td>140.0</td>\n",
              "      <td>1013.0</td>\n",
              "      <td>1.5</td>\n",
              "      <td>70.0</td>\n",
              "      <td>25.0</td>\n",
              "      <td>31.6</td>\n",
              "      <td>10.0</td>\n",
              "      <td>5.0</td>\n",
              "      <td>5.0</td>\n",
              "      <td>0</td>\n",
              "    </tr>\n",
              "    <tr>\n",
              "      <th>1</th>\n",
              "      <td>2021-08-27 08:00:00</td>\n",
              "      <td>Beijing</td>\n",
              "      <td>18.6</td>\n",
              "      <td>1.0</td>\n",
              "      <td>Partly cloudy</td>\n",
              "      <td>6.5</td>\n",
              "      <td>2.0</td>\n",
              "      <td>1011.0</td>\n",
              "      <td>0.0</td>\n",
              "      <td>62.0</td>\n",
              "      <td>9.0</td>\n",
              "      <td>18.6</td>\n",
              "      <td>10.0</td>\n",
              "      <td>5.0</td>\n",
              "      <td>11.9</td>\n",
              "      <td>0</td>\n",
              "    </tr>\n",
              "    <tr>\n",
              "      <th>2</th>\n",
              "      <td>2021-08-28 10:15:00</td>\n",
              "      <td>Beijing</td>\n",
              "      <td>21.0</td>\n",
              "      <td>1.0</td>\n",
              "      <td>Light rain</td>\n",
              "      <td>19.1</td>\n",
              "      <td>280.0</td>\n",
              "      <td>1015.0</td>\n",
              "      <td>0.0</td>\n",
              "      <td>73.0</td>\n",
              "      <td>0.0</td>\n",
              "      <td>21.0</td>\n",
              "      <td>10.0</td>\n",
              "      <td>6.0</td>\n",
              "      <td>8.6</td>\n",
              "      <td>1</td>\n",
              "    </tr>\n",
              "    <tr>\n",
              "      <th>3</th>\n",
              "      <td>2021-08-28 10:30:00</td>\n",
              "      <td>Beijing</td>\n",
              "      <td>21.0</td>\n",
              "      <td>1.0</td>\n",
              "      <td>Light rain</td>\n",
              "      <td>19.1</td>\n",
              "      <td>280.0</td>\n",
              "      <td>1015.0</td>\n",
              "      <td>0.0</td>\n",
              "      <td>73.0</td>\n",
              "      <td>0.0</td>\n",
              "      <td>21.0</td>\n",
              "      <td>10.0</td>\n",
              "      <td>6.0</td>\n",
              "      <td>8.6</td>\n",
              "      <td>1</td>\n",
              "    </tr>\n",
              "    <tr>\n",
              "      <th>4</th>\n",
              "      <td>2021-08-28 20:15:00</td>\n",
              "      <td>Beijing</td>\n",
              "      <td>21.0</td>\n",
              "      <td>0.0</td>\n",
              "      <td>Clear</td>\n",
              "      <td>0.0</td>\n",
              "      <td>221.0</td>\n",
              "      <td>1012.0</td>\n",
              "      <td>0.3</td>\n",
              "      <td>83.0</td>\n",
              "      <td>0.0</td>\n",
              "      <td>21.0</td>\n",
              "      <td>10.0</td>\n",
              "      <td>5.0</td>\n",
              "      <td>9.7</td>\n",
              "      <td>0</td>\n",
              "    </tr>\n",
              "    <tr>\n",
              "      <th>...</th>\n",
              "      <td>...</td>\n",
              "      <td>...</td>\n",
              "      <td>...</td>\n",
              "      <td>...</td>\n",
              "      <td>...</td>\n",
              "      <td>...</td>\n",
              "      <td>...</td>\n",
              "      <td>...</td>\n",
              "      <td>...</td>\n",
              "      <td>...</td>\n",
              "      <td>...</td>\n",
              "      <td>...</td>\n",
              "      <td>...</td>\n",
              "      <td>...</td>\n",
              "      <td>...</td>\n",
              "      <td>...</td>\n",
              "    </tr>\n",
              "    <tr>\n",
              "      <th>53697</th>\n",
              "      <td>2021-09-20 21:30:00</td>\n",
              "      <td>Sao Paulo</td>\n",
              "      <td>24.0</td>\n",
              "      <td>0.0</td>\n",
              "      <td>Clear</td>\n",
              "      <td>4.0</td>\n",
              "      <td>230.0</td>\n",
              "      <td>1014.0</td>\n",
              "      <td>0.0</td>\n",
              "      <td>54.0</td>\n",
              "      <td>0.0</td>\n",
              "      <td>25.0</td>\n",
              "      <td>10.0</td>\n",
              "      <td>8.0</td>\n",
              "      <td>13.7</td>\n",
              "      <td>0</td>\n",
              "    </tr>\n",
              "    <tr>\n",
              "      <th>53698</th>\n",
              "      <td>2021-09-20 21:45:00</td>\n",
              "      <td>Sao Paulo</td>\n",
              "      <td>24.0</td>\n",
              "      <td>0.0</td>\n",
              "      <td>Clear</td>\n",
              "      <td>4.0</td>\n",
              "      <td>230.0</td>\n",
              "      <td>1014.0</td>\n",
              "      <td>0.0</td>\n",
              "      <td>54.0</td>\n",
              "      <td>0.0</td>\n",
              "      <td>25.0</td>\n",
              "      <td>10.0</td>\n",
              "      <td>8.0</td>\n",
              "      <td>13.7</td>\n",
              "      <td>0</td>\n",
              "    </tr>\n",
              "    <tr>\n",
              "      <th>53699</th>\n",
              "      <td>2021-09-20 22:15:00</td>\n",
              "      <td>Sao Paulo</td>\n",
              "      <td>25.0</td>\n",
              "      <td>0.0</td>\n",
              "      <td>Clear</td>\n",
              "      <td>6.8</td>\n",
              "      <td>130.0</td>\n",
              "      <td>1016.0</td>\n",
              "      <td>0.0</td>\n",
              "      <td>65.0</td>\n",
              "      <td>0.0</td>\n",
              "      <td>25.8</td>\n",
              "      <td>10.0</td>\n",
              "      <td>1.0</td>\n",
              "      <td>9.0</td>\n",
              "      <td>0</td>\n",
              "    </tr>\n",
              "    <tr>\n",
              "      <th>53700</th>\n",
              "      <td>2021-09-20 22:30:00</td>\n",
              "      <td>Sao Paulo</td>\n",
              "      <td>25.0</td>\n",
              "      <td>0.0</td>\n",
              "      <td>Clear</td>\n",
              "      <td>6.8</td>\n",
              "      <td>130.0</td>\n",
              "      <td>1016.0</td>\n",
              "      <td>0.0</td>\n",
              "      <td>65.0</td>\n",
              "      <td>0.0</td>\n",
              "      <td>25.8</td>\n",
              "      <td>10.0</td>\n",
              "      <td>1.0</td>\n",
              "      <td>9.0</td>\n",
              "      <td>0</td>\n",
              "    </tr>\n",
              "    <tr>\n",
              "      <th>53701</th>\n",
              "      <td>2021-09-20 22:45:00</td>\n",
              "      <td>Sao Paulo</td>\n",
              "      <td>25.0</td>\n",
              "      <td>0.0</td>\n",
              "      <td>Clear</td>\n",
              "      <td>6.8</td>\n",
              "      <td>130.0</td>\n",
              "      <td>1016.0</td>\n",
              "      <td>0.0</td>\n",
              "      <td>65.0</td>\n",
              "      <td>0.0</td>\n",
              "      <td>25.8</td>\n",
              "      <td>10.0</td>\n",
              "      <td>1.0</td>\n",
              "      <td>9.0</td>\n",
              "      <td>0</td>\n",
              "    </tr>\n",
              "  </tbody>\n",
              "</table>\n",
              "<p>53702 rows × 16 columns</p>\n",
              "</div>"
            ],
            "text/plain": [
              "             last_updated       city  temp_c  ...   uv gust_kph  target\n",
              "0     2021-08-12 11:30:00    Beijing    27.0  ...  5.0      5.0       0\n",
              "1     2021-08-27 08:00:00    Beijing    18.6  ...  5.0     11.9       0\n",
              "2     2021-08-28 10:15:00    Beijing    21.0  ...  6.0      8.6       1\n",
              "3     2021-08-28 10:30:00    Beijing    21.0  ...  6.0      8.6       1\n",
              "4     2021-08-28 20:15:00    Beijing    21.0  ...  5.0      9.7       0\n",
              "...                   ...        ...     ...  ...  ...      ...     ...\n",
              "53697 2021-09-20 21:30:00  Sao Paulo    24.0  ...  8.0     13.7       0\n",
              "53698 2021-09-20 21:45:00  Sao Paulo    24.0  ...  8.0     13.7       0\n",
              "53699 2021-09-20 22:15:00  Sao Paulo    25.0  ...  1.0      9.0       0\n",
              "53700 2021-09-20 22:30:00  Sao Paulo    25.0  ...  1.0      9.0       0\n",
              "53701 2021-09-20 22:45:00  Sao Paulo    25.0  ...  1.0      9.0       0\n",
              "\n",
              "[53702 rows x 16 columns]"
            ]
          },
          "metadata": {},
          "execution_count": 32
        }
      ]
    },
    {
      "cell_type": "code",
      "metadata": {
        "id": "VfcfI0IpNn_Q"
      },
      "source": [
        "# Calculate the difference between the actual and previous register\n",
        "def date_diff_calc(df_column):\n",
        "  i = 1\n",
        "  date_diff_list = list()\n",
        "  for cell in df_column:\n",
        "    if i < len(df_column):\n",
        "      date_diff_min = (df_column[i] - cell).total_seconds()/60\n",
        "      date_diff_list.append(date_diff_min)\n",
        "      i += 1\n",
        "  return date_diff_list"
      ],
      "execution_count": 33,
      "outputs": []
    },
    {
      "cell_type": "code",
      "metadata": {
        "id": "W8k8RxQOUtz6"
      },
      "source": [
        "train_df['date_diff'] = pd.DataFrame(date_diff_calc(train_df['last_updated']))"
      ],
      "execution_count": 34,
      "outputs": []
    },
    {
      "cell_type": "code",
      "metadata": {
        "id": "px8rcQR1YVKZ"
      },
      "source": [
        "# create a column that tells us weather is raining in the next 15 minutes\n",
        "def rain_next1(df_column):\n",
        "  i = 1\n",
        "  rain_next1 = list()\n",
        "  for cell in df_column:\n",
        "    if i < len(df_column):\n",
        "      rain_next1.append(df_column[i])\n",
        "      i += 1\n",
        "  return rain_next1"
      ],
      "execution_count": 35,
      "outputs": []
    },
    {
      "cell_type": "code",
      "metadata": {
        "id": "iqefjBKZc8uK"
      },
      "source": [
        "train_df['target_1'] = pd.DataFrame(rain_next1(train_df['target']))"
      ],
      "execution_count": 36,
      "outputs": []
    },
    {
      "cell_type": "code",
      "metadata": {
        "colab": {
          "base_uri": "https://localhost:8080/",
          "height": 297
        },
        "id": "qP-M8zh-dp5p",
        "outputId": "b01939d7-659f-43d0-f10f-9e6cc1f9977e"
      },
      "source": [
        "sns.countplot(x=train_df['target_1'])"
      ],
      "execution_count": 37,
      "outputs": [
        {
          "output_type": "execute_result",
          "data": {
            "text/plain": [
              "<matplotlib.axes._subplots.AxesSubplot at 0x7f3c7e4e2f10>"
            ]
          },
          "metadata": {},
          "execution_count": 37
        },
        {
          "output_type": "display_data",
          "data": {
            "image/png": "[encoded data removed]",
            "text/plain": [
              "<Figure size 432x288 with 1 Axes>"
            ]
          },
          "metadata": {
            "needs_background": "light"
          }
        }
      ]
    },
    {
      "cell_type": "code",
      "metadata": {
        "colab": {
          "base_uri": "https://localhost:8080/",
          "height": 336
        },
        "id": "VfJev9rggt98",
        "outputId": "d98e7448-e7f3-4458-e33d-fc047e426be8"
      },
      "source": [
        "sns.distplot(x=train_df['date_diff'].loc[train_df['date_diff'] > -50].loc[train_df['date_diff'] < 50])"
      ],
      "execution_count": 38,
      "outputs": [
        {
          "output_type": "stream",
          "name": "stderr",
          "text": [
            "/usr/local/lib/python3.7/dist-packages/seaborn/distributions.py:2619: FutureWarning: `distplot` is a deprecated function and will be removed in a future version. Please adapt your code to use either `displot` (a figure-level function with similar flexibility) or `histplot` (an axes-level function for histograms).\n",
            "  warnings.warn(msg, FutureWarning)\n"
          ]
        },
        {
          "output_type": "execute_result",
          "data": {
            "text/plain": [
              "<matplotlib.axes._subplots.AxesSubplot at 0x7f3c7e4684d0>"
            ]
          },
          "metadata": {},
          "execution_count": 38
        },
        {
          "output_type": "display_data",
          "data": {
            "image/png": "[encoded data removed]",
            "text/plain": [
              "<Figure size 432x288 with 1 Axes>"
            ]
          },
          "metadata": {
            "needs_background": "light"
          }
        }
      ]
    },
    {
      "cell_type": "code",
      "metadata": {
        "colab": {
          "base_uri": "https://localhost:8080/",
          "height": 386
        },
        "id": "CtwPOh_khk58",
        "outputId": "0e9e1f82-2a69-4ba3-c510-c3628b16bcaf"
      },
      "source": [
        "sns.displot(x=train_df['cloud'], col=train_df['target_1'], bins='sturges')"
      ],
      "execution_count": 39,
      "outputs": [
        {
          "output_type": "execute_result",
          "data": {
            "text/plain": [
              "<seaborn.axisgrid.FacetGrid at 0x7f3c7e83dc50>"
            ]
          },
          "metadata": {},
          "execution_count": 39
        },
        {
          "output_type": "display_data",
          "data": {
            "image/png": "[encoded data removed]",
            "text/plain": [
              "<Figure size 720x360 with 2 Axes>"
            ]
          },
          "metadata": {
            "needs_background": "light"
          }
        }
      ]
    },
    {
      "cell_type": "code",
      "metadata": {
        "colab": {
          "base_uri": "https://localhost:8080/",
          "height": 386
        },
        "id": "wpnSmJf8imRy",
        "outputId": "9df2d9f4-e5aa-4d6f-8daa-163adcf37e14"
      },
      "source": [
        "sns.displot(x=train_df['target'], col=train_df['target_1'], bins='sturges')"
      ],
      "execution_count": 40,
      "outputs": [
        {
          "output_type": "execute_result",
          "data": {
            "text/plain": [
              "<seaborn.axisgrid.FacetGrid at 0x7f3c7ea79c10>"
            ]
          },
          "metadata": {},
          "execution_count": 40
        },
        {
          "output_type": "display_data",
          "data": {
            "image/png": "[encoded data removed]",
            "text/plain": [
              "<Figure size 720x360 with 2 Axes>"
            ]
          },
          "metadata": {
            "needs_background": "light"
          }
        }
      ]
    },
    {
      "cell_type": "code",
      "metadata": {
        "colab": {
          "base_uri": "https://localhost:8080/",
          "height": 483
        },
        "id": "D2QGHZvojbzx",
        "outputId": "a897b67f-e6be-41b5-97b4-5ff42e975faa"
      },
      "source": [
        "train_df = train_df.drop(columns='date_diff')\n",
        "train_df.corr()"
      ],
      "execution_count": 44,
      "outputs": [
        {
          "output_type": "execute_result",
          "data": {
            "text/html": [
              "<div>\n",
              "<style scoped>\n",
              "    .dataframe tbody tr th:only-of-type {\n",
              "        vertical-align: middle;\n",
              "    }\n",
              "\n",
              "    .dataframe tbody tr th {\n",
              "        vertical-align: top;\n",
              "    }\n",
              "\n",
              "    .dataframe thead th {\n",
              "        text-align: right;\n",
              "    }\n",
              "</style>\n",
              "<table border=\"1\" class=\"dataframe\">\n",
              "  <thead>\n",
              "    <tr style=\"text-align: right;\">\n",
              "      <th></th>\n",
              "      <th>temp_c</th>\n",
              "      <th>is_day</th>\n",
              "      <th>wind_kph</th>\n",
              "      <th>wind_degree</th>\n",
              "      <th>pressure_mb</th>\n",
              "      <th>precip_mm</th>\n",
              "      <th>humidity</th>\n",
              "      <th>cloud</th>\n",
              "      <th>feelslike_c</th>\n",
              "      <th>vis_km</th>\n",
              "      <th>uv</th>\n",
              "      <th>gust_kph</th>\n",
              "      <th>target</th>\n",
              "      <th>target_1</th>\n",
              "    </tr>\n",
              "  </thead>\n",
              "  <tbody>\n",
              "    <tr>\n",
              "      <th>temp_c</th>\n",
              "      <td>1.000000</td>\n",
              "      <td>0.174237</td>\n",
              "      <td>-0.202346</td>\n",
              "      <td>-0.020789</td>\n",
              "      <td>-0.041089</td>\n",
              "      <td>-0.018734</td>\n",
              "      <td>-0.393324</td>\n",
              "      <td>-0.183912</td>\n",
              "      <td>0.986890</td>\n",
              "      <td>0.222629</td>\n",
              "      <td>0.567789</td>\n",
              "      <td>-0.115000</td>\n",
              "      <td>-0.115798</td>\n",
              "      <td>-0.109510</td>\n",
              "    </tr>\n",
              "    <tr>\n",
              "      <th>is_day</th>\n",
              "      <td>0.174237</td>\n",
              "      <td>1.000000</td>\n",
              "      <td>0.115568</td>\n",
              "      <td>0.062114</td>\n",
              "      <td>-0.014697</td>\n",
              "      <td>-0.015902</td>\n",
              "      <td>-0.257341</td>\n",
              "      <td>0.049009</td>\n",
              "      <td>0.161973</td>\n",
              "      <td>0.033896</td>\n",
              "      <td>0.346957</td>\n",
              "      <td>-0.046764</td>\n",
              "      <td>0.025886</td>\n",
              "      <td>0.025472</td>\n",
              "    </tr>\n",
              "    <tr>\n",
              "      <th>wind_kph</th>\n",
              "      <td>-0.202346</td>\n",
              "      <td>0.115568</td>\n",
              "      <td>1.000000</td>\n",
              "      <td>0.156666</td>\n",
              "      <td>-0.133222</td>\n",
              "      <td>-0.008062</td>\n",
              "      <td>-0.023349</td>\n",
              "      <td>0.192050</td>\n",
              "      <td>-0.216409</td>\n",
              "      <td>-0.278235</td>\n",
              "      <td>0.047471</td>\n",
              "      <td>0.481316</td>\n",
              "      <td>0.099668</td>\n",
              "      <td>0.095984</td>\n",
              "    </tr>\n",
              "    <tr>\n",
              "      <th>wind_degree</th>\n",
              "      <td>-0.020789</td>\n",
              "      <td>0.062114</td>\n",
              "      <td>0.156666</td>\n",
              "      <td>1.000000</td>\n",
              "      <td>-0.200600</td>\n",
              "      <td>0.032165</td>\n",
              "      <td>-0.124236</td>\n",
              "      <td>-0.021326</td>\n",
              "      <td>-0.036144</td>\n",
              "      <td>0.028296</td>\n",
              "      <td>0.074771</td>\n",
              "      <td>0.111388</td>\n",
              "      <td>0.071362</td>\n",
              "      <td>0.068281</td>\n",
              "    </tr>\n",
              "    <tr>\n",
              "      <th>pressure_mb</th>\n",
              "      <td>-0.041089</td>\n",
              "      <td>-0.014697</td>\n",
              "      <td>-0.133222</td>\n",
              "      <td>-0.200600</td>\n",
              "      <td>1.000000</td>\n",
              "      <td>-0.133644</td>\n",
              "      <td>-0.047219</td>\n",
              "      <td>-0.008144</td>\n",
              "      <td>-0.043073</td>\n",
              "      <td>0.030032</td>\n",
              "      <td>-0.011666</td>\n",
              "      <td>-0.260151</td>\n",
              "      <td>-0.225709</td>\n",
              "      <td>-0.224974</td>\n",
              "    </tr>\n",
              "    <tr>\n",
              "      <th>precip_mm</th>\n",
              "      <td>-0.018734</td>\n",
              "      <td>-0.015902</td>\n",
              "      <td>-0.008062</td>\n",
              "      <td>0.032165</td>\n",
              "      <td>-0.133644</td>\n",
              "      <td>1.000000</td>\n",
              "      <td>0.146512</td>\n",
              "      <td>0.153589</td>\n",
              "      <td>-0.009769</td>\n",
              "      <td>-0.044115</td>\n",
              "      <td>-0.046207</td>\n",
              "      <td>0.164227</td>\n",
              "      <td>0.197852</td>\n",
              "      <td>0.188135</td>\n",
              "    </tr>\n",
              "    <tr>\n",
              "      <th>humidity</th>\n",
              "      <td>-0.393324</td>\n",
              "      <td>-0.257341</td>\n",
              "      <td>-0.023349</td>\n",
              "      <td>-0.124236</td>\n",
              "      <td>-0.047219</td>\n",
              "      <td>0.146512</td>\n",
              "      <td>1.000000</td>\n",
              "      <td>0.429389</td>\n",
              "      <td>-0.331027</td>\n",
              "      <td>-0.334847</td>\n",
              "      <td>-0.524934</td>\n",
              "      <td>0.021105</td>\n",
              "      <td>0.250285</td>\n",
              "      <td>0.236449</td>\n",
              "    </tr>\n",
              "    <tr>\n",
              "      <th>cloud</th>\n",
              "      <td>-0.183912</td>\n",
              "      <td>0.049009</td>\n",
              "      <td>0.192050</td>\n",
              "      <td>-0.021326</td>\n",
              "      <td>-0.008144</td>\n",
              "      <td>0.153589</td>\n",
              "      <td>0.429389</td>\n",
              "      <td>1.000000</td>\n",
              "      <td>-0.163750</td>\n",
              "      <td>-0.153160</td>\n",
              "      <td>-0.158078</td>\n",
              "      <td>0.252196</td>\n",
              "      <td>0.301085</td>\n",
              "      <td>0.280651</td>\n",
              "    </tr>\n",
              "    <tr>\n",
              "      <th>feelslike_c</th>\n",
              "      <td>0.986890</td>\n",
              "      <td>0.161973</td>\n",
              "      <td>-0.216409</td>\n",
              "      <td>-0.036144</td>\n",
              "      <td>-0.043073</td>\n",
              "      <td>-0.009769</td>\n",
              "      <td>-0.331027</td>\n",
              "      <td>-0.163750</td>\n",
              "      <td>1.000000</td>\n",
              "      <td>0.211550</td>\n",
              "      <td>0.522620</td>\n",
              "      <td>-0.129934</td>\n",
              "      <td>-0.112271</td>\n",
              "      <td>-0.105538</td>\n",
              "    </tr>\n",
              "    <tr>\n",
              "      <th>vis_km</th>\n",
              "      <td>0.222629</td>\n",
              "      <td>0.033896</td>\n",
              "      <td>-0.278235</td>\n",
              "      <td>0.028296</td>\n",
              "      <td>0.030032</td>\n",
              "      <td>-0.044115</td>\n",
              "      <td>-0.334847</td>\n",
              "      <td>-0.153160</td>\n",
              "      <td>0.211550</td>\n",
              "      <td>1.000000</td>\n",
              "      <td>0.132179</td>\n",
              "      <td>0.140398</td>\n",
              "      <td>-0.229878</td>\n",
              "      <td>-0.208019</td>\n",
              "    </tr>\n",
              "    <tr>\n",
              "      <th>uv</th>\n",
              "      <td>0.567789</td>\n",
              "      <td>0.346957</td>\n",
              "      <td>0.047471</td>\n",
              "      <td>0.074771</td>\n",
              "      <td>-0.011666</td>\n",
              "      <td>-0.046207</td>\n",
              "      <td>-0.524934</td>\n",
              "      <td>-0.158078</td>\n",
              "      <td>0.522620</td>\n",
              "      <td>0.132179</td>\n",
              "      <td>1.000000</td>\n",
              "      <td>-0.003644</td>\n",
              "      <td>-0.047745</td>\n",
              "      <td>-0.048140</td>\n",
              "    </tr>\n",
              "    <tr>\n",
              "      <th>gust_kph</th>\n",
              "      <td>-0.115000</td>\n",
              "      <td>-0.046764</td>\n",
              "      <td>0.481316</td>\n",
              "      <td>0.111388</td>\n",
              "      <td>-0.260151</td>\n",
              "      <td>0.164227</td>\n",
              "      <td>0.021105</td>\n",
              "      <td>0.252196</td>\n",
              "      <td>-0.129934</td>\n",
              "      <td>0.140398</td>\n",
              "      <td>-0.003644</td>\n",
              "      <td>1.000000</td>\n",
              "      <td>0.130872</td>\n",
              "      <td>0.127710</td>\n",
              "    </tr>\n",
              "    <tr>\n",
              "      <th>target</th>\n",
              "      <td>-0.115798</td>\n",
              "      <td>0.025886</td>\n",
              "      <td>0.099668</td>\n",
              "      <td>0.071362</td>\n",
              "      <td>-0.225709</td>\n",
              "      <td>0.197852</td>\n",
              "      <td>0.250285</td>\n",
              "      <td>0.301085</td>\n",
              "      <td>-0.112271</td>\n",
              "      <td>-0.229878</td>\n",
              "      <td>-0.047745</td>\n",
              "      <td>0.130872</td>\n",
              "      <td>1.000000</td>\n",
              "      <td>0.798200</td>\n",
              "    </tr>\n",
              "    <tr>\n",
              "      <th>target_1</th>\n",
              "      <td>-0.109510</td>\n",
              "      <td>0.025472</td>\n",
              "      <td>0.095984</td>\n",
              "      <td>0.068281</td>\n",
              "      <td>-0.224974</td>\n",
              "      <td>0.188135</td>\n",
              "      <td>0.236449</td>\n",
              "      <td>0.280651</td>\n",
              "      <td>-0.105538</td>\n",
              "      <td>-0.208019</td>\n",
              "      <td>-0.048140</td>\n",
              "      <td>0.127710</td>\n",
              "      <td>0.798200</td>\n",
              "      <td>1.000000</td>\n",
              "    </tr>\n",
              "  </tbody>\n",
              "</table>\n",
              "</div>"
            ],
            "text/plain": [
              "               temp_c    is_day  wind_kph  ...  gust_kph    target  target_1\n",
              "temp_c       1.000000  0.174237 -0.202346  ... -0.115000 -0.115798 -0.109510\n",
              "is_day       0.174237  1.000000  0.115568  ... -0.046764  0.025886  0.025472\n",
              "wind_kph    -0.202346  0.115568  1.000000  ...  0.481316  0.099668  0.095984\n",
              "wind_degree -0.020789  0.062114  0.156666  ...  0.111388  0.071362  0.068281\n",
              "pressure_mb -0.041089 -0.014697 -0.133222  ... -0.260151 -0.225709 -0.224974\n",
              "precip_mm   -0.018734 -0.015902 -0.008062  ...  0.164227  0.197852  0.188135\n",
              "humidity    -0.393324 -0.257341 -0.023349  ...  0.021105  0.250285  0.236449\n",
              "cloud       -0.183912  0.049009  0.192050  ...  0.252196  0.301085  0.280651\n",
              "feelslike_c  0.986890  0.161973 -0.216409  ... -0.129934 -0.112271 -0.105538\n",
              "vis_km       0.222629  0.033896 -0.278235  ...  0.140398 -0.229878 -0.208019\n",
              "uv           0.567789  0.346957  0.047471  ... -0.003644 -0.047745 -0.048140\n",
              "gust_kph    -0.115000 -0.046764  0.481316  ...  1.000000  0.130872  0.127710\n",
              "target      -0.115798  0.025886  0.099668  ...  0.130872  1.000000  0.798200\n",
              "target_1    -0.109510  0.025472  0.095984  ...  0.127710  0.798200  1.000000\n",
              "\n",
              "[14 rows x 14 columns]"
            ]
          },
          "metadata": {},
          "execution_count": 44
        }
      ]
    },
    {
      "cell_type": "code",
      "metadata": {
        "colab": {
          "base_uri": "https://localhost:8080/"
        },
        "id": "mvit1psbFWL7",
        "outputId": "c1e96dd5-b3a2-47d5-d388-b8cf52f4bc3b"
      },
      "source": [
        "train_df.shape"
      ],
      "execution_count": 45,
      "outputs": [
        {
          "output_type": "execute_result",
          "data": {
            "text/plain": [
              "(53702, 17)"
            ]
          },
          "metadata": {},
          "execution_count": 45
        }
      ]
    },
    {
      "cell_type": "code",
      "metadata": {
        "id": "LTp042HGGc_Z"
      },
      "source": [
        "from "
      ],
      "execution_count": null,
      "outputs": []
    }
  ]
}