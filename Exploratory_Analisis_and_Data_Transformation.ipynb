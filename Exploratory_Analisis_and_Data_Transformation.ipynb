{
  "nbformat": 4,
  "nbformat_minor": 0,
  "metadata": {
    "colab": {
      "name": "Exploratory_Analisis_and_Data_Transformation.ipynb",
      "provenance": [],
      "collapsed_sections": [
        "unA2Dm3Dqult",
        "M4-27ri1-5Su",
        "CID-oGdHMLGS",
        "-3wUANjOM5QR",
        "v9UXRmsooNnZ",
        "AEQPrxS3FrpS"
      ],
      "include_colab_link": true
    },
    "kernelspec": {
      "name": "python3",
      "display_name": "Python 3"
    },
    "language_info": {
      "name": "python"
    }
  },
  "cells": [
    {
      "cell_type": "markdown",
      "metadata": {
        "id": "view-in-github",
        "colab_type": "text"
      },
      "source": [
        "<a href=\"https://colab.research.google.com/github/phelipe-sb/Rain-Prediction/blob/main/Exploratory_Analisis_and_Data_Transformation.ipynb\" target=\"_parent\"><img src=\"https://colab.research.google.com/assets/colab-badge.svg\" alt=\"Open In Colab\"/></a>"
      ]
    },
    {
      "cell_type": "markdown",
      "metadata": {
        "id": "unA2Dm3Dqult"
      },
      "source": [
        "### **1. Calling Libraries and Defining Functions**"
      ]
    },
    {
      "cell_type": "code",
      "source": [
        "pip install scikit-optimize"
      ],
      "metadata": {
        "colab": {
          "base_uri": "https://localhost:8080/"
        },
        "id": "qWXlGBubE3CS",
        "outputId": "fd4e0e7f-876e-4abb-baf8-6d245e26debe"
      },
      "execution_count": 37,
      "outputs": [
        {
          "output_type": "stream",
          "name": "stdout",
          "text": [
            "Requirement already satisfied: scikit-optimize in /usr/local/lib/python3.7/dist-packages (0.9.0)\n",
            "Requirement already satisfied: scipy>=0.19.1 in /usr/local/lib/python3.7/dist-packages (from scikit-optimize) (1.4.1)\n",
            "Requirement already satisfied: scikit-learn>=0.20.0 in /usr/local/lib/python3.7/dist-packages (from scikit-optimize) (1.0.2)\n",
            "Requirement already satisfied: pyaml>=16.9 in /usr/local/lib/python3.7/dist-packages (from scikit-optimize) (21.10.1)\n",
            "Requirement already satisfied: numpy>=1.13.3 in /usr/local/lib/python3.7/dist-packages (from scikit-optimize) (1.21.5)\n",
            "Requirement already satisfied: joblib>=0.11 in /usr/local/lib/python3.7/dist-packages (from scikit-optimize) (1.1.0)\n",
            "Requirement already satisfied: PyYAML in /usr/local/lib/python3.7/dist-packages (from pyaml>=16.9->scikit-optimize) (3.13)\n",
            "Requirement already satisfied: threadpoolctl>=2.0.0 in /usr/local/lib/python3.7/dist-packages (from scikit-learn>=0.20.0->scikit-optimize) (3.1.0)\n"
          ]
        }
      ]
    },
    {
      "cell_type": "code",
      "metadata": {
        "id": "ib7vkqvLlH4y"
      },
      "source": [
        "# GCP Libraries\n",
        "from google.cloud import bigquery\n",
        "from google.oauth2 import service_account\n",
        "\n",
        "# Python libraries\n",
        "import pandas as pd\n",
        "from dateutil import relativedelta\n",
        "import numpy as np\n",
        "import seaborn as sns\n",
        "import matplotlib.pyplot as plt\n",
        "import time\n",
        "from datetime import date\n",
        "from datetime import datetime\n",
        "import pickle\n",
        " \n",
        "# Preprocessing\n",
        "from sklearn.utils import resample\n",
        "from imblearn.over_sampling import SMOTE\n",
        "from sklearn.preprocessing import StandardScaler, OneHotEncoder, RobustScaler, OrdinalEncoder\n",
        "from sklearn.impute import SimpleImputer\n",
        "from sklearn.compose import ColumnTransformer\n",
        "from sklearn.pipeline import Pipeline\n",
        "from imblearn.pipeline import Pipeline\n",
        "\n",
        "# Feature Selection\n",
        "from sklearn.feature_selection import VarianceThreshold\n",
        "from sklearn.feature_selection import SelectPercentile, f_classif\n",
        "\n",
        "# Models\n",
        "from sklearn.ensemble import RandomForestClassifier\n",
        "from sklearn.linear_model import LogisticRegression\n",
        "from sklearn.neighbors import KNeighborsClassifier\n",
        "from sklearn.ensemble import GradientBoostingClassifier\n",
        "\n",
        "# Tuning Hyperparameters\n",
        "\n",
        "from skopt import BayesSearchCV\n",
        "from skopt.space import Real, Categorical, Integer\n",
        "\n",
        "# Model Evaluation\n",
        "from sklearn.model_selection import cross_val_score\n",
        "from sklearn.metrics import roc_auc_score"
      ],
      "execution_count": 38,
      "outputs": []
    },
    {
      "cell_type": "code",
      "source": [
        "from google.colab import drive\n",
        "drive.mount('/content/drive')"
      ],
      "metadata": {
        "colab": {
          "base_uri": "https://localhost:8080/"
        },
        "id": "51mdrHDcW7EB",
        "outputId": "55a3aa38-3011-4a64-a0fe-6093816c3df1"
      },
      "execution_count": 39,
      "outputs": [
        {
          "output_type": "stream",
          "name": "stdout",
          "text": [
            "Drive already mounted at /content/drive; to attempt to forcibly remount, call drive.mount(\"/content/drive\", force_remount=True).\n"
          ]
        }
      ]
    },
    {
      "cell_type": "code",
      "metadata": {
        "id": "TSEUrGL1l3Jv"
      },
      "source": [
        "def gcp_credentials(path):\n",
        "  credentials = service_account.Credentials.from_service_account_file(path)\n",
        "  project_id = credentials.project_id\n",
        "  client = bigquery.Client(project=project_id, credentials=credentials)\n",
        "  return client, project_id, credentials"
      ],
      "execution_count": 40,
      "outputs": []
    },
    {
      "cell_type": "code",
      "source": [
        "def get_table(query_string):\n",
        "  df = (\n",
        "    client.query(query_string)\n",
        "    .result()\n",
        "    .to_dataframe()\n",
        "  )\n",
        "  return df"
      ],
      "metadata": {
        "id": "lmuLvOEnz24x"
      },
      "execution_count": 41,
      "outputs": []
    },
    {
      "cell_type": "code",
      "metadata": {
        "id": "5-I2QvB_LYz7"
      },
      "source": [
        "def cities_filter(df, cidades):\n",
        "  df = df.loc[df['city'].isin(cidades)]\n",
        "  df['last_updated'] = pd.to_datetime(df['last_updated'])\n",
        "  return df"
      ],
      "execution_count": 42,
      "outputs": []
    },
    {
      "cell_type": "code",
      "metadata": {
        "id": "yrojat6snPSX"
      },
      "source": [
        "def drop_columns(df, columns):\n",
        "  df = df.drop(columns)\n",
        "  df = df.dropna()\n",
        "  return df"
      ],
      "execution_count": 43,
      "outputs": []
    },
    {
      "cell_type": "code",
      "metadata": {
        "id": "mU5t6p1mupkb"
      },
      "source": [
        "def tag_target(df, raining_list):\n",
        "  df['target'] = df['condition'].apply(lambda x: 1 if x in raining_list else 0)\n",
        "  print(df['target'].unique())\n",
        "  return df"
      ],
      "execution_count": 44,
      "outputs": []
    },
    {
      "cell_type": "code",
      "metadata": {
        "id": "NyIMln6b-T7N"
      },
      "source": [
        "# function to convert columns to float\n",
        "def to_float(df):\n",
        "  float_list = list()\n",
        "  for column_name in df.drop(columns='target').columns:\n",
        "    if str(df[f'{column_name}'][0]).replace(\".\", \"\").replace(\"-\", \"\").isnumeric() == True:\n",
        "      float_list.append(column_name)\n",
        "\n",
        "  for column in df.columns:\n",
        "    if column in float_list:\n",
        "      df[f'{column}'] = df[f'{column}'].astype(\"float\")\n",
        "  return df"
      ],
      "execution_count": 45,
      "outputs": []
    },
    {
      "cell_type": "code",
      "metadata": {
        "id": "eVkqn0Y0KThK"
      },
      "source": [
        "def algorithm_columns(df, columns):\n",
        "  df = df[[columns]]\n",
        "  return df"
      ],
      "execution_count": 46,
      "outputs": []
    },
    {
      "cell_type": "code",
      "metadata": {
        "id": "VfcfI0IpNn_Q"
      },
      "source": [
        "# Calculate the difference between the actual and previous register\n",
        "def date_diff_calc(df):\n",
        "  df = df.sort_values(by=['city', 'last_updated']).reset_index().drop(columns='index')\n",
        "  i = 1\n",
        "  date_diff_list = list()\n",
        "  for cell in df['last_updated']:\n",
        "    if i < len(df['last_updated']):\n",
        "      date_diff_min = (df['last_updated'][i] - cell).total_seconds()/60\n",
        "      date_diff_list.append(date_diff_min)\n",
        "      i += 1\n",
        "  df['date_diff'] = pd.DataFrame(date_diff_list)\n",
        "  return df"
      ],
      "execution_count": 47,
      "outputs": []
    },
    {
      "cell_type": "code",
      "metadata": {
        "id": "px8rcQR1YVKZ"
      },
      "source": [
        "# create a column that tells us weather is raining in the next hour\n",
        "def rain_next1(df):\n",
        "  i = 4\n",
        "  rain_next1 = list()\n",
        "  for cell in df['target']:\n",
        "    if i < len(df['target']):\n",
        "      rain_next1.append(df['target'][i])\n",
        "      i += 1\n",
        "  df['target_1'] = pd.DataFrame(rain_next1)\n",
        "  return df"
      ],
      "execution_count": 48,
      "outputs": []
    },
    {
      "cell_type": "code",
      "source": [
        "def split_x_y(df):\n",
        "  df = df.dropna()\n",
        "  x = df.drop(columns=['target_1'])\n",
        "  y = df['target_1']\n",
        "  return x, y"
      ],
      "metadata": {
        "id": "4hLcMdPKD_jp"
      },
      "execution_count": 49,
      "outputs": []
    },
    {
      "cell_type": "markdown",
      "source": [
        "### **2. Collecting, cleaning and transforming**"
      ],
      "metadata": {
        "id": "M4-27ri1-5Su"
      }
    },
    {
      "cell_type": "code",
      "source": [
        "client, project_id, credentials = gcp_credentials(path = '/content/drive/MyDrive/Weather_Project/Weather Project-6fa8e059f642.json')\n",
        "\n",
        "df = get_table(query_string = \"\"\"\n",
        "  SELECT *\n",
        "  FROM (SELECT *\n",
        "              , ROW_NUMBER() OVER(PARTITION BY last_updated, city ORDER BY last_updated, city) AS row_num\n",
        "              FROM `weather-project-305419.Daily_Weather.Weather-Info`) as row_weather\n",
        "  WHERE row_num = 1\n",
        "  \"\"\")\n",
        "\n",
        "df = cities_filter(df, cidades = ['Paris', 'Sao Paulo', 'Carapicuiba', 'New York', 'Otawwa', 'London', 'Rome', 'Moscow'\n",
        "          , 'Hong Kong', 'Beijing'])\n",
        "\n",
        "df = tag_target(df, raining_list = ['Light rain', 'Light rain shower', 'Light drizzle', 'Heavy rain', 'Moderate rain'\n",
        "  , 'Patchy light rain with thunder', 'Moderate or heavy rain shower', 'Patchy light rain', 'Torrential rain shower'\n",
        "  , 'Moderate rain at times', 'Moderate or heavy rain with thunder'])\n",
        "\n",
        "df = to_float(df)\n",
        "\n",
        "df = date_diff_calc(df)\n",
        "\n",
        "df = rain_next1(df)\n",
        "\n",
        "# Transform categorical variables in columns and generate X array\n",
        "df = df[['city', 'temp_c', 'is_day', 'condition', 'wind_kph', 'wind_degree'\n",
        "          , 'pressure_mb', 'precip_mm', 'humidity', 'cloud', 'feelslike_c', 'vis_km', 'uv'\n",
        "          , 'gust_kph', 'target', 'target_1']]\n",
        "\n",
        "x, y = split_x_y(df)"
      ],
      "metadata": {
        "colab": {
          "base_uri": "https://localhost:8080/"
        },
        "id": "3_sy5vS2zKfw",
        "outputId": "c0818d2a-2d1c-4aca-cee3-da7d85af6103"
      },
      "execution_count": 50,
      "outputs": [
        {
          "output_type": "stream",
          "name": "stderr",
          "text": [
            "/usr/local/lib/python3.7/dist-packages/ipykernel_launcher.py:3: SettingWithCopyWarning: \n",
            "A value is trying to be set on a copy of a slice from a DataFrame.\n",
            "Try using .loc[row_indexer,col_indexer] = value instead\n",
            "\n",
            "See the caveats in the documentation: https://pandas.pydata.org/pandas-docs/stable/user_guide/indexing.html#returning-a-view-versus-a-copy\n",
            "  This is separate from the ipykernel package so we can avoid doing imports until\n"
          ]
        },
        {
          "output_type": "stream",
          "name": "stdout",
          "text": [
            "[0 1]\n"
          ]
        }
      ]
    },
    {
      "cell_type": "code",
      "metadata": {
        "id": "_cJBtEZBGzUi"
      },
      "source": [
        ""
      ],
      "execution_count": 69,
      "outputs": []
    },
    {
      "cell_type": "code",
      "metadata": {
        "colab": {
          "base_uri": "https://localhost:8080/"
        },
        "id": "zhtw2mbJDrs7",
        "outputId": "eca56e10-9bc2-4c26-a17d-1851076da5b2"
      },
      "source": [
        "%cd /content/drive/MyDrive/Weather_Project"
      ],
      "execution_count": 52,
      "outputs": [
        {
          "output_type": "stream",
          "name": "stdout",
          "text": [
            "/content/drive/MyDrive/Weather_Project\n"
          ]
        }
      ]
    },
    {
      "cell_type": "markdown",
      "metadata": {
        "id": "CID-oGdHMLGS"
      },
      "source": [
        "### **3. Data Analysis**"
      ]
    },
    {
      "cell_type": "code",
      "metadata": {
        "colab": {
          "base_uri": "https://localhost:8080/",
          "height": 314
        },
        "id": "FgablHw9w5s-",
        "outputId": "b8e53a19-0d21-4c1f-82f5-231d8c881aba"
      },
      "source": [
        "# Target Variable Ocurrency\n",
        "percent = str(round(sum(df['target'])/len(df['target']), 1)*100) + '%'\n",
        "print(f'percentage of target == 1 is: {percent}')\n",
        "sns.histplot(data=df['target'])"
      ],
      "execution_count": 53,
      "outputs": [
        {
          "output_type": "stream",
          "name": "stdout",
          "text": [
            "percentage of target == 1 is: 10.0%\n"
          ]
        },
        {
          "output_type": "execute_result",
          "data": {
            "text/plain": [
              "<matplotlib.axes._subplots.AxesSubplot at 0x7f6ae4b8f490>"
            ]
          },
          "metadata": {},
          "execution_count": 53
        },
        {
          "output_type": "display_data",
          "data": {
            "image/png": "[encoded data removed]",
            "text/plain": [
              "<Figure size 432x288 with 1 Axes>"
            ]
          },
          "metadata": {
            "needs_background": "light"
          }
        }
      ]
    },
    {
      "cell_type": "code",
      "metadata": {
        "colab": {
          "base_uri": "https://localhost:8080/",
          "height": 297
        },
        "id": "ZvXZugBGxkLp",
        "outputId": "baa75053-4797-478a-8876-edc3645335f1"
      },
      "source": [
        "sns.countplot(x=df['is_day'], hue=df['target'])"
      ],
      "execution_count": 54,
      "outputs": [
        {
          "output_type": "execute_result",
          "data": {
            "text/plain": [
              "<matplotlib.axes._subplots.AxesSubplot at 0x7f6acb342210>"
            ]
          },
          "metadata": {},
          "execution_count": 54
        },
        {
          "output_type": "display_data",
          "data": {
            "image/png": "[encoded data removed]",
            "text/plain": [
              "<Figure size 432x288 with 1 Axes>"
            ]
          },
          "metadata": {
            "needs_background": "light"
          }
        }
      ]
    },
    {
      "cell_type": "code",
      "metadata": {
        "colab": {
          "base_uri": "https://localhost:8080/",
          "height": 334
        },
        "id": "ofjyyMAH3Z3a",
        "outputId": "31d518a5-8d0d-43a5-b151-ff3326f8df55"
      },
      "source": [
        "plt.figure(figsize=(15, 5))\n",
        "ax = sns.countplot(x=df['city'], hue=df['target'])"
      ],
      "execution_count": 55,
      "outputs": [
        {
          "output_type": "display_data",
          "data": {
            "image/png": "[encoded data removed]",
            "text/plain": [
              "<Figure size 1080x360 with 1 Axes>"
            ]
          },
          "metadata": {
            "needs_background": "light"
          }
        }
      ]
    },
    {
      "cell_type": "code",
      "metadata": {
        "colab": {
          "base_uri": "https://localhost:8080/",
          "height": 386
        },
        "id": "BR5U93VN6jTT",
        "outputId": "8ebd5be6-fbf8-440c-c857-bed96d2142e5"
      },
      "source": [
        "plt.figure(figsize=(10, 5))\n",
        "ax = sns.displot(x=df['feelslike_c'], bins='sturges', col=df['target'])"
      ],
      "execution_count": 56,
      "outputs": [
        {
          "output_type": "display_data",
          "data": {
            "text/plain": [
              "<Figure size 720x360 with 0 Axes>"
            ]
          },
          "metadata": {}
        },
        {
          "output_type": "display_data",
          "data": {
            "image/png": "[encoded data removed]",
            "text/plain": [
              "<Figure size 720x360 with 2 Axes>"
            ]
          },
          "metadata": {
            "needs_background": "light"
          }
        }
      ]
    },
    {
      "cell_type": "code",
      "metadata": {
        "colab": {
          "base_uri": "https://localhost:8080/",
          "height": 296
        },
        "id": "Aox5-p0cLwh6",
        "outputId": "72257889-7e08-4122-e116-e1d923875137"
      },
      "source": [
        "sns.boxplot(x=df['target'], y=df['feelslike_c'])"
      ],
      "execution_count": 57,
      "outputs": [
        {
          "output_type": "execute_result",
          "data": {
            "text/plain": [
              "<matplotlib.axes._subplots.AxesSubplot at 0x7f6ac2f185d0>"
            ]
          },
          "metadata": {},
          "execution_count": 57
        },
        {
          "output_type": "display_data",
          "data": {
            "image/png": "[encoded data removed]",
            "text/plain": [
              "<Figure size 432x288 with 1 Axes>"
            ]
          },
          "metadata": {
            "needs_background": "light"
          }
        }
      ]
    },
    {
      "cell_type": "code",
      "metadata": {
        "colab": {
          "base_uri": "https://localhost:8080/",
          "height": 386
        },
        "id": "lmopZ608IUkX",
        "outputId": "c5e0f180-945e-4946-8885-c35099593fed"
      },
      "source": [
        "plt.figure(figsize=(10, 5))\n",
        "ax = sns.displot(x=df['temp_c'], bins='sturges', col=df['target'])"
      ],
      "execution_count": 58,
      "outputs": [
        {
          "output_type": "display_data",
          "data": {
            "text/plain": [
              "<Figure size 720x360 with 0 Axes>"
            ]
          },
          "metadata": {}
        },
        {
          "output_type": "display_data",
          "data": {
            "image/png": "[encoded data removed]",
            "text/plain": [
              "<Figure size 720x360 with 2 Axes>"
            ]
          },
          "metadata": {
            "needs_background": "light"
          }
        }
      ]
    },
    {
      "cell_type": "code",
      "metadata": {
        "colab": {
          "base_uri": "https://localhost:8080/",
          "height": 299
        },
        "id": "ZQWcuO9MLrFt",
        "outputId": "9cef4f8a-d409-4423-bb89-e13ba73a47e2"
      },
      "source": [
        "sns.boxplot(x=df['target'], y=df['temp_c'])"
      ],
      "execution_count": 59,
      "outputs": [
        {
          "output_type": "execute_result",
          "data": {
            "text/plain": [
              "<matplotlib.axes._subplots.AxesSubplot at 0x7f6af2a86090>"
            ]
          },
          "metadata": {},
          "execution_count": 59
        },
        {
          "output_type": "display_data",
          "data": {
            "image/png": "[encoded data removed]",
            "text/plain": [
              "<Figure size 432x288 with 1 Axes>"
            ]
          },
          "metadata": {
            "needs_background": "light"
          }
        }
      ]
    },
    {
      "cell_type": "code",
      "metadata": {
        "colab": {
          "base_uri": "https://localhost:8080/",
          "height": 296
        },
        "id": "6hvq2UTs6L9q",
        "outputId": "0834d724-eb8a-49b9-fdb3-796ee0303ec4"
      },
      "source": [
        "sns.boxplot(x=df['target'], y=df['cloud'])"
      ],
      "execution_count": 60,
      "outputs": [
        {
          "output_type": "execute_result",
          "data": {
            "text/plain": [
              "<matplotlib.axes._subplots.AxesSubplot at 0x7f6ac4192090>"
            ]
          },
          "metadata": {},
          "execution_count": 60
        },
        {
          "output_type": "display_data",
          "data": {
            "image/png": "[encoded data removed]",
            "text/plain": [
              "<Figure size 432x288 with 1 Axes>"
            ]
          },
          "metadata": {
            "needs_background": "light"
          }
        }
      ]
    },
    {
      "cell_type": "code",
      "metadata": {
        "colab": {
          "base_uri": "https://localhost:8080/",
          "height": 386
        },
        "id": "8zwItGzOJISV",
        "outputId": "d5156fb4-fd2b-417e-90ae-b74914890ad2"
      },
      "source": [
        "sns.displot(x=df['wind_kph'], col=df['target'], bins='sturges')"
      ],
      "execution_count": 61,
      "outputs": [
        {
          "output_type": "execute_result",
          "data": {
            "text/plain": [
              "<seaborn.axisgrid.FacetGrid at 0x7f6ac4186050>"
            ]
          },
          "metadata": {},
          "execution_count": 61
        },
        {
          "output_type": "display_data",
          "data": {
            "image/png": "[encoded data removed]",
            "text/plain": [
              "<Figure size 720x360 with 2 Axes>"
            ]
          },
          "metadata": {
            "needs_background": "light"
          }
        }
      ]
    },
    {
      "cell_type": "code",
      "metadata": {
        "colab": {
          "base_uri": "https://localhost:8080/",
          "height": 296
        },
        "id": "nY9eedAHJt6l",
        "outputId": "37c5ed34-901e-4404-a508-b0b8db5a045c"
      },
      "source": [
        "sns.boxplot(x=df['target'], y=df['wind_kph'])"
      ],
      "execution_count": 62,
      "outputs": [
        {
          "output_type": "execute_result",
          "data": {
            "text/plain": [
              "<matplotlib.axes._subplots.AxesSubplot at 0x7f6ac3afae10>"
            ]
          },
          "metadata": {},
          "execution_count": 62
        },
        {
          "output_type": "display_data",
          "data": {
            "image/png": "[encoded data removed]",
            "text/plain": [
              "<Figure size 432x288 with 1 Axes>"
            ]
          },
          "metadata": {
            "needs_background": "light"
          }
        }
      ]
    },
    {
      "cell_type": "code",
      "metadata": {
        "colab": {
          "base_uri": "https://localhost:8080/",
          "height": 702
        },
        "id": "D2QGHZvojbzx",
        "outputId": "20f94661-c4c8-4437-904d-d1d4d938e41d"
      },
      "source": [
        "plt.figure(figsize=(15,10))\n",
        "sns.heatmap(df.corr())"
      ],
      "execution_count": 63,
      "outputs": [
        {
          "output_type": "execute_result",
          "data": {
            "text/plain": [
              "<matplotlib.axes._subplots.AxesSubplot at 0x7f6ac3b09110>"
            ]
          },
          "metadata": {},
          "execution_count": 63
        },
        {
          "output_type": "display_data",
          "data": {
            "image/png": "[encoded data removed]",
            "text/plain": [
              "<Figure size 1080x720 with 2 Axes>"
            ]
          },
          "metadata": {
            "needs_background": "light"
          }
        }
      ]
    },
    {
      "cell_type": "code",
      "metadata": {
        "colab": {
          "base_uri": "https://localhost:8080/",
          "height": 297
        },
        "id": "qP-M8zh-dp5p",
        "outputId": "c2011fc1-f255-4746-9afd-e596f3dc0ab8"
      },
      "source": [
        "sns.countplot(x=df['target_1'])"
      ],
      "execution_count": 64,
      "outputs": [
        {
          "output_type": "execute_result",
          "data": {
            "text/plain": [
              "<matplotlib.axes._subplots.AxesSubplot at 0x7f6adca8bc50>"
            ]
          },
          "metadata": {},
          "execution_count": 64
        },
        {
          "output_type": "display_data",
          "data": {
            "image/png": "[encoded data removed]",
            "text/plain": [
              "<Figure size 432x288 with 1 Axes>"
            ]
          },
          "metadata": {
            "needs_background": "light"
          }
        }
      ]
    },
    {
      "cell_type": "code",
      "metadata": {
        "colab": {
          "base_uri": "https://localhost:8080/",
          "height": 579
        },
        "id": "dao_NoWv67U-",
        "outputId": "c7dd004f-4a85-4ce0-c7e7-c4965fee61e0"
      },
      "source": [
        "plt.figure(figsize=(25, 10))\n",
        "sns.barplot(y=df['condition'], x=df['target_1'], orient='horizontal')"
      ],
      "execution_count": 65,
      "outputs": [
        {
          "output_type": "execute_result",
          "data": {
            "text/plain": [
              "<matplotlib.axes._subplots.AxesSubplot at 0x7f6adf6a36d0>"
            ]
          },
          "metadata": {},
          "execution_count": 65
        },
        {
          "output_type": "display_data",
          "data": {
            "image/png": "[encoded data removed]",
            "text/plain": [
              "<Figure size 1800x720 with 1 Axes>"
            ]
          },
          "metadata": {
            "needs_background": "light"
          }
        }
      ]
    },
    {
      "cell_type": "code",
      "metadata": {
        "colab": {
          "base_uri": "https://localhost:8080/",
          "height": 297
        },
        "id": "CtwPOh_khk58",
        "outputId": "0b4bf5df-ea93-4cc1-885d-aeea0d5030f0"
      },
      "source": [
        "sns.boxplot(y=df['cloud'], x=df['target_1'])"
      ],
      "execution_count": 66,
      "outputs": [
        {
          "output_type": "execute_result",
          "data": {
            "text/plain": [
              "<matplotlib.axes._subplots.AxesSubplot at 0x7f6ad3739250>"
            ]
          },
          "metadata": {},
          "execution_count": 66
        },
        {
          "output_type": "display_data",
          "data": {
            "image/png": "[encoded data removed]",
            "text/plain": [
              "<Figure size 432x288 with 1 Axes>"
            ]
          },
          "metadata": {
            "needs_background": "light"
          }
        }
      ]
    },
    {
      "cell_type": "code",
      "metadata": {
        "colab": {
          "base_uri": "https://localhost:8080/",
          "height": 296
        },
        "id": "wpnSmJf8imRy",
        "outputId": "35dfb3da-f9e3-488f-86a8-8c4e05e25391"
      },
      "source": [
        "sns.countplot(x=df['target'], hue=df['target_1'])"
      ],
      "execution_count": 67,
      "outputs": [
        {
          "output_type": "execute_result",
          "data": {
            "text/plain": [
              "<matplotlib.axes._subplots.AxesSubplot at 0x7f6af2ecc410>"
            ]
          },
          "metadata": {},
          "execution_count": 67
        },
        {
          "output_type": "display_data",
          "data": {
            "image/png": "[encoded data removed]",
            "text/plain": [
              "<Figure size 432x288 with 1 Axes>"
            ]
          },
          "metadata": {
            "needs_background": "light"
          }
        }
      ]
    },
    {
      "cell_type": "code",
      "source": [
        "df.describe()"
      ],
      "metadata": {
        "colab": {
          "base_uri": "https://localhost:8080/",
          "height": 364
        },
        "id": "Qn3Z8-I3fa3W",
        "outputId": "1db449ec-e7d2-4e47-e8cf-4946cc3304f0"
      },
      "execution_count": 68,
      "outputs": [
        {
          "output_type": "execute_result",
          "data": {
            "text/html": [
              "\n",
              "  <div id=\"df-de1ffd08-e973-42e1-bbcb-5236e069170e\">\n",
              "    <div class=\"colab-df-container\">\n",
              "      <div>\n",
              "<style scoped>\n",
              "    .dataframe tbody tr th:only-of-type {\n",
              "        vertical-align: middle;\n",
              "    }\n",
              "\n",
              "    .dataframe tbody tr th {\n",
              "        vertical-align: top;\n",
              "    }\n",
              "\n",
              "    .dataframe thead th {\n",
              "        text-align: right;\n",
              "    }\n",
              "</style>\n",
              "<table border=\"1\" class=\"dataframe\">\n",
              "  <thead>\n",
              "    <tr style=\"text-align: right;\">\n",
              "      <th></th>\n",
              "      <th>last_updated_epoch</th>\n",
              "      <th>temp_c</th>\n",
              "      <th>temp_f</th>\n",
              "      <th>is_day</th>\n",
              "      <th>wind_mph</th>\n",
              "      <th>wind_kph</th>\n",
              "      <th>wind_degree</th>\n",
              "      <th>pressure_mb</th>\n",
              "      <th>pressure_in</th>\n",
              "      <th>precip_mm</th>\n",
              "      <th>precip_in</th>\n",
              "      <th>humidity</th>\n",
              "      <th>cloud</th>\n",
              "      <th>feelslike_c</th>\n",
              "      <th>feelslike_f</th>\n",
              "      <th>vis_km</th>\n",
              "      <th>vis_miles</th>\n",
              "      <th>uv</th>\n",
              "      <th>gust_mph</th>\n",
              "      <th>gust_kph</th>\n",
              "      <th>row_num</th>\n",
              "      <th>target</th>\n",
              "      <th>date_diff</th>\n",
              "      <th>target_1</th>\n",
              "    </tr>\n",
              "  </thead>\n",
              "  <tbody>\n",
              "    <tr>\n",
              "      <th>count</th>\n",
              "      <td>9.787100e+04</td>\n",
              "      <td>97871.000000</td>\n",
              "      <td>97871.000000</td>\n",
              "      <td>97871.000000</td>\n",
              "      <td>97871.000000</td>\n",
              "      <td>97871.000000</td>\n",
              "      <td>97871.000000</td>\n",
              "      <td>97871.000000</td>\n",
              "      <td>97871.000000</td>\n",
              "      <td>97871.000000</td>\n",
              "      <td>97871.000000</td>\n",
              "      <td>97871.000000</td>\n",
              "      <td>97871.000000</td>\n",
              "      <td>97871.000000</td>\n",
              "      <td>97871.000000</td>\n",
              "      <td>97871.000000</td>\n",
              "      <td>97871.000000</td>\n",
              "      <td>97871.000000</td>\n",
              "      <td>97871.000000</td>\n",
              "      <td>97871.000000</td>\n",
              "      <td>97871.0</td>\n",
              "      <td>97871.000000</td>\n",
              "      <td>97870.000000</td>\n",
              "      <td>97867.000000</td>\n",
              "    </tr>\n",
              "    <tr>\n",
              "      <th>mean</th>\n",
              "      <td>1.630463e+09</td>\n",
              "      <td>16.636618</td>\n",
              "      <td>61.946013</td>\n",
              "      <td>0.501006</td>\n",
              "      <td>6.785977</td>\n",
              "      <td>10.914232</td>\n",
              "      <td>163.831707</td>\n",
              "      <td>1016.820018</td>\n",
              "      <td>30.169358</td>\n",
              "      <td>0.262013</td>\n",
              "      <td>0.010129</td>\n",
              "      <td>71.013937</td>\n",
              "      <td>38.607616</td>\n",
              "      <td>16.436316</td>\n",
              "      <td>61.581570</td>\n",
              "      <td>10.187202</td>\n",
              "      <td>5.959079</td>\n",
              "      <td>2.991223</td>\n",
              "      <td>10.091323</td>\n",
              "      <td>16.239476</td>\n",
              "      <td>1.0</td>\n",
              "      <td>0.089363</td>\n",
              "      <td>1.741545</td>\n",
              "      <td>0.089346</td>\n",
              "    </tr>\n",
              "    <tr>\n",
              "      <th>std</th>\n",
              "      <td>5.898694e+06</td>\n",
              "      <td>7.310923</td>\n",
              "      <td>13.159785</td>\n",
              "      <td>0.500002</td>\n",
              "      <td>4.931780</td>\n",
              "      <td>7.947392</td>\n",
              "      <td>104.532379</td>\n",
              "      <td>7.638399</td>\n",
              "      <td>0.328624</td>\n",
              "      <td>1.668816</td>\n",
              "      <td>0.065744</td>\n",
              "      <td>18.277906</td>\n",
              "      <td>38.880118</td>\n",
              "      <td>8.841164</td>\n",
              "      <td>15.913406</td>\n",
              "      <td>2.788276</td>\n",
              "      <td>1.640698</td>\n",
              "      <td>2.312982</td>\n",
              "      <td>5.718242</td>\n",
              "      <td>9.202578</td>\n",
              "      <td>0.0</td>\n",
              "      <td>0.285268</td>\n",
              "      <td>2570.890880</td>\n",
              "      <td>0.285244</td>\n",
              "    </tr>\n",
              "    <tr>\n",
              "      <th>min</th>\n",
              "      <td>1.619140e+09</td>\n",
              "      <td>-9.000000</td>\n",
              "      <td>15.800000</td>\n",
              "      <td>0.000000</td>\n",
              "      <td>0.000000</td>\n",
              "      <td>0.000000</td>\n",
              "      <td>0.000000</td>\n",
              "      <td>967.000000</td>\n",
              "      <td>28.560000</td>\n",
              "      <td>0.000000</td>\n",
              "      <td>0.000000</td>\n",
              "      <td>8.000000</td>\n",
              "      <td>0.000000</td>\n",
              "      <td>-16.100000</td>\n",
              "      <td>3.000000</td>\n",
              "      <td>0.000000</td>\n",
              "      <td>0.000000</td>\n",
              "      <td>1.000000</td>\n",
              "      <td>0.000000</td>\n",
              "      <td>0.000000</td>\n",
              "      <td>1.0</td>\n",
              "      <td>0.000000</td>\n",
              "      <td>-331725.000000</td>\n",
              "      <td>0.000000</td>\n",
              "    </tr>\n",
              "    <tr>\n",
              "      <th>25%</th>\n",
              "      <td>1.625711e+09</td>\n",
              "      <td>12.000000</td>\n",
              "      <td>53.600000</td>\n",
              "      <td>0.000000</td>\n",
              "      <td>3.800000</td>\n",
              "      <td>6.100000</td>\n",
              "      <td>80.000000</td>\n",
              "      <td>1013.000000</td>\n",
              "      <td>29.970000</td>\n",
              "      <td>0.000000</td>\n",
              "      <td>0.000000</td>\n",
              "      <td>60.000000</td>\n",
              "      <td>0.000000</td>\n",
              "      <td>11.100000</td>\n",
              "      <td>51.900000</td>\n",
              "      <td>10.000000</td>\n",
              "      <td>6.000000</td>\n",
              "      <td>1.000000</td>\n",
              "      <td>6.000000</td>\n",
              "      <td>9.700000</td>\n",
              "      <td>1.0</td>\n",
              "      <td>0.000000</td>\n",
              "      <td>15.000000</td>\n",
              "      <td>0.000000</td>\n",
              "    </tr>\n",
              "    <tr>\n",
              "      <th>50%</th>\n",
              "      <td>1.631557e+09</td>\n",
              "      <td>17.000000</td>\n",
              "      <td>62.600000</td>\n",
              "      <td>1.000000</td>\n",
              "      <td>6.900000</td>\n",
              "      <td>11.200000</td>\n",
              "      <td>150.000000</td>\n",
              "      <td>1018.000000</td>\n",
              "      <td>30.120000</td>\n",
              "      <td>0.000000</td>\n",
              "      <td>0.000000</td>\n",
              "      <td>75.000000</td>\n",
              "      <td>25.000000</td>\n",
              "      <td>17.000000</td>\n",
              "      <td>62.600000</td>\n",
              "      <td>10.000000</td>\n",
              "      <td>6.000000</td>\n",
              "      <td>1.000000</td>\n",
              "      <td>9.200000</td>\n",
              "      <td>14.800000</td>\n",
              "      <td>1.0</td>\n",
              "      <td>0.000000</td>\n",
              "      <td>15.000000</td>\n",
              "      <td>0.000000</td>\n",
              "    </tr>\n",
              "    <tr>\n",
              "      <th>75%</th>\n",
              "      <td>1.635350e+09</td>\n",
              "      <td>21.700000</td>\n",
              "      <td>71.100000</td>\n",
              "      <td>1.000000</td>\n",
              "      <td>9.400000</td>\n",
              "      <td>15.100000</td>\n",
              "      <td>250.000000</td>\n",
              "      <td>1022.000000</td>\n",
              "      <td>30.400000</td>\n",
              "      <td>0.000000</td>\n",
              "      <td>0.000000</td>\n",
              "      <td>87.000000</td>\n",
              "      <td>75.000000</td>\n",
              "      <td>21.700000</td>\n",
              "      <td>71.100000</td>\n",
              "      <td>10.000000</td>\n",
              "      <td>6.000000</td>\n",
              "      <td>5.000000</td>\n",
              "      <td>13.000000</td>\n",
              "      <td>20.900000</td>\n",
              "      <td>1.0</td>\n",
              "      <td>0.000000</td>\n",
              "      <td>15.000000</td>\n",
              "      <td>0.000000</td>\n",
              "    </tr>\n",
              "    <tr>\n",
              "      <th>max</th>\n",
              "      <td>1.639005e+09</td>\n",
              "      <td>37.900000</td>\n",
              "      <td>100.200000</td>\n",
              "      <td>1.000000</td>\n",
              "      <td>38.300000</td>\n",
              "      <td>61.600000</td>\n",
              "      <td>360.000000</td>\n",
              "      <td>1044.000000</td>\n",
              "      <td>31.000000</td>\n",
              "      <td>113.800000</td>\n",
              "      <td>4.480000</td>\n",
              "      <td>100.000000</td>\n",
              "      <td>100.000000</td>\n",
              "      <td>51.700000</td>\n",
              "      <td>125.100000</td>\n",
              "      <td>16.000000</td>\n",
              "      <td>9.000000</td>\n",
              "      <td>9.000000</td>\n",
              "      <td>57.700000</td>\n",
              "      <td>92.900000</td>\n",
              "      <td>1.0</td>\n",
              "      <td>1.000000</td>\n",
              "      <td>57645.000000</td>\n",
              "      <td>1.000000</td>\n",
              "    </tr>\n",
              "  </tbody>\n",
              "</table>\n",
              "</div>\n",
              "      <button class=\"colab-df-convert\" onclick=\"convertToInteractive('df-de1ffd08-e973-42e1-bbcb-5236e069170e')\"\n",
              "              title=\"Convert this dataframe to an interactive table.\"\n",
              "              style=\"display:none;\">\n",
              "        \n",
              "  <svg xmlns=\"http://www.w3.org/2000/svg\" height=\"24px\"viewBox=\"0 0 24 24\"\n",
              "       width=\"24px\">\n",
              "    <path d=\"M0 0h24v24H0V0z\" fill=\"none\"/>\n",
              "    <path d=\"M18.56 5.44l.94 2.06.94-2.06 2.06-.94-2.06-.94-.94-2.06-.94 2.06-2.06.94zm-11 1L8.5 8.5l.94-2.06 2.06-.94-2.06-.94L8.5 2.5l-.94 2.06-2.06.94zm10 10l.94 2.06.94-2.06 2.06-.94-2.06-.94-.94-2.06-.94 2.06-2.06.94z\"/><path d=\"M17.41 7.96l-1.37-1.37c-.4-.4-.92-.59-1.43-.59-.52 0-1.04.2-1.43.59L10.3 9.45l-7.72 7.72c-.78.78-.78 2.05 0 2.83L4 21.41c.39.39.9.59 1.41.59.51 0 1.02-.2 1.41-.59l7.78-7.78 2.81-2.81c.8-.78.8-2.07 0-2.86zM5.41 20L4 18.59l7.72-7.72 1.47 1.35L5.41 20z\"/>\n",
              "  </svg>\n",
              "      </button>\n",
              "      \n",
              "  <style>\n",
              "    .colab-df-container {\n",
              "      display:flex;\n",
              "      flex-wrap:wrap;\n",
              "      gap: 12px;\n",
              "    }\n",
              "\n",
              "    .colab-df-convert {\n",
              "      background-color: #E8F0FE;\n",
              "      border: none;\n",
              "      border-radius: 50%;\n",
              "      cursor: pointer;\n",
              "      display: none;\n",
              "      fill: #1967D2;\n",
              "      height: 32px;\n",
              "      padding: 0 0 0 0;\n",
              "      width: 32px;\n",
              "    }\n",
              "\n",
              "    .colab-df-convert:hover {\n",
              "      background-color: #E2EBFA;\n",
              "      box-shadow: 0px 1px 2px rgba(60, 64, 67, 0.3), 0px 1px 3px 1px rgba(60, 64, 67, 0.15);\n",
              "      fill: #174EA6;\n",
              "    }\n",
              "\n",
              "    [theme=dark] .colab-df-convert {\n",
              "      background-color: #3B4455;\n",
              "      fill: #D2E3FC;\n",
              "    }\n",
              "\n",
              "    [theme=dark] .colab-df-convert:hover {\n",
              "      background-color: #434B5C;\n",
              "      box-shadow: 0px 1px 3px 1px rgba(0, 0, 0, 0.15);\n",
              "      filter: drop-shadow(0px 1px 2px rgba(0, 0, 0, 0.3));\n",
              "      fill: #FFFFFF;\n",
              "    }\n",
              "  </style>\n",
              "\n",
              "      <script>\n",
              "        const buttonEl =\n",
              "          document.querySelector('#df-de1ffd08-e973-42e1-bbcb-5236e069170e button.colab-df-convert');\n",
              "        buttonEl.style.display =\n",
              "          google.colab.kernel.accessAllowed ? 'block' : 'none';\n",
              "\n",
              "        async function convertToInteractive(key) {\n",
              "          const element = document.querySelector('#df-de1ffd08-e973-42e1-bbcb-5236e069170e');\n",
              "          const dataTable =\n",
              "            await google.colab.kernel.invokeFunction('convertToInteractive',\n",
              "                                                     [key], {});\n",
              "          if (!dataTable) return;\n",
              "\n",
              "          const docLinkHtml = 'Like what you see? Visit the ' +\n",
              "            '<a target=\"_blank\" href=https://colab.research.google.com/notebooks/data_table.ipynb>data table notebook</a>'\n",
              "            + ' to learn more about interactive tables.';\n",
              "          element.innerHTML = '';\n",
              "          dataTable['output_type'] = 'display_data';\n",
              "          await google.colab.output.renderOutput(dataTable, element);\n",
              "          const docLink = document.createElement('div');\n",
              "          docLink.innerHTML = docLinkHtml;\n",
              "          element.appendChild(docLink);\n",
              "        }\n",
              "      </script>\n",
              "    </div>\n",
              "  </div>\n",
              "  "
            ],
            "text/plain": [
              "       last_updated_epoch        temp_c  ...      date_diff      target_1\n",
              "count        9.787100e+04  97871.000000  ...   97870.000000  97867.000000\n",
              "mean         1.630463e+09     16.636618  ...       1.741545      0.089346\n",
              "std          5.898694e+06      7.310923  ...    2570.890880      0.285244\n",
              "min          1.619140e+09     -9.000000  ... -331725.000000      0.000000\n",
              "25%          1.625711e+09     12.000000  ...      15.000000      0.000000\n",
              "50%          1.631557e+09     17.000000  ...      15.000000      0.000000\n",
              "75%          1.635350e+09     21.700000  ...      15.000000      0.000000\n",
              "max          1.639005e+09     37.900000  ...   57645.000000      1.000000\n",
              "\n",
              "[8 rows x 24 columns]"
            ]
          },
          "metadata": {},
          "execution_count": 68
        }
      ]
    },
    {
      "cell_type": "markdown",
      "source": [
        "### **5. Finding Best Parameters**"
      ],
      "metadata": {
        "id": "AEQPrxS3FrpS"
      }
    },
    {
      "cell_type": "code",
      "metadata": {
        "id": "3LXL-pqLP3Nh"
      },
      "source": [
        "# Numerical\n",
        "numeric_cols = ['temp_c', 'wind_kph', 'wind_degree', 'pressure_mb', 'precip_mm', 'cloud', 'feelslike_c', 'vis_km'\n",
        "  , 'uv', 'gust_kph', 'humidity']\n",
        "  \n",
        "numeric_transformer = Pipeline(\n",
        "    steps=[(\"scaler\", StandardScaler())]\n",
        ")\n",
        "\n",
        "# Categorical\n",
        "categ_cols = ['condition', 'city', 'is_day', 'target']\n",
        "categ_transformer = OneHotEncoder(handle_unknown=\"ignore\")\n",
        "\n",
        "# Preprocessing\n",
        "preprocessor = ColumnTransformer(\n",
        "    transformers=[\n",
        "        (\"num\", numeric_transformer, numeric_cols),\n",
        "        (\"cat\", categ_transformer, categ_cols),\n",
        "    ],\n",
        "    remainder='passthrough'\n",
        ")"
      ],
      "execution_count": 115,
      "outputs": []
    },
    {
      "cell_type": "code",
      "source": [
        "lr_search = {\n",
        "    'model': [LogisticRegression()],\n",
        "    'model__C': Real(0.01, 1, prior='log-uniform'),\n",
        "    'model__solver': Categorical(['liblinear']),\n",
        "    'model__penalty': Categorical(['l1', 'l2']),\n",
        "    'feature_selection_percentile__percentile': Integer(10, 100)\n",
        "}\n",
        "\n",
        "pipe = Pipeline(\n",
        "    steps=[(\"preprocessor\", preprocessor),\n",
        "           (\"missing_values\", SimpleImputer()),\n",
        "           (\"feature_selection_var\", VarianceThreshold()),\n",
        "           (\"feature_selection_percentile\", SelectPercentile(f_classif)),\n",
        "           (\"model\", (LogisticRegression(class_weight='balanced', n_jobs=-1)))]\n",
        ")\n",
        "\n",
        "opt_lr = BayesSearchCV(\n",
        "    pipe,\n",
        "    [(lr_search, 15)],\n",
        "    cv=10,\n",
        "    scoring='roc_auc',\n",
        "    verbose=1,\n",
        "    n_jobs=-1\n",
        "    \n",
        ")\n",
        "\n",
        "opt_lr.fit(x, y)\n",
        "\n",
        "print(\"val. score: %s\" % opt_lr.best_score_)"
      ],
      "metadata": {
        "colab": {
          "base_uri": "https://localhost:8080/"
        },
        "id": "OIqaFQ6hFvsr",
        "outputId": "62ee57ab-37c7-4b75-cb9b-99267a103550"
      },
      "execution_count": 116,
      "outputs": [
        {
          "output_type": "stream",
          "name": "stdout",
          "text": [
            "Fitting 10 folds for each of 1 candidates, totalling 10 fits\n",
            "Fitting 10 folds for each of 1 candidates, totalling 10 fits\n",
            "Fitting 10 folds for each of 1 candidates, totalling 10 fits\n",
            "Fitting 10 folds for each of 1 candidates, totalling 10 fits\n",
            "Fitting 10 folds for each of 1 candidates, totalling 10 fits\n",
            "Fitting 10 folds for each of 1 candidates, totalling 10 fits\n",
            "Fitting 10 folds for each of 1 candidates, totalling 10 fits\n",
            "Fitting 10 folds for each of 1 candidates, totalling 10 fits\n",
            "Fitting 10 folds for each of 1 candidates, totalling 10 fits\n",
            "Fitting 10 folds for each of 1 candidates, totalling 10 fits\n",
            "Fitting 10 folds for each of 1 candidates, totalling 10 fits\n",
            "Fitting 10 folds for each of 1 candidates, totalling 10 fits\n",
            "Fitting 10 folds for each of 1 candidates, totalling 10 fits\n",
            "Fitting 10 folds for each of 1 candidates, totalling 10 fits\n",
            "Fitting 10 folds for each of 1 candidates, totalling 10 fits\n",
            "val. score: 0.8828914970219696\n"
          ]
        }
      ]
    },
    {
      "cell_type": "code",
      "source": [
        "rf_search = {\n",
        "    'model': [RandomForestClassifier()],\n",
        "    'model__n_estimators': Integer(50, 500), #prior=\"log-uniform\"),\n",
        "    'model__max_features': Integer(4, 10),\n",
        "    #'model__max_leaf_nodes': Integer(2, 1000),\n",
        "    'model__min_samples_leaf': Integer(50,5000),\n",
        "    'model__criterion': Categorical(['gini', 'entropy']),\n",
        "    'feature_selection_percentile__percentile': Integer(50, 90)\n",
        "}\n",
        "\n",
        "pipe = Pipeline(\n",
        "    steps=[(\"preprocessor\", preprocessor),\n",
        "           (\"missing_values\", SimpleImputer()),\n",
        "           (\"feature_selection_var\", VarianceThreshold()),\n",
        "           (\"feature_selection_percentile\", SelectPercentile(f_classif)),\n",
        "           (\"model\", (RandomForestClassifier(class_weight='balanced', n_jobs=-1)))]\n",
        ")\n",
        "\n",
        "opt = BayesSearchCV(\n",
        "    pipe,\n",
        "    [(rf_search, 15)],\n",
        "    cv=10,\n",
        "    scoring='roc_auc',\n",
        "    verbose=1,\n",
        "    n_jobs=-1\n",
        "    \n",
        ")\n",
        "\n",
        "opt.fit(x, y)\n",
        "\n",
        "print(\"val. score: %s\" % opt.best_score_)"
      ],
      "metadata": {
        "colab": {
          "base_uri": "https://localhost:8080/"
        },
        "id": "j9kERFhcF7FQ",
        "outputId": "91d96f46-cd15-413d-8a61-4e798a752d5d"
      },
      "execution_count": 117,
      "outputs": [
        {
          "output_type": "stream",
          "name": "stdout",
          "text": [
            "Fitting 10 folds for each of 1 candidates, totalling 10 fits\n",
            "Fitting 10 folds for each of 1 candidates, totalling 10 fits\n",
            "Fitting 10 folds for each of 1 candidates, totalling 10 fits\n",
            "Fitting 10 folds for each of 1 candidates, totalling 10 fits\n",
            "Fitting 10 folds for each of 1 candidates, totalling 10 fits\n",
            "Fitting 10 folds for each of 1 candidates, totalling 10 fits\n",
            "Fitting 10 folds for each of 1 candidates, totalling 10 fits\n",
            "Fitting 10 folds for each of 1 candidates, totalling 10 fits\n",
            "Fitting 10 folds for each of 1 candidates, totalling 10 fits\n",
            "Fitting 10 folds for each of 1 candidates, totalling 10 fits\n",
            "Fitting 10 folds for each of 1 candidates, totalling 10 fits\n",
            "Fitting 10 folds for each of 1 candidates, totalling 10 fits\n",
            "Fitting 10 folds for each of 1 candidates, totalling 10 fits\n",
            "Fitting 10 folds for each of 1 candidates, totalling 10 fits\n",
            "Fitting 10 folds for each of 1 candidates, totalling 10 fits\n",
            "val. score: 0.902726656557163\n"
          ]
        }
      ]
    },
    {
      "cell_type": "code",
      "source": [
        "xg_search = {\n",
        "    'model': [GradientBoostingClassifier()],\n",
        "    'model__loss': Categorical(['deviance', 'exponential']), #prior=\"log-uniform\"),\n",
        "    'model__learning_rate': Real(0.00001, 0.9, prior='log-uniform'),\n",
        "    'model__n_estimators': Integer(50, 500),\n",
        "    'model__subsample': Real(0.1,1, prior='uniform'),\n",
        "    'model__max_features': Integer(4, 10),\n",
        "    'model__min_samples_leaf': Integer(50,5000),\n",
        "    'feature_selection_percentile__percentile': Integer(50, 90)                                   \n",
        "}\n",
        "\n",
        "pipe = Pipeline(\n",
        "    steps=[(\"preprocessor\", preprocessor), \n",
        "           (\"smote\", SMOTE()),\n",
        "           (\"missing_values\", SimpleImputer()),\n",
        "           (\"feature_selection_var\", VarianceThreshold()),\n",
        "           (\"feature_selection_percentile\", SelectPercentile(f_classif)),\n",
        "           (\"model\", (GradientBoostingClassifier()))]\n",
        ")\n",
        "\n",
        "opt_xg = BayesSearchCV(\n",
        "    pipe,\n",
        "    [(xg_search, 15)],\n",
        "    cv=10,\n",
        "    scoring='roc_auc',\n",
        "    verbose=1,\n",
        "    n_jobs=-1\n",
        "    \n",
        ")\n",
        "\n",
        "opt_xg.fit(x, y)\n",
        "\n",
        "print(\"val. score: %s\" % opt_xg.best_score_)"
      ],
      "metadata": {
        "colab": {
          "base_uri": "https://localhost:8080/"
        },
        "id": "pNFag0jzF-RB",
        "outputId": "4b032ebf-979b-47f9-96fb-bbcaeee7ef11"
      },
      "execution_count": 118,
      "outputs": [
        {
          "output_type": "stream",
          "name": "stdout",
          "text": [
            "Fitting 10 folds for each of 1 candidates, totalling 10 fits\n"
          ]
        },
        {
          "output_type": "stream",
          "name": "stderr",
          "text": [
            "/usr/local/lib/python3.7/dist-packages/joblib/externals/loky/process_executor.py:705: UserWarning: A worker stopped while some jobs were given to the executor. This can be caused by a too short worker timeout or by a memory leak.\n",
            "  \"timeout or by a memory leak.\", UserWarning\n"
          ]
        },
        {
          "output_type": "stream",
          "name": "stdout",
          "text": [
            "Fitting 10 folds for each of 1 candidates, totalling 10 fits\n",
            "Fitting 10 folds for each of 1 candidates, totalling 10 fits\n",
            "Fitting 10 folds for each of 1 candidates, totalling 10 fits\n",
            "Fitting 10 folds for each of 1 candidates, totalling 10 fits\n",
            "Fitting 10 folds for each of 1 candidates, totalling 10 fits\n",
            "Fitting 10 folds for each of 1 candidates, totalling 10 fits\n",
            "Fitting 10 folds for each of 1 candidates, totalling 10 fits\n",
            "Fitting 10 folds for each of 1 candidates, totalling 10 fits\n",
            "Fitting 10 folds for each of 1 candidates, totalling 10 fits\n",
            "Fitting 10 folds for each of 1 candidates, totalling 10 fits\n",
            "Fitting 10 folds for each of 1 candidates, totalling 10 fits\n",
            "Fitting 10 folds for each of 1 candidates, totalling 10 fits\n",
            "Fitting 10 folds for each of 1 candidates, totalling 10 fits\n",
            "Fitting 10 folds for each of 1 candidates, totalling 10 fits\n",
            "val. score: 0.9010925939321709\n"
          ]
        }
      ]
    },
    {
      "cell_type": "code",
      "source": [
        "print(opt_xg.cv_results_[\"mean_test_score\"].max())\n",
        "print(opt_xg.cv_results_[\"std_test_score\"].min())\n",
        "print(opt_xg.best_params_)"
      ],
      "metadata": {
        "colab": {
          "base_uri": "https://localhost:8080/"
        },
        "id": "9gpjUv-h0kna",
        "outputId": "23084a77-bcd6-40bf-b652-9441f279d63e"
      },
      "execution_count": 119,
      "outputs": [
        {
          "output_type": "stream",
          "name": "stdout",
          "text": [
            "0.9010925939321709\n",
            "0.024368898835803048\n",
            "OrderedDict([('feature_selection_percentile__percentile', 66), ('model', GradientBoostingClassifier(learning_rate=0.0016268750355587136,\n",
            "                           loss='exponential', max_features=10,\n",
            "                           min_samples_leaf=3416, n_estimators=169,\n",
            "                           subsample=0.1293463547369702)), ('model__learning_rate', 0.0016268750355587136), ('model__loss', 'exponential'), ('model__max_features', 10), ('model__min_samples_leaf', 3416), ('model__n_estimators', 169), ('model__subsample', 0.1293463547369702)])\n"
          ]
        }
      ]
    },
    {
      "cell_type": "code",
      "source": [
        "print(opt_lr.cv_results_[\"mean_test_score\"].max())\n",
        "print(opt_lr.cv_results_[\"std_test_score\"].min())\n",
        "print(opt_lr.best_params_)"
      ],
      "metadata": {
        "colab": {
          "base_uri": "https://localhost:8080/"
        },
        "id": "KGXFjTgppnAc",
        "outputId": "3f055bde-6243-4459-cf37-4c1ed5f3d03c"
      },
      "execution_count": 120,
      "outputs": [
        {
          "output_type": "stream",
          "name": "stdout",
          "text": [
            "0.8828914970219696\n",
            "0.058769725327683306\n",
            "OrderedDict([('feature_selection_percentile__percentile', 10), ('model', LogisticRegression(C=0.013017697546068492, solver='liblinear')), ('model__C', 0.013017697546068492), ('model__penalty', 'l2'), ('model__solver', 'liblinear')])\n"
          ]
        }
      ]
    },
    {
      "cell_type": "code",
      "source": [
        "print(opt.cv_results_[\"mean_test_score\"].max())\n",
        "print(opt.cv_results_[\"std_test_score\"].min())\n",
        "print(opt.best_params_)"
      ],
      "metadata": {
        "colab": {
          "base_uri": "https://localhost:8080/"
        },
        "id": "VeCZD-JNpm9u",
        "outputId": "984d7568-c24f-4bc2-e603-ebf85f4685df"
      },
      "execution_count": 121,
      "outputs": [
        {
          "output_type": "stream",
          "name": "stdout",
          "text": [
            "0.902726656557163\n",
            "0.023618286578030487\n",
            "OrderedDict([('feature_selection_percentile__percentile', 60), ('model', RandomForestClassifier(criterion='entropy', max_features=7,\n",
            "                       min_samples_leaf=3939, n_estimators=129)), ('model__criterion', 'entropy'), ('model__max_features', 7), ('model__min_samples_leaf', 3939), ('model__n_estimators', 129)])\n"
          ]
        }
      ]
    },
    {
      "cell_type": "markdown",
      "metadata": {
        "id": "v9UXRmsooNnZ"
      },
      "source": [
        "### **6. Applying Choosed Machine Learning Model**\n",
        "\n"
      ]
    },
    {
      "cell_type": "code",
      "source": [
        "rf_pipe = Pipeline(\n",
        "    steps=[(\"preprocessor\", preprocessor),\n",
        "           (\"missing_values\", SimpleImputer()),\n",
        "           (\"feature_selection_var\", VarianceThreshold()),\n",
        "           (\"feature_selection_percentile\", SelectPercentile(f_classif, percentile=60)),\n",
        "           (\"classifier\", (RandomForestClassifier(n_jobs=-1, class_weight='balanced',\n",
        "                                                 criterion='entropy', max_features=10,\n",
        "                                                 min_samples_leaf=3939, n_estimators=129)))]\n",
        ")\n",
        "cross_score = cross_val_score(rf_pipe, x, y, cv=10, scoring='roc_auc', n_jobs=-1)\n",
        "print(f'cross_mean: {cross_score.mean()}, cross_std: {cross_score.std()}')\n",
        "rf_pipe.fit(x, y)\n",
        "y_predict = rf_pipe.predict(x)"
      ],
      "metadata": {
        "colab": {
          "base_uri": "https://localhost:8080/"
        },
        "id": "KpyEW85d3XfN",
        "outputId": "21d78537-d989-4c5b-8db3-719d834a2990"
      },
      "execution_count": 122,
      "outputs": [
        {
          "output_type": "stream",
          "name": "stdout",
          "text": [
            "cross_mean: 0.9019296469856004, cross_std: 0.026939422454128427\n"
          ]
        }
      ]
    },
    {
      "cell_type": "code",
      "source": [
        "x_features = preprocessor.fit(x).get_feature_names_out()\n",
        "mask_used_ft = rf_pipe.named_steps['feature_selection_percentile'].get_support()\n",
        "x_features_used = np.delete((x_features * mask_used_ft), np.where(x_features * mask_used_ft == \"\"))\n",
        "importances = rf_pipe.named_steps['classifier'].feature_importances_\n",
        "indices = np.argsort(importances)\n",
        "\n",
        "plt.figure(figsize=(15,10))\n",
        "plt.title('Feature Importances')\n",
        "plt.barh(range(len(indices)), importances[indices], color='b', align='center')\n",
        "plt.yticks(range(len(indices)), [x_features_used[i] for i in indices])\n",
        "plt.xlabel('Relative Importance')\n",
        "plt.show()"
      ],
      "metadata": {
        "colab": {
          "base_uri": "https://localhost:8080/",
          "height": 621
        },
        "id": "UlFErUd7FMYb",
        "outputId": "d2bc71b5-5b8b-4868-d0e8-0c1eb49b9f81"
      },
      "execution_count": 123,
      "outputs": [
        {
          "output_type": "display_data",
          "data": {
            "image/png": "[encoded data removed]",
            "text/plain": [
              "<Figure size 1080x720 with 1 Axes>"
            ]
          },
          "metadata": {
            "needs_background": "light"
          }
        }
      ]
    },
    {
      "cell_type": "code",
      "source": [
        "f = open('Rain_Model_Object', 'wb')\n",
        "pickle.dump(rf_pipe, f)\n",
        "f.close()"
      ],
      "metadata": {
        "id": "9YZSzvtg2unJ"
      },
      "execution_count": 124,
      "outputs": []
    },
    {
      "cell_type": "code",
      "source": [
        "df.head()"
      ],
      "metadata": {
        "colab": {
          "base_uri": "https://localhost:8080/",
          "height": 206
        },
        "id": "EU91HinFTJBz",
        "outputId": "b1f34b14-b3d1-4d27-c7c8-70542afdc2b9"
      },
      "execution_count": 125,
      "outputs": [
        {
          "output_type": "execute_result",
          "data": {
            "text/html": [
              "\n",
              "  <div id=\"df-e73f1bfe-6b9f-4b6b-a586-4bd8aff96dce\">\n",
              "    <div class=\"colab-df-container\">\n",
              "      <div>\n",
              "<style scoped>\n",
              "    .dataframe tbody tr th:only-of-type {\n",
              "        vertical-align: middle;\n",
              "    }\n",
              "\n",
              "    .dataframe tbody tr th {\n",
              "        vertical-align: top;\n",
              "    }\n",
              "\n",
              "    .dataframe thead th {\n",
              "        text-align: right;\n",
              "    }\n",
              "</style>\n",
              "<table border=\"1\" class=\"dataframe\">\n",
              "  <thead>\n",
              "    <tr style=\"text-align: right;\">\n",
              "      <th></th>\n",
              "      <th>city</th>\n",
              "      <th>temp_c</th>\n",
              "      <th>is_day</th>\n",
              "      <th>condition</th>\n",
              "      <th>wind_kph</th>\n",
              "      <th>wind_degree</th>\n",
              "      <th>pressure_mb</th>\n",
              "      <th>precip_mm</th>\n",
              "      <th>humidity</th>\n",
              "      <th>cloud</th>\n",
              "      <th>feelslike_c</th>\n",
              "      <th>vis_km</th>\n",
              "      <th>uv</th>\n",
              "      <th>gust_kph</th>\n",
              "      <th>target</th>\n",
              "      <th>target_1</th>\n",
              "    </tr>\n",
              "  </thead>\n",
              "  <tbody>\n",
              "    <tr>\n",
              "      <th>0</th>\n",
              "      <td>Beijing</td>\n",
              "      <td>27.0</td>\n",
              "      <td>1.0</td>\n",
              "      <td>Partly cloudy</td>\n",
              "      <td>6.8</td>\n",
              "      <td>140.0</td>\n",
              "      <td>1013.0</td>\n",
              "      <td>1.5</td>\n",
              "      <td>70.0</td>\n",
              "      <td>25.0</td>\n",
              "      <td>31.6</td>\n",
              "      <td>10.0</td>\n",
              "      <td>5.0</td>\n",
              "      <td>5.0</td>\n",
              "      <td>0</td>\n",
              "      <td>0.0</td>\n",
              "    </tr>\n",
              "    <tr>\n",
              "      <th>1</th>\n",
              "      <td>Beijing</td>\n",
              "      <td>18.6</td>\n",
              "      <td>1.0</td>\n",
              "      <td>Partly cloudy</td>\n",
              "      <td>6.5</td>\n",
              "      <td>2.0</td>\n",
              "      <td>1011.0</td>\n",
              "      <td>0.0</td>\n",
              "      <td>62.0</td>\n",
              "      <td>9.0</td>\n",
              "      <td>18.6</td>\n",
              "      <td>10.0</td>\n",
              "      <td>5.0</td>\n",
              "      <td>11.9</td>\n",
              "      <td>0</td>\n",
              "      <td>0.0</td>\n",
              "    </tr>\n",
              "    <tr>\n",
              "      <th>2</th>\n",
              "      <td>Beijing</td>\n",
              "      <td>21.0</td>\n",
              "      <td>1.0</td>\n",
              "      <td>Light rain</td>\n",
              "      <td>19.1</td>\n",
              "      <td>280.0</td>\n",
              "      <td>1015.0</td>\n",
              "      <td>0.0</td>\n",
              "      <td>73.0</td>\n",
              "      <td>0.0</td>\n",
              "      <td>21.0</td>\n",
              "      <td>10.0</td>\n",
              "      <td>6.0</td>\n",
              "      <td>8.6</td>\n",
              "      <td>1</td>\n",
              "      <td>0.0</td>\n",
              "    </tr>\n",
              "    <tr>\n",
              "      <th>3</th>\n",
              "      <td>Beijing</td>\n",
              "      <td>21.0</td>\n",
              "      <td>1.0</td>\n",
              "      <td>Light rain</td>\n",
              "      <td>19.1</td>\n",
              "      <td>280.0</td>\n",
              "      <td>1015.0</td>\n",
              "      <td>0.0</td>\n",
              "      <td>73.0</td>\n",
              "      <td>0.0</td>\n",
              "      <td>21.0</td>\n",
              "      <td>10.0</td>\n",
              "      <td>6.0</td>\n",
              "      <td>8.6</td>\n",
              "      <td>1</td>\n",
              "      <td>0.0</td>\n",
              "    </tr>\n",
              "    <tr>\n",
              "      <th>4</th>\n",
              "      <td>Beijing</td>\n",
              "      <td>21.0</td>\n",
              "      <td>0.0</td>\n",
              "      <td>Clear</td>\n",
              "      <td>0.0</td>\n",
              "      <td>221.0</td>\n",
              "      <td>1012.0</td>\n",
              "      <td>0.3</td>\n",
              "      <td>83.0</td>\n",
              "      <td>0.0</td>\n",
              "      <td>21.0</td>\n",
              "      <td>10.0</td>\n",
              "      <td>5.0</td>\n",
              "      <td>9.7</td>\n",
              "      <td>0</td>\n",
              "      <td>0.0</td>\n",
              "    </tr>\n",
              "  </tbody>\n",
              "</table>\n",
              "</div>\n",
              "      <button class=\"colab-df-convert\" onclick=\"convertToInteractive('df-e73f1bfe-6b9f-4b6b-a586-4bd8aff96dce')\"\n",
              "              title=\"Convert this dataframe to an interactive table.\"\n",
              "              style=\"display:none;\">\n",
              "        \n",
              "  <svg xmlns=\"http://www.w3.org/2000/svg\" height=\"24px\"viewBox=\"0 0 24 24\"\n",
              "       width=\"24px\">\n",
              "    <path d=\"M0 0h24v24H0V0z\" fill=\"none\"/>\n",
              "    <path d=\"M18.56 5.44l.94 2.06.94-2.06 2.06-.94-2.06-.94-.94-2.06-.94 2.06-2.06.94zm-11 1L8.5 8.5l.94-2.06 2.06-.94-2.06-.94L8.5 2.5l-.94 2.06-2.06.94zm10 10l.94 2.06.94-2.06 2.06-.94-2.06-.94-.94-2.06-.94 2.06-2.06.94z\"/><path d=\"M17.41 7.96l-1.37-1.37c-.4-.4-.92-.59-1.43-.59-.52 0-1.04.2-1.43.59L10.3 9.45l-7.72 7.72c-.78.78-.78 2.05 0 2.83L4 21.41c.39.39.9.59 1.41.59.51 0 1.02-.2 1.41-.59l7.78-7.78 2.81-2.81c.8-.78.8-2.07 0-2.86zM5.41 20L4 18.59l7.72-7.72 1.47 1.35L5.41 20z\"/>\n",
              "  </svg>\n",
              "      </button>\n",
              "      \n",
              "  <style>\n",
              "    .colab-df-container {\n",
              "      display:flex;\n",
              "      flex-wrap:wrap;\n",
              "      gap: 12px;\n",
              "    }\n",
              "\n",
              "    .colab-df-convert {\n",
              "      background-color: #E8F0FE;\n",
              "      border: none;\n",
              "      border-radius: 50%;\n",
              "      cursor: pointer;\n",
              "      display: none;\n",
              "      fill: #1967D2;\n",
              "      height: 32px;\n",
              "      padding: 0 0 0 0;\n",
              "      width: 32px;\n",
              "    }\n",
              "\n",
              "    .colab-df-convert:hover {\n",
              "      background-color: #E2EBFA;\n",
              "      box-shadow: 0px 1px 2px rgba(60, 64, 67, 0.3), 0px 1px 3px 1px rgba(60, 64, 67, 0.15);\n",
              "      fill: #174EA6;\n",
              "    }\n",
              "\n",
              "    [theme=dark] .colab-df-convert {\n",
              "      background-color: #3B4455;\n",
              "      fill: #D2E3FC;\n",
              "    }\n",
              "\n",
              "    [theme=dark] .colab-df-convert:hover {\n",
              "      background-color: #434B5C;\n",
              "      box-shadow: 0px 1px 3px 1px rgba(0, 0, 0, 0.15);\n",
              "      filter: drop-shadow(0px 1px 2px rgba(0, 0, 0, 0.3));\n",
              "      fill: #FFFFFF;\n",
              "    }\n",
              "  </style>\n",
              "\n",
              "      <script>\n",
              "        const buttonEl =\n",
              "          document.querySelector('#df-e73f1bfe-6b9f-4b6b-a586-4bd8aff96dce button.colab-df-convert');\n",
              "        buttonEl.style.display =\n",
              "          google.colab.kernel.accessAllowed ? 'block' : 'none';\n",
              "\n",
              "        async function convertToInteractive(key) {\n",
              "          const element = document.querySelector('#df-e73f1bfe-6b9f-4b6b-a586-4bd8aff96dce');\n",
              "          const dataTable =\n",
              "            await google.colab.kernel.invokeFunction('convertToInteractive',\n",
              "                                                     [key], {});\n",
              "          if (!dataTable) return;\n",
              "\n",
              "          const docLinkHtml = 'Like what you see? Visit the ' +\n",
              "            '<a target=\"_blank\" href=https://colab.research.google.com/notebooks/data_table.ipynb>data table notebook</a>'\n",
              "            + ' to learn more about interactive tables.';\n",
              "          element.innerHTML = '';\n",
              "          dataTable['output_type'] = 'display_data';\n",
              "          await google.colab.output.renderOutput(dataTable, element);\n",
              "          const docLink = document.createElement('div');\n",
              "          docLink.innerHTML = docLinkHtml;\n",
              "          element.appendChild(docLink);\n",
              "        }\n",
              "      </script>\n",
              "    </div>\n",
              "  </div>\n",
              "  "
            ],
            "text/plain": [
              "      city  temp_c  is_day      condition  ...   uv  gust_kph  target  target_1\n",
              "0  Beijing    27.0     1.0  Partly cloudy  ...  5.0       5.0       0       0.0\n",
              "1  Beijing    18.6     1.0  Partly cloudy  ...  5.0      11.9       0       0.0\n",
              "2  Beijing    21.0     1.0     Light rain  ...  6.0       8.6       1       0.0\n",
              "3  Beijing    21.0     1.0     Light rain  ...  6.0       8.6       1       0.0\n",
              "4  Beijing    21.0     0.0          Clear  ...  5.0       9.7       0       0.0\n",
              "\n",
              "[5 rows x 16 columns]"
            ]
          },
          "metadata": {},
          "execution_count": 125
        }
      ]
    },
    {
      "cell_type": "code",
      "source": [
        ""
      ],
      "metadata": {
        "id": "29yUotKd1wGa"
      },
      "execution_count": null,
      "outputs": []
    }
  ]
}