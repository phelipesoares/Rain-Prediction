{
 "cells": [
  {
   "cell_type": "code",
   "execution_count": 2,
   "metadata": {},
   "outputs": [
    {
     "name": "stdout",
     "output_type": "stream",
     "text": [
      "Loaded 10692 rows.\n"
     ]
    }
   ],
   "source": [
    "from google.cloud import bigquery\n",
    "import os\n",
    "\n",
    "try:\n",
    "    bq_client = bigquery.Client()\n",
    "except:\n",
    "    os.environ[\"GOOGLE_APPLICATION_CREDENTIALS\"]=r\"C:\\Users\\Phelipe\\Downloads\\Weather Project-6fa8e059f642.json\"\n",
    "    bq_client = bigquery.Client()\n",
    "\n",
    "table_id='Daily_Weather.predictions'\n",
    "\n",
    "# TODO(developer): Set table_id to the ID of the table to create.\n",
    "# table_id = \"your-project.your_dataset.your_table_name\"\n",
    "\n",
    "job_config = bigquery.LoadJobConfig(\n",
    "    source_format=bigquery.SourceFormat.PARQUET,\n",
    ")\n",
    "uri = \"gs://weather_prediction_files/predictions/*.parquet\"\n",
    "\n",
    "load_job = bq_client.load_table_from_uri(\n",
    "    uri, table_id, job_config=job_config\n",
    ")  # Make an API request.\n",
    "\n",
    "load_job.result()  # Waits for the job to complete.\n",
    "\n",
    "destination_table = bq_client.get_table(table_id)\n",
    "print(\"Loaded {} rows.\".format(destination_table.num_rows))"
   ]
  },
  {
   "cell_type": "code",
   "execution_count": 1,
   "metadata": {},
   "outputs": [
    {
     "name": "stdout",
     "output_type": "stream",
     "text": [
      "Loaded 14060 rows.\n"
     ]
    }
   ],
   "source": [
    "from google.cloud import bigquery\n",
    "import os\n",
    "\n",
    "try:\n",
    "    bq_client = bigquery.Client()\n",
    "except:\n",
    "    os.environ[\"GOOGLE_APPLICATION_CREDENTIALS\"]=r\"C:\\Users\\Phelipe\\Downloads\\Weather Project-6fa8e059f642.json\"\n",
    "    bq_client = bigquery.Client()\n",
    "\n",
    "table_id='Daily_Weather.fact_weather'\n",
    "\n",
    "# TODO(developer): Set table_id to the ID of the table to create.\n",
    "# table_id = \"your-project.your_dataset.your_table_name\"\n",
    "\n",
    "job_config = bigquery.LoadJobConfig(\n",
    "    source_format=bigquery.SourceFormat.PARQUET,\n",
    ")\n",
    "uri = \"gs://data_injection_bucket/weather_api_files/*.parquet\"\n",
    "\n",
    "load_job = bq_client.load_table_from_uri(\n",
    "    uri, table_id, job_config=job_config\n",
    ")  # Make an API request.\n",
    "\n",
    "load_job.result()  # Waits for the job to complete.\n",
    "\n",
    "destination_table = bq_client.get_table(table_id)\n",
    "print(\"Loaded {} rows.\".format(destination_table.num_rows))"
   ]
  }
 ],
 "metadata": {
  "interpreter": {
   "hash": "87f46f4a8b6e510054a5153d92a2d085b1bc495da4ddf85c2ca8d5cdc1bfda35"
  },
  "kernelspec": {
   "display_name": "Python 3.10.4 64-bit",
   "language": "python",
   "name": "python3"
  },
  "language_info": {
   "codemirror_mode": {
    "name": "ipython",
    "version": 3
   },
   "file_extension": ".py",
   "mimetype": "text/x-python",
   "name": "python",
   "nbconvert_exporter": "python",
   "pygments_lexer": "ipython3",
   "version": "3.10.4"
  },
  "orig_nbformat": 4
 },
 "nbformat": 4,
 "nbformat_minor": 2
}
