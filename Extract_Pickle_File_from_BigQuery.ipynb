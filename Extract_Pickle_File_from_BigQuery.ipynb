{
  "nbformat": 4,
  "nbformat_minor": 0,
  "metadata": {
    "colab": {
      "name": "Extract Pickle File from BigQuery.ipynb",
      "provenance": [],
      "collapsed_sections": [],
      "mount_file_id": "1MvyhD2h--JaLsCbiI1jj5utzJmOI_5n0",
      "authorship_tag": "ABX9TyOhrMSHtFJ6zSTXLJmADhDd",
      "include_colab_link": true
    },
    "kernelspec": {
      "name": "python3",
      "display_name": "Python 3"
    },
    "language_info": {
      "name": "python"
    }
  },
  "cells": [
    {
      "cell_type": "markdown",
      "metadata": {
        "id": "view-in-github",
        "colab_type": "text"
      },
      "source": [
        "<a href=\"https://colab.research.google.com/github/phelipe-sb/Rain-Prediction/blob/main/Extract_Pickle_File_from_BigQuery.ipynb\" target=\"_parent\"><img src=\"https://colab.research.google.com/assets/colab-badge.svg\" alt=\"Open In Colab\"/></a>"
      ]
    },
    {
      "cell_type": "code",
      "metadata": {
        "id": "ib7vkqvLlH4y"
      },
      "source": [
        "from google.cloud import bigquery\n",
        "from google.oauth2 import service_account"
      ],
      "execution_count": 5,
      "outputs": []
    },
    {
      "cell_type": "code",
      "metadata": {
        "id": "TSEUrGL1l3Jv"
      },
      "source": [
        "path = '/content/drive/MyDrive/Weather_Project/Weather Project-6fa8e059f642.json'"
      ],
      "execution_count": 3,
      "outputs": []
    },
    {
      "cell_type": "code",
      "metadata": {
        "id": "VoshDZOHlQuc"
      },
      "source": [
        "credentials = service_account.Credentials.from_service_account_file(path)\n",
        "project_id = credentials.project_id\n",
        "client = bigquery.Client(project=project_id, credentials=credentials)"
      ],
      "execution_count": 6,
      "outputs": []
    },
    {
      "cell_type": "code",
      "metadata": {
        "id": "ur7VpbzUk4cY"
      },
      "source": [
        "query_string = \"\"\"\n",
        "SELECT *\n",
        "FROM (SELECT *\n",
        "            , ROW_NUMBER() OVER(PARTITION BY last_updated, city ORDER BY last_updated, city) AS row_num\n",
        "            FROM `weather-project-305419.Daily_Weather.Weather-Info`) as row_weather\n",
        "WHERE row_num = 1\n",
        "\"\"\""
      ],
      "execution_count": 7,
      "outputs": []
    },
    {
      "cell_type": "code",
      "metadata": {
        "colab": {
          "base_uri": "https://localhost:8080/"
        },
        "id": "Qpob5wiimrFM",
        "outputId": "8f9dea69-2e9d-4bdf-dfe5-4d6a4375072f"
      },
      "source": [
        "df = (\n",
        "    client.query(query_string)\n",
        "    .result()\n",
        "    .to_dataframe()\n",
        ")\n",
        "df.head()"
      ],
      "execution_count": 10,
      "outputs": [
        {
          "output_type": "stream",
          "name": "stdout",
          "text": [
            "  last_updated_epoch      last_updated  ... extraction_date row_num\n",
            "0         1619163900  2021-04-23 03:45  ...            None       1\n",
            "1         1619160300  2021-04-23 07:45  ...            None       1\n",
            "2         1619247600  2021-04-24 04:00  ...            None       1\n",
            "3         1619263800  2021-04-24 07:30  ...            None       1\n",
            "4         1619272800  2021-04-24 10:00  ...            None       1\n",
            "\n",
            "[5 rows x 26 columns]\n"
          ]
        }
      ]
    },
    {
      "cell_type": "code",
      "metadata": {
        "id": "yrojat6snPSX"
      },
      "source": [
        "df = df.drop(columns=['row_num', 'last_updated_epoch', 'extraction_date'])"
      ],
      "execution_count": 13,
      "outputs": []
    },
    {
      "cell_type": "code",
      "metadata": {
        "colab": {
          "base_uri": "https://localhost:8080/"
        },
        "id": "fsKlsdDdoiNo",
        "outputId": "c204cb78-2fbb-45dc-e0ee-8995a24e2913"
      },
      "source": [
        "df.shape"
      ],
      "execution_count": 16,
      "outputs": [
        {
          "output_type": "execute_result",
          "data": {
            "text/plain": [
              "(39910, 23)"
            ]
          },
          "metadata": {},
          "execution_count": 16
        }
      ]
    },
    {
      "cell_type": "code",
      "metadata": {
        "id": "0fgu3JrLnwpz"
      },
      "source": [
        "import pickle\n",
        "df.to_pickle(\"weather_data_30-08-2021\")"
      ],
      "execution_count": 15,
      "outputs": []
    }
  ]
}