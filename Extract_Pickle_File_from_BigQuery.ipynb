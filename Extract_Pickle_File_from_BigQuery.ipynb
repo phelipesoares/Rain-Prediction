{
  "nbformat": 4,
  "nbformat_minor": 0,
  "metadata": {
    "colab": {
      "name": "Extract Pickle File from BigQuery.ipynb",
      "provenance": [],
      "collapsed_sections": [],
      "authorship_tag": "ABX9TyNWGkNb0qZvEyIb8ftFSX20",
      "include_colab_link": true
    },
    "kernelspec": {
      "name": "python3",
      "display_name": "Python 3"
    },
    "language_info": {
      "name": "python"
    }
  },
  "cells": [
    {
      "cell_type": "markdown",
      "metadata": {
        "id": "view-in-github",
        "colab_type": "text"
      },
      "source": [
        "<a href=\"https://colab.research.google.com/github/phelipe-sb/Rain-Prediction/blob/main/Extract_Pickle_File_from_BigQuery.ipynb\" target=\"_parent\"><img src=\"https://colab.research.google.com/assets/colab-badge.svg\" alt=\"Open In Colab\"/></a>"
      ]
    },
    {
      "cell_type": "markdown",
      "metadata": {
        "id": "unA2Dm3Dqult"
      },
      "source": [
        "### **1. Get Data from BigQuery**"
      ]
    },
    {
      "cell_type": "code",
      "metadata": {
        "id": "ib7vkqvLlH4y"
      },
      "source": [
        "from google.cloud import bigquery\n",
        "from google.oauth2 import service_account\n",
        "import numpy as np"
      ],
      "execution_count": null,
      "outputs": []
    },
    {
      "cell_type": "code",
      "metadata": {
        "id": "TSEUrGL1l3Jv"
      },
      "source": [
        "# Projett credentials with account service\n",
        "path = '/content/drive/MyDrive/Weather_Project/Weather Project-6fa8e059f642.json'"
      ],
      "execution_count": null,
      "outputs": []
    },
    {
      "cell_type": "code",
      "metadata": {
        "id": "VoshDZOHlQuc"
      },
      "source": [
        "# Credentials\n",
        "credentials = service_account.Credentials.from_service_account_file(path)\n",
        "project_id = credentials.project_id\n",
        "client = bigquery.Client(project=project_id, credentials=credentials)"
      ],
      "execution_count": null,
      "outputs": []
    },
    {
      "cell_type": "code",
      "metadata": {
        "id": "ur7VpbzUk4cY"
      },
      "source": [
        "# SQL Query that will run in BQ\n",
        "query_string = \"\"\"\n",
        "SELECT *\n",
        "FROM (SELECT *\n",
        "            , ROW_NUMBER() OVER(PARTITION BY last_updated, city ORDER BY last_updated, city) AS row_num\n",
        "            FROM `weather-project-305419.Daily_Weather.Weather-Info`) as row_weather\n",
        "WHERE row_num = 1\n",
        "\"\"\""
      ],
      "execution_count": null,
      "outputs": []
    },
    {
      "cell_type": "code",
      "metadata": {
        "colab": {
          "base_uri": "https://localhost:8080/"
        },
        "id": "Qpob5wiimrFM",
        "outputId": "8f9dea69-2e9d-4bdf-dfe5-4d6a4375072f"
      },
      "source": [
        "# Transform sql query results in a pandas dataframe\n",
        "df = (\n",
        "    client.query(query_string)\n",
        "    .result()\n",
        "    .to_dataframe()\n",
        ")\n",
        "df.head()"
      ],
      "execution_count": null,
      "outputs": [
        {
          "output_type": "stream",
          "name": "stdout",
          "text": [
            "  last_updated_epoch      last_updated  ... extraction_date row_num\n",
            "0         1619163900  2021-04-23 03:45  ...            None       1\n",
            "1         1619160300  2021-04-23 07:45  ...            None       1\n",
            "2         1619247600  2021-04-24 04:00  ...            None       1\n",
            "3         1619263800  2021-04-24 07:30  ...            None       1\n",
            "4         1619272800  2021-04-24 10:00  ...            None       1\n",
            "\n",
            "[5 rows x 26 columns]\n"
          ]
        }
      ]
    },
    {
      "cell_type": "code",
      "metadata": {
        "id": "yrojat6snPSX"
      },
      "source": [
        "# Drop useless columns for analysis\n",
        "df = df.drop(columns=['row_num', 'last_updated_epoch', 'extraction_date'])"
      ],
      "execution_count": null,
      "outputs": []
    },
    {
      "cell_type": "code",
      "metadata": {
        "colab": {
          "base_uri": "https://localhost:8080/"
        },
        "id": "fsKlsdDdoiNo",
        "outputId": "c204cb78-2fbb-45dc-e0ee-8995a24e2913"
      },
      "source": [
        "# number of rows and columns\n",
        "df.shape"
      ],
      "execution_count": null,
      "outputs": [
        {
          "output_type": "execute_result",
          "data": {
            "text/plain": [
              "(39910, 23)"
            ]
          },
          "metadata": {},
          "execution_count": 16
        }
      ]
    },
    {
      "cell_type": "code",
      "metadata": {
        "id": "0fgu3JrLnwpz"
      },
      "source": [
        "# Saving in a pickle file so we don't need query in database again\n",
        "import pickle\n",
        "df.to_pickle(\"weather_data_30-08-2021\")"
      ],
      "execution_count": null,
      "outputs": []
    },
    {
      "cell_type": "markdown",
      "metadata": {
        "id": "aNrh6276rIjL"
      },
      "source": [
        "### **2. Analysis/Transformations**"
      ]
    },
    {
      "cell_type": "code",
      "metadata": {
        "id": "3nKKszo2rUMq"
      },
      "source": [
        "# Open pickle file\n",
        "file = open('weather_data_30-08-2021', 'rb')\n",
        "df = pickle.load(file)"
      ],
      "execution_count": null,
      "outputs": []
    },
    {
      "cell_type": "code",
      "metadata": {
        "id": "5YYnR104sWGT"
      },
      "source": [
        "import seaborn as sns\n",
        "import matplotlib.pyplot as plt"
      ],
      "execution_count": null,
      "outputs": []
    },
    {
      "cell_type": "code",
      "metadata": {
        "colab": {
          "base_uri": "https://localhost:8080/"
        },
        "id": "C6qd17xDtV2Z",
        "outputId": "49c22303-dfc8-4db2-f584-046af1ada56a"
      },
      "source": [
        "# Target: Predict condition (that means wether is raining or not) \n",
        "df['condition'].unique()"
      ],
      "execution_count": null,
      "outputs": [
        {
          "output_type": "execute_result",
          "data": {
            "text/plain": [
              "array(['Overcast', 'Partly cloudy', 'Sunny', 'Light rain', 'Clear',\n",
              "       'Light rain shower', 'Mist', 'Patchy rain possible', 'Cloudy',\n",
              "       'Light drizzle', 'Thundery outbreaks possible', 'Heavy rain',\n",
              "       'Moderate rain', 'Fog', 'Patchy light rain with thunder',\n",
              "       'Moderate or heavy rain shower', 'Patchy light rain',\n",
              "       'Torrential rain shower', '1', 'Moderate rain at times',\n",
              "       'Light snow', 'Moderate or heavy rain with thunder',\n",
              "       'Moderate or heavy snow with thunder',\n",
              "       'Moderate or heavy snow showers'], dtype=object)"
            ]
          },
          "metadata": {},
          "execution_count": 8
        }
      ]
    },
    {
      "cell_type": "markdown",
      "metadata": {
        "id": "CFFD9XIGugi5"
      },
      "source": [
        "We need to resume this bunch of conditions and define our target class"
      ]
    },
    {
      "cell_type": "code",
      "metadata": {
        "id": "mU5t6p1mupkb"
      },
      "source": [
        "# This conditions means that it's raining in the moment\n",
        "raining_list = ['Light rain', 'Light rain shower', 'Light drizzle', 'Heavy rain', 'Moderate rain', 'Patchy light rain with thunder'\n",
        "            , 'Moderate or heavy rain shower', 'Patchy light rain', 'Torrential rain shower', 'Moderate rain at times'\n",
        "            , 'Moderate or heavy rain with thunder']"
      ],
      "execution_count": null,
      "outputs": []
    },
    {
      "cell_type": "code",
      "metadata": {
        "colab": {
          "base_uri": "https://localhost:8080/"
        },
        "id": "heg5yiubwMLQ",
        "outputId": "69a3f0d6-e769-4bf5-eae7-c823db04cf0e"
      },
      "source": [
        "# Creating the target variable\n",
        "df['target'] = df['condition'].apply(lambda x: 1 if x in raining_list else 0)"
      ],
      "execution_count": null,
      "outputs": [
        {
          "output_type": "execute_result",
          "data": {
            "text/plain": [
              "array([0, 1])"
            ]
          },
          "metadata": {},
          "execution_count": 11
        }
      ]
    },
    {
      "cell_type": "code",
      "metadata": {
        "colab": {
          "base_uri": "https://localhost:8080/"
        },
        "id": "NGYN-O4y6pSU",
        "outputId": "28492362-19e7-420a-852e-edd1e84e72f8"
      },
      "source": [
        "df.info()"
      ],
      "execution_count": null,
      "outputs": [
        {
          "output_type": "stream",
          "name": "stdout",
          "text": [
            "<class 'pandas.core.frame.DataFrame'>\n",
            "RangeIndex: 39910 entries, 0 to 39909\n",
            "Data columns (total 24 columns):\n",
            " #   Column        Non-Null Count  Dtype \n",
            "---  ------        --------------  ----- \n",
            " 0   last_updated  39910 non-null  object\n",
            " 1   temp_c        39910 non-null  object\n",
            " 2   temp_f        39910 non-null  object\n",
            " 3   is_day        39910 non-null  object\n",
            " 4   condition     39910 non-null  object\n",
            " 5   wind_mph      39910 non-null  object\n",
            " 6   wind_kph      39910 non-null  object\n",
            " 7   wind_degree   39910 non-null  object\n",
            " 8   wind_dir      39910 non-null  object\n",
            " 9   pressure_mb   39910 non-null  object\n",
            " 10  pressure_in   39910 non-null  object\n",
            " 11  precip_mm     39910 non-null  object\n",
            " 12  precip_in     39910 non-null  object\n",
            " 13  humidity      39910 non-null  object\n",
            " 14  cloud         39910 non-null  object\n",
            " 15  feelslike_c   39910 non-null  object\n",
            " 16  feelslike_f   39910 non-null  object\n",
            " 17  vis_km        39910 non-null  object\n",
            " 18  vis_miles     39910 non-null  object\n",
            " 19  uv            39910 non-null  object\n",
            " 20  gust_mph      39910 non-null  object\n",
            " 21  gust_kph      39910 non-null  object\n",
            " 22  city          39784 non-null  object\n",
            " 23  target        39910 non-null  int64 \n",
            "dtypes: int64(1), object(23)\n",
            "memory usage: 7.3+ MB\n"
          ]
        }
      ]
    },
    {
      "cell_type": "code",
      "metadata": {
        "id": "Lep4_CRE6r32"
      },
      "source": [
        "# Create a list with columns to be converted\n",
        "float_list = list()\n",
        "for column_name in df.drop(columns='target').columns:\n",
        "  if str(df[f'{column_name}'][0]).replace(\".\", \"\").isnumeric() == True:\n",
        "    float_list.append(column_name)"
      ],
      "execution_count": null,
      "outputs": []
    },
    {
      "cell_type": "code",
      "metadata": {
        "id": "NyIMln6b-T7N"
      },
      "source": [
        "# function to convert columns to float\n",
        "def to_float(df):\n",
        "  for column in df.columns:\n",
        "    if column in float_list:\n",
        "      df[f'{column}'] = df[f'{column}'].astype(\"float\")\n",
        "  return df.info()"
      ],
      "execution_count": null,
      "outputs": []
    },
    {
      "cell_type": "code",
      "metadata": {
        "colab": {
          "base_uri": "https://localhost:8080/"
        },
        "id": "qLQngUnK_SyD",
        "outputId": "3ef798f7-7f5f-4e5e-86f4-35507eea3f70"
      },
      "source": [
        "to_float(df)"
      ],
      "execution_count": null,
      "outputs": [
        {
          "output_type": "stream",
          "name": "stdout",
          "text": [
            "<class 'pandas.core.frame.DataFrame'>\n",
            "RangeIndex: 39910 entries, 0 to 39909\n",
            "Data columns (total 24 columns):\n",
            " #   Column        Non-Null Count  Dtype  \n",
            "---  ------        --------------  -----  \n",
            " 0   last_updated  39910 non-null  object \n",
            " 1   temp_c        39910 non-null  float64\n",
            " 2   temp_f        39910 non-null  float64\n",
            " 3   is_day        39910 non-null  float64\n",
            " 4   condition     39910 non-null  object \n",
            " 5   wind_mph      39910 non-null  float64\n",
            " 6   wind_kph      39910 non-null  float64\n",
            " 7   wind_degree   39910 non-null  float64\n",
            " 8   wind_dir      39910 non-null  object \n",
            " 9   pressure_mb   39910 non-null  float64\n",
            " 10  pressure_in   39910 non-null  float64\n",
            " 11  precip_mm     39910 non-null  float64\n",
            " 12  precip_in     39910 non-null  float64\n",
            " 13  humidity      39910 non-null  float64\n",
            " 14  cloud         39910 non-null  float64\n",
            " 15  feelslike_c   39910 non-null  float64\n",
            " 16  feelslike_f   39910 non-null  float64\n",
            " 17  vis_km        39910 non-null  float64\n",
            " 18  vis_miles     39910 non-null  float64\n",
            " 19  uv            39910 non-null  float64\n",
            " 20  gust_mph      39910 non-null  float64\n",
            " 21  gust_kph      39910 non-null  float64\n",
            " 22  city          39784 non-null  object \n",
            " 23  target        39910 non-null  int64  \n",
            "dtypes: float64(19), int64(1), object(4)\n",
            "memory usage: 7.3+ MB\n"
          ]
        }
      ]
    },
    {
      "cell_type": "code",
      "metadata": {
        "colab": {
          "base_uri": "https://localhost:8080/",
          "height": 313
        },
        "id": "FgablHw9w5s-",
        "outputId": "095963d5-d03b-44e3-9f0d-e90106d28b23"
      },
      "source": [
        "# Target Variable Ocurrency\n",
        "percent = str(round(sum(df['target'])/len(df['target']), 1)*100) + '%'\n",
        "print(f'percentage of target == 1 is: {percent}')\n",
        "sns.histplot(data=df['target'])"
      ],
      "execution_count": null,
      "outputs": [
        {
          "output_type": "stream",
          "name": "stdout",
          "text": [
            "percentage of target == 1 is: 10.0%\n"
          ]
        },
        {
          "output_type": "execute_result",
          "data": {
            "text/plain": [
              "<matplotlib.axes._subplots.AxesSubplot at 0x7fddf2ff3fd0>"
            ]
          },
          "metadata": {},
          "execution_count": 24
        },
        {
          "output_type": "display_data",
          "data": {
            "image/png": "[encoded data removed]",
            "text/plain": [
              "<Figure size 432x288 with 1 Axes>"
            ]
          },
          "metadata": {
            "needs_background": "light"
          }
        }
      ]
    },
    {
      "cell_type": "code",
      "metadata": {
        "colab": {
          "base_uri": "https://localhost:8080/",
          "height": 386
        },
        "id": "ZvXZugBGxkLp",
        "outputId": "f33c35fa-8272-42d2-de1f-63732febc694"
      },
      "source": [
        "sns.displot(x=df['is_day'], col=df['target'])"
      ],
      "execution_count": null,
      "outputs": [
        {
          "output_type": "execute_result",
          "data": {
            "text/plain": [
              "<seaborn.axisgrid.FacetGrid at 0x7fddf2817290>"
            ]
          },
          "metadata": {},
          "execution_count": 56
        },
        {
          "output_type": "display_data",
          "data": {
            "image/png": "[encoded data removed]",
            "text/plain": [
              "<Figure size 720x360 with 2 Axes>"
            ]
          },
          "metadata": {
            "needs_background": "light"
          }
        }
      ]
    },
    {
      "cell_type": "code",
      "metadata": {
        "colab": {
          "base_uri": "https://localhost:8080/",
          "height": 296
        },
        "id": "ofjyyMAH3Z3a",
        "outputId": "d22b7800-8355-40b4-9301-d97246228d4f"
      },
      "source": [
        "sns.countplot(x=df['city'], hue=df['target'])"
      ],
      "execution_count": null,
      "outputs": [
        {
          "output_type": "execute_result",
          "data": {
            "text/plain": [
              "<matplotlib.axes._subplots.AxesSubplot at 0x7fdde98c7750>"
            ]
          },
          "metadata": {},
          "execution_count": 83
        },
        {
          "output_type": "display_data",
          "data": {
            "image/png": "[encoded data removed]",
            "text/plain": [
              "<Figure size 432x288 with 1 Axes>"
            ]
          },
          "metadata": {
            "needs_background": "light"
          }
        }
      ]
    },
    {
      "cell_type": "code",
      "metadata": {
        "colab": {
          "base_uri": "https://localhost:8080/"
        },
        "id": "BR5U93VN6jTT",
        "outputId": "19548c32-9aed-4001-f950-c1d5ef311be0"
      },
      "source": [
        "df.info()"
      ],
      "execution_count": null,
      "outputs": [
        {
          "output_type": "stream",
          "name": "stdout",
          "text": [
            "<class 'pandas.core.frame.DataFrame'>\n",
            "RangeIndex: 39910 entries, 0 to 39909\n",
            "Data columns (total 24 columns):\n",
            " #   Column        Non-Null Count  Dtype \n",
            "---  ------        --------------  ----- \n",
            " 0   last_updated  39910 non-null  object\n",
            " 1   temp_c        39910 non-null  object\n",
            " 2   temp_f        39910 non-null  object\n",
            " 3   is_day        39910 non-null  object\n",
            " 4   condition     39910 non-null  object\n",
            " 5   wind_mph      39910 non-null  object\n",
            " 6   wind_kph      39910 non-null  object\n",
            " 7   wind_degree   39910 non-null  object\n",
            " 8   wind_dir      39910 non-null  object\n",
            " 9   pressure_mb   39910 non-null  object\n",
            " 10  pressure_in   39910 non-null  object\n",
            " 11  precip_mm     39910 non-null  object\n",
            " 12  precip_in     39910 non-null  object\n",
            " 13  humidity      39910 non-null  object\n",
            " 14  cloud         39910 non-null  object\n",
            " 15  feelslike_c   39910 non-null  object\n",
            " 16  feelslike_f   39910 non-null  object\n",
            " 17  vis_km        39910 non-null  object\n",
            " 18  vis_miles     39910 non-null  object\n",
            " 19  uv            39910 non-null  object\n",
            " 20  gust_mph      39910 non-null  object\n",
            " 21  gust_kph      39910 non-null  object\n",
            " 22  city          39784 non-null  object\n",
            " 23  target        39910 non-null  int64 \n",
            "dtypes: int64(1), object(23)\n",
            "memory usage: 7.3+ MB\n"
          ]
        }
      ]
    },
    {
      "cell_type": "code",
      "metadata": {
        "colab": {
          "base_uri": "https://localhost:8080/",
          "height": 386
        },
        "id": "6hvq2UTs6L9q",
        "outputId": "57bac10c-3e87-47fe-f388-cfe164bd02d1"
      },
      "source": [
        "sns.displot(x=df['cloud'], col=df['target'])"
      ],
      "execution_count": null,
      "outputs": [
        {
          "output_type": "execute_result",
          "data": {
            "text/plain": [
              "<seaborn.axisgrid.FacetGrid at 0x7fdde9161c10>"
            ]
          },
          "metadata": {},
          "execution_count": 124
        },
        {
          "output_type": "display_data",
          "data": {
            "image/png": "[encoded data removed]",
            "text/plain": [
              "<Figure size 720x360 with 2 Axes>"
            ]
          },
          "metadata": {
            "needs_background": "light"
          }
        }
      ]
    },
    {
      "cell_type": "code",
      "metadata": {
        "id": "d5lRzf6qAEKD"
      },
      "source": [
        ""
      ],
      "execution_count": null,
      "outputs": []
    }
  ]
}