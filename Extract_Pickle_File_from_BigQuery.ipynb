{
  "nbformat": 4,
  "nbformat_minor": 0,
  "metadata": {
    "colab": {
      "name": "Extract Pickle File from BigQuery.ipynb",
      "provenance": [],
      "collapsed_sections": [],
      "authorship_tag": "ABX9TyMXtCV0Id/jmU8DAKRdNnIJ",
      "include_colab_link": true
    },
    "kernelspec": {
      "name": "python3",
      "display_name": "Python 3"
    },
    "language_info": {
      "name": "python"
    }
  },
  "cells": [
    {
      "cell_type": "markdown",
      "metadata": {
        "id": "view-in-github",
        "colab_type": "text"
      },
      "source": [
        "<a href=\"https://colab.research.google.com/github/phelipe-sb/Rain-Prediction/blob/main/Extract_Pickle_File_from_BigQuery.ipynb\" target=\"_parent\"><img src=\"https://colab.research.google.com/assets/colab-badge.svg\" alt=\"Open In Colab\"/></a>"
      ]
    },
    {
      "cell_type": "markdown",
      "metadata": {
        "id": "unA2Dm3Dqult"
      },
      "source": [
        "### **1. Get Data from BigQuery**"
      ]
    },
    {
      "cell_type": "code",
      "metadata": {
        "id": "ib7vkqvLlH4y"
      },
      "source": [
        "from google.cloud import bigquery\n",
        "from google.oauth2 import service_account\n",
        "import numpy as np\n",
        "import pandas as pd"
      ],
      "execution_count": 1,
      "outputs": []
    },
    {
      "cell_type": "code",
      "metadata": {
        "id": "TSEUrGL1l3Jv"
      },
      "source": [
        "# Projett credentials with account service\n",
        "path = '/content/Weather Project-6fa8e059f642.json'"
      ],
      "execution_count": 2,
      "outputs": []
    },
    {
      "cell_type": "code",
      "metadata": {
        "id": "VoshDZOHlQuc"
      },
      "source": [
        "# Credentials\n",
        "credentials = service_account.Credentials.from_service_account_file(path)\n",
        "project_id = credentials.project_id\n",
        "client = bigquery.Client(project=project_id, credentials=credentials)"
      ],
      "execution_count": 3,
      "outputs": []
    },
    {
      "cell_type": "code",
      "metadata": {
        "id": "ur7VpbzUk4cY"
      },
      "source": [
        "# SQL Query that will run in BQ\n",
        "query_string = \"\"\"\n",
        "SELECT *\n",
        "FROM (SELECT *\n",
        "            , ROW_NUMBER() OVER(PARTITION BY last_updated, city ORDER BY last_updated, city) AS row_num\n",
        "            FROM `weather-project-305419.Daily_Weather.Weather-Info`) as row_weather\n",
        "WHERE row_num = 1\n",
        "\"\"\""
      ],
      "execution_count": 4,
      "outputs": []
    },
    {
      "cell_type": "code",
      "metadata": {
        "colab": {
          "base_uri": "https://localhost:8080/",
          "height": 307
        },
        "id": "Qpob5wiimrFM",
        "outputId": "4d6b3af0-199a-418d-cb38-e61393ef2115"
      },
      "source": [
        "# Transform sql query results in a pandas dataframe\n",
        "df = (\n",
        "    client.query(query_string)\n",
        "    .result()\n",
        "    .to_dataframe()\n",
        ")\n",
        "df.head()"
      ],
      "execution_count": 5,
      "outputs": [
        {
          "output_type": "execute_result",
          "data": {
            "text/html": [
              "<div>\n",
              "<style scoped>\n",
              "    .dataframe tbody tr th:only-of-type {\n",
              "        vertical-align: middle;\n",
              "    }\n",
              "\n",
              "    .dataframe tbody tr th {\n",
              "        vertical-align: top;\n",
              "    }\n",
              "\n",
              "    .dataframe thead th {\n",
              "        text-align: right;\n",
              "    }\n",
              "</style>\n",
              "<table border=\"1\" class=\"dataframe\">\n",
              "  <thead>\n",
              "    <tr style=\"text-align: right;\">\n",
              "      <th></th>\n",
              "      <th>last_updated_epoch</th>\n",
              "      <th>last_updated</th>\n",
              "      <th>temp_c</th>\n",
              "      <th>temp_f</th>\n",
              "      <th>is_day</th>\n",
              "      <th>condition</th>\n",
              "      <th>wind_mph</th>\n",
              "      <th>wind_kph</th>\n",
              "      <th>wind_degree</th>\n",
              "      <th>wind_dir</th>\n",
              "      <th>pressure_mb</th>\n",
              "      <th>pressure_in</th>\n",
              "      <th>precip_mm</th>\n",
              "      <th>precip_in</th>\n",
              "      <th>humidity</th>\n",
              "      <th>cloud</th>\n",
              "      <th>feelslike_c</th>\n",
              "      <th>feelslike_f</th>\n",
              "      <th>vis_km</th>\n",
              "      <th>vis_miles</th>\n",
              "      <th>uv</th>\n",
              "      <th>gust_mph</th>\n",
              "      <th>gust_kph</th>\n",
              "      <th>city</th>\n",
              "      <th>extraction_date</th>\n",
              "      <th>row_num</th>\n",
              "    </tr>\n",
              "  </thead>\n",
              "  <tbody>\n",
              "    <tr>\n",
              "      <th>0</th>\n",
              "      <td>1619146800</td>\n",
              "      <td>2021-04-23 00:00</td>\n",
              "      <td>16.4</td>\n",
              "      <td>61.5</td>\n",
              "      <td>0</td>\n",
              "      <td>Partly cloudy</td>\n",
              "      <td>4.9</td>\n",
              "      <td>7.9</td>\n",
              "      <td>134</td>\n",
              "      <td>SE</td>\n",
              "      <td>1018.0</td>\n",
              "      <td>30.5</td>\n",
              "      <td>0.0</td>\n",
              "      <td>0.0</td>\n",
              "      <td>88</td>\n",
              "      <td>60</td>\n",
              "      <td>16.4</td>\n",
              "      <td>61.5</td>\n",
              "      <td>10.0</td>\n",
              "      <td>6.0</td>\n",
              "      <td>1.0</td>\n",
              "      <td>5.6</td>\n",
              "      <td>9.0</td>\n",
              "      <td>Sao Paulo</td>\n",
              "      <td>None</td>\n",
              "      <td>1</td>\n",
              "    </tr>\n",
              "    <tr>\n",
              "      <th>1</th>\n",
              "      <td>1619152200</td>\n",
              "      <td>2021-04-23 05:30</td>\n",
              "      <td>4.0</td>\n",
              "      <td>39.2</td>\n",
              "      <td>0</td>\n",
              "      <td>Clear</td>\n",
              "      <td>0.0</td>\n",
              "      <td>0.0</td>\n",
              "      <td>75</td>\n",
              "      <td>ENE</td>\n",
              "      <td>1029.0</td>\n",
              "      <td>30.9</td>\n",
              "      <td>0.0</td>\n",
              "      <td>0.0</td>\n",
              "      <td>87</td>\n",
              "      <td>0</td>\n",
              "      <td>2.2</td>\n",
              "      <td>35.9</td>\n",
              "      <td>10.0</td>\n",
              "      <td>6.0</td>\n",
              "      <td>1.0</td>\n",
              "      <td>5.1</td>\n",
              "      <td>8.3</td>\n",
              "      <td>London</td>\n",
              "      <td>None</td>\n",
              "      <td>1</td>\n",
              "    </tr>\n",
              "    <tr>\n",
              "      <th>2</th>\n",
              "      <td>1619244000</td>\n",
              "      <td>2021-04-24 07:00</td>\n",
              "      <td>7.1</td>\n",
              "      <td>44.8</td>\n",
              "      <td>1</td>\n",
              "      <td>Partly cloudy</td>\n",
              "      <td>6.5</td>\n",
              "      <td>10.4</td>\n",
              "      <td>71</td>\n",
              "      <td>ENE</td>\n",
              "      <td>1028.0</td>\n",
              "      <td>30.8</td>\n",
              "      <td>0.0</td>\n",
              "      <td>0.0</td>\n",
              "      <td>80</td>\n",
              "      <td>22</td>\n",
              "      <td>5.1</td>\n",
              "      <td>41.2</td>\n",
              "      <td>10.0</td>\n",
              "      <td>6.0</td>\n",
              "      <td>1.0</td>\n",
              "      <td>8.9</td>\n",
              "      <td>14.4</td>\n",
              "      <td>London</td>\n",
              "      <td>None</td>\n",
              "      <td>1</td>\n",
              "    </tr>\n",
              "    <tr>\n",
              "      <th>3</th>\n",
              "      <td>1619308800</td>\n",
              "      <td>2021-04-24 21:00</td>\n",
              "      <td>25.1</td>\n",
              "      <td>77.2</td>\n",
              "      <td>0</td>\n",
              "      <td>Partly cloudy</td>\n",
              "      <td>2.7</td>\n",
              "      <td>4.3</td>\n",
              "      <td>208</td>\n",
              "      <td>SSW</td>\n",
              "      <td>1013.0</td>\n",
              "      <td>30.4</td>\n",
              "      <td>0.0</td>\n",
              "      <td>0.0</td>\n",
              "      <td>66</td>\n",
              "      <td>16</td>\n",
              "      <td>27.1</td>\n",
              "      <td>80.8</td>\n",
              "      <td>10.0</td>\n",
              "      <td>6.0</td>\n",
              "      <td>1.0</td>\n",
              "      <td>4.3</td>\n",
              "      <td>6.8</td>\n",
              "      <td>Carapicuiba</td>\n",
              "      <td>None</td>\n",
              "      <td>1</td>\n",
              "    </tr>\n",
              "    <tr>\n",
              "      <th>4</th>\n",
              "      <td>1619328600</td>\n",
              "      <td>2021-04-25 02:30</td>\n",
              "      <td>20.1</td>\n",
              "      <td>68.2</td>\n",
              "      <td>0</td>\n",
              "      <td>Partly cloudy</td>\n",
              "      <td>2.2</td>\n",
              "      <td>3.6</td>\n",
              "      <td>52</td>\n",
              "      <td>NE</td>\n",
              "      <td>1014.0</td>\n",
              "      <td>30.4</td>\n",
              "      <td>0.0</td>\n",
              "      <td>0.0</td>\n",
              "      <td>89</td>\n",
              "      <td>17</td>\n",
              "      <td>20.1</td>\n",
              "      <td>68.2</td>\n",
              "      <td>10.0</td>\n",
              "      <td>6.0</td>\n",
              "      <td>1.0</td>\n",
              "      <td>2.5</td>\n",
              "      <td>4.0</td>\n",
              "      <td>Sao Paulo</td>\n",
              "      <td>None</td>\n",
              "      <td>1</td>\n",
              "    </tr>\n",
              "  </tbody>\n",
              "</table>\n",
              "</div>"
            ],
            "text/plain": [
              "  last_updated_epoch      last_updated  ... extraction_date row_num\n",
              "0         1619146800  2021-04-23 00:00  ...            None       1\n",
              "1         1619152200  2021-04-23 05:30  ...            None       1\n",
              "2         1619244000  2021-04-24 07:00  ...            None       1\n",
              "3         1619308800  2021-04-24 21:00  ...            None       1\n",
              "4         1619328600  2021-04-25 02:30  ...            None       1\n",
              "\n",
              "[5 rows x 26 columns]"
            ]
          },
          "metadata": {},
          "execution_count": 5
        }
      ]
    },
    {
      "cell_type": "code",
      "metadata": {
        "id": "0fgu3JrLnwpz"
      },
      "source": [
        "# Saving in a pickle file so we don't need query in database again\n",
        "import pickle\n",
        "df.to_pickle(\"weather_data_08-09-2021\")"
      ],
      "execution_count": 6,
      "outputs": []
    },
    {
      "cell_type": "markdown",
      "metadata": {
        "id": "aNrh6276rIjL"
      },
      "source": [
        "### **2. Analysis/Transformations**"
      ]
    },
    {
      "cell_type": "code",
      "metadata": {
        "id": "3nKKszo2rUMq"
      },
      "source": [
        "# Open pickle file\n",
        "file = open('weather_data_08-09-2021', 'rb')\n",
        "df = pickle.load(file)"
      ],
      "execution_count": 7,
      "outputs": []
    },
    {
      "cell_type": "code",
      "metadata": {
        "colab": {
          "base_uri": "https://localhost:8080/"
        },
        "id": "5-I2QvB_LYz7",
        "outputId": "00cdb6cf-d46a-4101-a498-68669c9f85c8"
      },
      "source": [
        "cidades = ['Paris', 'Sao Paulo', 'Carapicuiba', 'New York', 'Otawwa', 'London', 'Rome', 'Moscow'\n",
        "        , 'Hong Kong', 'Beijing']\n",
        "df = df.loc[df['city'].isin(cidades)]\n",
        "df['last_updated'] = pd.to_datetime(df['last_updated'])\n",
        "df.shape"
      ],
      "execution_count": 8,
      "outputs": [
        {
          "output_type": "execute_result",
          "data": {
            "text/plain": [
              "(45648, 26)"
            ]
          },
          "metadata": {},
          "execution_count": 8
        }
      ]
    },
    {
      "cell_type": "code",
      "metadata": {
        "id": "yrojat6snPSX",
        "colab": {
          "base_uri": "https://localhost:8080/"
        },
        "outputId": "53148960-56a7-422b-f293-fa3c6e9fc554"
      },
      "source": [
        "# Drop useless columns for analysis\n",
        "df = df.drop(columns=['row_num', 'last_updated_epoch', 'extraction_date'])\n",
        "df = df.dropna()\n",
        "# number of rows and columns\n",
        "print(df.shape, df['city'].unique())"
      ],
      "execution_count": 9,
      "outputs": [
        {
          "output_type": "stream",
          "name": "stdout",
          "text": [
            "(45648, 23) ['Sao Paulo' 'London' 'Carapicuiba' 'New York' 'Paris' 'Hong Kong' 'Rome'\n",
            " 'Moscow' 'Beijing']\n"
          ]
        }
      ]
    },
    {
      "cell_type": "code",
      "metadata": {
        "id": "5YYnR104sWGT"
      },
      "source": [
        "import seaborn as sns\n",
        "import matplotlib.pyplot as plt"
      ],
      "execution_count": 10,
      "outputs": []
    },
    {
      "cell_type": "code",
      "metadata": {
        "colab": {
          "base_uri": "https://localhost:8080/"
        },
        "id": "C6qd17xDtV2Z",
        "outputId": "e764dbc4-2ffb-4d06-cda2-3b2dac42e94b"
      },
      "source": [
        "# Target: Predict condition (that means wether is raining or not) \n",
        "df['condition'].unique()"
      ],
      "execution_count": 11,
      "outputs": [
        {
          "output_type": "execute_result",
          "data": {
            "text/plain": [
              "array(['Partly cloudy', 'Clear', 'Overcast', 'Sunny', 'Cloudy',\n",
              "       'Light rain', 'Mist', 'Patchy rain possible', 'Light rain shower',\n",
              "       'Light drizzle', 'Fog', 'Torrential rain shower',\n",
              "       'Thundery outbreaks possible', 'Heavy rain',\n",
              "       'Moderate rain at times', 'Moderate or heavy rain shower',\n",
              "       'Moderate rain', 'Patchy light rain with thunder',\n",
              "       'Patchy light rain', 'Light snow',\n",
              "       'Moderate or heavy rain with thunder',\n",
              "       'Moderate or heavy snow with thunder',\n",
              "       'Moderate or heavy snow showers'], dtype=object)"
            ]
          },
          "metadata": {},
          "execution_count": 11
        }
      ]
    },
    {
      "cell_type": "markdown",
      "metadata": {
        "id": "CFFD9XIGugi5"
      },
      "source": [
        "We need to resume this bunch of conditions and define our target class"
      ]
    },
    {
      "cell_type": "code",
      "metadata": {
        "id": "mU5t6p1mupkb"
      },
      "source": [
        "# This conditions means that it's raining in the moment\n",
        "raining_list = ['Light rain', 'Light rain shower', 'Light drizzle', 'Heavy rain', 'Moderate rain', 'Patchy light rain with thunder'\n",
        "            , 'Moderate or heavy rain shower', 'Patchy light rain', 'Torrential rain shower', 'Moderate rain at times'\n",
        "            , 'Moderate or heavy rain with thunder']"
      ],
      "execution_count": 12,
      "outputs": []
    },
    {
      "cell_type": "code",
      "metadata": {
        "colab": {
          "base_uri": "https://localhost:8080/"
        },
        "id": "heg5yiubwMLQ",
        "outputId": "07f352db-1d56-4d99-a8b0-88d9245bd186"
      },
      "source": [
        "# Creating the target variable\n",
        "df['target'] = df['condition'].apply(lambda x: 1 if x in raining_list else 0)\n",
        "df['target'].unique()"
      ],
      "execution_count": 13,
      "outputs": [
        {
          "output_type": "execute_result",
          "data": {
            "text/plain": [
              "array([0, 1])"
            ]
          },
          "metadata": {},
          "execution_count": 13
        }
      ]
    },
    {
      "cell_type": "code",
      "metadata": {
        "colab": {
          "base_uri": "https://localhost:8080/"
        },
        "id": "NGYN-O4y6pSU",
        "outputId": "205e5742-8142-44e8-b972-3c30c550f814"
      },
      "source": [
        "df.info()"
      ],
      "execution_count": 14,
      "outputs": [
        {
          "output_type": "stream",
          "name": "stdout",
          "text": [
            "<class 'pandas.core.frame.DataFrame'>\n",
            "Int64Index: 45648 entries, 0 to 46671\n",
            "Data columns (total 24 columns):\n",
            " #   Column        Non-Null Count  Dtype         \n",
            "---  ------        --------------  -----         \n",
            " 0   last_updated  45648 non-null  datetime64[ns]\n",
            " 1   temp_c        45648 non-null  object        \n",
            " 2   temp_f        45648 non-null  object        \n",
            " 3   is_day        45648 non-null  object        \n",
            " 4   condition     45648 non-null  object        \n",
            " 5   wind_mph      45648 non-null  object        \n",
            " 6   wind_kph      45648 non-null  object        \n",
            " 7   wind_degree   45648 non-null  object        \n",
            " 8   wind_dir      45648 non-null  object        \n",
            " 9   pressure_mb   45648 non-null  object        \n",
            " 10  pressure_in   45648 non-null  object        \n",
            " 11  precip_mm     45648 non-null  object        \n",
            " 12  precip_in     45648 non-null  object        \n",
            " 13  humidity      45648 non-null  object        \n",
            " 14  cloud         45648 non-null  object        \n",
            " 15  feelslike_c   45648 non-null  object        \n",
            " 16  feelslike_f   45648 non-null  object        \n",
            " 17  vis_km        45648 non-null  object        \n",
            " 18  vis_miles     45648 non-null  object        \n",
            " 19  uv            45648 non-null  object        \n",
            " 20  gust_mph      45648 non-null  object        \n",
            " 21  gust_kph      45648 non-null  object        \n",
            " 22  city          45648 non-null  object        \n",
            " 23  target        45648 non-null  int64         \n",
            "dtypes: datetime64[ns](1), int64(1), object(22)\n",
            "memory usage: 8.7+ MB\n"
          ]
        }
      ]
    },
    {
      "cell_type": "code",
      "metadata": {
        "id": "Lep4_CRE6r32"
      },
      "source": [
        "# Create a list with columns to be converted\n",
        "float_list = list()\n",
        "for column_name in df.drop(columns='target').columns:\n",
        "  if str(df[f'{column_name}'][0]).replace(\".\", \"\").replace(\"-\", \"\").isnumeric() == True:\n",
        "    float_list.append(column_name)"
      ],
      "execution_count": 15,
      "outputs": []
    },
    {
      "cell_type": "code",
      "metadata": {
        "id": "NyIMln6b-T7N"
      },
      "source": [
        "# function to convert columns to float\n",
        "def to_float(df):\n",
        "  for column in df.columns:\n",
        "    if column in float_list:\n",
        "      df[f'{column}'] = df[f'{column}'].astype(\"float\")\n",
        "  return df.info()"
      ],
      "execution_count": 16,
      "outputs": []
    },
    {
      "cell_type": "code",
      "metadata": {
        "colab": {
          "base_uri": "https://localhost:8080/"
        },
        "id": "qLQngUnK_SyD",
        "outputId": "f75aa2bd-407e-46bb-fd86-56c5468ca757"
      },
      "source": [
        "to_float(df)"
      ],
      "execution_count": 17,
      "outputs": [
        {
          "output_type": "stream",
          "name": "stdout",
          "text": [
            "<class 'pandas.core.frame.DataFrame'>\n",
            "Int64Index: 45648 entries, 0 to 46671\n",
            "Data columns (total 24 columns):\n",
            " #   Column        Non-Null Count  Dtype         \n",
            "---  ------        --------------  -----         \n",
            " 0   last_updated  45648 non-null  datetime64[ns]\n",
            " 1   temp_c        45648 non-null  float64       \n",
            " 2   temp_f        45648 non-null  float64       \n",
            " 3   is_day        45648 non-null  float64       \n",
            " 4   condition     45648 non-null  object        \n",
            " 5   wind_mph      45648 non-null  float64       \n",
            " 6   wind_kph      45648 non-null  float64       \n",
            " 7   wind_degree   45648 non-null  float64       \n",
            " 8   wind_dir      45648 non-null  object        \n",
            " 9   pressure_mb   45648 non-null  float64       \n",
            " 10  pressure_in   45648 non-null  float64       \n",
            " 11  precip_mm     45648 non-null  float64       \n",
            " 12  precip_in     45648 non-null  float64       \n",
            " 13  humidity      45648 non-null  float64       \n",
            " 14  cloud         45648 non-null  float64       \n",
            " 15  feelslike_c   45648 non-null  float64       \n",
            " 16  feelslike_f   45648 non-null  float64       \n",
            " 17  vis_km        45648 non-null  float64       \n",
            " 18  vis_miles     45648 non-null  float64       \n",
            " 19  uv            45648 non-null  float64       \n",
            " 20  gust_mph      45648 non-null  float64       \n",
            " 21  gust_kph      45648 non-null  float64       \n",
            " 22  city          45648 non-null  object        \n",
            " 23  target        45648 non-null  int64         \n",
            "dtypes: datetime64[ns](1), float64(19), int64(1), object(3)\n",
            "memory usage: 10.0+ MB\n"
          ]
        }
      ]
    },
    {
      "cell_type": "code",
      "metadata": {
        "colab": {
          "base_uri": "https://localhost:8080/",
          "height": 313
        },
        "id": "FgablHw9w5s-",
        "outputId": "402186e0-8ea3-4b6e-ffae-33aace008c53"
      },
      "source": [
        "# Target Variable Ocurrency\n",
        "percent = str(round(sum(df['target'])/len(df['target']), 1)*100) + '%'\n",
        "print(f'percentage of target == 1 is: {percent}')\n",
        "sns.histplot(data=df['target'])"
      ],
      "execution_count": 18,
      "outputs": [
        {
          "output_type": "stream",
          "name": "stdout",
          "text": [
            "percentage of target == 1 is: 10.0%\n"
          ]
        },
        {
          "output_type": "execute_result",
          "data": {
            "text/plain": [
              "<matplotlib.axes._subplots.AxesSubplot at 0x7ff665b895d0>"
            ]
          },
          "metadata": {},
          "execution_count": 18
        },
        {
          "output_type": "display_data",
          "data": {
            "image/png": "[encoded data removed]",
            "text/plain": [
              "<Figure size 432x288 with 1 Axes>"
            ]
          },
          "metadata": {
            "needs_background": "light"
          }
        }
      ]
    },
    {
      "cell_type": "code",
      "metadata": {
        "colab": {
          "base_uri": "https://localhost:8080/",
          "height": 297
        },
        "id": "ZvXZugBGxkLp",
        "outputId": "f333beac-431a-45a8-8eda-eaeb31c6f28b"
      },
      "source": [
        "sns.countplot(x=df['is_day'], hue=df['target'])"
      ],
      "execution_count": 19,
      "outputs": [
        {
          "output_type": "execute_result",
          "data": {
            "text/plain": [
              "<matplotlib.axes._subplots.AxesSubplot at 0x7ff665c6a110>"
            ]
          },
          "metadata": {},
          "execution_count": 19
        },
        {
          "output_type": "display_data",
          "data": {
            "image/png": "[encoded data removed]",
            "text/plain": [
              "<Figure size 432x288 with 1 Axes>"
            ]
          },
          "metadata": {
            "needs_background": "light"
          }
        }
      ]
    },
    {
      "cell_type": "code",
      "metadata": {
        "colab": {
          "base_uri": "https://localhost:8080/",
          "height": 334
        },
        "id": "ofjyyMAH3Z3a",
        "outputId": "856435a1-af0a-4423-d0b0-ee81ddab4afd"
      },
      "source": [
        "plt.figure(figsize=(15, 5))\n",
        "ax = sns.countplot(x=df['city'], hue=df['target'])"
      ],
      "execution_count": 20,
      "outputs": [
        {
          "output_type": "display_data",
          "data": {
            "image/png": "[encoded data removed]",
            "text/plain": [
              "<Figure size 1080x360 with 1 Axes>"
            ]
          },
          "metadata": {
            "needs_background": "light"
          }
        }
      ]
    },
    {
      "cell_type": "code",
      "metadata": {
        "colab": {
          "base_uri": "https://localhost:8080/",
          "height": 386
        },
        "id": "BR5U93VN6jTT",
        "outputId": "39fd7c34-d48e-40de-993c-7c0831a349d6"
      },
      "source": [
        "plt.figure(figsize=(10, 5))\n",
        "ax = sns.displot(x=df['feelslike_c'], bins='sturges', col=df['target'])"
      ],
      "execution_count": 21,
      "outputs": [
        {
          "output_type": "display_data",
          "data": {
            "text/plain": [
              "<Figure size 720x360 with 0 Axes>"
            ]
          },
          "metadata": {}
        },
        {
          "output_type": "display_data",
          "data": {
            "image/png": "[encoded data removed]",
            "text/plain": [
              "<Figure size 720x360 with 2 Axes>"
            ]
          },
          "metadata": {
            "needs_background": "light"
          }
        }
      ]
    },
    {
      "cell_type": "code",
      "metadata": {
        "colab": {
          "base_uri": "https://localhost:8080/",
          "height": 386
        },
        "id": "lmopZ608IUkX",
        "outputId": "525cd79e-af92-4c35-8af0-e89f6689a5f8"
      },
      "source": [
        "plt.figure(figsize=(10, 5))\n",
        "ax = sns.displot(x=df['temp_c'], bins='sturges', col=df['target'])"
      ],
      "execution_count": 22,
      "outputs": [
        {
          "output_type": "display_data",
          "data": {
            "text/plain": [
              "<Figure size 720x360 with 0 Axes>"
            ]
          },
          "metadata": {}
        },
        {
          "output_type": "display_data",
          "data": {
            "image/png": "[encoded data removed]",
            "text/plain": [
              "<Figure size 720x360 with 2 Axes>"
            ]
          },
          "metadata": {
            "needs_background": "light"
          }
        }
      ]
    },
    {
      "cell_type": "code",
      "metadata": {
        "colab": {
          "base_uri": "https://localhost:8080/",
          "height": 296
        },
        "id": "6hvq2UTs6L9q",
        "outputId": "4b08a78c-c869-4618-e17d-411466b3c468"
      },
      "source": [
        "sns.boxplot(x=df['target'], y=df['cloud'])"
      ],
      "execution_count": 23,
      "outputs": [
        {
          "output_type": "execute_result",
          "data": {
            "text/plain": [
              "<matplotlib.axes._subplots.AxesSubplot at 0x7ff665e70790>"
            ]
          },
          "metadata": {},
          "execution_count": 23
        },
        {
          "output_type": "display_data",
          "data": {
            "image/png": "[encoded data removed]",
            "text/plain": [
              "<Figure size 432x288 with 1 Axes>"
            ]
          },
          "metadata": {
            "needs_background": "light"
          }
        }
      ]
    },
    {
      "cell_type": "code",
      "metadata": {
        "id": "eVkqn0Y0KThK"
      },
      "source": [
        "# Our goal is to predict weather is going to rain or not based on the last register\n",
        "# Now we're going to split the data\n",
        "train_df = df[['last_updated', 'city', 'temp_c', 'is_day', 'condition', 'wind_mph', 'wind_degree'\n",
        "          , 'pressure_mb', 'precip_mm', 'humidity', 'cloud', 'feelslike_c', 'vis_km', 'uv'\n",
        "          , 'gust_kph', 'target']]"
      ],
      "execution_count": 24,
      "outputs": []
    },
    {
      "cell_type": "code",
      "metadata": {
        "id": "QlMHVtgsKTkq"
      },
      "source": [
        "train_df = train_df.sort_values(by=['city', 'last_updated']).reset_index().drop(columns='index')"
      ],
      "execution_count": 30,
      "outputs": []
    },
    {
      "cell_type": "code",
      "metadata": {
        "id": "hYL6XegQ_im2"
      },
      "source": [
        ""
      ],
      "execution_count": 25,
      "outputs": []
    }
  ]
}