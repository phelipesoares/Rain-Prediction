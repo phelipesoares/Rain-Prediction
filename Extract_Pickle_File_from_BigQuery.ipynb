{
  "nbformat": 4,
  "nbformat_minor": 0,
  "metadata": {
    "colab": {
      "name": "Extract Pickle File from BigQuery.ipynb",
      "provenance": [],
      "collapsed_sections": [
        "unA2Dm3Dqult",
        "aNrh6276rIjL",
        "CID-oGdHMLGS"
      ],
      "authorship_tag": "ABX9TyPTtpbxMzIRfzJrsr1UlZJH",
      "include_colab_link": true
    },
    "kernelspec": {
      "name": "python3",
      "display_name": "Python 3"
    },
    "language_info": {
      "name": "python"
    }
  },
  "cells": [
    {
      "cell_type": "markdown",
      "metadata": {
        "id": "view-in-github",
        "colab_type": "text"
      },
      "source": [
        "<a href=\"https://colab.research.google.com/github/phelipe-sb/Rain-Prediction/blob/main/Extract_Pickle_File_from_BigQuery.ipynb\" target=\"_parent\"><img src=\"https://colab.research.google.com/assets/colab-badge.svg\" alt=\"Open In Colab\"/></a>"
      ]
    },
    {
      "cell_type": "markdown",
      "metadata": {
        "id": "unA2Dm3Dqult"
      },
      "source": [
        "### **1. Get Data from BigQuery**"
      ]
    },
    {
      "cell_type": "code",
      "metadata": {
        "id": "ib7vkqvLlH4y"
      },
      "source": [
        "from google.cloud import bigquery\n",
        "from google.oauth2 import service_account\n",
        "import numpy as np\n",
        "import pandas as pd"
      ],
      "execution_count": 10,
      "outputs": []
    },
    {
      "cell_type": "code",
      "metadata": {
        "id": "TSEUrGL1l3Jv"
      },
      "source": [
        "# Projett credentials with account service\n",
        "path = '/Weather Project-6fa8e059f642.json'"
      ],
      "execution_count": 11,
      "outputs": []
    },
    {
      "cell_type": "code",
      "metadata": {
        "id": "VoshDZOHlQuc"
      },
      "source": [
        "# Credentials\n",
        "credentials = service_account.Credentials.from_service_account_file(path)\n",
        "project_id = credentials.project_id\n",
        "client = bigquery.Client(project=project_id, credentials=credentials)"
      ],
      "execution_count": 12,
      "outputs": []
    },
    {
      "cell_type": "code",
      "metadata": {
        "id": "ur7VpbzUk4cY"
      },
      "source": [
        "# SQL Query that will run in BQ\n",
        "query_string = \"\"\"\n",
        "SELECT *\n",
        "FROM (SELECT *\n",
        "            , ROW_NUMBER() OVER(PARTITION BY last_updated, city ORDER BY last_updated, city) AS row_num\n",
        "            FROM `weather-project-305419.Daily_Weather.Weather-Info`) as row_weather\n",
        "WHERE row_num = 1\n",
        "\"\"\""
      ],
      "execution_count": 13,
      "outputs": []
    },
    {
      "cell_type": "code",
      "metadata": {
        "colab": {
          "base_uri": "https://localhost:8080/",
          "height": 326
        },
        "id": "Qpob5wiimrFM",
        "outputId": "2f8fc428-79f3-4cdd-e546-58c7402351f4"
      },
      "source": [
        "# Transform sql query results in a pandas dataframe\n",
        "df = (\n",
        "    client.query(query_string)\n",
        "    .result()\n",
        "    .to_dataframe()\n",
        ")\n",
        "df.head()"
      ],
      "execution_count": 14,
      "outputs": [
        {
          "output_type": "execute_result",
          "data": {
            "text/html": [
              "<div>\n",
              "<style scoped>\n",
              "    .dataframe tbody tr th:only-of-type {\n",
              "        vertical-align: middle;\n",
              "    }\n",
              "\n",
              "    .dataframe tbody tr th {\n",
              "        vertical-align: top;\n",
              "    }\n",
              "\n",
              "    .dataframe thead th {\n",
              "        text-align: right;\n",
              "    }\n",
              "</style>\n",
              "<table border=\"1\" class=\"dataframe\">\n",
              "  <thead>\n",
              "    <tr style=\"text-align: right;\">\n",
              "      <th></th>\n",
              "      <th>last_updated_epoch</th>\n",
              "      <th>last_updated</th>\n",
              "      <th>temp_c</th>\n",
              "      <th>temp_f</th>\n",
              "      <th>is_day</th>\n",
              "      <th>condition</th>\n",
              "      <th>wind_mph</th>\n",
              "      <th>wind_kph</th>\n",
              "      <th>wind_degree</th>\n",
              "      <th>wind_dir</th>\n",
              "      <th>pressure_mb</th>\n",
              "      <th>pressure_in</th>\n",
              "      <th>precip_mm</th>\n",
              "      <th>precip_in</th>\n",
              "      <th>humidity</th>\n",
              "      <th>cloud</th>\n",
              "      <th>feelslike_c</th>\n",
              "      <th>feelslike_f</th>\n",
              "      <th>vis_km</th>\n",
              "      <th>vis_miles</th>\n",
              "      <th>uv</th>\n",
              "      <th>gust_mph</th>\n",
              "      <th>gust_kph</th>\n",
              "      <th>city</th>\n",
              "      <th>extraction_date</th>\n",
              "      <th>row_num</th>\n",
              "    </tr>\n",
              "  </thead>\n",
              "  <tbody>\n",
              "    <tr>\n",
              "      <th>0</th>\n",
              "      <td>1619163000</td>\n",
              "      <td>2021-04-23 04:30</td>\n",
              "      <td>13.9</td>\n",
              "      <td>57.0</td>\n",
              "      <td>0</td>\n",
              "      <td>Partly cloudy</td>\n",
              "      <td>5.4</td>\n",
              "      <td>8.6</td>\n",
              "      <td>153</td>\n",
              "      <td>SSE</td>\n",
              "      <td>1018.0</td>\n",
              "      <td>30.5</td>\n",
              "      <td>0.0</td>\n",
              "      <td>0.0</td>\n",
              "      <td>91</td>\n",
              "      <td>48</td>\n",
              "      <td>13.5</td>\n",
              "      <td>56.3</td>\n",
              "      <td>10.0</td>\n",
              "      <td>6.0</td>\n",
              "      <td>1.0</td>\n",
              "      <td>8.7</td>\n",
              "      <td>14.0</td>\n",
              "      <td>Carapicuiba</td>\n",
              "      <td>None</td>\n",
              "      <td>1</td>\n",
              "    </tr>\n",
              "    <tr>\n",
              "      <th>1</th>\n",
              "      <td>1619236800</td>\n",
              "      <td>2021-04-24 00:00</td>\n",
              "      <td>12.2</td>\n",
              "      <td>54.0</td>\n",
              "      <td>0</td>\n",
              "      <td>Partly cloudy</td>\n",
              "      <td>10.1</td>\n",
              "      <td>16.2</td>\n",
              "      <td>266</td>\n",
              "      <td>W</td>\n",
              "      <td>1016.0</td>\n",
              "      <td>30.5</td>\n",
              "      <td>0.0</td>\n",
              "      <td>0.0</td>\n",
              "      <td>50</td>\n",
              "      <td>12</td>\n",
              "      <td>10.5</td>\n",
              "      <td>50.9</td>\n",
              "      <td>10.0</td>\n",
              "      <td>6.0</td>\n",
              "      <td>1.0</td>\n",
              "      <td>15.0</td>\n",
              "      <td>24.1</td>\n",
              "      <td>New York</td>\n",
              "      <td>None</td>\n",
              "      <td>1</td>\n",
              "    </tr>\n",
              "    <tr>\n",
              "      <th>2</th>\n",
              "      <td>1619243100</td>\n",
              "      <td>2021-04-24 02:45</td>\n",
              "      <td>18.4</td>\n",
              "      <td>65.1</td>\n",
              "      <td>0</td>\n",
              "      <td>Partly cloudy</td>\n",
              "      <td>5.6</td>\n",
              "      <td>9.0</td>\n",
              "      <td>129</td>\n",
              "      <td>SE</td>\n",
              "      <td>1017.0</td>\n",
              "      <td>30.5</td>\n",
              "      <td>0.0</td>\n",
              "      <td>0.0</td>\n",
              "      <td>79</td>\n",
              "      <td>43</td>\n",
              "      <td>18.4</td>\n",
              "      <td>65.1</td>\n",
              "      <td>10.0</td>\n",
              "      <td>6.0</td>\n",
              "      <td>1.0</td>\n",
              "      <td>6.5</td>\n",
              "      <td>10.4</td>\n",
              "      <td>Sao Paulo</td>\n",
              "      <td>None</td>\n",
              "      <td>1</td>\n",
              "    </tr>\n",
              "    <tr>\n",
              "      <th>3</th>\n",
              "      <td>1619511300</td>\n",
              "      <td>2021-04-27 05:15</td>\n",
              "      <td>16.6</td>\n",
              "      <td>61.9</td>\n",
              "      <td>0</td>\n",
              "      <td>Light rain shower</td>\n",
              "      <td>5.6</td>\n",
              "      <td>9.0</td>\n",
              "      <td>123</td>\n",
              "      <td>ESE</td>\n",
              "      <td>1015.0</td>\n",
              "      <td>30.4</td>\n",
              "      <td>0.2</td>\n",
              "      <td>0.01</td>\n",
              "      <td>90</td>\n",
              "      <td>85</td>\n",
              "      <td>16.6</td>\n",
              "      <td>61.9</td>\n",
              "      <td>10.0</td>\n",
              "      <td>6.0</td>\n",
              "      <td>1.0</td>\n",
              "      <td>8.5</td>\n",
              "      <td>13.7</td>\n",
              "      <td>Carapicuiba</td>\n",
              "      <td>None</td>\n",
              "      <td>1</td>\n",
              "    </tr>\n",
              "    <tr>\n",
              "      <th>4</th>\n",
              "      <td>1619654400</td>\n",
              "      <td>2021-04-28 21:00</td>\n",
              "      <td>23.8</td>\n",
              "      <td>74.8</td>\n",
              "      <td>0</td>\n",
              "      <td>Patchy rain possible</td>\n",
              "      <td>10.7</td>\n",
              "      <td>17.3</td>\n",
              "      <td>159</td>\n",
              "      <td>SSE</td>\n",
              "      <td>1018.0</td>\n",
              "      <td>30.5</td>\n",
              "      <td>0.1</td>\n",
              "      <td>0.0</td>\n",
              "      <td>82</td>\n",
              "      <td>81</td>\n",
              "      <td>26.8</td>\n",
              "      <td>80.2</td>\n",
              "      <td>10.0</td>\n",
              "      <td>6.0</td>\n",
              "      <td>1.0</td>\n",
              "      <td>15.9</td>\n",
              "      <td>25.6</td>\n",
              "      <td>Carapicuiba</td>\n",
              "      <td>None</td>\n",
              "      <td>1</td>\n",
              "    </tr>\n",
              "  </tbody>\n",
              "</table>\n",
              "</div>"
            ],
            "text/plain": [
              "  last_updated_epoch      last_updated  ... extraction_date row_num\n",
              "0         1619163000  2021-04-23 04:30  ...            None       1\n",
              "1         1619236800  2021-04-24 00:00  ...            None       1\n",
              "2         1619243100  2021-04-24 02:45  ...            None       1\n",
              "3         1619511300  2021-04-27 05:15  ...            None       1\n",
              "4         1619654400  2021-04-28 21:00  ...            None       1\n",
              "\n",
              "[5 rows x 26 columns]"
            ]
          },
          "metadata": {},
          "execution_count": 14
        }
      ]
    },
    {
      "cell_type": "code",
      "metadata": {
        "id": "0fgu3JrLnwpz"
      },
      "source": [
        "# Saving in a pickle file so we don't need query in database again\n",
        "import pickle\n",
        "df.to_pickle(\"weather_data_08-09-2021\")"
      ],
      "execution_count": 15,
      "outputs": []
    },
    {
      "cell_type": "markdown",
      "metadata": {
        "id": "aNrh6276rIjL"
      },
      "source": [
        "### **2. Data Transformation**"
      ]
    },
    {
      "cell_type": "code",
      "metadata": {
        "id": "3nKKszo2rUMq"
      },
      "source": [
        "# Open pickle file\n",
        "file = open('weather_data_08-09-2021', 'rb')\n",
        "df = pickle.load(file)"
      ],
      "execution_count": 16,
      "outputs": []
    },
    {
      "cell_type": "code",
      "metadata": {
        "colab": {
          "base_uri": "https://localhost:8080/"
        },
        "id": "5-I2QvB_LYz7",
        "outputId": "a0f1c4d7-3017-4177-8029-b981597c57d1"
      },
      "source": [
        "cidades = ['Paris', 'Sao Paulo', 'Carapicuiba', 'New York', 'Otawwa', 'London', 'Rome', 'Moscow'\n",
        "        , 'Hong Kong', 'Beijing']\n",
        "df = df.loc[df['city'].isin(cidades)]\n",
        "df['last_updated'] = pd.to_datetime(df['last_updated'])\n",
        "df.shape"
      ],
      "execution_count": 17,
      "outputs": [
        {
          "output_type": "execute_result",
          "data": {
            "text/plain": [
              "(46342, 26)"
            ]
          },
          "metadata": {},
          "execution_count": 17
        }
      ]
    },
    {
      "cell_type": "code",
      "metadata": {
        "id": "yrojat6snPSX",
        "colab": {
          "base_uri": "https://localhost:8080/"
        },
        "outputId": "ad8c67d2-e8f0-4021-bbcd-216e098befab"
      },
      "source": [
        "# Drop useless columns for analysis\n",
        "df = df.drop(columns=['row_num', 'last_updated_epoch', 'extraction_date'])\n",
        "df = df.dropna()\n",
        "# number of rows and columns\n",
        "print(df.shape, df['city'].unique())"
      ],
      "execution_count": 18,
      "outputs": [
        {
          "output_type": "stream",
          "name": "stdout",
          "text": [
            "(46342, 23) ['Carapicuiba' 'New York' 'Sao Paulo' 'Paris' 'Hong Kong' 'Rome' 'London'\n",
            " 'Moscow' 'Beijing']\n"
          ]
        }
      ]
    },
    {
      "cell_type": "code",
      "metadata": {
        "id": "5YYnR104sWGT"
      },
      "source": [
        "import seaborn as sns\n",
        "import matplotlib.pyplot as plt"
      ],
      "execution_count": 19,
      "outputs": []
    },
    {
      "cell_type": "code",
      "metadata": {
        "colab": {
          "base_uri": "https://localhost:8080/"
        },
        "id": "C6qd17xDtV2Z",
        "outputId": "e19ae14b-a547-4eda-dfd2-aa14a0be7248"
      },
      "source": [
        "# Target: Predict condition (that means wether is raining or not) \n",
        "df['condition'].unique()"
      ],
      "execution_count": 20,
      "outputs": [
        {
          "output_type": "execute_result",
          "data": {
            "text/plain": [
              "array(['Partly cloudy', 'Light rain shower', 'Patchy rain possible',\n",
              "       'Overcast', 'Clear', 'Sunny', 'Light rain', 'Cloudy', 'Mist',\n",
              "       'Light drizzle', 'Thundery outbreaks possible',\n",
              "       'Moderate rain at times', 'Fog', 'Moderate or heavy rain shower',\n",
              "       'Torrential rain shower', 'Heavy rain', 'Moderate rain',\n",
              "       'Patchy light rain', 'Patchy light rain with thunder',\n",
              "       'Light snow', 'Moderate or heavy rain with thunder',\n",
              "       'Moderate or heavy snow with thunder',\n",
              "       'Moderate or heavy snow showers'], dtype=object)"
            ]
          },
          "metadata": {},
          "execution_count": 20
        }
      ]
    },
    {
      "cell_type": "markdown",
      "metadata": {
        "id": "CFFD9XIGugi5"
      },
      "source": [
        "We need to resume this bunch of conditions and define our target class"
      ]
    },
    {
      "cell_type": "code",
      "metadata": {
        "id": "mU5t6p1mupkb"
      },
      "source": [
        "# This conditions means that it's raining in the moment\n",
        "raining_list = ['Light rain', 'Light rain shower', 'Light drizzle', 'Heavy rain', 'Moderate rain', 'Patchy light rain with thunder'\n",
        "            , 'Moderate or heavy rain shower', 'Patchy light rain', 'Torrential rain shower', 'Moderate rain at times'\n",
        "            , 'Moderate or heavy rain with thunder']"
      ],
      "execution_count": 21,
      "outputs": []
    },
    {
      "cell_type": "code",
      "metadata": {
        "colab": {
          "base_uri": "https://localhost:8080/"
        },
        "id": "heg5yiubwMLQ",
        "outputId": "f6cb310a-2d21-4d92-d99d-a34e87a63b6a"
      },
      "source": [
        "# Creating the target variable\n",
        "df['target'] = df['condition'].apply(lambda x: 1 if x in raining_list else 0)\n",
        "df['target'].unique()"
      ],
      "execution_count": 22,
      "outputs": [
        {
          "output_type": "execute_result",
          "data": {
            "text/plain": [
              "array([0, 1])"
            ]
          },
          "metadata": {},
          "execution_count": 22
        }
      ]
    },
    {
      "cell_type": "code",
      "metadata": {
        "colab": {
          "base_uri": "https://localhost:8080/"
        },
        "id": "NGYN-O4y6pSU",
        "outputId": "259ee42e-0193-4399-d0fd-2551886cbd9f"
      },
      "source": [
        "df.info()"
      ],
      "execution_count": 23,
      "outputs": [
        {
          "output_type": "stream",
          "name": "stdout",
          "text": [
            "<class 'pandas.core.frame.DataFrame'>\n",
            "Int64Index: 46342 entries, 0 to 47440\n",
            "Data columns (total 24 columns):\n",
            " #   Column        Non-Null Count  Dtype         \n",
            "---  ------        --------------  -----         \n",
            " 0   last_updated  46342 non-null  datetime64[ns]\n",
            " 1   temp_c        46342 non-null  object        \n",
            " 2   temp_f        46342 non-null  object        \n",
            " 3   is_day        46342 non-null  object        \n",
            " 4   condition     46342 non-null  object        \n",
            " 5   wind_mph      46342 non-null  object        \n",
            " 6   wind_kph      46342 non-null  object        \n",
            " 7   wind_degree   46342 non-null  object        \n",
            " 8   wind_dir      46342 non-null  object        \n",
            " 9   pressure_mb   46342 non-null  object        \n",
            " 10  pressure_in   46342 non-null  object        \n",
            " 11  precip_mm     46342 non-null  object        \n",
            " 12  precip_in     46342 non-null  object        \n",
            " 13  humidity      46342 non-null  object        \n",
            " 14  cloud         46342 non-null  object        \n",
            " 15  feelslike_c   46342 non-null  object        \n",
            " 16  feelslike_f   46342 non-null  object        \n",
            " 17  vis_km        46342 non-null  object        \n",
            " 18  vis_miles     46342 non-null  object        \n",
            " 19  uv            46342 non-null  object        \n",
            " 20  gust_mph      46342 non-null  object        \n",
            " 21  gust_kph      46342 non-null  object        \n",
            " 22  city          46342 non-null  object        \n",
            " 23  target        46342 non-null  int64         \n",
            "dtypes: datetime64[ns](1), int64(1), object(22)\n",
            "memory usage: 8.8+ MB\n"
          ]
        }
      ]
    },
    {
      "cell_type": "code",
      "metadata": {
        "id": "Lep4_CRE6r32"
      },
      "source": [
        "# Create a list with columns to be converted\n",
        "float_list = list()\n",
        "for column_name in df.drop(columns='target').columns:\n",
        "  if str(df[f'{column_name}'][0]).replace(\".\", \"\").replace(\"-\", \"\").isnumeric() == True:\n",
        "    float_list.append(column_name)"
      ],
      "execution_count": 24,
      "outputs": []
    },
    {
      "cell_type": "code",
      "metadata": {
        "id": "NyIMln6b-T7N"
      },
      "source": [
        "# function to convert columns to float\n",
        "def to_float(df):\n",
        "  for column in df.columns:\n",
        "    if column in float_list:\n",
        "      df[f'{column}'] = df[f'{column}'].astype(\"float\")\n",
        "  return df.info()"
      ],
      "execution_count": 25,
      "outputs": []
    },
    {
      "cell_type": "code",
      "metadata": {
        "colab": {
          "base_uri": "https://localhost:8080/"
        },
        "id": "qLQngUnK_SyD",
        "outputId": "856a43de-4ca5-43d7-a9f3-cf9a0f7ca5d4"
      },
      "source": [
        "to_float(df)"
      ],
      "execution_count": 26,
      "outputs": [
        {
          "output_type": "stream",
          "name": "stdout",
          "text": [
            "<class 'pandas.core.frame.DataFrame'>\n",
            "Int64Index: 46342 entries, 0 to 47440\n",
            "Data columns (total 24 columns):\n",
            " #   Column        Non-Null Count  Dtype         \n",
            "---  ------        --------------  -----         \n",
            " 0   last_updated  46342 non-null  datetime64[ns]\n",
            " 1   temp_c        46342 non-null  float64       \n",
            " 2   temp_f        46342 non-null  float64       \n",
            " 3   is_day        46342 non-null  float64       \n",
            " 4   condition     46342 non-null  object        \n",
            " 5   wind_mph      46342 non-null  float64       \n",
            " 6   wind_kph      46342 non-null  float64       \n",
            " 7   wind_degree   46342 non-null  float64       \n",
            " 8   wind_dir      46342 non-null  object        \n",
            " 9   pressure_mb   46342 non-null  float64       \n",
            " 10  pressure_in   46342 non-null  float64       \n",
            " 11  precip_mm     46342 non-null  float64       \n",
            " 12  precip_in     46342 non-null  float64       \n",
            " 13  humidity      46342 non-null  float64       \n",
            " 14  cloud         46342 non-null  float64       \n",
            " 15  feelslike_c   46342 non-null  float64       \n",
            " 16  feelslike_f   46342 non-null  float64       \n",
            " 17  vis_km        46342 non-null  float64       \n",
            " 18  vis_miles     46342 non-null  float64       \n",
            " 19  uv            46342 non-null  float64       \n",
            " 20  gust_mph      46342 non-null  float64       \n",
            " 21  gust_kph      46342 non-null  float64       \n",
            " 22  city          46342 non-null  object        \n",
            " 23  target        46342 non-null  int64         \n",
            "dtypes: datetime64[ns](1), float64(19), int64(1), object(3)\n",
            "memory usage: 10.1+ MB\n"
          ]
        }
      ]
    },
    {
      "cell_type": "markdown",
      "metadata": {
        "id": "CID-oGdHMLGS"
      },
      "source": [
        "### **3. Data Analysis**"
      ]
    },
    {
      "cell_type": "code",
      "metadata": {
        "colab": {
          "base_uri": "https://localhost:8080/",
          "height": 313
        },
        "id": "FgablHw9w5s-",
        "outputId": "cda80307-89de-4813-daae-635bff203596"
      },
      "source": [
        "# Target Variable Ocurrency\n",
        "percent = str(round(sum(df['target'])/len(df['target']), 1)*100) + '%'\n",
        "print(f'percentage of target == 1 is: {percent}')\n",
        "sns.histplot(data=df['target'])"
      ],
      "execution_count": 27,
      "outputs": [
        {
          "output_type": "stream",
          "name": "stdout",
          "text": [
            "percentage of target == 1 is: 10.0%\n"
          ]
        },
        {
          "output_type": "execute_result",
          "data": {
            "text/plain": [
              "<matplotlib.axes._subplots.AxesSubplot at 0x7f8e45746e90>"
            ]
          },
          "metadata": {},
          "execution_count": 27
        },
        {
          "output_type": "display_data",
          "data": {
            "image/png": "[encoded data removed]",
            "text/plain": [
              "<Figure size 432x288 with 1 Axes>"
            ]
          },
          "metadata": {
            "needs_background": "light"
          }
        }
      ]
    },
    {
      "cell_type": "code",
      "metadata": {
        "colab": {
          "base_uri": "https://localhost:8080/",
          "height": 297
        },
        "id": "ZvXZugBGxkLp",
        "outputId": "bfa094cf-da11-450b-b475-bbe1ffe4b26e"
      },
      "source": [
        "sns.countplot(x=df['is_day'], hue=df['target'])"
      ],
      "execution_count": 28,
      "outputs": [
        {
          "output_type": "execute_result",
          "data": {
            "text/plain": [
              "<matplotlib.axes._subplots.AxesSubplot at 0x7f8e45747450>"
            ]
          },
          "metadata": {},
          "execution_count": 28
        },
        {
          "output_type": "display_data",
          "data": {
            "image/png": "[encoded data removed]",
            "text/plain": [
              "<Figure size 432x288 with 1 Axes>"
            ]
          },
          "metadata": {
            "needs_background": "light"
          }
        }
      ]
    },
    {
      "cell_type": "code",
      "metadata": {
        "colab": {
          "base_uri": "https://localhost:8080/",
          "height": 334
        },
        "id": "ofjyyMAH3Z3a",
        "outputId": "a478a287-0eab-4cee-b238-052609658221"
      },
      "source": [
        "plt.figure(figsize=(15, 5))\n",
        "ax = sns.countplot(x=df['city'], hue=df['target'])"
      ],
      "execution_count": 29,
      "outputs": [
        {
          "output_type": "display_data",
          "data": {
            "image/png": "[encoded data removed]",
            "text/plain": [
              "<Figure size 1080x360 with 1 Axes>"
            ]
          },
          "metadata": {
            "needs_background": "light"
          }
        }
      ]
    },
    {
      "cell_type": "code",
      "metadata": {
        "colab": {
          "base_uri": "https://localhost:8080/",
          "height": 386
        },
        "id": "BR5U93VN6jTT",
        "outputId": "076a27e6-5c81-4b8f-b956-8f8069a9b337"
      },
      "source": [
        "plt.figure(figsize=(10, 5))\n",
        "ax = sns.displot(x=df['feelslike_c'], bins='sturges', col=df['target'])"
      ],
      "execution_count": 30,
      "outputs": [
        {
          "output_type": "display_data",
          "data": {
            "text/plain": [
              "<Figure size 720x360 with 0 Axes>"
            ]
          },
          "metadata": {}
        },
        {
          "output_type": "display_data",
          "data": {
            "image/png": "[encoded data removed]",
            "text/plain": [
              "<Figure size 720x360 with 2 Axes>"
            ]
          },
          "metadata": {
            "needs_background": "light"
          }
        }
      ]
    },
    {
      "cell_type": "code",
      "metadata": {
        "colab": {
          "base_uri": "https://localhost:8080/",
          "height": 296
        },
        "id": "Aox5-p0cLwh6",
        "outputId": "c4ca8f58-28fa-4ab4-b64c-999b1043ba8b"
      },
      "source": [
        "sns.boxplot(x=df['target'], y=df['feelslike_c'])"
      ],
      "execution_count": 43,
      "outputs": [
        {
          "output_type": "execute_result",
          "data": {
            "text/plain": [
              "<matplotlib.axes._subplots.AxesSubplot at 0x7f8e45ac67d0>"
            ]
          },
          "metadata": {},
          "execution_count": 43
        },
        {
          "output_type": "display_data",
          "data": {
            "image/png": "[encoded data removed]",
            "text/plain": [
              "<Figure size 432x288 with 1 Axes>"
            ]
          },
          "metadata": {
            "needs_background": "light"
          }
        }
      ]
    },
    {
      "cell_type": "code",
      "metadata": {
        "colab": {
          "base_uri": "https://localhost:8080/",
          "height": 386
        },
        "id": "lmopZ608IUkX",
        "outputId": "1c0e93c7-8813-4e4b-ee66-8a38bcf3091e"
      },
      "source": [
        "plt.figure(figsize=(10, 5))\n",
        "ax = sns.displot(x=df['temp_c'], bins='sturges', col=df['target'])"
      ],
      "execution_count": 31,
      "outputs": [
        {
          "output_type": "display_data",
          "data": {
            "text/plain": [
              "<Figure size 720x360 with 0 Axes>"
            ]
          },
          "metadata": {}
        },
        {
          "output_type": "display_data",
          "data": {
            "image/png": "[encoded data removed]",
            "text/plain": [
              "<Figure size 720x360 with 2 Axes>"
            ]
          },
          "metadata": {
            "needs_background": "light"
          }
        }
      ]
    },
    {
      "cell_type": "code",
      "metadata": {
        "colab": {
          "base_uri": "https://localhost:8080/",
          "height": 296
        },
        "id": "ZQWcuO9MLrFt",
        "outputId": "ced544c8-ddb6-4db1-9f49-00a3f4cd7c5d"
      },
      "source": [
        "sns.boxplot(x=df['target'], y=df['temp_c'])"
      ],
      "execution_count": 42,
      "outputs": [
        {
          "output_type": "execute_result",
          "data": {
            "text/plain": [
              "<matplotlib.axes._subplots.AxesSubplot at 0x7f8e458e8d50>"
            ]
          },
          "metadata": {},
          "execution_count": 42
        },
        {
          "output_type": "display_data",
          "data": {
            "image/png": "[encoded data removed]",
            "text/plain": [
              "<Figure size 432x288 with 1 Axes>"
            ]
          },
          "metadata": {
            "needs_background": "light"
          }
        }
      ]
    },
    {
      "cell_type": "code",
      "metadata": {
        "colab": {
          "base_uri": "https://localhost:8080/",
          "height": 296
        },
        "id": "6hvq2UTs6L9q",
        "outputId": "a4910779-fc78-453e-f3da-c0e938330d9a"
      },
      "source": [
        "sns.boxplot(x=df['target'], y=df['cloud'])"
      ],
      "execution_count": 32,
      "outputs": [
        {
          "output_type": "execute_result",
          "data": {
            "text/plain": [
              "<matplotlib.axes._subplots.AxesSubplot at 0x7f8e457ce710>"
            ]
          },
          "metadata": {},
          "execution_count": 32
        },
        {
          "output_type": "display_data",
          "data": {
            "image/png": "[encoded data removed]",
            "text/plain": [
              "<Figure size 432x288 with 1 Axes>"
            ]
          },
          "metadata": {
            "needs_background": "light"
          }
        }
      ]
    },
    {
      "cell_type": "code",
      "metadata": {
        "colab": {
          "base_uri": "https://localhost:8080/",
          "height": 386
        },
        "id": "8zwItGzOJISV",
        "outputId": "f7cef2ba-0e9b-4922-8dae-2efc0e576f4b"
      },
      "source": [
        "sns.displot(x=df['wind_kph'], col=df['target'], bins='sturges')"
      ],
      "execution_count": 40,
      "outputs": [
        {
          "output_type": "execute_result",
          "data": {
            "text/plain": [
              "<seaborn.axisgrid.FacetGrid at 0x7f8e4599f390>"
            ]
          },
          "metadata": {},
          "execution_count": 40
        },
        {
          "output_type": "display_data",
          "data": {
            "image/png": "[encoded data removed]",
            "text/plain": [
              "<Figure size 720x360 with 2 Axes>"
            ]
          },
          "metadata": {
            "needs_background": "light"
          }
        }
      ]
    },
    {
      "cell_type": "code",
      "metadata": {
        "colab": {
          "base_uri": "https://localhost:8080/",
          "height": 296
        },
        "id": "nY9eedAHJt6l",
        "outputId": "5b040170-a4c2-4aca-ec1b-1d9f32d5c4be"
      },
      "source": [
        "sns.boxplot(x=df['target'], y=df['wind_kph'])"
      ],
      "execution_count": 41,
      "outputs": [
        {
          "output_type": "execute_result",
          "data": {
            "text/plain": [
              "<matplotlib.axes._subplots.AxesSubplot at 0x7f8e45aedbd0>"
            ]
          },
          "metadata": {},
          "execution_count": 41
        },
        {
          "output_type": "display_data",
          "data": {
            "image/png": "[encoded data removed]",
            "text/plain": [
              "<Figure size 432x288 with 1 Axes>"
            ]
          },
          "metadata": {
            "needs_background": "light"
          }
        }
      ]
    },
    {
      "cell_type": "code",
      "metadata": {
        "colab": {
          "base_uri": "https://localhost:8080/",
          "height": 317
        },
        "id": "46-QTKRsGo3g",
        "outputId": "4892016a-7077-454b-98a7-98173180d612"
      },
      "source": [
        "df.describe()"
      ],
      "execution_count": 33,
      "outputs": [
        {
          "output_type": "execute_result",
          "data": {
            "text/html": [
              "<div>\n",
              "<style scoped>\n",
              "    .dataframe tbody tr th:only-of-type {\n",
              "        vertical-align: middle;\n",
              "    }\n",
              "\n",
              "    .dataframe tbody tr th {\n",
              "        vertical-align: top;\n",
              "    }\n",
              "\n",
              "    .dataframe thead th {\n",
              "        text-align: right;\n",
              "    }\n",
              "</style>\n",
              "<table border=\"1\" class=\"dataframe\">\n",
              "  <thead>\n",
              "    <tr style=\"text-align: right;\">\n",
              "      <th></th>\n",
              "      <th>temp_c</th>\n",
              "      <th>temp_f</th>\n",
              "      <th>is_day</th>\n",
              "      <th>wind_mph</th>\n",
              "      <th>wind_kph</th>\n",
              "      <th>wind_degree</th>\n",
              "      <th>pressure_mb</th>\n",
              "      <th>pressure_in</th>\n",
              "      <th>precip_mm</th>\n",
              "      <th>precip_in</th>\n",
              "      <th>humidity</th>\n",
              "      <th>cloud</th>\n",
              "      <th>feelslike_c</th>\n",
              "      <th>feelslike_f</th>\n",
              "      <th>vis_km</th>\n",
              "      <th>vis_miles</th>\n",
              "      <th>uv</th>\n",
              "      <th>gust_mph</th>\n",
              "      <th>gust_kph</th>\n",
              "      <th>target</th>\n",
              "    </tr>\n",
              "  </thead>\n",
              "  <tbody>\n",
              "    <tr>\n",
              "      <th>count</th>\n",
              "      <td>46342.000000</td>\n",
              "      <td>46342.000000</td>\n",
              "      <td>46342.000000</td>\n",
              "      <td>46342.000000</td>\n",
              "      <td>46342.000000</td>\n",
              "      <td>46342.000000</td>\n",
              "      <td>46342.000000</td>\n",
              "      <td>46342.000000</td>\n",
              "      <td>46342.000000</td>\n",
              "      <td>46342.000000</td>\n",
              "      <td>46342.000000</td>\n",
              "      <td>46342.000000</td>\n",
              "      <td>46342.000000</td>\n",
              "      <td>46342.000000</td>\n",
              "      <td>46342.000000</td>\n",
              "      <td>46342.000000</td>\n",
              "      <td>46342.000000</td>\n",
              "      <td>46342.000000</td>\n",
              "      <td>46342.000000</td>\n",
              "      <td>46342.000000</td>\n",
              "    </tr>\n",
              "    <tr>\n",
              "      <th>mean</th>\n",
              "      <td>18.763536</td>\n",
              "      <td>65.774746</td>\n",
              "      <td>0.543697</td>\n",
              "      <td>5.939811</td>\n",
              "      <td>9.552102</td>\n",
              "      <td>153.098464</td>\n",
              "      <td>1017.749299</td>\n",
              "      <td>30.356272</td>\n",
              "      <td>0.295436</td>\n",
              "      <td>0.011440</td>\n",
              "      <td>67.956713</td>\n",
              "      <td>35.987635</td>\n",
              "      <td>18.906687</td>\n",
              "      <td>66.027992</td>\n",
              "      <td>10.494709</td>\n",
              "      <td>6.129947</td>\n",
              "      <td>3.299707</td>\n",
              "      <td>8.958241</td>\n",
              "      <td>14.415716</td>\n",
              "      <td>0.079690</td>\n",
              "    </tr>\n",
              "    <tr>\n",
              "      <th>std</th>\n",
              "      <td>5.599083</td>\n",
              "      <td>10.078608</td>\n",
              "      <td>0.498092</td>\n",
              "      <td>4.490872</td>\n",
              "      <td>7.235525</td>\n",
              "      <td>104.253796</td>\n",
              "      <td>6.158897</td>\n",
              "      <td>0.297675</td>\n",
              "      <td>1.717674</td>\n",
              "      <td>0.067671</td>\n",
              "      <td>18.406762</td>\n",
              "      <td>38.653042</td>\n",
              "      <td>6.636285</td>\n",
              "      <td>11.945550</td>\n",
              "      <td>2.820540</td>\n",
              "      <td>1.628663</td>\n",
              "      <td>2.412878</td>\n",
              "      <td>4.533984</td>\n",
              "      <td>7.296949</td>\n",
              "      <td>0.270816</td>\n",
              "    </tr>\n",
              "    <tr>\n",
              "      <th>min</th>\n",
              "      <td>1.000000</td>\n",
              "      <td>33.800000</td>\n",
              "      <td>0.000000</td>\n",
              "      <td>0.000000</td>\n",
              "      <td>0.000000</td>\n",
              "      <td>0.000000</td>\n",
              "      <td>994.000000</td>\n",
              "      <td>29.380000</td>\n",
              "      <td>0.000000</td>\n",
              "      <td>0.000000</td>\n",
              "      <td>8.000000</td>\n",
              "      <td>0.000000</td>\n",
              "      <td>-1.900000</td>\n",
              "      <td>28.700000</td>\n",
              "      <td>0.000000</td>\n",
              "      <td>0.000000</td>\n",
              "      <td>1.000000</td>\n",
              "      <td>0.200000</td>\n",
              "      <td>0.400000</td>\n",
              "      <td>0.000000</td>\n",
              "    </tr>\n",
              "    <tr>\n",
              "      <th>25%</th>\n",
              "      <td>15.000000</td>\n",
              "      <td>59.000000</td>\n",
              "      <td>0.000000</td>\n",
              "      <td>2.500000</td>\n",
              "      <td>4.000000</td>\n",
              "      <td>70.000000</td>\n",
              "      <td>1014.000000</td>\n",
              "      <td>30.120000</td>\n",
              "      <td>0.000000</td>\n",
              "      <td>0.000000</td>\n",
              "      <td>55.000000</td>\n",
              "      <td>0.000000</td>\n",
              "      <td>14.800000</td>\n",
              "      <td>58.600000</td>\n",
              "      <td>10.000000</td>\n",
              "      <td>6.000000</td>\n",
              "      <td>1.000000</td>\n",
              "      <td>5.600000</td>\n",
              "      <td>9.000000</td>\n",
              "      <td>0.000000</td>\n",
              "    </tr>\n",
              "    <tr>\n",
              "      <th>50%</th>\n",
              "      <td>18.000000</td>\n",
              "      <td>64.400000</td>\n",
              "      <td>1.000000</td>\n",
              "      <td>5.600000</td>\n",
              "      <td>9.000000</td>\n",
              "      <td>135.000000</td>\n",
              "      <td>1019.000000</td>\n",
              "      <td>30.400000</td>\n",
              "      <td>0.000000</td>\n",
              "      <td>0.000000</td>\n",
              "      <td>72.000000</td>\n",
              "      <td>25.000000</td>\n",
              "      <td>18.000000</td>\n",
              "      <td>64.400000</td>\n",
              "      <td>10.000000</td>\n",
              "      <td>6.000000</td>\n",
              "      <td>3.000000</td>\n",
              "      <td>8.500000</td>\n",
              "      <td>13.700000</td>\n",
              "      <td>0.000000</td>\n",
              "    </tr>\n",
              "    <tr>\n",
              "      <th>75%</th>\n",
              "      <td>22.800000</td>\n",
              "      <td>73.000000</td>\n",
              "      <td>1.000000</td>\n",
              "      <td>9.400000</td>\n",
              "      <td>15.100000</td>\n",
              "      <td>240.000000</td>\n",
              "      <td>1022.000000</td>\n",
              "      <td>30.600000</td>\n",
              "      <td>0.100000</td>\n",
              "      <td>0.000000</td>\n",
              "      <td>82.000000</td>\n",
              "      <td>75.000000</td>\n",
              "      <td>24.600000</td>\n",
              "      <td>76.200000</td>\n",
              "      <td>10.000000</td>\n",
              "      <td>6.000000</td>\n",
              "      <td>6.000000</td>\n",
              "      <td>11.600000</td>\n",
              "      <td>18.700000</td>\n",
              "      <td>0.000000</td>\n",
              "    </tr>\n",
              "    <tr>\n",
              "      <th>max</th>\n",
              "      <td>34.400000</td>\n",
              "      <td>93.900000</td>\n",
              "      <td>1.000000</td>\n",
              "      <td>27.300000</td>\n",
              "      <td>43.900000</td>\n",
              "      <td>360.000000</td>\n",
              "      <td>1035.000000</td>\n",
              "      <td>31.000000</td>\n",
              "      <td>113.800000</td>\n",
              "      <td>4.480000</td>\n",
              "      <td>100.000000</td>\n",
              "      <td>100.000000</td>\n",
              "      <td>43.700000</td>\n",
              "      <td>110.600000</td>\n",
              "      <td>16.000000</td>\n",
              "      <td>9.000000</td>\n",
              "      <td>9.000000</td>\n",
              "      <td>41.600000</td>\n",
              "      <td>67.000000</td>\n",
              "      <td>1.000000</td>\n",
              "    </tr>\n",
              "  </tbody>\n",
              "</table>\n",
              "</div>"
            ],
            "text/plain": [
              "             temp_c        temp_f  ...      gust_kph        target\n",
              "count  46342.000000  46342.000000  ...  46342.000000  46342.000000\n",
              "mean      18.763536     65.774746  ...     14.415716      0.079690\n",
              "std        5.599083     10.078608  ...      7.296949      0.270816\n",
              "min        1.000000     33.800000  ...      0.400000      0.000000\n",
              "25%       15.000000     59.000000  ...      9.000000      0.000000\n",
              "50%       18.000000     64.400000  ...     13.700000      0.000000\n",
              "75%       22.800000     73.000000  ...     18.700000      0.000000\n",
              "max       34.400000     93.900000  ...     67.000000      1.000000\n",
              "\n",
              "[8 rows x 20 columns]"
            ]
          },
          "metadata": {},
          "execution_count": 33
        }
      ]
    },
    {
      "cell_type": "markdown",
      "metadata": {
        "id": "-3wUANjOM5QR"
      },
      "source": [
        "### **4. Modeling DataSet for MachineLearning Algorithm**"
      ]
    },
    {
      "cell_type": "code",
      "metadata": {
        "id": "eVkqn0Y0KThK"
      },
      "source": [
        "# Our goal is to predict weather is going to rain or not based on the last register\n",
        "# Now we're going to split the data\n",
        "train_df = df[['last_updated', 'city', 'temp_c', 'is_day', 'condition', 'wind_kph', 'wind_degree'\n",
        "          , 'pressure_mb', 'precip_mm', 'humidity', 'cloud', 'feelslike_c', 'vis_km', 'uv'\n",
        "          , 'gust_kph', 'target']]"
      ],
      "execution_count": 34,
      "outputs": []
    },
    {
      "cell_type": "code",
      "metadata": {
        "id": "QlMHVtgsKTkq"
      },
      "source": [
        "train_df = train_df.sort_values(by=['city', 'last_updated']).reset_index().drop(columns='index')"
      ],
      "execution_count": 35,
      "outputs": []
    },
    {
      "cell_type": "code",
      "metadata": {
        "colab": {
          "base_uri": "https://localhost:8080/",
          "height": 419
        },
        "id": "kPRTCUK2NPWo",
        "outputId": "03413ced-1b34-46b3-e06f-926e0ed22a19"
      },
      "source": [
        "train_df"
      ],
      "execution_count": 44,
      "outputs": [
        {
          "output_type": "execute_result",
          "data": {
            "text/html": [
              "<div>\n",
              "<style scoped>\n",
              "    .dataframe tbody tr th:only-of-type {\n",
              "        vertical-align: middle;\n",
              "    }\n",
              "\n",
              "    .dataframe tbody tr th {\n",
              "        vertical-align: top;\n",
              "    }\n",
              "\n",
              "    .dataframe thead th {\n",
              "        text-align: right;\n",
              "    }\n",
              "</style>\n",
              "<table border=\"1\" class=\"dataframe\">\n",
              "  <thead>\n",
              "    <tr style=\"text-align: right;\">\n",
              "      <th></th>\n",
              "      <th>last_updated</th>\n",
              "      <th>city</th>\n",
              "      <th>temp_c</th>\n",
              "      <th>is_day</th>\n",
              "      <th>condition</th>\n",
              "      <th>wind_mph</th>\n",
              "      <th>wind_degree</th>\n",
              "      <th>pressure_mb</th>\n",
              "      <th>precip_mm</th>\n",
              "      <th>humidity</th>\n",
              "      <th>cloud</th>\n",
              "      <th>feelslike_c</th>\n",
              "      <th>vis_km</th>\n",
              "      <th>uv</th>\n",
              "      <th>gust_kph</th>\n",
              "      <th>target</th>\n",
              "    </tr>\n",
              "  </thead>\n",
              "  <tbody>\n",
              "    <tr>\n",
              "      <th>0</th>\n",
              "      <td>2021-08-12 11:30:00</td>\n",
              "      <td>Beijing</td>\n",
              "      <td>27.0</td>\n",
              "      <td>1.0</td>\n",
              "      <td>Partly cloudy</td>\n",
              "      <td>4.3</td>\n",
              "      <td>140.0</td>\n",
              "      <td>1013.0</td>\n",
              "      <td>1.5</td>\n",
              "      <td>70.0</td>\n",
              "      <td>25.0</td>\n",
              "      <td>31.6</td>\n",
              "      <td>10.0</td>\n",
              "      <td>5.0</td>\n",
              "      <td>5.0</td>\n",
              "      <td>0</td>\n",
              "    </tr>\n",
              "    <tr>\n",
              "      <th>1</th>\n",
              "      <td>2021-08-27 08:00:00</td>\n",
              "      <td>Beijing</td>\n",
              "      <td>18.6</td>\n",
              "      <td>1.0</td>\n",
              "      <td>Partly cloudy</td>\n",
              "      <td>4.0</td>\n",
              "      <td>2.0</td>\n",
              "      <td>1011.0</td>\n",
              "      <td>0.0</td>\n",
              "      <td>62.0</td>\n",
              "      <td>9.0</td>\n",
              "      <td>18.6</td>\n",
              "      <td>10.0</td>\n",
              "      <td>5.0</td>\n",
              "      <td>11.9</td>\n",
              "      <td>0</td>\n",
              "    </tr>\n",
              "    <tr>\n",
              "      <th>2</th>\n",
              "      <td>2021-08-28 10:15:00</td>\n",
              "      <td>Beijing</td>\n",
              "      <td>21.0</td>\n",
              "      <td>1.0</td>\n",
              "      <td>Light rain</td>\n",
              "      <td>11.9</td>\n",
              "      <td>280.0</td>\n",
              "      <td>1015.0</td>\n",
              "      <td>0.0</td>\n",
              "      <td>73.0</td>\n",
              "      <td>0.0</td>\n",
              "      <td>21.0</td>\n",
              "      <td>10.0</td>\n",
              "      <td>6.0</td>\n",
              "      <td>8.6</td>\n",
              "      <td>1</td>\n",
              "    </tr>\n",
              "    <tr>\n",
              "      <th>3</th>\n",
              "      <td>2021-08-28 10:30:00</td>\n",
              "      <td>Beijing</td>\n",
              "      <td>21.0</td>\n",
              "      <td>1.0</td>\n",
              "      <td>Light rain</td>\n",
              "      <td>11.9</td>\n",
              "      <td>280.0</td>\n",
              "      <td>1015.0</td>\n",
              "      <td>0.0</td>\n",
              "      <td>73.0</td>\n",
              "      <td>0.0</td>\n",
              "      <td>21.0</td>\n",
              "      <td>10.0</td>\n",
              "      <td>6.0</td>\n",
              "      <td>8.6</td>\n",
              "      <td>1</td>\n",
              "    </tr>\n",
              "    <tr>\n",
              "      <th>4</th>\n",
              "      <td>2021-08-28 20:15:00</td>\n",
              "      <td>Beijing</td>\n",
              "      <td>21.0</td>\n",
              "      <td>0.0</td>\n",
              "      <td>Clear</td>\n",
              "      <td>0.0</td>\n",
              "      <td>221.0</td>\n",
              "      <td>1012.0</td>\n",
              "      <td>0.3</td>\n",
              "      <td>83.0</td>\n",
              "      <td>0.0</td>\n",
              "      <td>21.0</td>\n",
              "      <td>10.0</td>\n",
              "      <td>5.0</td>\n",
              "      <td>9.7</td>\n",
              "      <td>0</td>\n",
              "    </tr>\n",
              "    <tr>\n",
              "      <th>...</th>\n",
              "      <td>...</td>\n",
              "      <td>...</td>\n",
              "      <td>...</td>\n",
              "      <td>...</td>\n",
              "      <td>...</td>\n",
              "      <td>...</td>\n",
              "      <td>...</td>\n",
              "      <td>...</td>\n",
              "      <td>...</td>\n",
              "      <td>...</td>\n",
              "      <td>...</td>\n",
              "      <td>...</td>\n",
              "      <td>...</td>\n",
              "      <td>...</td>\n",
              "      <td>...</td>\n",
              "      <td>...</td>\n",
              "    </tr>\n",
              "    <tr>\n",
              "      <th>46337</th>\n",
              "      <td>2021-09-09 19:30:00</td>\n",
              "      <td>Sao Paulo</td>\n",
              "      <td>21.0</td>\n",
              "      <td>0.0</td>\n",
              "      <td>Moderate or heavy rain with thunder</td>\n",
              "      <td>5.6</td>\n",
              "      <td>30.0</td>\n",
              "      <td>1017.0</td>\n",
              "      <td>0.0</td>\n",
              "      <td>83.0</td>\n",
              "      <td>75.0</td>\n",
              "      <td>21.0</td>\n",
              "      <td>8.0</td>\n",
              "      <td>7.0</td>\n",
              "      <td>20.9</td>\n",
              "      <td>1</td>\n",
              "    </tr>\n",
              "    <tr>\n",
              "      <th>46338</th>\n",
              "      <td>2021-09-09 20:00:00</td>\n",
              "      <td>Sao Paulo</td>\n",
              "      <td>20.0</td>\n",
              "      <td>0.0</td>\n",
              "      <td>Clear</td>\n",
              "      <td>5.6</td>\n",
              "      <td>40.0</td>\n",
              "      <td>1016.0</td>\n",
              "      <td>0.1</td>\n",
              "      <td>88.0</td>\n",
              "      <td>0.0</td>\n",
              "      <td>20.0</td>\n",
              "      <td>9.0</td>\n",
              "      <td>1.0</td>\n",
              "      <td>16.2</td>\n",
              "      <td>0</td>\n",
              "    </tr>\n",
              "    <tr>\n",
              "      <th>46339</th>\n",
              "      <td>2021-09-09 20:15:00</td>\n",
              "      <td>Sao Paulo</td>\n",
              "      <td>20.0</td>\n",
              "      <td>0.0</td>\n",
              "      <td>Clear</td>\n",
              "      <td>5.6</td>\n",
              "      <td>40.0</td>\n",
              "      <td>1016.0</td>\n",
              "      <td>0.0</td>\n",
              "      <td>88.0</td>\n",
              "      <td>0.0</td>\n",
              "      <td>20.0</td>\n",
              "      <td>9.0</td>\n",
              "      <td>6.0</td>\n",
              "      <td>19.4</td>\n",
              "      <td>0</td>\n",
              "    </tr>\n",
              "    <tr>\n",
              "      <th>46340</th>\n",
              "      <td>2021-09-09 20:30:00</td>\n",
              "      <td>Sao Paulo</td>\n",
              "      <td>20.0</td>\n",
              "      <td>0.0</td>\n",
              "      <td>Clear</td>\n",
              "      <td>5.6</td>\n",
              "      <td>40.0</td>\n",
              "      <td>1016.0</td>\n",
              "      <td>0.0</td>\n",
              "      <td>88.0</td>\n",
              "      <td>0.0</td>\n",
              "      <td>20.0</td>\n",
              "      <td>9.0</td>\n",
              "      <td>6.0</td>\n",
              "      <td>19.4</td>\n",
              "      <td>0</td>\n",
              "    </tr>\n",
              "    <tr>\n",
              "      <th>46341</th>\n",
              "      <td>2021-09-09 21:15:00</td>\n",
              "      <td>Sao Paulo</td>\n",
              "      <td>20.0</td>\n",
              "      <td>0.0</td>\n",
              "      <td>Clear</td>\n",
              "      <td>5.6</td>\n",
              "      <td>40.0</td>\n",
              "      <td>1016.0</td>\n",
              "      <td>0.1</td>\n",
              "      <td>88.0</td>\n",
              "      <td>0.0</td>\n",
              "      <td>20.0</td>\n",
              "      <td>9.0</td>\n",
              "      <td>1.0</td>\n",
              "      <td>16.2</td>\n",
              "      <td>0</td>\n",
              "    </tr>\n",
              "  </tbody>\n",
              "</table>\n",
              "<p>46342 rows × 16 columns</p>\n",
              "</div>"
            ],
            "text/plain": [
              "             last_updated       city  temp_c  ...   uv gust_kph  target\n",
              "0     2021-08-12 11:30:00    Beijing    27.0  ...  5.0      5.0       0\n",
              "1     2021-08-27 08:00:00    Beijing    18.6  ...  5.0     11.9       0\n",
              "2     2021-08-28 10:15:00    Beijing    21.0  ...  6.0      8.6       1\n",
              "3     2021-08-28 10:30:00    Beijing    21.0  ...  6.0      8.6       1\n",
              "4     2021-08-28 20:15:00    Beijing    21.0  ...  5.0      9.7       0\n",
              "...                   ...        ...     ...  ...  ...      ...     ...\n",
              "46337 2021-09-09 19:30:00  Sao Paulo    21.0  ...  7.0     20.9       1\n",
              "46338 2021-09-09 20:00:00  Sao Paulo    20.0  ...  1.0     16.2       0\n",
              "46339 2021-09-09 20:15:00  Sao Paulo    20.0  ...  6.0     19.4       0\n",
              "46340 2021-09-09 20:30:00  Sao Paulo    20.0  ...  6.0     19.4       0\n",
              "46341 2021-09-09 21:15:00  Sao Paulo    20.0  ...  1.0     16.2       0\n",
              "\n",
              "[46342 rows x 16 columns]"
            ]
          },
          "metadata": {},
          "execution_count": 44
        }
      ]
    },
    {
      "cell_type": "code",
      "metadata": {
        "id": "VfcfI0IpNn_Q"
      },
      "source": [
        "# Calculate the difference between the actual and previous register\n",
        "def date_diff_calc(df_column):\n",
        "  i = 1\n",
        "  date_diff_list = list()\n",
        "  for cell in df_column:\n",
        "    if i < len(df_column):\n",
        "      date_diff_min = (df_column[i] - cell).total_seconds()/60\n",
        "      date_diff_list.append(date_diff_min)\n",
        "      i += 1\n",
        "  return date_diff_list"
      ],
      "execution_count": 101,
      "outputs": []
    },
    {
      "cell_type": "code",
      "metadata": {
        "id": "W8k8RxQOUtz6"
      },
      "source": [
        "train_df['date_diff'] = pd.DataFrame(date_diff_calc(train_df['last_updated']))"
      ],
      "execution_count": 104,
      "outputs": []
    },
    {
      "cell_type": "code",
      "metadata": {
        "id": "px8rcQR1YVKZ"
      },
      "source": [
        "# create a column that tells us weather is raining in the next 15 minutes\n",
        "def rain_next1(df_column):\n",
        "  i = 1\n",
        "  rain_next1 = list()\n",
        "  for cell in df_column:\n",
        "    if i < len(df_column):\n",
        "      rain_next1.append(df_column[i])\n",
        "      i += 1\n",
        "  return rain_next1"
      ],
      "execution_count": 106,
      "outputs": []
    },
    {
      "cell_type": "code",
      "metadata": {
        "colab": {
          "base_uri": "https://localhost:8080/"
        },
        "id": "iqefjBKZc8uK",
        "outputId": "db336945-7b3b-4941-c55f-47092410eed5"
      },
      "source": [
        "train_df['target_1'] = pd.DataFrame(rain_next1(train_df['target']))"
      ],
      "execution_count": 108,
      "outputs": [
        {
          "output_type": "execute_result",
          "data": {
            "text/plain": [
              "0        0.0\n",
              "1        1.0\n",
              "2        1.0\n",
              "3        0.0\n",
              "4        0.0\n",
              "        ... \n",
              "46337    0.0\n",
              "46338    0.0\n",
              "46339    0.0\n",
              "46340    0.0\n",
              "46341    NaN\n",
              "Name: target_1, Length: 46342, dtype: float64"
            ]
          },
          "metadata": {},
          "execution_count": 108
        }
      ]
    },
    {
      "cell_type": "code",
      "metadata": {
        "colab": {
          "base_uri": "https://localhost:8080/",
          "height": 297
        },
        "id": "qP-M8zh-dp5p",
        "outputId": "b058de34-976b-4ade-9b27-446e7b601aaa"
      },
      "source": [
        "sns.countplot(x=train_df['target_1'])"
      ],
      "execution_count": 109,
      "outputs": [
        {
          "output_type": "execute_result",
          "data": {
            "text/plain": [
              "<matplotlib.axes._subplots.AxesSubplot at 0x7f8e45f0e1d0>"
            ]
          },
          "metadata": {},
          "execution_count": 109
        },
        {
          "output_type": "display_data",
          "data": {
            "image/png": "[encoded data removed]",
            "text/plain": [
              "<Figure size 432x288 with 1 Axes>"
            ]
          },
          "metadata": {
            "needs_background": "light"
          }
        }
      ]
    }
  ]
}