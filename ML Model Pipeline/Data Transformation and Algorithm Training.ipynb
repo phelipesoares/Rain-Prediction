{
  "nbformat": 4,
  "nbformat_minor": 0,
  "metadata": {
    "colab": {
      "name": "Exploratory Analisis and Data Transformation.ipynb",
      "provenance": [],
      "collapsed_sections": [
        "unA2Dm3Dqult",
        "aNrh6276rIjL",
        "CID-oGdHMLGS"
      ],
      "mount_file_id": "https://github.com/phelipe-sb/Rain-Prediction/blob/main/ML%20Model%20Pipeline/Machine%20Learning%20Engineering.ipynb",
      "authorship_tag": "ABX9TyPROddLgai1uHMLR+0C0OuV",
      "include_colab_link": true
    },
    "kernelspec": {
      "name": "python3",
      "display_name": "Python 3"
    },
    "language_info": {
      "name": "python"
    }
  },
  "cells": [
    {
      "cell_type": "markdown",
      "metadata": {
        "id": "view-in-github",
        "colab_type": "text"
      },
      "source": [
        "<a href=\"https://colab.research.google.com/github/phelipe-sb/Rain-Prediction/blob/main/ML%20Model%20Pipeline/Machine%20Learning%20Engineering.ipynb\" target=\"_parent\"><img src=\"https://colab.research.google.com/assets/colab-badge.svg\" alt=\"Open In Colab\"/></a>"
      ]
    },
    {
      "cell_type": "markdown",
      "metadata": {
        "id": "unA2Dm3Dqult"
      },
      "source": [
        "### **1. Get Data from BigQuery**"
      ]
    },
    {
      "cell_type": "code",
      "metadata": {
        "id": "ib7vkqvLlH4y"
      },
      "source": [
        "# GCP Libraries\n",
        "from google.cloud import bigquery\n",
        "from google.oauth2 import service_account\n",
        "\n",
        "# Engineering and Visualization\n",
        "import numpy as np\n",
        "import pandas as pd\n",
        "import pickle\n",
        "import seaborn as sns\n",
        "import matplotlib.pyplot as plt\n",
        "\n",
        "# Machine Learning\n",
        "from sklearn.model_selection import train_test_split\n",
        "from sklearn.linear_model import LogisticRegression\n",
        "from sklearn.metrics import confusion_matrix"
      ],
      "execution_count": 4,
      "outputs": []
    },
    {
      "cell_type": "code",
      "metadata": {
        "id": "TSEUrGL1l3Jv"
      },
      "source": [
        "# Projett credentials with account service\n",
        "path = '/content/drive/MyDrive/Weather_Project/Weather Project-6fa8e059f642.json'"
      ],
      "execution_count": 5,
      "outputs": []
    },
    {
      "cell_type": "code",
      "metadata": {
        "id": "VoshDZOHlQuc"
      },
      "source": [
        "# Credentials\n",
        "credentials = service_account.Credentials.from_service_account_file(path)\n",
        "project_id = credentials.project_id\n",
        "client = bigquery.Client(project=project_id, credentials=credentials)"
      ],
      "execution_count": 6,
      "outputs": []
    },
    {
      "cell_type": "code",
      "metadata": {
        "id": "ur7VpbzUk4cY"
      },
      "source": [
        "# SQL Query that will run in BQ\n",
        "query_string = \"\"\"\n",
        "SELECT *\n",
        "FROM (SELECT *\n",
        "            , ROW_NUMBER() OVER(PARTITION BY last_updated, city ORDER BY last_updated, city) AS row_num\n",
        "            FROM `weather-project-305419.Daily_Weather.Weather-Info`) as row_weather\n",
        "WHERE row_num = 1\n",
        "\"\"\""
      ],
      "execution_count": 7,
      "outputs": []
    },
    {
      "cell_type": "code",
      "metadata": {
        "id": "Qpob5wiimrFM",
        "colab": {
          "base_uri": "https://localhost:8080/",
          "height": 313
        },
        "outputId": "8d2df76e-3355-4038-a6b8-ac1fa87cb1f3"
      },
      "source": [
        "# Transform sql query results in a pandas dataframe\n",
        "df = (\n",
        "    client.query(query_string)\n",
        "    .result()\n",
        "    .to_dataframe()\n",
        ")\n",
        "df.head()"
      ],
      "execution_count": 8,
      "outputs": [
        {
          "output_type": "execute_result",
          "data": {
            "text/html": [
              "<div>\n",
              "<style scoped>\n",
              "    .dataframe tbody tr th:only-of-type {\n",
              "        vertical-align: middle;\n",
              "    }\n",
              "\n",
              "    .dataframe tbody tr th {\n",
              "        vertical-align: top;\n",
              "    }\n",
              "\n",
              "    .dataframe thead th {\n",
              "        text-align: right;\n",
              "    }\n",
              "</style>\n",
              "<table border=\"1\" class=\"dataframe\">\n",
              "  <thead>\n",
              "    <tr style=\"text-align: right;\">\n",
              "      <th></th>\n",
              "      <th>last_updated_epoch</th>\n",
              "      <th>last_updated</th>\n",
              "      <th>temp_c</th>\n",
              "      <th>temp_f</th>\n",
              "      <th>is_day</th>\n",
              "      <th>condition</th>\n",
              "      <th>wind_mph</th>\n",
              "      <th>wind_kph</th>\n",
              "      <th>wind_degree</th>\n",
              "      <th>wind_dir</th>\n",
              "      <th>pressure_mb</th>\n",
              "      <th>pressure_in</th>\n",
              "      <th>precip_mm</th>\n",
              "      <th>precip_in</th>\n",
              "      <th>humidity</th>\n",
              "      <th>cloud</th>\n",
              "      <th>feelslike_c</th>\n",
              "      <th>feelslike_f</th>\n",
              "      <th>vis_km</th>\n",
              "      <th>vis_miles</th>\n",
              "      <th>uv</th>\n",
              "      <th>gust_mph</th>\n",
              "      <th>gust_kph</th>\n",
              "      <th>city</th>\n",
              "      <th>extraction_date</th>\n",
              "      <th>row_num</th>\n",
              "    </tr>\n",
              "  </thead>\n",
              "  <tbody>\n",
              "    <tr>\n",
              "      <th>0</th>\n",
              "      <td>1619298900</td>\n",
              "      <td>2021-04-24 17:15</td>\n",
              "      <td>17.8</td>\n",
              "      <td>64.0</td>\n",
              "      <td>1</td>\n",
              "      <td>Sunny</td>\n",
              "      <td>8.1</td>\n",
              "      <td>13.0</td>\n",
              "      <td>190</td>\n",
              "      <td>S</td>\n",
              "      <td>1014.0</td>\n",
              "      <td>30.4</td>\n",
              "      <td>0.0</td>\n",
              "      <td>0.0</td>\n",
              "      <td>27</td>\n",
              "      <td>0</td>\n",
              "      <td>17.8</td>\n",
              "      <td>64.0</td>\n",
              "      <td>16.0</td>\n",
              "      <td>9.0</td>\n",
              "      <td>5.0</td>\n",
              "      <td>10.3</td>\n",
              "      <td>16.6</td>\n",
              "      <td>New York</td>\n",
              "      <td>None</td>\n",
              "      <td>1</td>\n",
              "    </tr>\n",
              "    <tr>\n",
              "      <th>1</th>\n",
              "      <td>1619415900</td>\n",
              "      <td>2021-04-26 02:45</td>\n",
              "      <td>20.3</td>\n",
              "      <td>68.5</td>\n",
              "      <td>0</td>\n",
              "      <td>Partly cloudy</td>\n",
              "      <td>0.9</td>\n",
              "      <td>1.4</td>\n",
              "      <td>280</td>\n",
              "      <td>W</td>\n",
              "      <td>1014.0</td>\n",
              "      <td>30.4</td>\n",
              "      <td>0.0</td>\n",
              "      <td>0.0</td>\n",
              "      <td>68</td>\n",
              "      <td>14</td>\n",
              "      <td>20.3</td>\n",
              "      <td>68.5</td>\n",
              "      <td>10.0</td>\n",
              "      <td>6.0</td>\n",
              "      <td>1.0</td>\n",
              "      <td>1.6</td>\n",
              "      <td>2.5</td>\n",
              "      <td>Carapicuiba</td>\n",
              "      <td>None</td>\n",
              "      <td>1</td>\n",
              "    </tr>\n",
              "    <tr>\n",
              "      <th>2</th>\n",
              "      <td>1619484300</td>\n",
              "      <td>2021-04-27 01:45</td>\n",
              "      <td>5.0</td>\n",
              "      <td>41.0</td>\n",
              "      <td>0</td>\n",
              "      <td>Clear</td>\n",
              "      <td>4.3</td>\n",
              "      <td>6.8</td>\n",
              "      <td>60</td>\n",
              "      <td>ENE</td>\n",
              "      <td>1016.0</td>\n",
              "      <td>30.5</td>\n",
              "      <td>0.0</td>\n",
              "      <td>0.0</td>\n",
              "      <td>75</td>\n",
              "      <td>0</td>\n",
              "      <td>4.4</td>\n",
              "      <td>39.8</td>\n",
              "      <td>10.0</td>\n",
              "      <td>6.0</td>\n",
              "      <td>1.0</td>\n",
              "      <td>3.1</td>\n",
              "      <td>5.0</td>\n",
              "      <td>London</td>\n",
              "      <td>None</td>\n",
              "      <td>1</td>\n",
              "    </tr>\n",
              "    <tr>\n",
              "      <th>3</th>\n",
              "      <td>1619541000</td>\n",
              "      <td>2021-04-27 12:30</td>\n",
              "      <td>13.9</td>\n",
              "      <td>57.0</td>\n",
              "      <td>1</td>\n",
              "      <td>Partly cloudy</td>\n",
              "      <td>0.0</td>\n",
              "      <td>0.0</td>\n",
              "      <td>0</td>\n",
              "      <td>N</td>\n",
              "      <td>1019.0</td>\n",
              "      <td>30.6</td>\n",
              "      <td>0.1</td>\n",
              "      <td>0.0</td>\n",
              "      <td>23</td>\n",
              "      <td>75</td>\n",
              "      <td>13.7</td>\n",
              "      <td>56.7</td>\n",
              "      <td>16.0</td>\n",
              "      <td>9.0</td>\n",
              "      <td>4.0</td>\n",
              "      <td>5.1</td>\n",
              "      <td>8.3</td>\n",
              "      <td>New York</td>\n",
              "      <td>None</td>\n",
              "      <td>1</td>\n",
              "    </tr>\n",
              "    <tr>\n",
              "      <th>4</th>\n",
              "      <td>1619579700</td>\n",
              "      <td>2021-04-27 23:15</td>\n",
              "      <td>13.3</td>\n",
              "      <td>55.9</td>\n",
              "      <td>0</td>\n",
              "      <td>Clear</td>\n",
              "      <td>3.8</td>\n",
              "      <td>6.1</td>\n",
              "      <td>140</td>\n",
              "      <td>SE</td>\n",
              "      <td>1015.0</td>\n",
              "      <td>30.4</td>\n",
              "      <td>0.0</td>\n",
              "      <td>0.0</td>\n",
              "      <td>57</td>\n",
              "      <td>0</td>\n",
              "      <td>12.6</td>\n",
              "      <td>54.6</td>\n",
              "      <td>16.0</td>\n",
              "      <td>9.0</td>\n",
              "      <td>1.0</td>\n",
              "      <td>9.8</td>\n",
              "      <td>15.8</td>\n",
              "      <td>New York</td>\n",
              "      <td>None</td>\n",
              "      <td>1</td>\n",
              "    </tr>\n",
              "  </tbody>\n",
              "</table>\n",
              "</div>"
            ],
            "text/plain": [
              "  last_updated_epoch      last_updated  ... extraction_date row_num\n",
              "0         1619298900  2021-04-24 17:15  ...            None       1\n",
              "1         1619415900  2021-04-26 02:45  ...            None       1\n",
              "2         1619484300  2021-04-27 01:45  ...            None       1\n",
              "3         1619541000  2021-04-27 12:30  ...            None       1\n",
              "4         1619579700  2021-04-27 23:15  ...            None       1\n",
              "\n",
              "[5 rows x 26 columns]"
            ]
          },
          "metadata": {},
          "execution_count": 8
        }
      ]
    },
    {
      "cell_type": "code",
      "metadata": {
        "colab": {
          "base_uri": "https://localhost:8080/"
        },
        "id": "zhtw2mbJDrs7",
        "outputId": "577b2182-000c-47ef-d262-7719a87b870d"
      },
      "source": [
        "%cd /content/drive/MyDrive/Weather_Project"
      ],
      "execution_count": 9,
      "outputs": [
        {
          "output_type": "stream",
          "name": "stdout",
          "text": [
            "/content/drive/MyDrive/Weather_Project\n"
          ]
        }
      ]
    },
    {
      "cell_type": "code",
      "metadata": {
        "id": "0fgu3JrLnwpz"
      },
      "source": [
        "# Saving in a pickle file so we don't need query in database again\n",
        "df.to_pickle(\"weather_data\")"
      ],
      "execution_count": 10,
      "outputs": []
    },
    {
      "cell_type": "markdown",
      "metadata": {
        "id": "aNrh6276rIjL"
      },
      "source": [
        "### **2. Data Transformation for Analysis**"
      ]
    },
    {
      "cell_type": "code",
      "metadata": {
        "id": "3nKKszo2rUMq"
      },
      "source": [
        "# Open pickle file\n",
        "file = open('/content/drive/MyDrive/Weather_Project/weather_data', 'rb')\n",
        "df = pickle.load(file)"
      ],
      "execution_count": 11,
      "outputs": []
    },
    {
      "cell_type": "code",
      "metadata": {
        "colab": {
          "base_uri": "https://localhost:8080/"
        },
        "id": "5-I2QvB_LYz7",
        "outputId": "8f0d011a-e6da-4a29-c2e1-3750e626198e"
      },
      "source": [
        "cidades = ['Paris', 'Sao Paulo', 'Carapicuiba', 'New York', 'Otawwa', 'London', 'Rome', 'Moscow'\n",
        "        , 'Hong Kong', 'Beijing']\n",
        "df = df.loc[df['city'].isin(cidades)]\n",
        "df['last_updated'] = pd.to_datetime(df['last_updated'])\n",
        "df.shape"
      ],
      "execution_count": 12,
      "outputs": [
        {
          "output_type": "execute_result",
          "data": {
            "text/plain": [
              "(58556, 26)"
            ]
          },
          "metadata": {},
          "execution_count": 12
        }
      ]
    },
    {
      "cell_type": "code",
      "metadata": {
        "id": "yrojat6snPSX",
        "colab": {
          "base_uri": "https://localhost:8080/"
        },
        "outputId": "29fc9b24-6ab8-4a50-bdf1-052a6432cce6"
      },
      "source": [
        "# Drop useless columns for analysis\n",
        "df = df.drop(columns=['row_num', 'last_updated_epoch', 'extraction_date'])\n",
        "df = df.dropna()\n",
        "# number of rows and columns\n",
        "print(df.shape, df['city'].unique())"
      ],
      "execution_count": 13,
      "outputs": [
        {
          "output_type": "stream",
          "name": "stdout",
          "text": [
            "(58556, 23) ['New York' 'Carapicuiba' 'London' 'Sao Paulo' 'Paris' 'Rome' 'Hong Kong'\n",
            " 'Moscow' 'Beijing']\n"
          ]
        }
      ]
    },
    {
      "cell_type": "code",
      "metadata": {
        "id": "C6qd17xDtV2Z",
        "colab": {
          "base_uri": "https://localhost:8080/"
        },
        "outputId": "79cbb9b2-b6a6-4648-ae7a-7b8be3a2c4f4"
      },
      "source": [
        "# Target: Predict condition (that means wether is raining or not) \n",
        "df['condition'].unique()"
      ],
      "execution_count": 14,
      "outputs": [
        {
          "output_type": "execute_result",
          "data": {
            "text/plain": [
              "array(['Sunny', 'Partly cloudy', 'Clear', 'Light rain shower', 'Overcast',\n",
              "       'Light rain', 'Mist', 'Patchy rain possible', 'Fog', 'Cloudy',\n",
              "       'Light drizzle', 'Patchy light rain with thunder',\n",
              "       'Moderate or heavy rain shower', 'Heavy rain',\n",
              "       'Thundery outbreaks possible', 'Patchy light rain',\n",
              "       'Moderate rain', 'Moderate rain at times',\n",
              "       'Torrential rain shower', 'Light snow',\n",
              "       'Moderate or heavy rain with thunder',\n",
              "       'Moderate or heavy snow with thunder',\n",
              "       'Moderate or heavy snow showers', 'Heavy rain at times',\n",
              "       'Ice pellets'], dtype=object)"
            ]
          },
          "metadata": {},
          "execution_count": 14
        }
      ]
    },
    {
      "cell_type": "markdown",
      "metadata": {
        "id": "CFFD9XIGugi5"
      },
      "source": [
        "We need to resume this bunch of conditions and define our target class"
      ]
    },
    {
      "cell_type": "code",
      "metadata": {
        "id": "mU5t6p1mupkb"
      },
      "source": [
        "# This conditions means that it's raining in the moment\n",
        "raining_list = ['Light rain', 'Light rain shower', 'Light drizzle', 'Heavy rain', 'Moderate rain', 'Patchy light rain with thunder'\n",
        "            , 'Moderate or heavy rain shower', 'Patchy light rain', 'Torrential rain shower', 'Moderate rain at times'\n",
        "            , 'Moderate or heavy rain with thunder']"
      ],
      "execution_count": 15,
      "outputs": []
    },
    {
      "cell_type": "code",
      "metadata": {
        "id": "heg5yiubwMLQ",
        "colab": {
          "base_uri": "https://localhost:8080/"
        },
        "outputId": "9a4334f7-6aea-4f58-cd3d-875bad47ab27"
      },
      "source": [
        "# Creating the target variable\n",
        "df['target'] = df['condition'].apply(lambda x: 1 if x in raining_list else 0)\n",
        "df['target'].unique()"
      ],
      "execution_count": 16,
      "outputs": [
        {
          "output_type": "execute_result",
          "data": {
            "text/plain": [
              "array([0, 1])"
            ]
          },
          "metadata": {},
          "execution_count": 16
        }
      ]
    },
    {
      "cell_type": "code",
      "metadata": {
        "id": "NGYN-O4y6pSU",
        "colab": {
          "base_uri": "https://localhost:8080/"
        },
        "outputId": "7d9c1566-ba3d-41f7-c388-773a3ae22e7b"
      },
      "source": [
        "df.info()"
      ],
      "execution_count": 17,
      "outputs": [
        {
          "output_type": "stream",
          "name": "stdout",
          "text": [
            "<class 'pandas.core.frame.DataFrame'>\n",
            "Int64Index: 58556 entries, 0 to 60994\n",
            "Data columns (total 24 columns):\n",
            " #   Column        Non-Null Count  Dtype         \n",
            "---  ------        --------------  -----         \n",
            " 0   last_updated  58556 non-null  datetime64[ns]\n",
            " 1   temp_c        58556 non-null  object        \n",
            " 2   temp_f        58556 non-null  object        \n",
            " 3   is_day        58556 non-null  object        \n",
            " 4   condition     58556 non-null  object        \n",
            " 5   wind_mph      58556 non-null  object        \n",
            " 6   wind_kph      58556 non-null  object        \n",
            " 7   wind_degree   58556 non-null  object        \n",
            " 8   wind_dir      58556 non-null  object        \n",
            " 9   pressure_mb   58556 non-null  object        \n",
            " 10  pressure_in   58556 non-null  object        \n",
            " 11  precip_mm     58556 non-null  object        \n",
            " 12  precip_in     58556 non-null  object        \n",
            " 13  humidity      58556 non-null  object        \n",
            " 14  cloud         58556 non-null  object        \n",
            " 15  feelslike_c   58556 non-null  object        \n",
            " 16  feelslike_f   58556 non-null  object        \n",
            " 17  vis_km        58556 non-null  object        \n",
            " 18  vis_miles     58556 non-null  object        \n",
            " 19  uv            58556 non-null  object        \n",
            " 20  gust_mph      58556 non-null  object        \n",
            " 21  gust_kph      58556 non-null  object        \n",
            " 22  city          58556 non-null  object        \n",
            " 23  target        58556 non-null  int64         \n",
            "dtypes: datetime64[ns](1), int64(1), object(22)\n",
            "memory usage: 11.2+ MB\n"
          ]
        }
      ]
    },
    {
      "cell_type": "code",
      "metadata": {
        "id": "Lep4_CRE6r32"
      },
      "source": [
        "# Create a list with columns to be converted\n",
        "float_list = list()\n",
        "for column_name in df.drop(columns='target').columns:\n",
        "  if str(df[f'{column_name}'][0]).replace(\".\", \"\").replace(\"-\", \"\").isnumeric() == True:\n",
        "    float_list.append(column_name)"
      ],
      "execution_count": 18,
      "outputs": []
    },
    {
      "cell_type": "code",
      "metadata": {
        "id": "NyIMln6b-T7N"
      },
      "source": [
        "# function to convert columns to float\n",
        "def to_float(df):\n",
        "  for column in df.columns:\n",
        "    if column in float_list:\n",
        "      df[f'{column}'] = df[f'{column}'].astype(\"float\")\n",
        "  return df.info()"
      ],
      "execution_count": 19,
      "outputs": []
    },
    {
      "cell_type": "code",
      "metadata": {
        "id": "qLQngUnK_SyD",
        "colab": {
          "base_uri": "https://localhost:8080/"
        },
        "outputId": "80c0f906-9f0d-4591-908e-3b94a50d1f78"
      },
      "source": [
        "to_float(df)"
      ],
      "execution_count": 20,
      "outputs": [
        {
          "output_type": "stream",
          "name": "stdout",
          "text": [
            "<class 'pandas.core.frame.DataFrame'>\n",
            "Int64Index: 58556 entries, 0 to 60994\n",
            "Data columns (total 24 columns):\n",
            " #   Column        Non-Null Count  Dtype         \n",
            "---  ------        --------------  -----         \n",
            " 0   last_updated  58556 non-null  datetime64[ns]\n",
            " 1   temp_c        58556 non-null  float64       \n",
            " 2   temp_f        58556 non-null  float64       \n",
            " 3   is_day        58556 non-null  float64       \n",
            " 4   condition     58556 non-null  object        \n",
            " 5   wind_mph      58556 non-null  float64       \n",
            " 6   wind_kph      58556 non-null  float64       \n",
            " 7   wind_degree   58556 non-null  float64       \n",
            " 8   wind_dir      58556 non-null  object        \n",
            " 9   pressure_mb   58556 non-null  float64       \n",
            " 10  pressure_in   58556 non-null  float64       \n",
            " 11  precip_mm     58556 non-null  float64       \n",
            " 12  precip_in     58556 non-null  float64       \n",
            " 13  humidity      58556 non-null  float64       \n",
            " 14  cloud         58556 non-null  float64       \n",
            " 15  feelslike_c   58556 non-null  float64       \n",
            " 16  feelslike_f   58556 non-null  float64       \n",
            " 17  vis_km        58556 non-null  float64       \n",
            " 18  vis_miles     58556 non-null  float64       \n",
            " 19  uv            58556 non-null  float64       \n",
            " 20  gust_mph      58556 non-null  float64       \n",
            " 21  gust_kph      58556 non-null  float64       \n",
            " 22  city          58556 non-null  object        \n",
            " 23  target        58556 non-null  int64         \n",
            "dtypes: datetime64[ns](1), float64(19), int64(1), object(3)\n",
            "memory usage: 13.7+ MB\n"
          ]
        }
      ]
    },
    {
      "cell_type": "markdown",
      "metadata": {
        "id": "CID-oGdHMLGS"
      },
      "source": [
        "### **3. Data Analysis**"
      ]
    },
    {
      "cell_type": "code",
      "metadata": {
        "colab": {
          "base_uri": "https://localhost:8080/",
          "height": 0
        },
        "id": "FgablHw9w5s-",
        "outputId": "c5a5f314-4026-4dfd-c299-c1e3919e94be"
      },
      "source": [
        "# Target Variable Ocurrency\n",
        "percent = str(round(sum(df['target'])/len(df['target']), 1)*100) + '%'\n",
        "print(f'percentage of target == 1 is: {percent}')\n",
        "sns.histplot(data=df['target'])"
      ],
      "execution_count": 21,
      "outputs": [
        {
          "output_type": "stream",
          "name": "stdout",
          "text": [
            "percentage of target == 1 is: 10.0%\n"
          ]
        },
        {
          "output_type": "execute_result",
          "data": {
            "text/plain": [
              "<matplotlib.axes._subplots.AxesSubplot at 0x7fbf22567450>"
            ]
          },
          "metadata": {},
          "execution_count": 21
        },
        {
          "output_type": "display_data",
          "data": {
            "image/png": "[encoded data removed]",
            "text/plain": [
              "<Figure size 432x288 with 1 Axes>"
            ]
          },
          "metadata": {
            "needs_background": "light"
          }
        }
      ]
    },
    {
      "cell_type": "code",
      "metadata": {
        "colab": {
          "base_uri": "https://localhost:8080/",
          "height": 0
        },
        "id": "ZvXZugBGxkLp",
        "outputId": "35f9114b-e2a9-4a49-9358-c360047e562e"
      },
      "source": [
        "sns.countplot(x=df['is_day'], hue=df['target'])"
      ],
      "execution_count": 22,
      "outputs": [
        {
          "output_type": "execute_result",
          "data": {
            "text/plain": [
              "<matplotlib.axes._subplots.AxesSubplot at 0x7fbf3ebcb5d0>"
            ]
          },
          "metadata": {},
          "execution_count": 22
        },
        {
          "output_type": "display_data",
          "data": {
            "image/png": "[encoded data removed]",
            "text/plain": [
              "<Figure size 432x288 with 1 Axes>"
            ]
          },
          "metadata": {
            "needs_background": "light"
          }
        }
      ]
    },
    {
      "cell_type": "code",
      "metadata": {
        "colab": {
          "base_uri": "https://localhost:8080/",
          "height": 0
        },
        "id": "ofjyyMAH3Z3a",
        "outputId": "7c6f00bb-6826-4b88-e360-65f3b672edb8"
      },
      "source": [
        "plt.figure(figsize=(15, 5))\n",
        "ax = sns.countplot(x=df['city'], hue=df['target'])"
      ],
      "execution_count": 23,
      "outputs": [
        {
          "output_type": "display_data",
          "data": {
            "image/png": "[encoded data removed]",
            "text/plain": [
              "<Figure size 1080x360 with 1 Axes>"
            ]
          },
          "metadata": {
            "needs_background": "light"
          }
        }
      ]
    },
    {
      "cell_type": "code",
      "metadata": {
        "colab": {
          "base_uri": "https://localhost:8080/",
          "height": 0
        },
        "id": "BR5U93VN6jTT",
        "outputId": "324c55aa-d994-4500-c65f-c2089c953934"
      },
      "source": [
        "plt.figure(figsize=(10, 5))\n",
        "ax = sns.displot(x=df['feelslike_c'], bins='sturges', col=df['target'])"
      ],
      "execution_count": 24,
      "outputs": [
        {
          "output_type": "display_data",
          "data": {
            "text/plain": [
              "<Figure size 720x360 with 0 Axes>"
            ]
          },
          "metadata": {}
        },
        {
          "output_type": "display_data",
          "data": {
            "image/png": "[encoded data removed]",
            "text/plain": [
              "<Figure size 720x360 with 2 Axes>"
            ]
          },
          "metadata": {
            "needs_background": "light"
          }
        }
      ]
    },
    {
      "cell_type": "code",
      "metadata": {
        "colab": {
          "base_uri": "https://localhost:8080/",
          "height": 0
        },
        "id": "Aox5-p0cLwh6",
        "outputId": "868545cf-118a-4af9-961d-6f6bc8ccc90b"
      },
      "source": [
        "sns.boxplot(x=df['target'], y=df['feelslike_c'])"
      ],
      "execution_count": 25,
      "outputs": [
        {
          "output_type": "execute_result",
          "data": {
            "text/plain": [
              "<matplotlib.axes._subplots.AxesSubplot at 0x7fbf2b0ea810>"
            ]
          },
          "metadata": {},
          "execution_count": 25
        },
        {
          "output_type": "display_data",
          "data": {
            "image/png": "[encoded data removed]",
            "text/plain": [
              "<Figure size 432x288 with 1 Axes>"
            ]
          },
          "metadata": {
            "needs_background": "light"
          }
        }
      ]
    },
    {
      "cell_type": "code",
      "metadata": {
        "colab": {
          "base_uri": "https://localhost:8080/",
          "height": 0
        },
        "id": "lmopZ608IUkX",
        "outputId": "47bd1ee6-8850-4432-9eac-320681822313"
      },
      "source": [
        "plt.figure(figsize=(10, 5))\n",
        "ax = sns.displot(x=df['temp_c'], bins='sturges', col=df['target'])"
      ],
      "execution_count": 26,
      "outputs": [
        {
          "output_type": "display_data",
          "data": {
            "text/plain": [
              "<Figure size 720x360 with 0 Axes>"
            ]
          },
          "metadata": {}
        },
        {
          "output_type": "display_data",
          "data": {
            "image/png": "[encoded data removed]",
            "text/plain": [
              "<Figure size 720x360 with 2 Axes>"
            ]
          },
          "metadata": {
            "needs_background": "light"
          }
        }
      ]
    },
    {
      "cell_type": "code",
      "metadata": {
        "colab": {
          "base_uri": "https://localhost:8080/",
          "height": 0
        },
        "id": "ZQWcuO9MLrFt",
        "outputId": "e9a319dc-727d-4bf1-ac79-cae1982a721b"
      },
      "source": [
        "sns.boxplot(x=df['target'], y=df['temp_c'])"
      ],
      "execution_count": 27,
      "outputs": [
        {
          "output_type": "execute_result",
          "data": {
            "text/plain": [
              "<matplotlib.axes._subplots.AxesSubplot at 0x7fbf2b4a9590>"
            ]
          },
          "metadata": {},
          "execution_count": 27
        },
        {
          "output_type": "display_data",
          "data": {
            "image/png": "[encoded data removed]",
            "text/plain": [
              "<Figure size 432x288 with 1 Axes>"
            ]
          },
          "metadata": {
            "needs_background": "light"
          }
        }
      ]
    },
    {
      "cell_type": "code",
      "metadata": {
        "colab": {
          "base_uri": "https://localhost:8080/",
          "height": 0
        },
        "id": "6hvq2UTs6L9q",
        "outputId": "06cabafb-77e7-4a9a-fc16-d03fdba948dc"
      },
      "source": [
        "sns.boxplot(x=df['target'], y=df['cloud'])"
      ],
      "execution_count": 28,
      "outputs": [
        {
          "output_type": "execute_result",
          "data": {
            "text/plain": [
              "<matplotlib.axes._subplots.AxesSubplot at 0x7fbf2b5d0410>"
            ]
          },
          "metadata": {},
          "execution_count": 28
        },
        {
          "output_type": "display_data",
          "data": {
            "image/png": "[encoded data removed]",
            "text/plain": [
              "<Figure size 432x288 with 1 Axes>"
            ]
          },
          "metadata": {
            "needs_background": "light"
          }
        }
      ]
    },
    {
      "cell_type": "code",
      "metadata": {
        "colab": {
          "base_uri": "https://localhost:8080/",
          "height": 0
        },
        "id": "8zwItGzOJISV",
        "outputId": "8bda47cc-1845-4ac1-c699-dd11597aef55"
      },
      "source": [
        "sns.displot(x=df['wind_kph'], col=df['target'], bins='sturges')"
      ],
      "execution_count": 29,
      "outputs": [
        {
          "output_type": "execute_result",
          "data": {
            "text/plain": [
              "<seaborn.axisgrid.FacetGrid at 0x7fbf2b85f550>"
            ]
          },
          "metadata": {},
          "execution_count": 29
        },
        {
          "output_type": "display_data",
          "data": {
            "image/png": "[encoded data removed]",
            "text/plain": [
              "<Figure size 720x360 with 2 Axes>"
            ]
          },
          "metadata": {
            "needs_background": "light"
          }
        }
      ]
    },
    {
      "cell_type": "code",
      "metadata": {
        "colab": {
          "base_uri": "https://localhost:8080/",
          "height": 0
        },
        "id": "nY9eedAHJt6l",
        "outputId": "86e17df6-d6fc-458e-ecc0-1624b82882d3"
      },
      "source": [
        "sns.boxplot(x=df['target'], y=df['wind_kph'])"
      ],
      "execution_count": 30,
      "outputs": [
        {
          "output_type": "execute_result",
          "data": {
            "text/plain": [
              "<matplotlib.axes._subplots.AxesSubplot at 0x7fbf2bc13cd0>"
            ]
          },
          "metadata": {},
          "execution_count": 30
        },
        {
          "output_type": "display_data",
          "data": {
            "image/png": "[encoded data removed]",
            "text/plain": [
              "<Figure size 432x288 with 1 Axes>"
            ]
          },
          "metadata": {
            "needs_background": "light"
          }
        }
      ]
    },
    {
      "cell_type": "code",
      "metadata": {
        "colab": {
          "base_uri": "https://localhost:8080/",
          "height": 0
        },
        "id": "46-QTKRsGo3g",
        "outputId": "a1db3d9d-8d86-426a-a50e-4c6a2afdfb5b"
      },
      "source": [
        "df.describe()"
      ],
      "execution_count": 31,
      "outputs": [
        {
          "output_type": "execute_result",
          "data": {
            "text/html": [
              "<div>\n",
              "<style scoped>\n",
              "    .dataframe tbody tr th:only-of-type {\n",
              "        vertical-align: middle;\n",
              "    }\n",
              "\n",
              "    .dataframe tbody tr th {\n",
              "        vertical-align: top;\n",
              "    }\n",
              "\n",
              "    .dataframe thead th {\n",
              "        text-align: right;\n",
              "    }\n",
              "</style>\n",
              "<table border=\"1\" class=\"dataframe\">\n",
              "  <thead>\n",
              "    <tr style=\"text-align: right;\">\n",
              "      <th></th>\n",
              "      <th>temp_c</th>\n",
              "      <th>temp_f</th>\n",
              "      <th>is_day</th>\n",
              "      <th>wind_mph</th>\n",
              "      <th>wind_kph</th>\n",
              "      <th>wind_degree</th>\n",
              "      <th>pressure_mb</th>\n",
              "      <th>pressure_in</th>\n",
              "      <th>precip_mm</th>\n",
              "      <th>precip_in</th>\n",
              "      <th>humidity</th>\n",
              "      <th>cloud</th>\n",
              "      <th>feelslike_c</th>\n",
              "      <th>feelslike_f</th>\n",
              "      <th>vis_km</th>\n",
              "      <th>vis_miles</th>\n",
              "      <th>uv</th>\n",
              "      <th>gust_mph</th>\n",
              "      <th>gust_kph</th>\n",
              "      <th>target</th>\n",
              "    </tr>\n",
              "  </thead>\n",
              "  <tbody>\n",
              "    <tr>\n",
              "      <th>count</th>\n",
              "      <td>58556.000000</td>\n",
              "      <td>58556.000000</td>\n",
              "      <td>58556.000000</td>\n",
              "      <td>58556.000000</td>\n",
              "      <td>58556.000000</td>\n",
              "      <td>58556.000000</td>\n",
              "      <td>58556.000000</td>\n",
              "      <td>58556.000000</td>\n",
              "      <td>58556.000000</td>\n",
              "      <td>58556.000000</td>\n",
              "      <td>58556.000000</td>\n",
              "      <td>58556.000000</td>\n",
              "      <td>58556.000000</td>\n",
              "      <td>58556.000000</td>\n",
              "      <td>58556.000000</td>\n",
              "      <td>58556.000000</td>\n",
              "      <td>58556.000000</td>\n",
              "      <td>58556.000000</td>\n",
              "      <td>58556.000000</td>\n",
              "      <td>58556.000000</td>\n",
              "    </tr>\n",
              "    <tr>\n",
              "      <th>mean</th>\n",
              "      <td>19.064318</td>\n",
              "      <td>66.315949</td>\n",
              "      <td>0.538544</td>\n",
              "      <td>5.993603</td>\n",
              "      <td>9.638647</td>\n",
              "      <td>156.080709</td>\n",
              "      <td>1017.415807</td>\n",
              "      <td>30.283115</td>\n",
              "      <td>0.272119</td>\n",
              "      <td>0.010521</td>\n",
              "      <td>69.113327</td>\n",
              "      <td>35.899481</td>\n",
              "      <td>19.307986</td>\n",
              "      <td>66.750229</td>\n",
              "      <td>10.389193</td>\n",
              "      <td>6.072068</td>\n",
              "      <td>3.328779</td>\n",
              "      <td>9.056947</td>\n",
              "      <td>14.574568</td>\n",
              "      <td>0.084722</td>\n",
              "    </tr>\n",
              "    <tr>\n",
              "      <th>std</th>\n",
              "      <td>5.741823</td>\n",
              "      <td>10.335353</td>\n",
              "      <td>0.498516</td>\n",
              "      <td>4.556483</td>\n",
              "      <td>7.341429</td>\n",
              "      <td>103.962074</td>\n",
              "      <td>6.067218</td>\n",
              "      <td>0.309878</td>\n",
              "      <td>1.561720</td>\n",
              "      <td>0.061529</td>\n",
              "      <td>18.122778</td>\n",
              "      <td>38.544537</td>\n",
              "      <td>6.926768</td>\n",
              "      <td>12.468482</td>\n",
              "      <td>2.775004</td>\n",
              "      <td>1.610549</td>\n",
              "      <td>2.447950</td>\n",
              "      <td>4.649234</td>\n",
              "      <td>7.482257</td>\n",
              "      <td>0.278470</td>\n",
              "    </tr>\n",
              "    <tr>\n",
              "      <th>min</th>\n",
              "      <td>1.000000</td>\n",
              "      <td>33.800000</td>\n",
              "      <td>0.000000</td>\n",
              "      <td>0.000000</td>\n",
              "      <td>0.000000</td>\n",
              "      <td>0.000000</td>\n",
              "      <td>994.000000</td>\n",
              "      <td>29.380000</td>\n",
              "      <td>0.000000</td>\n",
              "      <td>0.000000</td>\n",
              "      <td>8.000000</td>\n",
              "      <td>0.000000</td>\n",
              "      <td>-1.900000</td>\n",
              "      <td>28.700000</td>\n",
              "      <td>0.000000</td>\n",
              "      <td>0.000000</td>\n",
              "      <td>1.000000</td>\n",
              "      <td>0.200000</td>\n",
              "      <td>0.400000</td>\n",
              "      <td>0.000000</td>\n",
              "    </tr>\n",
              "    <tr>\n",
              "      <th>25%</th>\n",
              "      <td>15.000000</td>\n",
              "      <td>59.000000</td>\n",
              "      <td>0.000000</td>\n",
              "      <td>2.500000</td>\n",
              "      <td>4.000000</td>\n",
              "      <td>74.000000</td>\n",
              "      <td>1014.000000</td>\n",
              "      <td>30.030000</td>\n",
              "      <td>0.000000</td>\n",
              "      <td>0.000000</td>\n",
              "      <td>57.000000</td>\n",
              "      <td>0.000000</td>\n",
              "      <td>15.500000</td>\n",
              "      <td>59.900000</td>\n",
              "      <td>10.000000</td>\n",
              "      <td>6.000000</td>\n",
              "      <td>1.000000</td>\n",
              "      <td>5.600000</td>\n",
              "      <td>9.000000</td>\n",
              "      <td>0.000000</td>\n",
              "    </tr>\n",
              "    <tr>\n",
              "      <th>50%</th>\n",
              "      <td>19.000000</td>\n",
              "      <td>66.200000</td>\n",
              "      <td>1.000000</td>\n",
              "      <td>5.600000</td>\n",
              "      <td>9.000000</td>\n",
              "      <td>140.000000</td>\n",
              "      <td>1018.000000</td>\n",
              "      <td>30.240000</td>\n",
              "      <td>0.000000</td>\n",
              "      <td>0.000000</td>\n",
              "      <td>72.000000</td>\n",
              "      <td>24.000000</td>\n",
              "      <td>19.000000</td>\n",
              "      <td>66.200000</td>\n",
              "      <td>10.000000</td>\n",
              "      <td>6.000000</td>\n",
              "      <td>3.000000</td>\n",
              "      <td>8.500000</td>\n",
              "      <td>13.700000</td>\n",
              "      <td>0.000000</td>\n",
              "    </tr>\n",
              "    <tr>\n",
              "      <th>75%</th>\n",
              "      <td>23.000000</td>\n",
              "      <td>73.400000</td>\n",
              "      <td>1.000000</td>\n",
              "      <td>9.400000</td>\n",
              "      <td>15.100000</td>\n",
              "      <td>240.000000</td>\n",
              "      <td>1022.000000</td>\n",
              "      <td>30.600000</td>\n",
              "      <td>0.100000</td>\n",
              "      <td>0.000000</td>\n",
              "      <td>83.000000</td>\n",
              "      <td>75.000000</td>\n",
              "      <td>24.700000</td>\n",
              "      <td>76.400000</td>\n",
              "      <td>10.000000</td>\n",
              "      <td>6.000000</td>\n",
              "      <td>6.000000</td>\n",
              "      <td>11.600000</td>\n",
              "      <td>18.700000</td>\n",
              "      <td>0.000000</td>\n",
              "    </tr>\n",
              "    <tr>\n",
              "      <th>max</th>\n",
              "      <td>37.900000</td>\n",
              "      <td>100.200000</td>\n",
              "      <td>1.000000</td>\n",
              "      <td>27.300000</td>\n",
              "      <td>43.900000</td>\n",
              "      <td>360.000000</td>\n",
              "      <td>1035.000000</td>\n",
              "      <td>31.000000</td>\n",
              "      <td>113.800000</td>\n",
              "      <td>4.480000</td>\n",
              "      <td>100.000000</td>\n",
              "      <td>100.000000</td>\n",
              "      <td>51.700000</td>\n",
              "      <td>125.100000</td>\n",
              "      <td>16.000000</td>\n",
              "      <td>9.000000</td>\n",
              "      <td>9.000000</td>\n",
              "      <td>41.600000</td>\n",
              "      <td>67.000000</td>\n",
              "      <td>1.000000</td>\n",
              "    </tr>\n",
              "  </tbody>\n",
              "</table>\n",
              "</div>"
            ],
            "text/plain": [
              "             temp_c        temp_f  ...      gust_kph        target\n",
              "count  58556.000000  58556.000000  ...  58556.000000  58556.000000\n",
              "mean      19.064318     66.315949  ...     14.574568      0.084722\n",
              "std        5.741823     10.335353  ...      7.482257      0.278470\n",
              "min        1.000000     33.800000  ...      0.400000      0.000000\n",
              "25%       15.000000     59.000000  ...      9.000000      0.000000\n",
              "50%       19.000000     66.200000  ...     13.700000      0.000000\n",
              "75%       23.000000     73.400000  ...     18.700000      0.000000\n",
              "max       37.900000    100.200000  ...     67.000000      1.000000\n",
              "\n",
              "[8 rows x 20 columns]"
            ]
          },
          "metadata": {},
          "execution_count": 31
        }
      ]
    },
    {
      "cell_type": "markdown",
      "metadata": {
        "id": "-3wUANjOM5QR"
      },
      "source": [
        "### **4. Modelling DataSet for MachineLearning Algorithm**"
      ]
    },
    {
      "cell_type": "code",
      "metadata": {
        "id": "eVkqn0Y0KThK"
      },
      "source": [
        "# Our goal is to predict weather is going to rain or not based on the last register\n",
        "# Now we're going to split the data\n",
        "train_df = df[['last_updated', 'city', 'temp_c', 'is_day', 'condition', 'wind_kph', 'wind_degree'\n",
        "          , 'pressure_mb', 'precip_mm', 'humidity', 'cloud', 'feelslike_c', 'vis_km', 'uv'\n",
        "          , 'gust_kph', 'target']]"
      ],
      "execution_count": 32,
      "outputs": []
    },
    {
      "cell_type": "code",
      "metadata": {
        "id": "QlMHVtgsKTkq"
      },
      "source": [
        "train_df = train_df.sort_values(by=['city', 'last_updated']).reset_index().drop(columns='index')"
      ],
      "execution_count": 33,
      "outputs": []
    },
    {
      "cell_type": "code",
      "metadata": {
        "id": "VfcfI0IpNn_Q"
      },
      "source": [
        "# Calculate the difference between the actual and previous register\n",
        "def date_diff_calc(df_column):\n",
        "  i = 1\n",
        "  date_diff_list = list()\n",
        "  for cell in df_column:\n",
        "    if i < len(df_column):\n",
        "      date_diff_min = (df_column[i] - cell).total_seconds()/60\n",
        "      date_diff_list.append(date_diff_min)\n",
        "      i += 1\n",
        "  return date_diff_list"
      ],
      "execution_count": 34,
      "outputs": []
    },
    {
      "cell_type": "code",
      "metadata": {
        "id": "W8k8RxQOUtz6"
      },
      "source": [
        "train_df['date_diff'] = pd.DataFrame(date_diff_calc(train_df['last_updated']))"
      ],
      "execution_count": 35,
      "outputs": []
    },
    {
      "cell_type": "code",
      "metadata": {
        "id": "px8rcQR1YVKZ"
      },
      "source": [
        "# create a column that tells us weather is raining in the next hour\n",
        "def rain_next1(df_column):\n",
        "  i = 4\n",
        "  rain_next1 = list()\n",
        "  for cell in df_column:\n",
        "    if i < len(df_column):\n",
        "      rain_next1.append(df_column[i])\n",
        "      i += 1\n",
        "  return rain_next1"
      ],
      "execution_count": 36,
      "outputs": []
    },
    {
      "cell_type": "code",
      "metadata": {
        "id": "iqefjBKZc8uK"
      },
      "source": [
        "train_df['target_1'] = pd.DataFrame(rain_next1(train_df['target']))"
      ],
      "execution_count": 37,
      "outputs": []
    },
    {
      "cell_type": "code",
      "metadata": {
        "colab": {
          "base_uri": "https://localhost:8080/",
          "height": 339
        },
        "id": "VfJev9rggt98",
        "outputId": "c36e5369-1140-4024-c6a9-51c7c37af937"
      },
      "source": [
        "sns.distplot(x=train_df['date_diff'].loc[train_df['date_diff'] > -50].loc[train_df['date_diff'] < 50])"
      ],
      "execution_count": 38,
      "outputs": [
        {
          "output_type": "stream",
          "name": "stderr",
          "text": [
            "/usr/local/lib/python3.7/dist-packages/seaborn/distributions.py:2619: FutureWarning: `distplot` is a deprecated function and will be removed in a future version. Please adapt your code to use either `displot` (a figure-level function with similar flexibility) or `histplot` (an axes-level function for histograms).\n",
            "  warnings.warn(msg, FutureWarning)\n"
          ]
        },
        {
          "output_type": "execute_result",
          "data": {
            "text/plain": [
              "<matplotlib.axes._subplots.AxesSubplot at 0x7fbf2b2a0510>"
            ]
          },
          "metadata": {},
          "execution_count": 38
        },
        {
          "output_type": "display_data",
          "data": {
            "image/png": "[encoded data removed]",
            "text/plain": [
              "<Figure size 432x288 with 1 Axes>"
            ]
          },
          "metadata": {
            "needs_background": "light"
          }
        }
      ]
    },
    {
      "cell_type": "code",
      "metadata": {
        "id": "tM12bod__qyT"
      },
      "source": [
        "train_df = train_df.drop(columns=['date_diff', 'last_updated'])"
      ],
      "execution_count": 39,
      "outputs": []
    },
    {
      "cell_type": "code",
      "metadata": {
        "colab": {
          "base_uri": "https://localhost:8080/",
          "height": 297
        },
        "id": "qP-M8zh-dp5p",
        "outputId": "d703d381-3a31-468a-f51c-36bc5fe9d2e2"
      },
      "source": [
        "sns.countplot(x=train_df['target_1'])"
      ],
      "execution_count": 40,
      "outputs": [
        {
          "output_type": "execute_result",
          "data": {
            "text/plain": [
              "<matplotlib.axes._subplots.AxesSubplot at 0x7fbf237442d0>"
            ]
          },
          "metadata": {},
          "execution_count": 40
        },
        {
          "output_type": "display_data",
          "data": {
            "image/png": "[encoded data removed]",
            "text/plain": [
              "<Figure size 432x288 with 1 Axes>"
            ]
          },
          "metadata": {
            "needs_background": "light"
          }
        }
      ]
    },
    {
      "cell_type": "code",
      "metadata": {
        "colab": {
          "base_uri": "https://localhost:8080/",
          "height": 297
        },
        "id": "CtwPOh_khk58",
        "outputId": "e64144ee-f568-4c04-a089-4a27db88766e"
      },
      "source": [
        "sns.boxplot(y=train_df['cloud'], x=train_df['target_1'])"
      ],
      "execution_count": 41,
      "outputs": [
        {
          "output_type": "execute_result",
          "data": {
            "text/plain": [
              "<matplotlib.axes._subplots.AxesSubplot at 0x7fbf22c00590>"
            ]
          },
          "metadata": {},
          "execution_count": 41
        },
        {
          "output_type": "display_data",
          "data": {
            "image/png": "[encoded data removed]",
            "text/plain": [
              "<Figure size 432x288 with 1 Axes>"
            ]
          },
          "metadata": {
            "needs_background": "light"
          }
        }
      ]
    },
    {
      "cell_type": "code",
      "metadata": {
        "colab": {
          "base_uri": "https://localhost:8080/",
          "height": 488
        },
        "id": "D2QGHZvojbzx",
        "outputId": "aa68e457-a867-49f5-c0a6-bfae57e3dd75"
      },
      "source": [
        "train_df.corr()"
      ],
      "execution_count": 42,
      "outputs": [
        {
          "output_type": "execute_result",
          "data": {
            "text/html": [
              "<div>\n",
              "<style scoped>\n",
              "    .dataframe tbody tr th:only-of-type {\n",
              "        vertical-align: middle;\n",
              "    }\n",
              "\n",
              "    .dataframe tbody tr th {\n",
              "        vertical-align: top;\n",
              "    }\n",
              "\n",
              "    .dataframe thead th {\n",
              "        text-align: right;\n",
              "    }\n",
              "</style>\n",
              "<table border=\"1\" class=\"dataframe\">\n",
              "  <thead>\n",
              "    <tr style=\"text-align: right;\">\n",
              "      <th></th>\n",
              "      <th>temp_c</th>\n",
              "      <th>is_day</th>\n",
              "      <th>wind_kph</th>\n",
              "      <th>wind_degree</th>\n",
              "      <th>pressure_mb</th>\n",
              "      <th>precip_mm</th>\n",
              "      <th>humidity</th>\n",
              "      <th>cloud</th>\n",
              "      <th>feelslike_c</th>\n",
              "      <th>vis_km</th>\n",
              "      <th>uv</th>\n",
              "      <th>gust_kph</th>\n",
              "      <th>target</th>\n",
              "      <th>target_1</th>\n",
              "    </tr>\n",
              "  </thead>\n",
              "  <tbody>\n",
              "    <tr>\n",
              "      <th>temp_c</th>\n",
              "      <td>1.000000</td>\n",
              "      <td>0.171721</td>\n",
              "      <td>-0.186906</td>\n",
              "      <td>-0.026117</td>\n",
              "      <td>-0.045502</td>\n",
              "      <td>-0.021573</td>\n",
              "      <td>-0.404587</td>\n",
              "      <td>-0.194243</td>\n",
              "      <td>0.986925</td>\n",
              "      <td>0.220738</td>\n",
              "      <td>0.561765</td>\n",
              "      <td>-0.089582</td>\n",
              "      <td>-0.123299</td>\n",
              "      <td>-0.106243</td>\n",
              "    </tr>\n",
              "    <tr>\n",
              "      <th>is_day</th>\n",
              "      <td>0.171721</td>\n",
              "      <td>1.000000</td>\n",
              "      <td>0.115172</td>\n",
              "      <td>0.060537</td>\n",
              "      <td>-0.012622</td>\n",
              "      <td>-0.014953</td>\n",
              "      <td>-0.257251</td>\n",
              "      <td>0.050615</td>\n",
              "      <td>0.158188</td>\n",
              "      <td>0.028442</td>\n",
              "      <td>0.346109</td>\n",
              "      <td>-0.044332</td>\n",
              "      <td>0.022055</td>\n",
              "      <td>0.025165</td>\n",
              "    </tr>\n",
              "    <tr>\n",
              "      <th>wind_kph</th>\n",
              "      <td>-0.186906</td>\n",
              "      <td>0.115172</td>\n",
              "      <td>1.000000</td>\n",
              "      <td>0.141895</td>\n",
              "      <td>-0.144991</td>\n",
              "      <td>-0.005803</td>\n",
              "      <td>-0.013779</td>\n",
              "      <td>0.199542</td>\n",
              "      <td>-0.197982</td>\n",
              "      <td>-0.280940</td>\n",
              "      <td>0.052687</td>\n",
              "      <td>0.488522</td>\n",
              "      <td>0.115294</td>\n",
              "      <td>0.111645</td>\n",
              "    </tr>\n",
              "    <tr>\n",
              "      <th>wind_degree</th>\n",
              "      <td>-0.026117</td>\n",
              "      <td>0.060537</td>\n",
              "      <td>0.141895</td>\n",
              "      <td>1.000000</td>\n",
              "      <td>-0.187807</td>\n",
              "      <td>0.030923</td>\n",
              "      <td>-0.117601</td>\n",
              "      <td>-0.022395</td>\n",
              "      <td>-0.042157</td>\n",
              "      <td>0.033019</td>\n",
              "      <td>0.073778</td>\n",
              "      <td>0.094863</td>\n",
              "      <td>0.063550</td>\n",
              "      <td>0.056395</td>\n",
              "    </tr>\n",
              "    <tr>\n",
              "      <th>pressure_mb</th>\n",
              "      <td>-0.045502</td>\n",
              "      <td>-0.012622</td>\n",
              "      <td>-0.144991</td>\n",
              "      <td>-0.187807</td>\n",
              "      <td>1.000000</td>\n",
              "      <td>-0.130616</td>\n",
              "      <td>-0.052069</td>\n",
              "      <td>-0.013042</td>\n",
              "      <td>-0.049056</td>\n",
              "      <td>0.029124</td>\n",
              "      <td>-0.010690</td>\n",
              "      <td>-0.256180</td>\n",
              "      <td>-0.221496</td>\n",
              "      <td>-0.219876</td>\n",
              "    </tr>\n",
              "    <tr>\n",
              "      <th>precip_mm</th>\n",
              "      <td>-0.021573</td>\n",
              "      <td>-0.014953</td>\n",
              "      <td>-0.005803</td>\n",
              "      <td>0.030923</td>\n",
              "      <td>-0.130616</td>\n",
              "      <td>1.000000</td>\n",
              "      <td>0.145196</td>\n",
              "      <td>0.154587</td>\n",
              "      <td>-0.013163</td>\n",
              "      <td>-0.044937</td>\n",
              "      <td>-0.047122</td>\n",
              "      <td>0.154810</td>\n",
              "      <td>0.198927</td>\n",
              "      <td>0.165393</td>\n",
              "    </tr>\n",
              "    <tr>\n",
              "      <th>humidity</th>\n",
              "      <td>-0.404587</td>\n",
              "      <td>-0.257251</td>\n",
              "      <td>-0.013779</td>\n",
              "      <td>-0.117601</td>\n",
              "      <td>-0.052069</td>\n",
              "      <td>0.145196</td>\n",
              "      <td>1.000000</td>\n",
              "      <td>0.432764</td>\n",
              "      <td>-0.342298</td>\n",
              "      <td>-0.339384</td>\n",
              "      <td>-0.526297</td>\n",
              "      <td>0.025529</td>\n",
              "      <td>0.258582</td>\n",
              "      <td>0.222150</td>\n",
              "    </tr>\n",
              "    <tr>\n",
              "      <th>cloud</th>\n",
              "      <td>-0.194243</td>\n",
              "      <td>0.050615</td>\n",
              "      <td>0.199542</td>\n",
              "      <td>-0.022395</td>\n",
              "      <td>-0.013042</td>\n",
              "      <td>0.154587</td>\n",
              "      <td>0.432764</td>\n",
              "      <td>1.000000</td>\n",
              "      <td>-0.174466</td>\n",
              "      <td>-0.159779</td>\n",
              "      <td>-0.157909</td>\n",
              "      <td>0.256777</td>\n",
              "      <td>0.309748</td>\n",
              "      <td>0.270318</td>\n",
              "    </tr>\n",
              "    <tr>\n",
              "      <th>feelslike_c</th>\n",
              "      <td>0.986925</td>\n",
              "      <td>0.158188</td>\n",
              "      <td>-0.197982</td>\n",
              "      <td>-0.042157</td>\n",
              "      <td>-0.049056</td>\n",
              "      <td>-0.013163</td>\n",
              "      <td>-0.342298</td>\n",
              "      <td>-0.174466</td>\n",
              "      <td>1.000000</td>\n",
              "      <td>0.209399</td>\n",
              "      <td>0.515902</td>\n",
              "      <td>-0.098806</td>\n",
              "      <td>-0.119816</td>\n",
              "      <td>-0.102572</td>\n",
              "    </tr>\n",
              "    <tr>\n",
              "      <th>vis_km</th>\n",
              "      <td>0.220738</td>\n",
              "      <td>0.028442</td>\n",
              "      <td>-0.280940</td>\n",
              "      <td>0.033019</td>\n",
              "      <td>0.029124</td>\n",
              "      <td>-0.044937</td>\n",
              "      <td>-0.339384</td>\n",
              "      <td>-0.159779</td>\n",
              "      <td>0.209399</td>\n",
              "      <td>1.000000</td>\n",
              "      <td>0.128074</td>\n",
              "      <td>0.140959</td>\n",
              "      <td>-0.230594</td>\n",
              "      <td>-0.176264</td>\n",
              "    </tr>\n",
              "    <tr>\n",
              "      <th>uv</th>\n",
              "      <td>0.561765</td>\n",
              "      <td>0.346109</td>\n",
              "      <td>0.052687</td>\n",
              "      <td>0.073778</td>\n",
              "      <td>-0.010690</td>\n",
              "      <td>-0.047122</td>\n",
              "      <td>-0.526297</td>\n",
              "      <td>-0.157909</td>\n",
              "      <td>0.515902</td>\n",
              "      <td>0.128074</td>\n",
              "      <td>1.000000</td>\n",
              "      <td>0.003462</td>\n",
              "      <td>-0.054842</td>\n",
              "      <td>-0.052383</td>\n",
              "    </tr>\n",
              "    <tr>\n",
              "      <th>gust_kph</th>\n",
              "      <td>-0.089582</td>\n",
              "      <td>-0.044332</td>\n",
              "      <td>0.488522</td>\n",
              "      <td>0.094863</td>\n",
              "      <td>-0.256180</td>\n",
              "      <td>0.154810</td>\n",
              "      <td>0.025529</td>\n",
              "      <td>0.256777</td>\n",
              "      <td>-0.098806</td>\n",
              "      <td>0.140959</td>\n",
              "      <td>0.003462</td>\n",
              "      <td>1.000000</td>\n",
              "      <td>0.136007</td>\n",
              "      <td>0.128211</td>\n",
              "    </tr>\n",
              "    <tr>\n",
              "      <th>target</th>\n",
              "      <td>-0.123299</td>\n",
              "      <td>0.022055</td>\n",
              "      <td>0.115294</td>\n",
              "      <td>0.063550</td>\n",
              "      <td>-0.221496</td>\n",
              "      <td>0.198927</td>\n",
              "      <td>0.258582</td>\n",
              "      <td>0.309748</td>\n",
              "      <td>-0.119816</td>\n",
              "      <td>-0.230594</td>\n",
              "      <td>-0.054842</td>\n",
              "      <td>0.136007</td>\n",
              "      <td>1.000000</td>\n",
              "      <td>0.635449</td>\n",
              "    </tr>\n",
              "    <tr>\n",
              "      <th>target_1</th>\n",
              "      <td>-0.106243</td>\n",
              "      <td>0.025165</td>\n",
              "      <td>0.111645</td>\n",
              "      <td>0.056395</td>\n",
              "      <td>-0.219876</td>\n",
              "      <td>0.165393</td>\n",
              "      <td>0.222150</td>\n",
              "      <td>0.270318</td>\n",
              "      <td>-0.102572</td>\n",
              "      <td>-0.176264</td>\n",
              "      <td>-0.052383</td>\n",
              "      <td>0.128211</td>\n",
              "      <td>0.635449</td>\n",
              "      <td>1.000000</td>\n",
              "    </tr>\n",
              "  </tbody>\n",
              "</table>\n",
              "</div>"
            ],
            "text/plain": [
              "               temp_c    is_day  wind_kph  ...  gust_kph    target  target_1\n",
              "temp_c       1.000000  0.171721 -0.186906  ... -0.089582 -0.123299 -0.106243\n",
              "is_day       0.171721  1.000000  0.115172  ... -0.044332  0.022055  0.025165\n",
              "wind_kph    -0.186906  0.115172  1.000000  ...  0.488522  0.115294  0.111645\n",
              "wind_degree -0.026117  0.060537  0.141895  ...  0.094863  0.063550  0.056395\n",
              "pressure_mb -0.045502 -0.012622 -0.144991  ... -0.256180 -0.221496 -0.219876\n",
              "precip_mm   -0.021573 -0.014953 -0.005803  ...  0.154810  0.198927  0.165393\n",
              "humidity    -0.404587 -0.257251 -0.013779  ...  0.025529  0.258582  0.222150\n",
              "cloud       -0.194243  0.050615  0.199542  ...  0.256777  0.309748  0.270318\n",
              "feelslike_c  0.986925  0.158188 -0.197982  ... -0.098806 -0.119816 -0.102572\n",
              "vis_km       0.220738  0.028442 -0.280940  ...  0.140959 -0.230594 -0.176264\n",
              "uv           0.561765  0.346109  0.052687  ...  0.003462 -0.054842 -0.052383\n",
              "gust_kph    -0.089582 -0.044332  0.488522  ...  1.000000  0.136007  0.128211\n",
              "target      -0.123299  0.022055  0.115294  ...  0.136007  1.000000  0.635449\n",
              "target_1    -0.106243  0.025165  0.111645  ...  0.128211  0.635449  1.000000\n",
              "\n",
              "[14 rows x 14 columns]"
            ]
          },
          "metadata": {},
          "execution_count": 42
        }
      ]
    },
    {
      "cell_type": "code",
      "metadata": {
        "colab": {
          "base_uri": "https://localhost:8080/",
          "height": 296
        },
        "id": "wpnSmJf8imRy",
        "outputId": "c603d17a-9d12-40c2-bfdb-27307e7371a3"
      },
      "source": [
        "sns.countplot(x=train_df['target'], hue=train_df['target_1'])"
      ],
      "execution_count": 43,
      "outputs": [
        {
          "output_type": "execute_result",
          "data": {
            "text/plain": [
              "<matplotlib.axes._subplots.AxesSubplot at 0x7fbf2d4577d0>"
            ]
          },
          "metadata": {},
          "execution_count": 43
        },
        {
          "output_type": "display_data",
          "data": {
            "image/png": "[encoded data removed]",
            "text/plain": [
              "<Figure size 432x288 with 1 Axes>"
            ]
          },
          "metadata": {
            "needs_background": "light"
          }
        }
      ]
    },
    {
      "cell_type": "code",
      "metadata": {
        "colab": {
          "base_uri": "https://localhost:8080/"
        },
        "id": "mvit1psbFWL7",
        "outputId": "a757d6dd-b37b-4f4a-de66-a7d980a7e983"
      },
      "source": [
        "train_df.info()"
      ],
      "execution_count": 44,
      "outputs": [
        {
          "output_type": "stream",
          "name": "stdout",
          "text": [
            "<class 'pandas.core.frame.DataFrame'>\n",
            "RangeIndex: 58556 entries, 0 to 58555\n",
            "Data columns (total 16 columns):\n",
            " #   Column       Non-Null Count  Dtype  \n",
            "---  ------       --------------  -----  \n",
            " 0   city         58556 non-null  object \n",
            " 1   temp_c       58556 non-null  float64\n",
            " 2   is_day       58556 non-null  float64\n",
            " 3   condition    58556 non-null  object \n",
            " 4   wind_kph     58556 non-null  float64\n",
            " 5   wind_degree  58556 non-null  float64\n",
            " 6   pressure_mb  58556 non-null  float64\n",
            " 7   precip_mm    58556 non-null  float64\n",
            " 8   humidity     58556 non-null  float64\n",
            " 9   cloud        58556 non-null  float64\n",
            " 10  feelslike_c  58556 non-null  float64\n",
            " 11  vis_km       58556 non-null  float64\n",
            " 12  uv           58556 non-null  float64\n",
            " 13  gust_kph     58556 non-null  float64\n",
            " 14  target       58556 non-null  int64  \n",
            " 15  target_1     58552 non-null  float64\n",
            "dtypes: float64(13), int64(1), object(2)\n",
            "memory usage: 7.1+ MB\n"
          ]
        }
      ]
    },
    {
      "cell_type": "code",
      "metadata": {
        "colab": {
          "base_uri": "https://localhost:8080/",
          "height": 579
        },
        "id": "dao_NoWv67U-",
        "outputId": "c5793937-f2e4-4d99-b65f-56419de96fb2"
      },
      "source": [
        "plt.figure(figsize=(25, 10))\n",
        "sns.barplot(y=train_df['condition'], x=train_df['target_1'], orient='horizontal')"
      ],
      "execution_count": 45,
      "outputs": [
        {
          "output_type": "execute_result",
          "data": {
            "text/plain": [
              "<matplotlib.axes._subplots.AxesSubplot at 0x7fbf2a1fa390>"
            ]
          },
          "metadata": {},
          "execution_count": 45
        },
        {
          "output_type": "display_data",
          "data": {
            "image/png": "[encoded data removed]",
            "text/plain": [
              "<Figure size 1800x720 with 1 Axes>"
            ]
          },
          "metadata": {
            "needs_background": "light"
          }
        }
      ]
    },
    {
      "cell_type": "code",
      "metadata": {
        "colab": {
          "base_uri": "https://localhost:8080/",
          "height": 261
        },
        "id": "_cJBtEZBGzUi",
        "outputId": "a471b055-eea0-47ca-88f5-d0988ce4cfc1"
      },
      "source": [
        "# Transform categorical variables in columns and generate X array\n",
        "x = pd.get_dummies(train_df.drop(columns='target_1'), columns=['condition', 'city'])\n",
        "x.head()"
      ],
      "execution_count": 46,
      "outputs": [
        {
          "output_type": "execute_result",
          "data": {
            "text/html": [
              "<div>\n",
              "<style scoped>\n",
              "    .dataframe tbody tr th:only-of-type {\n",
              "        vertical-align: middle;\n",
              "    }\n",
              "\n",
              "    .dataframe tbody tr th {\n",
              "        vertical-align: top;\n",
              "    }\n",
              "\n",
              "    .dataframe thead th {\n",
              "        text-align: right;\n",
              "    }\n",
              "</style>\n",
              "<table border=\"1\" class=\"dataframe\">\n",
              "  <thead>\n",
              "    <tr style=\"text-align: right;\">\n",
              "      <th></th>\n",
              "      <th>temp_c</th>\n",
              "      <th>is_day</th>\n",
              "      <th>wind_kph</th>\n",
              "      <th>wind_degree</th>\n",
              "      <th>pressure_mb</th>\n",
              "      <th>precip_mm</th>\n",
              "      <th>humidity</th>\n",
              "      <th>cloud</th>\n",
              "      <th>feelslike_c</th>\n",
              "      <th>vis_km</th>\n",
              "      <th>uv</th>\n",
              "      <th>gust_kph</th>\n",
              "      <th>target</th>\n",
              "      <th>condition_Clear</th>\n",
              "      <th>condition_Cloudy</th>\n",
              "      <th>condition_Fog</th>\n",
              "      <th>condition_Heavy rain</th>\n",
              "      <th>condition_Heavy rain at times</th>\n",
              "      <th>condition_Ice pellets</th>\n",
              "      <th>condition_Light drizzle</th>\n",
              "      <th>condition_Light rain</th>\n",
              "      <th>condition_Light rain shower</th>\n",
              "      <th>condition_Light snow</th>\n",
              "      <th>condition_Mist</th>\n",
              "      <th>condition_Moderate or heavy rain shower</th>\n",
              "      <th>condition_Moderate or heavy rain with thunder</th>\n",
              "      <th>condition_Moderate or heavy snow showers</th>\n",
              "      <th>condition_Moderate or heavy snow with thunder</th>\n",
              "      <th>condition_Moderate rain</th>\n",
              "      <th>condition_Moderate rain at times</th>\n",
              "      <th>condition_Overcast</th>\n",
              "      <th>condition_Partly cloudy</th>\n",
              "      <th>condition_Patchy light rain</th>\n",
              "      <th>condition_Patchy light rain with thunder</th>\n",
              "      <th>condition_Patchy rain possible</th>\n",
              "      <th>condition_Sunny</th>\n",
              "      <th>condition_Thundery outbreaks possible</th>\n",
              "      <th>condition_Torrential rain shower</th>\n",
              "      <th>city_Beijing</th>\n",
              "      <th>city_Carapicuiba</th>\n",
              "      <th>city_Hong Kong</th>\n",
              "      <th>city_London</th>\n",
              "      <th>city_Moscow</th>\n",
              "      <th>city_New York</th>\n",
              "      <th>city_Paris</th>\n",
              "      <th>city_Rome</th>\n",
              "      <th>city_Sao Paulo</th>\n",
              "    </tr>\n",
              "  </thead>\n",
              "  <tbody>\n",
              "    <tr>\n",
              "      <th>0</th>\n",
              "      <td>27.0</td>\n",
              "      <td>1.0</td>\n",
              "      <td>6.8</td>\n",
              "      <td>140.0</td>\n",
              "      <td>1013.0</td>\n",
              "      <td>1.5</td>\n",
              "      <td>70.0</td>\n",
              "      <td>25.0</td>\n",
              "      <td>31.6</td>\n",
              "      <td>10.0</td>\n",
              "      <td>5.0</td>\n",
              "      <td>5.0</td>\n",
              "      <td>0</td>\n",
              "      <td>0</td>\n",
              "      <td>0</td>\n",
              "      <td>0</td>\n",
              "      <td>0</td>\n",
              "      <td>0</td>\n",
              "      <td>0</td>\n",
              "      <td>0</td>\n",
              "      <td>0</td>\n",
              "      <td>0</td>\n",
              "      <td>0</td>\n",
              "      <td>0</td>\n",
              "      <td>0</td>\n",
              "      <td>0</td>\n",
              "      <td>0</td>\n",
              "      <td>0</td>\n",
              "      <td>0</td>\n",
              "      <td>0</td>\n",
              "      <td>0</td>\n",
              "      <td>1</td>\n",
              "      <td>0</td>\n",
              "      <td>0</td>\n",
              "      <td>0</td>\n",
              "      <td>0</td>\n",
              "      <td>0</td>\n",
              "      <td>0</td>\n",
              "      <td>1</td>\n",
              "      <td>0</td>\n",
              "      <td>0</td>\n",
              "      <td>0</td>\n",
              "      <td>0</td>\n",
              "      <td>0</td>\n",
              "      <td>0</td>\n",
              "      <td>0</td>\n",
              "      <td>0</td>\n",
              "    </tr>\n",
              "    <tr>\n",
              "      <th>1</th>\n",
              "      <td>18.6</td>\n",
              "      <td>1.0</td>\n",
              "      <td>6.5</td>\n",
              "      <td>2.0</td>\n",
              "      <td>1011.0</td>\n",
              "      <td>0.0</td>\n",
              "      <td>62.0</td>\n",
              "      <td>9.0</td>\n",
              "      <td>18.6</td>\n",
              "      <td>10.0</td>\n",
              "      <td>5.0</td>\n",
              "      <td>11.9</td>\n",
              "      <td>0</td>\n",
              "      <td>0</td>\n",
              "      <td>0</td>\n",
              "      <td>0</td>\n",
              "      <td>0</td>\n",
              "      <td>0</td>\n",
              "      <td>0</td>\n",
              "      <td>0</td>\n",
              "      <td>0</td>\n",
              "      <td>0</td>\n",
              "      <td>0</td>\n",
              "      <td>0</td>\n",
              "      <td>0</td>\n",
              "      <td>0</td>\n",
              "      <td>0</td>\n",
              "      <td>0</td>\n",
              "      <td>0</td>\n",
              "      <td>0</td>\n",
              "      <td>0</td>\n",
              "      <td>1</td>\n",
              "      <td>0</td>\n",
              "      <td>0</td>\n",
              "      <td>0</td>\n",
              "      <td>0</td>\n",
              "      <td>0</td>\n",
              "      <td>0</td>\n",
              "      <td>1</td>\n",
              "      <td>0</td>\n",
              "      <td>0</td>\n",
              "      <td>0</td>\n",
              "      <td>0</td>\n",
              "      <td>0</td>\n",
              "      <td>0</td>\n",
              "      <td>0</td>\n",
              "      <td>0</td>\n",
              "    </tr>\n",
              "    <tr>\n",
              "      <th>2</th>\n",
              "      <td>21.0</td>\n",
              "      <td>1.0</td>\n",
              "      <td>19.1</td>\n",
              "      <td>280.0</td>\n",
              "      <td>1015.0</td>\n",
              "      <td>0.0</td>\n",
              "      <td>73.0</td>\n",
              "      <td>0.0</td>\n",
              "      <td>21.0</td>\n",
              "      <td>10.0</td>\n",
              "      <td>6.0</td>\n",
              "      <td>8.6</td>\n",
              "      <td>1</td>\n",
              "      <td>0</td>\n",
              "      <td>0</td>\n",
              "      <td>0</td>\n",
              "      <td>0</td>\n",
              "      <td>0</td>\n",
              "      <td>0</td>\n",
              "      <td>0</td>\n",
              "      <td>1</td>\n",
              "      <td>0</td>\n",
              "      <td>0</td>\n",
              "      <td>0</td>\n",
              "      <td>0</td>\n",
              "      <td>0</td>\n",
              "      <td>0</td>\n",
              "      <td>0</td>\n",
              "      <td>0</td>\n",
              "      <td>0</td>\n",
              "      <td>0</td>\n",
              "      <td>0</td>\n",
              "      <td>0</td>\n",
              "      <td>0</td>\n",
              "      <td>0</td>\n",
              "      <td>0</td>\n",
              "      <td>0</td>\n",
              "      <td>0</td>\n",
              "      <td>1</td>\n",
              "      <td>0</td>\n",
              "      <td>0</td>\n",
              "      <td>0</td>\n",
              "      <td>0</td>\n",
              "      <td>0</td>\n",
              "      <td>0</td>\n",
              "      <td>0</td>\n",
              "      <td>0</td>\n",
              "    </tr>\n",
              "    <tr>\n",
              "      <th>3</th>\n",
              "      <td>21.0</td>\n",
              "      <td>1.0</td>\n",
              "      <td>19.1</td>\n",
              "      <td>280.0</td>\n",
              "      <td>1015.0</td>\n",
              "      <td>0.0</td>\n",
              "      <td>73.0</td>\n",
              "      <td>0.0</td>\n",
              "      <td>21.0</td>\n",
              "      <td>10.0</td>\n",
              "      <td>6.0</td>\n",
              "      <td>8.6</td>\n",
              "      <td>1</td>\n",
              "      <td>0</td>\n",
              "      <td>0</td>\n",
              "      <td>0</td>\n",
              "      <td>0</td>\n",
              "      <td>0</td>\n",
              "      <td>0</td>\n",
              "      <td>0</td>\n",
              "      <td>1</td>\n",
              "      <td>0</td>\n",
              "      <td>0</td>\n",
              "      <td>0</td>\n",
              "      <td>0</td>\n",
              "      <td>0</td>\n",
              "      <td>0</td>\n",
              "      <td>0</td>\n",
              "      <td>0</td>\n",
              "      <td>0</td>\n",
              "      <td>0</td>\n",
              "      <td>0</td>\n",
              "      <td>0</td>\n",
              "      <td>0</td>\n",
              "      <td>0</td>\n",
              "      <td>0</td>\n",
              "      <td>0</td>\n",
              "      <td>0</td>\n",
              "      <td>1</td>\n",
              "      <td>0</td>\n",
              "      <td>0</td>\n",
              "      <td>0</td>\n",
              "      <td>0</td>\n",
              "      <td>0</td>\n",
              "      <td>0</td>\n",
              "      <td>0</td>\n",
              "      <td>0</td>\n",
              "    </tr>\n",
              "    <tr>\n",
              "      <th>4</th>\n",
              "      <td>21.0</td>\n",
              "      <td>0.0</td>\n",
              "      <td>0.0</td>\n",
              "      <td>221.0</td>\n",
              "      <td>1012.0</td>\n",
              "      <td>0.3</td>\n",
              "      <td>83.0</td>\n",
              "      <td>0.0</td>\n",
              "      <td>21.0</td>\n",
              "      <td>10.0</td>\n",
              "      <td>5.0</td>\n",
              "      <td>9.7</td>\n",
              "      <td>0</td>\n",
              "      <td>1</td>\n",
              "      <td>0</td>\n",
              "      <td>0</td>\n",
              "      <td>0</td>\n",
              "      <td>0</td>\n",
              "      <td>0</td>\n",
              "      <td>0</td>\n",
              "      <td>0</td>\n",
              "      <td>0</td>\n",
              "      <td>0</td>\n",
              "      <td>0</td>\n",
              "      <td>0</td>\n",
              "      <td>0</td>\n",
              "      <td>0</td>\n",
              "      <td>0</td>\n",
              "      <td>0</td>\n",
              "      <td>0</td>\n",
              "      <td>0</td>\n",
              "      <td>0</td>\n",
              "      <td>0</td>\n",
              "      <td>0</td>\n",
              "      <td>0</td>\n",
              "      <td>0</td>\n",
              "      <td>0</td>\n",
              "      <td>0</td>\n",
              "      <td>1</td>\n",
              "      <td>0</td>\n",
              "      <td>0</td>\n",
              "      <td>0</td>\n",
              "      <td>0</td>\n",
              "      <td>0</td>\n",
              "      <td>0</td>\n",
              "      <td>0</td>\n",
              "      <td>0</td>\n",
              "    </tr>\n",
              "  </tbody>\n",
              "</table>\n",
              "</div>"
            ],
            "text/plain": [
              "   temp_c  is_day  wind_kph  ...  city_Paris  city_Rome  city_Sao Paulo\n",
              "0    27.0     1.0       6.8  ...           0          0               0\n",
              "1    18.6     1.0       6.5  ...           0          0               0\n",
              "2    21.0     1.0      19.1  ...           0          0               0\n",
              "3    21.0     1.0      19.1  ...           0          0               0\n",
              "4    21.0     0.0       0.0  ...           0          0               0\n",
              "\n",
              "[5 rows x 47 columns]"
            ]
          },
          "metadata": {},
          "execution_count": 46
        }
      ]
    },
    {
      "cell_type": "code",
      "metadata": {
        "colab": {
          "base_uri": "https://localhost:8080/"
        },
        "id": "mxEb_8LAF-jy",
        "outputId": "ba2b00b3-d55f-4531-98c7-0d9568984cfc"
      },
      "source": [
        "# Create Y array and clean it\n",
        "y = train_df['target_1']\n",
        "y = y.fillna(0.0)\n",
        "y = y.astype('int')\n",
        "y.unique()"
      ],
      "execution_count": 47,
      "outputs": [
        {
          "output_type": "execute_result",
          "data": {
            "text/plain": [
              "array([0, 1])"
            ]
          },
          "metadata": {},
          "execution_count": 47
        }
      ]
    },
    {
      "cell_type": "code",
      "metadata": {
        "id": "XewsDa0AEftD"
      },
      "source": [
        "# Split the data between Train and Test\n",
        "x_train, x_test, y_train, y_test = train_test_split(x, y)"
      ],
      "execution_count": 48,
      "outputs": []
    },
    {
      "cell_type": "code",
      "metadata": {
        "id": "nS2sNMh-K5l1"
      },
      "source": [
        "if len(x) == len(y):\n",
        "  pass\n",
        "else:\n",
        "  raise Exception (\"The data was splitted wrong\")"
      ],
      "execution_count": 49,
      "outputs": []
    },
    {
      "cell_type": "code",
      "metadata": {
        "colab": {
          "base_uri": "https://localhost:8080/"
        },
        "id": "XcUaFsGLMBWX",
        "outputId": "8bc39a7d-79b2-4e3a-902c-e8f332924a6e"
      },
      "source": [
        "print(f'train: {x_train.shape}\\ntest: {x_test.shape}')"
      ],
      "execution_count": 50,
      "outputs": [
        {
          "output_type": "stream",
          "name": "stdout",
          "text": [
            "train: (43917, 47)\n",
            "test: (14639, 47)\n"
          ]
        }
      ]
    },
    {
      "cell_type": "markdown",
      "metadata": {
        "id": "v9UXRmsooNnZ"
      },
      "source": [
        "### **5. Applying Machine Learning Model**"
      ]
    },
    {
      "cell_type": "code",
      "metadata": {
        "id": "IX4nKBSaMB5c"
      },
      "source": [
        "lr = LogisticRegression(random_state=0, max_iter=10000).fit(x_train, y_train)"
      ],
      "execution_count": 51,
      "outputs": []
    },
    {
      "cell_type": "code",
      "metadata": {
        "colab": {
          "base_uri": "https://localhost:8080/"
        },
        "id": "-hK74mx2Tt3V",
        "outputId": "fe6e52d5-cb4e-4b2d-b9af-1f2944bfeb59"
      },
      "source": [
        "lr.score(x_test, y_test)"
      ],
      "execution_count": 52,
      "outputs": [
        {
          "output_type": "execute_result",
          "data": {
            "text/plain": [
              "0.9422091672928479"
            ]
          },
          "metadata": {},
          "execution_count": 52
        }
      ]
    },
    {
      "cell_type": "code",
      "metadata": {
        "colab": {
          "base_uri": "https://localhost:8080/"
        },
        "id": "iak6YHKrUijP",
        "outputId": "6ae6f2fa-4ab1-4b2f-d7b3-fee97c602e31"
      },
      "source": [
        "x_test['prediction'] = lr.predict(x_test)"
      ],
      "execution_count": 53,
      "outputs": [
        {
          "output_type": "stream",
          "name": "stderr",
          "text": [
            "/usr/local/lib/python3.7/dist-packages/ipykernel_launcher.py:1: SettingWithCopyWarning: \n",
            "A value is trying to be set on a copy of a slice from a DataFrame.\n",
            "Try using .loc[row_indexer,col_indexer] = value instead\n",
            "\n",
            "See the caveats in the documentation: https://pandas.pydata.org/pandas-docs/stable/user_guide/indexing.html#returning-a-view-versus-a-copy\n",
            "  \"\"\"Entry point for launching an IPython kernel.\n"
          ]
        }
      ]
    },
    {
      "cell_type": "code",
      "metadata": {
        "id": "s_vTqjuNWJKZ"
      },
      "source": [
        "prob_list = []\n",
        "a = lr.predict_proba(x_test.drop(columns='prediction'))\n",
        "for i in a:\n",
        "  prob_list.append(i[0])"
      ],
      "execution_count": 54,
      "outputs": []
    },
    {
      "cell_type": "code",
      "metadata": {
        "colab": {
          "base_uri": "https://localhost:8080/",
          "height": 583
        },
        "id": "ruvCWODNW1AB",
        "outputId": "d24a8f85-6696-4271-9202-cb5b5ec9b740"
      },
      "source": [
        "x_test['prob'] = prob_list\n",
        "x_test"
      ],
      "execution_count": 55,
      "outputs": [
        {
          "output_type": "stream",
          "name": "stderr",
          "text": [
            "/usr/local/lib/python3.7/dist-packages/ipykernel_launcher.py:1: SettingWithCopyWarning: \n",
            "A value is trying to be set on a copy of a slice from a DataFrame.\n",
            "Try using .loc[row_indexer,col_indexer] = value instead\n",
            "\n",
            "See the caveats in the documentation: https://pandas.pydata.org/pandas-docs/stable/user_guide/indexing.html#returning-a-view-versus-a-copy\n",
            "  \"\"\"Entry point for launching an IPython kernel.\n"
          ]
        },
        {
          "output_type": "execute_result",
          "data": {
            "text/html": [
              "<div>\n",
              "<style scoped>\n",
              "    .dataframe tbody tr th:only-of-type {\n",
              "        vertical-align: middle;\n",
              "    }\n",
              "\n",
              "    .dataframe tbody tr th {\n",
              "        vertical-align: top;\n",
              "    }\n",
              "\n",
              "    .dataframe thead th {\n",
              "        text-align: right;\n",
              "    }\n",
              "</style>\n",
              "<table border=\"1\" class=\"dataframe\">\n",
              "  <thead>\n",
              "    <tr style=\"text-align: right;\">\n",
              "      <th></th>\n",
              "      <th>temp_c</th>\n",
              "      <th>is_day</th>\n",
              "      <th>wind_kph</th>\n",
              "      <th>wind_degree</th>\n",
              "      <th>pressure_mb</th>\n",
              "      <th>precip_mm</th>\n",
              "      <th>humidity</th>\n",
              "      <th>cloud</th>\n",
              "      <th>feelslike_c</th>\n",
              "      <th>vis_km</th>\n",
              "      <th>uv</th>\n",
              "      <th>gust_kph</th>\n",
              "      <th>target</th>\n",
              "      <th>condition_Clear</th>\n",
              "      <th>condition_Cloudy</th>\n",
              "      <th>condition_Fog</th>\n",
              "      <th>condition_Heavy rain</th>\n",
              "      <th>condition_Heavy rain at times</th>\n",
              "      <th>condition_Ice pellets</th>\n",
              "      <th>condition_Light drizzle</th>\n",
              "      <th>condition_Light rain</th>\n",
              "      <th>condition_Light rain shower</th>\n",
              "      <th>condition_Light snow</th>\n",
              "      <th>condition_Mist</th>\n",
              "      <th>condition_Moderate or heavy rain shower</th>\n",
              "      <th>condition_Moderate or heavy rain with thunder</th>\n",
              "      <th>condition_Moderate or heavy snow showers</th>\n",
              "      <th>condition_Moderate or heavy snow with thunder</th>\n",
              "      <th>condition_Moderate rain</th>\n",
              "      <th>condition_Moderate rain at times</th>\n",
              "      <th>condition_Overcast</th>\n",
              "      <th>condition_Partly cloudy</th>\n",
              "      <th>condition_Patchy light rain</th>\n",
              "      <th>condition_Patchy light rain with thunder</th>\n",
              "      <th>condition_Patchy rain possible</th>\n",
              "      <th>condition_Sunny</th>\n",
              "      <th>condition_Thundery outbreaks possible</th>\n",
              "      <th>condition_Torrential rain shower</th>\n",
              "      <th>city_Beijing</th>\n",
              "      <th>city_Carapicuiba</th>\n",
              "      <th>city_Hong Kong</th>\n",
              "      <th>city_London</th>\n",
              "      <th>city_Moscow</th>\n",
              "      <th>city_New York</th>\n",
              "      <th>city_Paris</th>\n",
              "      <th>city_Rome</th>\n",
              "      <th>city_Sao Paulo</th>\n",
              "      <th>prediction</th>\n",
              "      <th>prob</th>\n",
              "    </tr>\n",
              "  </thead>\n",
              "  <tbody>\n",
              "    <tr>\n",
              "      <th>23962</th>\n",
              "      <td>10.0</td>\n",
              "      <td>0.0</td>\n",
              "      <td>19.1</td>\n",
              "      <td>270.0</td>\n",
              "      <td>1001.0</td>\n",
              "      <td>1.2</td>\n",
              "      <td>87.0</td>\n",
              "      <td>50.0</td>\n",
              "      <td>8.6</td>\n",
              "      <td>10.0</td>\n",
              "      <td>1.0</td>\n",
              "      <td>14.4</td>\n",
              "      <td>0</td>\n",
              "      <td>0</td>\n",
              "      <td>0</td>\n",
              "      <td>0</td>\n",
              "      <td>0</td>\n",
              "      <td>0</td>\n",
              "      <td>0</td>\n",
              "      <td>0</td>\n",
              "      <td>0</td>\n",
              "      <td>0</td>\n",
              "      <td>0</td>\n",
              "      <td>0</td>\n",
              "      <td>0</td>\n",
              "      <td>0</td>\n",
              "      <td>0</td>\n",
              "      <td>0</td>\n",
              "      <td>0</td>\n",
              "      <td>0</td>\n",
              "      <td>0</td>\n",
              "      <td>1</td>\n",
              "      <td>0</td>\n",
              "      <td>0</td>\n",
              "      <td>0</td>\n",
              "      <td>0</td>\n",
              "      <td>0</td>\n",
              "      <td>0</td>\n",
              "      <td>0</td>\n",
              "      <td>0</td>\n",
              "      <td>0</td>\n",
              "      <td>0</td>\n",
              "      <td>1</td>\n",
              "      <td>0</td>\n",
              "      <td>0</td>\n",
              "      <td>0</td>\n",
              "      <td>0</td>\n",
              "      <td>0</td>\n",
              "      <td>0.921326</td>\n",
              "    </tr>\n",
              "    <tr>\n",
              "      <th>41236</th>\n",
              "      <td>20.0</td>\n",
              "      <td>1.0</td>\n",
              "      <td>11.2</td>\n",
              "      <td>230.0</td>\n",
              "      <td>1011.0</td>\n",
              "      <td>0.0</td>\n",
              "      <td>68.0</td>\n",
              "      <td>75.0</td>\n",
              "      <td>20.0</td>\n",
              "      <td>10.0</td>\n",
              "      <td>5.0</td>\n",
              "      <td>7.6</td>\n",
              "      <td>0</td>\n",
              "      <td>0</td>\n",
              "      <td>0</td>\n",
              "      <td>0</td>\n",
              "      <td>0</td>\n",
              "      <td>0</td>\n",
              "      <td>0</td>\n",
              "      <td>0</td>\n",
              "      <td>0</td>\n",
              "      <td>0</td>\n",
              "      <td>0</td>\n",
              "      <td>0</td>\n",
              "      <td>0</td>\n",
              "      <td>0</td>\n",
              "      <td>0</td>\n",
              "      <td>0</td>\n",
              "      <td>0</td>\n",
              "      <td>0</td>\n",
              "      <td>0</td>\n",
              "      <td>1</td>\n",
              "      <td>0</td>\n",
              "      <td>0</td>\n",
              "      <td>0</td>\n",
              "      <td>0</td>\n",
              "      <td>0</td>\n",
              "      <td>0</td>\n",
              "      <td>0</td>\n",
              "      <td>0</td>\n",
              "      <td>0</td>\n",
              "      <td>0</td>\n",
              "      <td>0</td>\n",
              "      <td>0</td>\n",
              "      <td>1</td>\n",
              "      <td>0</td>\n",
              "      <td>0</td>\n",
              "      <td>0</td>\n",
              "      <td>0.933419</td>\n",
              "    </tr>\n",
              "    <tr>\n",
              "      <th>31367</th>\n",
              "      <td>30.0</td>\n",
              "      <td>1.0</td>\n",
              "      <td>0.0</td>\n",
              "      <td>266.0</td>\n",
              "      <td>1019.0</td>\n",
              "      <td>0.5</td>\n",
              "      <td>55.0</td>\n",
              "      <td>0.0</td>\n",
              "      <td>32.3</td>\n",
              "      <td>16.0</td>\n",
              "      <td>6.0</td>\n",
              "      <td>15.1</td>\n",
              "      <td>0</td>\n",
              "      <td>0</td>\n",
              "      <td>0</td>\n",
              "      <td>0</td>\n",
              "      <td>0</td>\n",
              "      <td>0</td>\n",
              "      <td>0</td>\n",
              "      <td>0</td>\n",
              "      <td>0</td>\n",
              "      <td>0</td>\n",
              "      <td>0</td>\n",
              "      <td>0</td>\n",
              "      <td>0</td>\n",
              "      <td>0</td>\n",
              "      <td>0</td>\n",
              "      <td>0</td>\n",
              "      <td>0</td>\n",
              "      <td>0</td>\n",
              "      <td>0</td>\n",
              "      <td>0</td>\n",
              "      <td>0</td>\n",
              "      <td>0</td>\n",
              "      <td>0</td>\n",
              "      <td>1</td>\n",
              "      <td>0</td>\n",
              "      <td>0</td>\n",
              "      <td>0</td>\n",
              "      <td>0</td>\n",
              "      <td>0</td>\n",
              "      <td>0</td>\n",
              "      <td>0</td>\n",
              "      <td>1</td>\n",
              "      <td>0</td>\n",
              "      <td>0</td>\n",
              "      <td>0</td>\n",
              "      <td>0</td>\n",
              "      <td>0.991467</td>\n",
              "    </tr>\n",
              "    <tr>\n",
              "      <th>58258</th>\n",
              "      <td>16.0</td>\n",
              "      <td>1.0</td>\n",
              "      <td>13.0</td>\n",
              "      <td>90.0</td>\n",
              "      <td>1021.0</td>\n",
              "      <td>0.0</td>\n",
              "      <td>68.0</td>\n",
              "      <td>0.0</td>\n",
              "      <td>16.0</td>\n",
              "      <td>10.0</td>\n",
              "      <td>4.0</td>\n",
              "      <td>7.2</td>\n",
              "      <td>0</td>\n",
              "      <td>0</td>\n",
              "      <td>0</td>\n",
              "      <td>0</td>\n",
              "      <td>0</td>\n",
              "      <td>0</td>\n",
              "      <td>0</td>\n",
              "      <td>0</td>\n",
              "      <td>0</td>\n",
              "      <td>0</td>\n",
              "      <td>0</td>\n",
              "      <td>0</td>\n",
              "      <td>0</td>\n",
              "      <td>0</td>\n",
              "      <td>0</td>\n",
              "      <td>0</td>\n",
              "      <td>0</td>\n",
              "      <td>0</td>\n",
              "      <td>0</td>\n",
              "      <td>0</td>\n",
              "      <td>0</td>\n",
              "      <td>0</td>\n",
              "      <td>0</td>\n",
              "      <td>1</td>\n",
              "      <td>0</td>\n",
              "      <td>0</td>\n",
              "      <td>0</td>\n",
              "      <td>0</td>\n",
              "      <td>0</td>\n",
              "      <td>0</td>\n",
              "      <td>0</td>\n",
              "      <td>0</td>\n",
              "      <td>0</td>\n",
              "      <td>0</td>\n",
              "      <td>1</td>\n",
              "      <td>0</td>\n",
              "      <td>0.991792</td>\n",
              "    </tr>\n",
              "    <tr>\n",
              "      <th>49889</th>\n",
              "      <td>18.0</td>\n",
              "      <td>1.0</td>\n",
              "      <td>15.1</td>\n",
              "      <td>140.0</td>\n",
              "      <td>1022.0</td>\n",
              "      <td>0.4</td>\n",
              "      <td>73.0</td>\n",
              "      <td>75.0</td>\n",
              "      <td>18.0</td>\n",
              "      <td>10.0</td>\n",
              "      <td>4.0</td>\n",
              "      <td>17.3</td>\n",
              "      <td>0</td>\n",
              "      <td>0</td>\n",
              "      <td>0</td>\n",
              "      <td>0</td>\n",
              "      <td>0</td>\n",
              "      <td>0</td>\n",
              "      <td>0</td>\n",
              "      <td>0</td>\n",
              "      <td>0</td>\n",
              "      <td>0</td>\n",
              "      <td>0</td>\n",
              "      <td>0</td>\n",
              "      <td>0</td>\n",
              "      <td>0</td>\n",
              "      <td>0</td>\n",
              "      <td>0</td>\n",
              "      <td>0</td>\n",
              "      <td>0</td>\n",
              "      <td>0</td>\n",
              "      <td>1</td>\n",
              "      <td>0</td>\n",
              "      <td>0</td>\n",
              "      <td>0</td>\n",
              "      <td>0</td>\n",
              "      <td>0</td>\n",
              "      <td>0</td>\n",
              "      <td>0</td>\n",
              "      <td>0</td>\n",
              "      <td>0</td>\n",
              "      <td>0</td>\n",
              "      <td>0</td>\n",
              "      <td>0</td>\n",
              "      <td>0</td>\n",
              "      <td>0</td>\n",
              "      <td>1</td>\n",
              "      <td>0</td>\n",
              "      <td>0.970499</td>\n",
              "    </tr>\n",
              "    <tr>\n",
              "      <th>...</th>\n",
              "      <td>...</td>\n",
              "      <td>...</td>\n",
              "      <td>...</td>\n",
              "      <td>...</td>\n",
              "      <td>...</td>\n",
              "      <td>...</td>\n",
              "      <td>...</td>\n",
              "      <td>...</td>\n",
              "      <td>...</td>\n",
              "      <td>...</td>\n",
              "      <td>...</td>\n",
              "      <td>...</td>\n",
              "      <td>...</td>\n",
              "      <td>...</td>\n",
              "      <td>...</td>\n",
              "      <td>...</td>\n",
              "      <td>...</td>\n",
              "      <td>...</td>\n",
              "      <td>...</td>\n",
              "      <td>...</td>\n",
              "      <td>...</td>\n",
              "      <td>...</td>\n",
              "      <td>...</td>\n",
              "      <td>...</td>\n",
              "      <td>...</td>\n",
              "      <td>...</td>\n",
              "      <td>...</td>\n",
              "      <td>...</td>\n",
              "      <td>...</td>\n",
              "      <td>...</td>\n",
              "      <td>...</td>\n",
              "      <td>...</td>\n",
              "      <td>...</td>\n",
              "      <td>...</td>\n",
              "      <td>...</td>\n",
              "      <td>...</td>\n",
              "      <td>...</td>\n",
              "      <td>...</td>\n",
              "      <td>...</td>\n",
              "      <td>...</td>\n",
              "      <td>...</td>\n",
              "      <td>...</td>\n",
              "      <td>...</td>\n",
              "      <td>...</td>\n",
              "      <td>...</td>\n",
              "      <td>...</td>\n",
              "      <td>...</td>\n",
              "      <td>...</td>\n",
              "      <td>...</td>\n",
              "    </tr>\n",
              "    <tr>\n",
              "      <th>13767</th>\n",
              "      <td>28.7</td>\n",
              "      <td>0.0</td>\n",
              "      <td>15.1</td>\n",
              "      <td>132.0</td>\n",
              "      <td>1007.0</td>\n",
              "      <td>0.0</td>\n",
              "      <td>72.0</td>\n",
              "      <td>4.0</td>\n",
              "      <td>32.5</td>\n",
              "      <td>10.0</td>\n",
              "      <td>7.0</td>\n",
              "      <td>23.8</td>\n",
              "      <td>0</td>\n",
              "      <td>0</td>\n",
              "      <td>0</td>\n",
              "      <td>0</td>\n",
              "      <td>0</td>\n",
              "      <td>0</td>\n",
              "      <td>0</td>\n",
              "      <td>0</td>\n",
              "      <td>0</td>\n",
              "      <td>0</td>\n",
              "      <td>0</td>\n",
              "      <td>0</td>\n",
              "      <td>0</td>\n",
              "      <td>0</td>\n",
              "      <td>0</td>\n",
              "      <td>0</td>\n",
              "      <td>0</td>\n",
              "      <td>0</td>\n",
              "      <td>0</td>\n",
              "      <td>1</td>\n",
              "      <td>0</td>\n",
              "      <td>0</td>\n",
              "      <td>0</td>\n",
              "      <td>0</td>\n",
              "      <td>0</td>\n",
              "      <td>0</td>\n",
              "      <td>0</td>\n",
              "      <td>0</td>\n",
              "      <td>1</td>\n",
              "      <td>0</td>\n",
              "      <td>0</td>\n",
              "      <td>0</td>\n",
              "      <td>0</td>\n",
              "      <td>0</td>\n",
              "      <td>0</td>\n",
              "      <td>0</td>\n",
              "      <td>0.972382</td>\n",
              "    </tr>\n",
              "    <tr>\n",
              "      <th>17267</th>\n",
              "      <td>10.0</td>\n",
              "      <td>0.0</td>\n",
              "      <td>13.0</td>\n",
              "      <td>50.0</td>\n",
              "      <td>1008.0</td>\n",
              "      <td>0.0</td>\n",
              "      <td>94.0</td>\n",
              "      <td>100.0</td>\n",
              "      <td>9.4</td>\n",
              "      <td>7.0</td>\n",
              "      <td>1.0</td>\n",
              "      <td>10.8</td>\n",
              "      <td>1</td>\n",
              "      <td>0</td>\n",
              "      <td>0</td>\n",
              "      <td>0</td>\n",
              "      <td>0</td>\n",
              "      <td>0</td>\n",
              "      <td>0</td>\n",
              "      <td>0</td>\n",
              "      <td>1</td>\n",
              "      <td>0</td>\n",
              "      <td>0</td>\n",
              "      <td>0</td>\n",
              "      <td>0</td>\n",
              "      <td>0</td>\n",
              "      <td>0</td>\n",
              "      <td>0</td>\n",
              "      <td>0</td>\n",
              "      <td>0</td>\n",
              "      <td>0</td>\n",
              "      <td>0</td>\n",
              "      <td>0</td>\n",
              "      <td>0</td>\n",
              "      <td>0</td>\n",
              "      <td>0</td>\n",
              "      <td>0</td>\n",
              "      <td>0</td>\n",
              "      <td>0</td>\n",
              "      <td>0</td>\n",
              "      <td>0</td>\n",
              "      <td>1</td>\n",
              "      <td>0</td>\n",
              "      <td>0</td>\n",
              "      <td>0</td>\n",
              "      <td>0</td>\n",
              "      <td>0</td>\n",
              "      <td>1</td>\n",
              "      <td>0.343435</td>\n",
              "    </tr>\n",
              "    <tr>\n",
              "      <th>12424</th>\n",
              "      <td>24.8</td>\n",
              "      <td>0.0</td>\n",
              "      <td>4.3</td>\n",
              "      <td>112.0</td>\n",
              "      <td>1013.0</td>\n",
              "      <td>0.0</td>\n",
              "      <td>56.0</td>\n",
              "      <td>5.0</td>\n",
              "      <td>25.9</td>\n",
              "      <td>10.0</td>\n",
              "      <td>1.0</td>\n",
              "      <td>9.0</td>\n",
              "      <td>0</td>\n",
              "      <td>0</td>\n",
              "      <td>0</td>\n",
              "      <td>0</td>\n",
              "      <td>0</td>\n",
              "      <td>0</td>\n",
              "      <td>0</td>\n",
              "      <td>0</td>\n",
              "      <td>0</td>\n",
              "      <td>0</td>\n",
              "      <td>0</td>\n",
              "      <td>0</td>\n",
              "      <td>0</td>\n",
              "      <td>0</td>\n",
              "      <td>0</td>\n",
              "      <td>0</td>\n",
              "      <td>0</td>\n",
              "      <td>0</td>\n",
              "      <td>0</td>\n",
              "      <td>1</td>\n",
              "      <td>0</td>\n",
              "      <td>0</td>\n",
              "      <td>0</td>\n",
              "      <td>0</td>\n",
              "      <td>0</td>\n",
              "      <td>0</td>\n",
              "      <td>0</td>\n",
              "      <td>1</td>\n",
              "      <td>0</td>\n",
              "      <td>0</td>\n",
              "      <td>0</td>\n",
              "      <td>0</td>\n",
              "      <td>0</td>\n",
              "      <td>0</td>\n",
              "      <td>0</td>\n",
              "      <td>0</td>\n",
              "      <td>0.992463</td>\n",
              "    </tr>\n",
              "    <tr>\n",
              "      <th>16638</th>\n",
              "      <td>13.0</td>\n",
              "      <td>1.0</td>\n",
              "      <td>22.0</td>\n",
              "      <td>230.0</td>\n",
              "      <td>1017.0</td>\n",
              "      <td>0.0</td>\n",
              "      <td>35.0</td>\n",
              "      <td>0.0</td>\n",
              "      <td>11.9</td>\n",
              "      <td>10.0</td>\n",
              "      <td>4.0</td>\n",
              "      <td>14.4</td>\n",
              "      <td>0</td>\n",
              "      <td>0</td>\n",
              "      <td>0</td>\n",
              "      <td>0</td>\n",
              "      <td>0</td>\n",
              "      <td>0</td>\n",
              "      <td>0</td>\n",
              "      <td>0</td>\n",
              "      <td>0</td>\n",
              "      <td>0</td>\n",
              "      <td>0</td>\n",
              "      <td>0</td>\n",
              "      <td>0</td>\n",
              "      <td>0</td>\n",
              "      <td>0</td>\n",
              "      <td>0</td>\n",
              "      <td>0</td>\n",
              "      <td>0</td>\n",
              "      <td>0</td>\n",
              "      <td>0</td>\n",
              "      <td>0</td>\n",
              "      <td>0</td>\n",
              "      <td>0</td>\n",
              "      <td>1</td>\n",
              "      <td>0</td>\n",
              "      <td>0</td>\n",
              "      <td>0</td>\n",
              "      <td>0</td>\n",
              "      <td>0</td>\n",
              "      <td>1</td>\n",
              "      <td>0</td>\n",
              "      <td>0</td>\n",
              "      <td>0</td>\n",
              "      <td>0</td>\n",
              "      <td>0</td>\n",
              "      <td>0</td>\n",
              "      <td>0.992322</td>\n",
              "    </tr>\n",
              "    <tr>\n",
              "      <th>42397</th>\n",
              "      <td>21.0</td>\n",
              "      <td>1.0</td>\n",
              "      <td>13.0</td>\n",
              "      <td>270.0</td>\n",
              "      <td>1019.0</td>\n",
              "      <td>0.0</td>\n",
              "      <td>64.0</td>\n",
              "      <td>75.0</td>\n",
              "      <td>21.0</td>\n",
              "      <td>10.0</td>\n",
              "      <td>5.0</td>\n",
              "      <td>14.0</td>\n",
              "      <td>0</td>\n",
              "      <td>0</td>\n",
              "      <td>0</td>\n",
              "      <td>0</td>\n",
              "      <td>0</td>\n",
              "      <td>0</td>\n",
              "      <td>0</td>\n",
              "      <td>0</td>\n",
              "      <td>0</td>\n",
              "      <td>0</td>\n",
              "      <td>0</td>\n",
              "      <td>0</td>\n",
              "      <td>0</td>\n",
              "      <td>0</td>\n",
              "      <td>0</td>\n",
              "      <td>0</td>\n",
              "      <td>0</td>\n",
              "      <td>0</td>\n",
              "      <td>0</td>\n",
              "      <td>1</td>\n",
              "      <td>0</td>\n",
              "      <td>0</td>\n",
              "      <td>0</td>\n",
              "      <td>0</td>\n",
              "      <td>0</td>\n",
              "      <td>0</td>\n",
              "      <td>0</td>\n",
              "      <td>0</td>\n",
              "      <td>0</td>\n",
              "      <td>0</td>\n",
              "      <td>0</td>\n",
              "      <td>0</td>\n",
              "      <td>1</td>\n",
              "      <td>0</td>\n",
              "      <td>0</td>\n",
              "      <td>0</td>\n",
              "      <td>0.935520</td>\n",
              "    </tr>\n",
              "  </tbody>\n",
              "</table>\n",
              "<p>14639 rows × 49 columns</p>\n",
              "</div>"
            ],
            "text/plain": [
              "       temp_c  is_day  wind_kph  ...  city_Sao Paulo  prediction      prob\n",
              "23962    10.0     0.0      19.1  ...               0           0  0.921326\n",
              "41236    20.0     1.0      11.2  ...               0           0  0.933419\n",
              "31367    30.0     1.0       0.0  ...               0           0  0.991467\n",
              "58258    16.0     1.0      13.0  ...               1           0  0.991792\n",
              "49889    18.0     1.0      15.1  ...               1           0  0.970499\n",
              "...       ...     ...       ...  ...             ...         ...       ...\n",
              "13767    28.7     0.0      15.1  ...               0           0  0.972382\n",
              "17267    10.0     0.0      13.0  ...               0           1  0.343435\n",
              "12424    24.8     0.0       4.3  ...               0           0  0.992463\n",
              "16638    13.0     1.0      22.0  ...               0           0  0.992322\n",
              "42397    21.0     1.0      13.0  ...               0           0  0.935520\n",
              "\n",
              "[14639 rows x 49 columns]"
            ]
          },
          "metadata": {},
          "execution_count": 55
        }
      ]
    },
    {
      "cell_type": "code",
      "metadata": {
        "id": "vPkbX5USdLV5",
        "colab": {
          "base_uri": "https://localhost:8080/",
          "height": 296
        },
        "outputId": "ea10b2fd-68cd-4d40-a819-92f912bef934"
      },
      "source": [
        "sns.boxplot(x=x_test['prediction'], y=x_test['prob'])"
      ],
      "execution_count": 56,
      "outputs": [
        {
          "output_type": "execute_result",
          "data": {
            "text/plain": [
              "<matplotlib.axes._subplots.AxesSubplot at 0x7fbf2ce990d0>"
            ]
          },
          "metadata": {},
          "execution_count": 56
        },
        {
          "output_type": "display_data",
          "data": {
            "image/png": "[encoded data removed]",
            "text/plain": [
              "<Figure size 432x288 with 1 Axes>"
            ]
          },
          "metadata": {
            "needs_background": "light"
          }
        }
      ]
    },
    {
      "cell_type": "code",
      "metadata": {
        "id": "24gSi-YCdmK9",
        "colab": {
          "base_uri": "https://localhost:8080/",
          "height": 459
        },
        "outputId": "c0857f0b-8426-443d-bdea-eca324b16540"
      },
      "source": [
        "plt.figure(figsize=(10,7))\n",
        "sns.histplot(hue=x_test['prediction'], x=x_test['prob'], bins='sturges')"
      ],
      "execution_count": 57,
      "outputs": [
        {
          "output_type": "execute_result",
          "data": {
            "text/plain": [
              "<matplotlib.axes._subplots.AxesSubplot at 0x7fbf2cd87a90>"
            ]
          },
          "metadata": {},
          "execution_count": 57
        },
        {
          "output_type": "display_data",
          "data": {
            "image/png": "[encoded data removed]",
            "text/plain": [
              "<Figure size 720x504 with 1 Axes>"
            ]
          },
          "metadata": {
            "needs_background": "light"
          }
        }
      ]
    },
    {
      "cell_type": "code",
      "metadata": {
        "id": "ADiGdwJZg-Ya",
        "colab": {
          "base_uri": "https://localhost:8080/"
        },
        "outputId": "63a87ef9-eec6-4598-c15b-e6a025166b4d"
      },
      "source": [
        "cm = confusion_matrix(y_test, x_test['prediction'])\n",
        "cm"
      ],
      "execution_count": 58,
      "outputs": [
        {
          "output_type": "execute_result",
          "data": {
            "text/plain": [
              "array([[13075,   338],\n",
              "       [  508,   718]])"
            ]
          },
          "metadata": {},
          "execution_count": 58
        }
      ]
    },
    {
      "cell_type": "code",
      "metadata": {
        "id": "NOKWb5Ukg-aY",
        "colab": {
          "base_uri": "https://localhost:8080/"
        },
        "outputId": "8270845f-4c03-4972-dae4-60d61de623fa"
      },
      "source": [
        "print(f'Precision: {round(100 * (cm[0][0] / (cm[0][0] + cm[0][1])), 1)}%')\n",
        "print(f'Recall: {round(100 * (cm[0][0] / (cm[0][0] + cm[1][0])), 1)}%')\n",
        "print(f'Accuracy: {round(100 * ((cm[0][0] + cm[1][1]) / (cm[0][0] + cm[0][1] + cm[1][0] + cm[1][1])), 1)}%')"
      ],
      "execution_count": 59,
      "outputs": [
        {
          "output_type": "stream",
          "name": "stdout",
          "text": [
            "Precision: 97.5%\n",
            "Recall: 96.3%\n",
            "Accuracy: 94.2%\n"
          ]
        }
      ]
    },
    {
      "cell_type": "code",
      "metadata": {
        "id": "tYWqX-Iqm5__"
      },
      "source": [
        "filename = 'model_v1'\n",
        "pickle.dump(lr, open(filename, 'wb'))\n",
        "#loaded_model = pickle.load(open(filename, 'rb'))"
      ],
      "execution_count": 60,
      "outputs": []
    },
    {
      "cell_type": "code",
      "metadata": {
        "id": "QT1oEJ1nOkFF"
      },
      "source": [
        "df_empty = x_test[0:0]\n",
        "df_empty = df_empty.drop(columns=['prediction', 'prob'])\n",
        "pickle.dump(df_empty, open('df_mask', 'wb'))"
      ],
      "execution_count": 86,
      "outputs": []
    },
    {
      "cell_type": "code",
      "metadata": {
        "id": "3LXL-pqLP3Nh"
      },
      "source": [
        ""
      ],
      "execution_count": null,
      "outputs": []
    }
  ]
}
