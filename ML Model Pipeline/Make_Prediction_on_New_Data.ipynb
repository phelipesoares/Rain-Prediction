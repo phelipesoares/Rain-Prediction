{
  "nbformat": 4,
  "nbformat_minor": 0,
  "metadata": {
    "colab": {
      "name": "Make Prediction on New Data.ipynb",
      "provenance": [],
      "mount_file_id": "16IL1t2fAqupInghZX-PMG5DJ0e6Y40f4",
      "authorship_tag": "ABX9TyOctdFHOjxa3sOKNUlJmSvn",
      "include_colab_link": true
    },
    "kernelspec": {
      "name": "python3",
      "display_name": "Python 3"
    },
    "language_info": {
      "name": "python"
    }
  },
  "cells": [
    {
      "cell_type": "markdown",
      "metadata": {
        "id": "view-in-github",
        "colab_type": "text"
      },
      "source": [
        "<a href=\"https://colab.research.google.com/github/phelipe-sb/Rain-Prediction/blob/main/ML%20Model%20Pipeline/Make_Prediction_on_New_Data.ipynb\" target=\"_parent\"><img src=\"https://colab.research.google.com/assets/colab-badge.svg\" alt=\"Open In Colab\"/></a>"
      ]
    },
    {
      "cell_type": "code",
      "metadata": {
        "id": "nBvG7jPCvLb3"
      },
      "source": [
        "import pickle\n",
        "import requests\n",
        "import time\n",
        "from datetime import datetime, timedelta\n",
        "import pandas as pd"
      ],
      "execution_count": 1,
      "outputs": []
    },
    {
      "cell_type": "code",
      "metadata": {
        "colab": {
          "base_uri": "https://localhost:8080/"
        },
        "id": "dHM9WmUZupvW",
        "outputId": "dcc6a254-a9da-4d83-de65-db6cb5a3c596"
      },
      "source": [
        "%cd /content/drive/MyDrive/Weather_Project"
      ],
      "execution_count": 2,
      "outputs": [
        {
          "output_type": "stream",
          "name": "stdout",
          "text": [
            "/content/drive/MyDrive/Weather_Project\n"
          ]
        }
      ]
    },
    {
      "cell_type": "code",
      "metadata": {
        "id": "5wA0JuZKvR_2"
      },
      "source": [
        "# Upgrade: Query in BigQuery instead Api\n",
        "\n",
        "f = open(\"project_info.txt\", \"r\")\n",
        "info_list = eval(f.read())\n",
        "\n",
        "for x in info_list[1]:\n",
        "    table_id = x\n",
        "    \n",
        "for x in info_list[2]:\n",
        "    path = x\n",
        "    \n",
        "for x in info_list[3]:\n",
        "    url = x\n",
        "    \n",
        "headers = info_list[0]\n",
        "\n",
        "cities = list((\"Sao Paulo\", \"Carapicuiba\", \"New York\", \"Paris\", \"London\", \"Rome\", \"Moscow\", \"Ottawa\", \"Hong Kong\", \"Beijing\"))\n",
        "listdict = list(())\n",
        "for i in cities:\n",
        "    querystring = {\"q\":\"{}\".format(i)}\n",
        "    response = requests.request(\"GET\", url, headers=headers, params=querystring)\n",
        "    var = response.json()\n",
        "    dic = var['current']\n",
        "    dic['condition'] = dic['condition']['text']\n",
        "    dic['city'] = \"{}\".format(i)\n",
        "    listdict.append(dic)\n",
        "    time.sleep(1)"
      ],
      "execution_count": 3,
      "outputs": []
    },
    {
      "cell_type": "code",
      "metadata": {
        "id": "rrrF_NkqvSCc"
      },
      "source": [
        "df = pd.DataFrame(listdict)\n",
        "cidades = ['Paris', 'Sao Paulo', 'Carapicuiba', 'New York', 'Otawwa', 'London', 'Rome', 'Moscow'\n",
        "        , 'Hong Kong', 'Beijing']\n",
        "df = df.loc[df['city'].isin(cidades)]"
      ],
      "execution_count": 4,
      "outputs": []
    },
    {
      "cell_type": "code",
      "metadata": {
        "colab": {
          "base_uri": "https://localhost:8080/"
        },
        "id": "_YPG6Q3gyXQD",
        "outputId": "8b3f58fe-2939-4a93-921f-9e24b150a5a6"
      },
      "source": [
        "# This conditions means that it's raining in the moment\n",
        "raining_list = ['Light rain', 'Light rain shower', 'Light drizzle', 'Heavy rain', 'Moderate rain', 'Patchy light rain with thunder'\n",
        "            , 'Moderate or heavy rain shower', 'Patchy light rain', 'Torrential rain shower', 'Moderate rain at times'\n",
        "            , 'Moderate or heavy rain with thunder']\n",
        "\n",
        "# Creating the target variable\n",
        "df['target'] = df['condition'].apply(lambda x: 1 if x in raining_list else 0)\n",
        "df['target'].unique()"
      ],
      "execution_count": 5,
      "outputs": [
        {
          "output_type": "execute_result",
          "data": {
            "text/plain": [
              "array([0, 1])"
            ]
          },
          "metadata": {},
          "execution_count": 5
        }
      ]
    },
    {
      "cell_type": "code",
      "metadata": {
        "colab": {
          "base_uri": "https://localhost:8080/",
          "height": 244
        },
        "id": "dgjdqNleyXVi",
        "outputId": "ed013b07-6290-49d5-a2f1-9aa422704ad7"
      },
      "source": [
        "x = df[['city', 'temp_c', 'is_day', 'condition', 'wind_kph', 'wind_degree'\n",
        "          , 'pressure_mb', 'precip_mm', 'humidity', 'cloud', 'feelslike_c', 'vis_km', 'uv'\n",
        "          , 'gust_kph', 'target']].copy()\n",
        "\n",
        "x = pd.get_dummies(x, columns=['condition', 'city'])\n",
        "x.head()"
      ],
      "execution_count": 6,
      "outputs": [
        {
          "output_type": "execute_result",
          "data": {
            "text/html": [
              "<div>\n",
              "<style scoped>\n",
              "    .dataframe tbody tr th:only-of-type {\n",
              "        vertical-align: middle;\n",
              "    }\n",
              "\n",
              "    .dataframe tbody tr th {\n",
              "        vertical-align: top;\n",
              "    }\n",
              "\n",
              "    .dataframe thead th {\n",
              "        text-align: right;\n",
              "    }\n",
              "</style>\n",
              "<table border=\"1\" class=\"dataframe\">\n",
              "  <thead>\n",
              "    <tr style=\"text-align: right;\">\n",
              "      <th></th>\n",
              "      <th>temp_c</th>\n",
              "      <th>is_day</th>\n",
              "      <th>wind_kph</th>\n",
              "      <th>wind_degree</th>\n",
              "      <th>pressure_mb</th>\n",
              "      <th>precip_mm</th>\n",
              "      <th>humidity</th>\n",
              "      <th>cloud</th>\n",
              "      <th>feelslike_c</th>\n",
              "      <th>vis_km</th>\n",
              "      <th>uv</th>\n",
              "      <th>gust_kph</th>\n",
              "      <th>target</th>\n",
              "      <th>condition_Clear</th>\n",
              "      <th>condition_Mist</th>\n",
              "      <th>condition_Moderate rain</th>\n",
              "      <th>condition_Partly cloudy</th>\n",
              "      <th>condition_Sunny</th>\n",
              "      <th>city_Beijing</th>\n",
              "      <th>city_Carapicuiba</th>\n",
              "      <th>city_Hong Kong</th>\n",
              "      <th>city_London</th>\n",
              "      <th>city_Moscow</th>\n",
              "      <th>city_New York</th>\n",
              "      <th>city_Paris</th>\n",
              "      <th>city_Rome</th>\n",
              "      <th>city_Sao Paulo</th>\n",
              "    </tr>\n",
              "  </thead>\n",
              "  <tbody>\n",
              "    <tr>\n",
              "      <th>0</th>\n",
              "      <td>22.0</td>\n",
              "      <td>0</td>\n",
              "      <td>6.8</td>\n",
              "      <td>100</td>\n",
              "      <td>1016.0</td>\n",
              "      <td>0.0</td>\n",
              "      <td>41</td>\n",
              "      <td>0</td>\n",
              "      <td>23.7</td>\n",
              "      <td>10.0</td>\n",
              "      <td>1.0</td>\n",
              "      <td>14.0</td>\n",
              "      <td>0</td>\n",
              "      <td>1</td>\n",
              "      <td>0</td>\n",
              "      <td>0</td>\n",
              "      <td>0</td>\n",
              "      <td>0</td>\n",
              "      <td>0</td>\n",
              "      <td>0</td>\n",
              "      <td>0</td>\n",
              "      <td>0</td>\n",
              "      <td>0</td>\n",
              "      <td>0</td>\n",
              "      <td>0</td>\n",
              "      <td>0</td>\n",
              "      <td>1</td>\n",
              "    </tr>\n",
              "    <tr>\n",
              "      <th>1</th>\n",
              "      <td>22.0</td>\n",
              "      <td>0</td>\n",
              "      <td>6.8</td>\n",
              "      <td>100</td>\n",
              "      <td>1016.0</td>\n",
              "      <td>0.0</td>\n",
              "      <td>41</td>\n",
              "      <td>0</td>\n",
              "      <td>24.1</td>\n",
              "      <td>10.0</td>\n",
              "      <td>1.0</td>\n",
              "      <td>22.7</td>\n",
              "      <td>0</td>\n",
              "      <td>1</td>\n",
              "      <td>0</td>\n",
              "      <td>0</td>\n",
              "      <td>0</td>\n",
              "      <td>0</td>\n",
              "      <td>0</td>\n",
              "      <td>1</td>\n",
              "      <td>0</td>\n",
              "      <td>0</td>\n",
              "      <td>0</td>\n",
              "      <td>0</td>\n",
              "      <td>0</td>\n",
              "      <td>0</td>\n",
              "      <td>0</td>\n",
              "    </tr>\n",
              "    <tr>\n",
              "      <th>2</th>\n",
              "      <td>18.9</td>\n",
              "      <td>0</td>\n",
              "      <td>0.0</td>\n",
              "      <td>323</td>\n",
              "      <td>1013.0</td>\n",
              "      <td>1.0</td>\n",
              "      <td>68</td>\n",
              "      <td>0</td>\n",
              "      <td>18.9</td>\n",
              "      <td>16.0</td>\n",
              "      <td>1.0</td>\n",
              "      <td>31.3</td>\n",
              "      <td>0</td>\n",
              "      <td>1</td>\n",
              "      <td>0</td>\n",
              "      <td>0</td>\n",
              "      <td>0</td>\n",
              "      <td>0</td>\n",
              "      <td>0</td>\n",
              "      <td>0</td>\n",
              "      <td>0</td>\n",
              "      <td>0</td>\n",
              "      <td>0</td>\n",
              "      <td>1</td>\n",
              "      <td>0</td>\n",
              "      <td>0</td>\n",
              "      <td>0</td>\n",
              "    </tr>\n",
              "    <tr>\n",
              "      <th>3</th>\n",
              "      <td>14.0</td>\n",
              "      <td>0</td>\n",
              "      <td>22.0</td>\n",
              "      <td>220</td>\n",
              "      <td>1016.0</td>\n",
              "      <td>0.0</td>\n",
              "      <td>82</td>\n",
              "      <td>75</td>\n",
              "      <td>12.6</td>\n",
              "      <td>10.0</td>\n",
              "      <td>1.0</td>\n",
              "      <td>25.9</td>\n",
              "      <td>1</td>\n",
              "      <td>0</td>\n",
              "      <td>0</td>\n",
              "      <td>1</td>\n",
              "      <td>0</td>\n",
              "      <td>0</td>\n",
              "      <td>0</td>\n",
              "      <td>0</td>\n",
              "      <td>0</td>\n",
              "      <td>0</td>\n",
              "      <td>0</td>\n",
              "      <td>0</td>\n",
              "      <td>1</td>\n",
              "      <td>0</td>\n",
              "      <td>0</td>\n",
              "    </tr>\n",
              "    <tr>\n",
              "      <th>4</th>\n",
              "      <td>12.0</td>\n",
              "      <td>0</td>\n",
              "      <td>16.9</td>\n",
              "      <td>250</td>\n",
              "      <td>1012.0</td>\n",
              "      <td>6.9</td>\n",
              "      <td>88</td>\n",
              "      <td>25</td>\n",
              "      <td>10.4</td>\n",
              "      <td>10.0</td>\n",
              "      <td>1.0</td>\n",
              "      <td>22.7</td>\n",
              "      <td>0</td>\n",
              "      <td>0</td>\n",
              "      <td>0</td>\n",
              "      <td>0</td>\n",
              "      <td>1</td>\n",
              "      <td>0</td>\n",
              "      <td>0</td>\n",
              "      <td>0</td>\n",
              "      <td>0</td>\n",
              "      <td>1</td>\n",
              "      <td>0</td>\n",
              "      <td>0</td>\n",
              "      <td>0</td>\n",
              "      <td>0</td>\n",
              "      <td>0</td>\n",
              "    </tr>\n",
              "  </tbody>\n",
              "</table>\n",
              "</div>"
            ],
            "text/plain": [
              "   temp_c  is_day  wind_kph  ...  city_Paris  city_Rome  city_Sao Paulo\n",
              "0    22.0       0       6.8  ...           0          0               1\n",
              "1    22.0       0       6.8  ...           0          0               0\n",
              "2    18.9       0       0.0  ...           0          0               0\n",
              "3    14.0       0      22.0  ...           1          0               0\n",
              "4    12.0       0      16.9  ...           0          0               0\n",
              "\n",
              "[5 rows x 27 columns]"
            ]
          },
          "metadata": {},
          "execution_count": 6
        }
      ]
    },
    {
      "cell_type": "code",
      "metadata": {
        "id": "PvqucrfYNk-Z"
      },
      "source": [
        "df_mask = pickle.load(open('df_mask', 'rb'))\n",
        "x = df_mask.append(x)\n",
        "x = x.fillna(0)"
      ],
      "execution_count": 7,
      "outputs": []
    },
    {
      "cell_type": "code",
      "metadata": {
        "id": "LDSxlxD9xjy9"
      },
      "source": [
        "model = pickle.load(open('model_v1', 'rb'))\n",
        "pred = model.predict(x)\n",
        "results = model.predict_proba(x)"
      ],
      "execution_count": 8,
      "outputs": []
    },
    {
      "cell_type": "code",
      "metadata": {
        "id": "PEimj6XfRi__"
      },
      "source": [
        "prob_list = []\n",
        "for p in results:\n",
        "  prob_list.append(1 - p[0])"
      ],
      "execution_count": 9,
      "outputs": []
    },
    {
      "cell_type": "code",
      "metadata": {
        "colab": {
          "base_uri": "https://localhost:8080/",
          "height": 332
        },
        "id": "uvr_M_hZcvGc",
        "outputId": "2e3f2a11-bf70-453e-fa98-bbc690629d0a"
      },
      "source": [
        "df['prob_chuva'] = pd.DataFrame(prob_list)\n",
        "df['pred'] = pd.DataFrame(pred)\n",
        "df['last_updated'] = df['last_updated'].astype('datetime64[ns]')\n",
        "df['prediction_time'] = df['last_updated'] + pd.Timedelta(hours=4)\n",
        "df = df[['prediction_time', 'city', 'prob_chuva', 'pred']]\n",
        "df"
      ],
      "execution_count": 11,
      "outputs": [
        {
          "output_type": "execute_result",
          "data": {
            "text/html": [
              "<div>\n",
              "<style scoped>\n",
              "    .dataframe tbody tr th:only-of-type {\n",
              "        vertical-align: middle;\n",
              "    }\n",
              "\n",
              "    .dataframe tbody tr th {\n",
              "        vertical-align: top;\n",
              "    }\n",
              "\n",
              "    .dataframe thead th {\n",
              "        text-align: right;\n",
              "    }\n",
              "</style>\n",
              "<table border=\"1\" class=\"dataframe\">\n",
              "  <thead>\n",
              "    <tr style=\"text-align: right;\">\n",
              "      <th></th>\n",
              "      <th>prediction_time</th>\n",
              "      <th>city</th>\n",
              "      <th>prob_chuva</th>\n",
              "      <th>pred</th>\n",
              "    </tr>\n",
              "  </thead>\n",
              "  <tbody>\n",
              "    <tr>\n",
              "      <th>0</th>\n",
              "      <td>2021-09-29 03:45:00</td>\n",
              "      <td>Sao Paulo</td>\n",
              "      <td>0.003128</td>\n",
              "      <td>0.0</td>\n",
              "    </tr>\n",
              "    <tr>\n",
              "      <th>1</th>\n",
              "      <td>2021-09-29 03:45:00</td>\n",
              "      <td>Carapicuiba</td>\n",
              "      <td>0.003215</td>\n",
              "      <td>0.0</td>\n",
              "    </tr>\n",
              "    <tr>\n",
              "      <th>2</th>\n",
              "      <td>2021-09-29 02:45:00</td>\n",
              "      <td>New York</td>\n",
              "      <td>0.011784</td>\n",
              "      <td>0.0</td>\n",
              "    </tr>\n",
              "    <tr>\n",
              "      <th>3</th>\n",
              "      <td>2021-09-29 08:45:00</td>\n",
              "      <td>Paris</td>\n",
              "      <td>0.899018</td>\n",
              "      <td>1.0</td>\n",
              "    </tr>\n",
              "    <tr>\n",
              "      <th>4</th>\n",
              "      <td>2021-09-29 07:45:00</td>\n",
              "      <td>London</td>\n",
              "      <td>0.065019</td>\n",
              "      <td>0.0</td>\n",
              "    </tr>\n",
              "    <tr>\n",
              "      <th>5</th>\n",
              "      <td>2021-09-29 08:45:00</td>\n",
              "      <td>Rome</td>\n",
              "      <td>0.013201</td>\n",
              "      <td>0.0</td>\n",
              "    </tr>\n",
              "    <tr>\n",
              "      <th>6</th>\n",
              "      <td>2021-09-29 09:45:00</td>\n",
              "      <td>Moscow</td>\n",
              "      <td>0.035490</td>\n",
              "      <td>0.0</td>\n",
              "    </tr>\n",
              "    <tr>\n",
              "      <th>8</th>\n",
              "      <td>2021-09-29 14:45:00</td>\n",
              "      <td>Hong Kong</td>\n",
              "      <td>0.017749</td>\n",
              "      <td>0.0</td>\n",
              "    </tr>\n",
              "    <tr>\n",
              "      <th>9</th>\n",
              "      <td>2021-09-29 14:45:00</td>\n",
              "      <td>Beijing</td>\n",
              "      <td>NaN</td>\n",
              "      <td>NaN</td>\n",
              "    </tr>\n",
              "  </tbody>\n",
              "</table>\n",
              "</div>"
            ],
            "text/plain": [
              "      prediction_time         city  prob_chuva  pred\n",
              "0 2021-09-29 03:45:00    Sao Paulo    0.003128   0.0\n",
              "1 2021-09-29 03:45:00  Carapicuiba    0.003215   0.0\n",
              "2 2021-09-29 02:45:00     New York    0.011784   0.0\n",
              "3 2021-09-29 08:45:00        Paris    0.899018   1.0\n",
              "4 2021-09-29 07:45:00       London    0.065019   0.0\n",
              "5 2021-09-29 08:45:00         Rome    0.013201   0.0\n",
              "6 2021-09-29 09:45:00       Moscow    0.035490   0.0\n",
              "8 2021-09-29 14:45:00    Hong Kong    0.017749   0.0\n",
              "9 2021-09-29 14:45:00      Beijing         NaN   NaN"
            ]
          },
          "metadata": {},
          "execution_count": 11
        }
      ]
    },
    {
      "cell_type": "markdown",
      "metadata": {
        "id": "pHRCzVdEZAjz"
      },
      "source": [
        ""
      ]
    }
  ]
}