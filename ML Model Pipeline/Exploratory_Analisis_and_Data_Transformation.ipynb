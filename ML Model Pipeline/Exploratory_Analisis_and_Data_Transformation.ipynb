{
  "nbformat": 4,
  "nbformat_minor": 0,
  "metadata": {
    "colab": {
      "name": "Exploratory Analisis and Data Transformation.ipynb",
      "provenance": [],
      "collapsed_sections": [
        "unA2Dm3Dqult",
        "aNrh6276rIjL",
        "CID-oGdHMLGS"
      ]
    },
    "kernelspec": {
      "name": "python3",
      "display_name": "Python 3"
    },
    "language_info": {
      "name": "python"
    }
  },
  "cells": [
    {
      "cell_type": "markdown",
      "metadata": {
        "id": "unA2Dm3Dqult"
      },
      "source": [
        "### **1. Get Data from BigQuery**"
      ]
    },
    {
      "cell_type": "code",
      "metadata": {
        "id": "ib7vkqvLlH4y"
      },
      "source": [
        "# GCP Libraries\n",
        "from google.cloud import bigquery\n",
        "from google.oauth2 import service_account\n",
        "\n",
        "# Engineering and Visualization\n",
        "import numpy as np\n",
        "import pandas as pd\n",
        "import pickle\n",
        "import seaborn as sns\n",
        "import matplotlib.pyplot as plt\n",
        "\n",
        "# Machine Learning\n",
        "from sklearn.model_selection import train_test_split\n",
        "from sklearn.linear_model import LogisticRegression\n",
        "from sklearn.metrics import confusion_matrix\n",
        "from sklearn.metrics import classification_report"
      ],
      "execution_count": 81,
      "outputs": []
    },
    {
      "cell_type": "code",
      "metadata": {
        "id": "TSEUrGL1l3Jv"
      },
      "source": [
        "# Projett credentials with account service\n",
        "path = '/content/drive/MyDrive/Weather_Project/Weather Project-6fa8e059f642.json'"
      ],
      "execution_count": 2,
      "outputs": []
    },
    {
      "cell_type": "code",
      "metadata": {
        "id": "VoshDZOHlQuc"
      },
      "source": [
        "# Credentials\n",
        "credentials = service_account.Credentials.from_service_account_file(path)\n",
        "project_id = credentials.project_id\n",
        "client = bigquery.Client(project=project_id, credentials=credentials)"
      ],
      "execution_count": 3,
      "outputs": []
    },
    {
      "cell_type": "code",
      "metadata": {
        "id": "ur7VpbzUk4cY"
      },
      "source": [
        "# SQL Query that will run in BQ\n",
        "query_string = \"\"\"\n",
        "SELECT *\n",
        "FROM (SELECT *\n",
        "            , ROW_NUMBER() OVER(PARTITION BY last_updated, city ORDER BY last_updated, city) AS row_num\n",
        "            FROM `weather-project-305419.Daily_Weather.Weather-Info`) as row_weather\n",
        "WHERE row_num = 1\n",
        "\"\"\""
      ],
      "execution_count": 4,
      "outputs": []
    },
    {
      "cell_type": "code",
      "metadata": {
        "id": "Qpob5wiimrFM",
        "colab": {
          "base_uri": "https://localhost:8080/",
          "height": 374
        },
        "outputId": "08f250b2-50f6-455b-e014-9a5fa659af44"
      },
      "source": [
        "# Transform sql query results in a pandas dataframe\n",
        "df = (\n",
        "    client.query(query_string)\n",
        "    .result()\n",
        "    .to_dataframe()\n",
        ")\n",
        "df.head()"
      ],
      "execution_count": 5,
      "outputs": [
        {
          "output_type": "execute_result",
          "data": {
            "text/html": [
              "\n",
              "  <div id=\"df-6f5bb899-7cb0-45bf-9dc0-f2cfc382f8fc\">\n",
              "    <div class=\"colab-df-container\">\n",
              "      <div>\n",
              "<style scoped>\n",
              "    .dataframe tbody tr th:only-of-type {\n",
              "        vertical-align: middle;\n",
              "    }\n",
              "\n",
              "    .dataframe tbody tr th {\n",
              "        vertical-align: top;\n",
              "    }\n",
              "\n",
              "    .dataframe thead th {\n",
              "        text-align: right;\n",
              "    }\n",
              "</style>\n",
              "<table border=\"1\" class=\"dataframe\">\n",
              "  <thead>\n",
              "    <tr style=\"text-align: right;\">\n",
              "      <th></th>\n",
              "      <th>last_updated_epoch</th>\n",
              "      <th>last_updated</th>\n",
              "      <th>temp_c</th>\n",
              "      <th>temp_f</th>\n",
              "      <th>is_day</th>\n",
              "      <th>condition</th>\n",
              "      <th>wind_mph</th>\n",
              "      <th>wind_kph</th>\n",
              "      <th>wind_degree</th>\n",
              "      <th>wind_dir</th>\n",
              "      <th>pressure_mb</th>\n",
              "      <th>pressure_in</th>\n",
              "      <th>precip_mm</th>\n",
              "      <th>precip_in</th>\n",
              "      <th>humidity</th>\n",
              "      <th>cloud</th>\n",
              "      <th>feelslike_c</th>\n",
              "      <th>feelslike_f</th>\n",
              "      <th>vis_km</th>\n",
              "      <th>vis_miles</th>\n",
              "      <th>uv</th>\n",
              "      <th>gust_mph</th>\n",
              "      <th>gust_kph</th>\n",
              "      <th>city</th>\n",
              "      <th>extraction_date</th>\n",
              "      <th>row_num</th>\n",
              "    </tr>\n",
              "  </thead>\n",
              "  <tbody>\n",
              "    <tr>\n",
              "      <th>0</th>\n",
              "      <td>1619248500</td>\n",
              "      <td>2021-04-24 03:15</td>\n",
              "      <td>12.2</td>\n",
              "      <td>54.0</td>\n",
              "      <td>0</td>\n",
              "      <td>Partly cloudy</td>\n",
              "      <td>10.1</td>\n",
              "      <td>16.2</td>\n",
              "      <td>266</td>\n",
              "      <td>W</td>\n",
              "      <td>1016.0</td>\n",
              "      <td>30.5</td>\n",
              "      <td>0.0</td>\n",
              "      <td>0.0</td>\n",
              "      <td>50</td>\n",
              "      <td>12</td>\n",
              "      <td>10.5</td>\n",
              "      <td>50.9</td>\n",
              "      <td>10.0</td>\n",
              "      <td>6.0</td>\n",
              "      <td>1.0</td>\n",
              "      <td>15.0</td>\n",
              "      <td>24.1</td>\n",
              "      <td>New York</td>\n",
              "      <td>None</td>\n",
              "      <td>1</td>\n",
              "    </tr>\n",
              "    <tr>\n",
              "      <th>1</th>\n",
              "      <td>1619509500</td>\n",
              "      <td>2021-04-27 04:45</td>\n",
              "      <td>16.8</td>\n",
              "      <td>62.2</td>\n",
              "      <td>0</td>\n",
              "      <td>Overcast</td>\n",
              "      <td>5.8</td>\n",
              "      <td>9.4</td>\n",
              "      <td>125</td>\n",
              "      <td>SE</td>\n",
              "      <td>1015.0</td>\n",
              "      <td>30.5</td>\n",
              "      <td>0.0</td>\n",
              "      <td>0.0</td>\n",
              "      <td>90</td>\n",
              "      <td>93</td>\n",
              "      <td>16.8</td>\n",
              "      <td>62.2</td>\n",
              "      <td>10.0</td>\n",
              "      <td>6.0</td>\n",
              "      <td>1.0</td>\n",
              "      <td>8.7</td>\n",
              "      <td>14.0</td>\n",
              "      <td>Carapicuiba</td>\n",
              "      <td>None</td>\n",
              "      <td>1</td>\n",
              "    </tr>\n",
              "    <tr>\n",
              "      <th>2</th>\n",
              "      <td>1619521200</td>\n",
              "      <td>2021-04-27 07:00</td>\n",
              "      <td>8.3</td>\n",
              "      <td>46.9</td>\n",
              "      <td>1</td>\n",
              "      <td>Overcast</td>\n",
              "      <td>0.0</td>\n",
              "      <td>0.0</td>\n",
              "      <td>0</td>\n",
              "      <td>N</td>\n",
              "      <td>1021.0</td>\n",
              "      <td>30.6</td>\n",
              "      <td>0.0</td>\n",
              "      <td>0.0</td>\n",
              "      <td>48</td>\n",
              "      <td>100</td>\n",
              "      <td>6.1</td>\n",
              "      <td>42.9</td>\n",
              "      <td>16.0</td>\n",
              "      <td>9.0</td>\n",
              "      <td>1.0</td>\n",
              "      <td>11.2</td>\n",
              "      <td>18.0</td>\n",
              "      <td>New York</td>\n",
              "      <td>None</td>\n",
              "      <td>1</td>\n",
              "    </tr>\n",
              "    <tr>\n",
              "      <th>3</th>\n",
              "      <td>1619681400</td>\n",
              "      <td>2021-04-29 03:30</td>\n",
              "      <td>16.1</td>\n",
              "      <td>61.0</td>\n",
              "      <td>0</td>\n",
              "      <td>Partly cloudy</td>\n",
              "      <td>0.0</td>\n",
              "      <td>0.0</td>\n",
              "      <td>256</td>\n",
              "      <td>WSW</td>\n",
              "      <td>1010.0</td>\n",
              "      <td>30.3</td>\n",
              "      <td>0.0</td>\n",
              "      <td>0.0</td>\n",
              "      <td>81</td>\n",
              "      <td>25</td>\n",
              "      <td>16.1</td>\n",
              "      <td>61.0</td>\n",
              "      <td>14.0</td>\n",
              "      <td>8.0</td>\n",
              "      <td>1.0</td>\n",
              "      <td>13.9</td>\n",
              "      <td>22.3</td>\n",
              "      <td>New York</td>\n",
              "      <td>None</td>\n",
              "      <td>1</td>\n",
              "    </tr>\n",
              "    <tr>\n",
              "      <th>4</th>\n",
              "      <td>1619683200</td>\n",
              "      <td>2021-04-29 05:00</td>\n",
              "      <td>14.8</td>\n",
              "      <td>58.6</td>\n",
              "      <td>0</td>\n",
              "      <td>Patchy rain possible</td>\n",
              "      <td>8.1</td>\n",
              "      <td>13.0</td>\n",
              "      <td>143</td>\n",
              "      <td>SE</td>\n",
              "      <td>1020.0</td>\n",
              "      <td>30.6</td>\n",
              "      <td>0.1</td>\n",
              "      <td>0.0</td>\n",
              "      <td>86</td>\n",
              "      <td>81</td>\n",
              "      <td>14.3</td>\n",
              "      <td>57.7</td>\n",
              "      <td>10.0</td>\n",
              "      <td>6.0</td>\n",
              "      <td>1.0</td>\n",
              "      <td>12.1</td>\n",
              "      <td>19.4</td>\n",
              "      <td>Carapicuiba</td>\n",
              "      <td>None</td>\n",
              "      <td>1</td>\n",
              "    </tr>\n",
              "  </tbody>\n",
              "</table>\n",
              "</div>\n",
              "      <button class=\"colab-df-convert\" onclick=\"convertToInteractive('df-6f5bb899-7cb0-45bf-9dc0-f2cfc382f8fc')\"\n",
              "              title=\"Convert this dataframe to an interactive table.\"\n",
              "              style=\"display:none;\">\n",
              "        \n",
              "  <svg xmlns=\"http://www.w3.org/2000/svg\" height=\"24px\"viewBox=\"0 0 24 24\"\n",
              "       width=\"24px\">\n",
              "    <path d=\"M0 0h24v24H0V0z\" fill=\"none\"/>\n",
              "    <path d=\"M18.56 5.44l.94 2.06.94-2.06 2.06-.94-2.06-.94-.94-2.06-.94 2.06-2.06.94zm-11 1L8.5 8.5l.94-2.06 2.06-.94-2.06-.94L8.5 2.5l-.94 2.06-2.06.94zm10 10l.94 2.06.94-2.06 2.06-.94-2.06-.94-.94-2.06-.94 2.06-2.06.94z\"/><path d=\"M17.41 7.96l-1.37-1.37c-.4-.4-.92-.59-1.43-.59-.52 0-1.04.2-1.43.59L10.3 9.45l-7.72 7.72c-.78.78-.78 2.05 0 2.83L4 21.41c.39.39.9.59 1.41.59.51 0 1.02-.2 1.41-.59l7.78-7.78 2.81-2.81c.8-.78.8-2.07 0-2.86zM5.41 20L4 18.59l7.72-7.72 1.47 1.35L5.41 20z\"/>\n",
              "  </svg>\n",
              "      </button>\n",
              "      \n",
              "  <style>\n",
              "    .colab-df-container {\n",
              "      display:flex;\n",
              "      flex-wrap:wrap;\n",
              "      gap: 12px;\n",
              "    }\n",
              "\n",
              "    .colab-df-convert {\n",
              "      background-color: #E8F0FE;\n",
              "      border: none;\n",
              "      border-radius: 50%;\n",
              "      cursor: pointer;\n",
              "      display: none;\n",
              "      fill: #1967D2;\n",
              "      height: 32px;\n",
              "      padding: 0 0 0 0;\n",
              "      width: 32px;\n",
              "    }\n",
              "\n",
              "    .colab-df-convert:hover {\n",
              "      background-color: #E2EBFA;\n",
              "      box-shadow: 0px 1px 2px rgba(60, 64, 67, 0.3), 0px 1px 3px 1px rgba(60, 64, 67, 0.15);\n",
              "      fill: #174EA6;\n",
              "    }\n",
              "\n",
              "    [theme=dark] .colab-df-convert {\n",
              "      background-color: #3B4455;\n",
              "      fill: #D2E3FC;\n",
              "    }\n",
              "\n",
              "    [theme=dark] .colab-df-convert:hover {\n",
              "      background-color: #434B5C;\n",
              "      box-shadow: 0px 1px 3px 1px rgba(0, 0, 0, 0.15);\n",
              "      filter: drop-shadow(0px 1px 2px rgba(0, 0, 0, 0.3));\n",
              "      fill: #FFFFFF;\n",
              "    }\n",
              "  </style>\n",
              "\n",
              "      <script>\n",
              "        const buttonEl =\n",
              "          document.querySelector('#df-6f5bb899-7cb0-45bf-9dc0-f2cfc382f8fc button.colab-df-convert');\n",
              "        buttonEl.style.display =\n",
              "          google.colab.kernel.accessAllowed ? 'block' : 'none';\n",
              "\n",
              "        async function convertToInteractive(key) {\n",
              "          const element = document.querySelector('#df-6f5bb899-7cb0-45bf-9dc0-f2cfc382f8fc');\n",
              "          const dataTable =\n",
              "            await google.colab.kernel.invokeFunction('convertToInteractive',\n",
              "                                                     [key], {});\n",
              "          if (!dataTable) return;\n",
              "\n",
              "          const docLinkHtml = 'Like what you see? Visit the ' +\n",
              "            '<a target=\"_blank\" href=https://colab.research.google.com/notebooks/data_table.ipynb>data table notebook</a>'\n",
              "            + ' to learn more about interactive tables.';\n",
              "          element.innerHTML = '';\n",
              "          dataTable['output_type'] = 'display_data';\n",
              "          await google.colab.output.renderOutput(dataTable, element);\n",
              "          const docLink = document.createElement('div');\n",
              "          docLink.innerHTML = docLinkHtml;\n",
              "          element.appendChild(docLink);\n",
              "        }\n",
              "      </script>\n",
              "    </div>\n",
              "  </div>\n",
              "  "
            ],
            "text/plain": [
              "  last_updated_epoch      last_updated  ... extraction_date row_num\n",
              "0         1619248500  2021-04-24 03:15  ...            None       1\n",
              "1         1619509500  2021-04-27 04:45  ...            None       1\n",
              "2         1619521200  2021-04-27 07:00  ...            None       1\n",
              "3         1619681400  2021-04-29 03:30  ...            None       1\n",
              "4         1619683200  2021-04-29 05:00  ...            None       1\n",
              "\n",
              "[5 rows x 26 columns]"
            ]
          },
          "metadata": {},
          "execution_count": 5
        }
      ]
    },
    {
      "cell_type": "code",
      "metadata": {
        "colab": {
          "base_uri": "https://localhost:8080/"
        },
        "id": "zhtw2mbJDrs7",
        "outputId": "9e4441d8-6dec-402c-a823-0359eb35920a"
      },
      "source": [
        "%cd /content/drive/MyDrive/Weather_Project"
      ],
      "execution_count": 6,
      "outputs": [
        {
          "output_type": "stream",
          "name": "stdout",
          "text": [
            "/content/drive/MyDrive/Weather_Project\n"
          ]
        }
      ]
    },
    {
      "cell_type": "code",
      "metadata": {
        "id": "0fgu3JrLnwpz"
      },
      "source": [
        "# Saving in a pickle file so we don't need query in database again\n",
        "df.to_pickle(\"weather_data\")"
      ],
      "execution_count": 7,
      "outputs": []
    },
    {
      "cell_type": "markdown",
      "metadata": {
        "id": "aNrh6276rIjL"
      },
      "source": [
        "### **2. Data Transformation for Analysis**"
      ]
    },
    {
      "cell_type": "code",
      "metadata": {
        "id": "3nKKszo2rUMq"
      },
      "source": [
        "# Open pickle file\n",
        "file = open('/content/drive/MyDrive/Weather_Project/weather_data', 'rb')\n",
        "df = pickle.load(file)"
      ],
      "execution_count": 8,
      "outputs": []
    },
    {
      "cell_type": "code",
      "metadata": {
        "colab": {
          "base_uri": "https://localhost:8080/"
        },
        "id": "5-I2QvB_LYz7",
        "outputId": "d8d13302-31e9-4272-feac-077cd8e11609"
      },
      "source": [
        "cidades = ['Paris', 'Sao Paulo', 'Carapicuiba', 'New York', 'Otawwa', 'London', 'Rome', 'Moscow'\n",
        "        , 'Hong Kong', 'Beijing']\n",
        "df = df.loc[df['city'].isin(cidades)]\n",
        "df['last_updated'] = pd.to_datetime(df['last_updated'])\n",
        "df.shape"
      ],
      "execution_count": 9,
      "outputs": [
        {
          "output_type": "execute_result",
          "data": {
            "text/plain": [
              "(97871, 26)"
            ]
          },
          "metadata": {},
          "execution_count": 9
        }
      ]
    },
    {
      "cell_type": "code",
      "metadata": {
        "id": "yrojat6snPSX",
        "colab": {
          "base_uri": "https://localhost:8080/"
        },
        "outputId": "6e08b69f-75e7-4863-8260-2475d8dc2702"
      },
      "source": [
        "# Drop useless columns for analysis\n",
        "df = df.drop(columns=['row_num', 'last_updated_epoch', 'extraction_date'])\n",
        "df = df.dropna()\n",
        "# number of rows and columns\n",
        "print(df.shape, df['city'].unique())"
      ],
      "execution_count": 10,
      "outputs": [
        {
          "output_type": "stream",
          "name": "stdout",
          "text": [
            "(97871, 23) ['New York' 'Carapicuiba' 'Sao Paulo' 'Paris' 'Rome' 'Hong Kong' 'Beijing'\n",
            " 'Moscow' 'London']\n"
          ]
        }
      ]
    },
    {
      "cell_type": "code",
      "metadata": {
        "id": "C6qd17xDtV2Z",
        "colab": {
          "base_uri": "https://localhost:8080/"
        },
        "outputId": "5c14bab1-61ef-4b9f-a6d0-4c3c40f1acb5"
      },
      "source": [
        "# Target: Predict condition (that means wether is raining or not) \n",
        "df['condition'].unique()"
      ],
      "execution_count": 11,
      "outputs": [
        {
          "output_type": "execute_result",
          "data": {
            "text/plain": [
              "array(['Partly cloudy', 'Overcast', 'Patchy rain possible', 'Sunny',\n",
              "       'Light rain', 'Clear', 'Light rain shower', 'Mist', 'Cloudy',\n",
              "       'Thundery outbreaks possible', 'Light drizzle', 'Light snow',\n",
              "       'Moderate rain', 'Freezing fog', 'Light snow showers',\n",
              "       'Patchy light snow', 'Heavy rain', 'Moderate or heavy rain shower',\n",
              "       'Freezing drizzle', 'Patchy light rain with thunder',\n",
              "       'Patchy light drizzle', 'Heavy snow',\n",
              "       'Moderate or heavy snow showers', 'Moderate snow', 'Fog',\n",
              "       'Moderate rain at times', 'Patchy light rain',\n",
              "       'Torrential rain shower', 'Blizzard', 'Patchy moderate snow',\n",
              "       'Light freezing rain', 'Patchy heavy snow', 'Light sleet showers',\n",
              "       'Light sleet', 'Moderate or heavy sleet',\n",
              "       'Moderate or heavy rain with thunder',\n",
              "       'Moderate or heavy snow with thunder', 'Heavy rain at times',\n",
              "       'Ice pellets'], dtype=object)"
            ]
          },
          "metadata": {},
          "execution_count": 11
        }
      ]
    },
    {
      "cell_type": "markdown",
      "metadata": {
        "id": "CFFD9XIGugi5"
      },
      "source": [
        "We need to resume this bunch of conditions and define our target class"
      ]
    },
    {
      "cell_type": "code",
      "metadata": {
        "id": "mU5t6p1mupkb"
      },
      "source": [
        "# This conditions means that it's raining in the moment\n",
        "raining_list = ['Light rain', 'Light rain shower', 'Light drizzle', 'Heavy rain', 'Moderate rain', 'Patchy light rain with thunder'\n",
        "            , 'Moderate or heavy rain shower', 'Patchy light rain', 'Torrential rain shower', 'Moderate rain at times'\n",
        "            , 'Moderate or heavy rain with thunder']"
      ],
      "execution_count": 12,
      "outputs": []
    },
    {
      "cell_type": "code",
      "metadata": {
        "id": "heg5yiubwMLQ",
        "colab": {
          "base_uri": "https://localhost:8080/"
        },
        "outputId": "5d412bb7-431f-4320-d61d-0e1d43b9dc0e"
      },
      "source": [
        "# Creating the target variable\n",
        "df['target'] = df['condition'].apply(lambda x: 1 if x in raining_list else 0)\n",
        "df['target'].unique()"
      ],
      "execution_count": 13,
      "outputs": [
        {
          "output_type": "execute_result",
          "data": {
            "text/plain": [
              "array([0, 1])"
            ]
          },
          "metadata": {},
          "execution_count": 13
        }
      ]
    },
    {
      "cell_type": "code",
      "metadata": {
        "id": "NGYN-O4y6pSU",
        "colab": {
          "base_uri": "https://localhost:8080/"
        },
        "outputId": "ea47ef11-72df-436a-e75e-1e65d2db7e53"
      },
      "source": [
        "df.info()"
      ],
      "execution_count": 14,
      "outputs": [
        {
          "output_type": "stream",
          "name": "stdout",
          "text": [
            "<class 'pandas.core.frame.DataFrame'>\n",
            "Int64Index: 97871 entries, 0 to 104645\n",
            "Data columns (total 24 columns):\n",
            " #   Column        Non-Null Count  Dtype         \n",
            "---  ------        --------------  -----         \n",
            " 0   last_updated  97871 non-null  datetime64[ns]\n",
            " 1   temp_c        97871 non-null  object        \n",
            " 2   temp_f        97871 non-null  object        \n",
            " 3   is_day        97871 non-null  object        \n",
            " 4   condition     97871 non-null  object        \n",
            " 5   wind_mph      97871 non-null  object        \n",
            " 6   wind_kph      97871 non-null  object        \n",
            " 7   wind_degree   97871 non-null  object        \n",
            " 8   wind_dir      97871 non-null  object        \n",
            " 9   pressure_mb   97871 non-null  object        \n",
            " 10  pressure_in   97871 non-null  object        \n",
            " 11  precip_mm     97871 non-null  object        \n",
            " 12  precip_in     97871 non-null  object        \n",
            " 13  humidity      97871 non-null  object        \n",
            " 14  cloud         97871 non-null  object        \n",
            " 15  feelslike_c   97871 non-null  object        \n",
            " 16  feelslike_f   97871 non-null  object        \n",
            " 17  vis_km        97871 non-null  object        \n",
            " 18  vis_miles     97871 non-null  object        \n",
            " 19  uv            97871 non-null  object        \n",
            " 20  gust_mph      97871 non-null  object        \n",
            " 21  gust_kph      97871 non-null  object        \n",
            " 22  city          97871 non-null  object        \n",
            " 23  target        97871 non-null  int64         \n",
            "dtypes: datetime64[ns](1), int64(1), object(22)\n",
            "memory usage: 18.7+ MB\n"
          ]
        }
      ]
    },
    {
      "cell_type": "code",
      "metadata": {
        "id": "Lep4_CRE6r32"
      },
      "source": [
        "# Create a list with columns to be converted\n",
        "float_list = list()\n",
        "for column_name in df.drop(columns='target').columns:\n",
        "  if str(df[f'{column_name}'][0]).replace(\".\", \"\").replace(\"-\", \"\").isnumeric() == True:\n",
        "    float_list.append(column_name)"
      ],
      "execution_count": 15,
      "outputs": []
    },
    {
      "cell_type": "code",
      "metadata": {
        "id": "NyIMln6b-T7N"
      },
      "source": [
        "# function to convert columns to float\n",
        "def to_float(df):\n",
        "  for column in df.columns:\n",
        "    if column in float_list:\n",
        "      df[f'{column}'] = df[f'{column}'].astype(\"float\")\n",
        "  return df.info()"
      ],
      "execution_count": 16,
      "outputs": []
    },
    {
      "cell_type": "code",
      "metadata": {
        "id": "qLQngUnK_SyD",
        "colab": {
          "base_uri": "https://localhost:8080/"
        },
        "outputId": "c0fb630d-3317-4c2c-f475-6a7dbd5951fb"
      },
      "source": [
        "to_float(df)"
      ],
      "execution_count": 17,
      "outputs": [
        {
          "output_type": "stream",
          "name": "stdout",
          "text": [
            "<class 'pandas.core.frame.DataFrame'>\n",
            "Int64Index: 97871 entries, 0 to 104645\n",
            "Data columns (total 24 columns):\n",
            " #   Column        Non-Null Count  Dtype         \n",
            "---  ------        --------------  -----         \n",
            " 0   last_updated  97871 non-null  datetime64[ns]\n",
            " 1   temp_c        97871 non-null  float64       \n",
            " 2   temp_f        97871 non-null  float64       \n",
            " 3   is_day        97871 non-null  float64       \n",
            " 4   condition     97871 non-null  object        \n",
            " 5   wind_mph      97871 non-null  float64       \n",
            " 6   wind_kph      97871 non-null  float64       \n",
            " 7   wind_degree   97871 non-null  float64       \n",
            " 8   wind_dir      97871 non-null  object        \n",
            " 9   pressure_mb   97871 non-null  float64       \n",
            " 10  pressure_in   97871 non-null  float64       \n",
            " 11  precip_mm     97871 non-null  float64       \n",
            " 12  precip_in     97871 non-null  float64       \n",
            " 13  humidity      97871 non-null  float64       \n",
            " 14  cloud         97871 non-null  float64       \n",
            " 15  feelslike_c   97871 non-null  float64       \n",
            " 16  feelslike_f   97871 non-null  float64       \n",
            " 17  vis_km        97871 non-null  float64       \n",
            " 18  vis_miles     97871 non-null  float64       \n",
            " 19  uv            97871 non-null  float64       \n",
            " 20  gust_mph      97871 non-null  float64       \n",
            " 21  gust_kph      97871 non-null  float64       \n",
            " 22  city          97871 non-null  object        \n",
            " 23  target        97871 non-null  int64         \n",
            "dtypes: datetime64[ns](1), float64(19), int64(1), object(3)\n",
            "memory usage: 21.2+ MB\n"
          ]
        }
      ]
    },
    {
      "cell_type": "markdown",
      "metadata": {
        "id": "CID-oGdHMLGS"
      },
      "source": [
        "### **3. Data Analysis**"
      ]
    },
    {
      "cell_type": "code",
      "metadata": {
        "colab": {
          "base_uri": "https://localhost:8080/",
          "height": 314
        },
        "id": "FgablHw9w5s-",
        "outputId": "fcf55f99-f9a7-40ca-a508-470d4c1f7e02"
      },
      "source": [
        "# Target Variable Ocurrency\n",
        "percent = str(round(sum(df['target'])/len(df['target']), 1)*100) + '%'\n",
        "print(f'percentage of target == 1 is: {percent}')\n",
        "sns.histplot(data=df['target'])"
      ],
      "execution_count": 18,
      "outputs": [
        {
          "output_type": "stream",
          "name": "stdout",
          "text": [
            "percentage of target == 1 is: 10.0%\n"
          ]
        },
        {
          "output_type": "execute_result",
          "data": {
            "text/plain": [
              "<matplotlib.axes._subplots.AxesSubplot at 0x7f133d807f90>"
            ]
          },
          "metadata": {},
          "execution_count": 18
        },
        {
          "output_type": "display_data",
          "data": {
            "image/png": "[encoded data removed]",
            "text/plain": [
              "<Figure size 432x288 with 1 Axes>"
            ]
          },
          "metadata": {
            "needs_background": "light"
          }
        }
      ]
    },
    {
      "cell_type": "code",
      "metadata": {
        "colab": {
          "base_uri": "https://localhost:8080/",
          "height": 297
        },
        "id": "ZvXZugBGxkLp",
        "outputId": "018754ae-f5ec-4105-bcc9-5f4d11a78646"
      },
      "source": [
        "sns.countplot(x=df['is_day'], hue=df['target'])"
      ],
      "execution_count": 19,
      "outputs": [
        {
          "output_type": "execute_result",
          "data": {
            "text/plain": [
              "<matplotlib.axes._subplots.AxesSubplot at 0x7f133ddd8950>"
            ]
          },
          "metadata": {},
          "execution_count": 19
        },
        {
          "output_type": "display_data",
          "data": {
            "image/png": "[encoded data removed]",
            "text/plain": [
              "<Figure size 432x288 with 1 Axes>"
            ]
          },
          "metadata": {
            "needs_background": "light"
          }
        }
      ]
    },
    {
      "cell_type": "code",
      "metadata": {
        "colab": {
          "base_uri": "https://localhost:8080/",
          "height": 334
        },
        "id": "ofjyyMAH3Z3a",
        "outputId": "03409aeb-b753-4079-9457-1bd031dd06c9"
      },
      "source": [
        "plt.figure(figsize=(15, 5))\n",
        "ax = sns.countplot(x=df['city'], hue=df['target'])"
      ],
      "execution_count": 20,
      "outputs": [
        {
          "output_type": "display_data",
          "data": {
            "image/png": "[encoded data removed]",
            "text/plain": [
              "<Figure size 1080x360 with 1 Axes>"
            ]
          },
          "metadata": {
            "needs_background": "light"
          }
        }
      ]
    },
    {
      "cell_type": "code",
      "metadata": {
        "colab": {
          "base_uri": "https://localhost:8080/",
          "height": 386
        },
        "id": "BR5U93VN6jTT",
        "outputId": "2d9d3089-f5ff-4aee-bcb8-fd151db40d6b"
      },
      "source": [
        "plt.figure(figsize=(10, 5))\n",
        "ax = sns.displot(x=df['feelslike_c'], bins='sturges', col=df['target'])"
      ],
      "execution_count": 21,
      "outputs": [
        {
          "output_type": "display_data",
          "data": {
            "text/plain": [
              "<Figure size 720x360 with 0 Axes>"
            ]
          },
          "metadata": {}
        },
        {
          "output_type": "display_data",
          "data": {
            "image/png": "[encoded data removed]",
            "text/plain": [
              "<Figure size 720x360 with 2 Axes>"
            ]
          },
          "metadata": {
            "needs_background": "light"
          }
        }
      ]
    },
    {
      "cell_type": "code",
      "metadata": {
        "colab": {
          "base_uri": "https://localhost:8080/",
          "height": 296
        },
        "id": "Aox5-p0cLwh6",
        "outputId": "0995f3eb-1d6f-4f94-a91a-a089bd4ff511"
      },
      "source": [
        "sns.boxplot(x=df['target'], y=df['feelslike_c'])"
      ],
      "execution_count": 22,
      "outputs": [
        {
          "output_type": "execute_result",
          "data": {
            "text/plain": [
              "<matplotlib.axes._subplots.AxesSubplot at 0x7f135f4bd750>"
            ]
          },
          "metadata": {},
          "execution_count": 22
        },
        {
          "output_type": "display_data",
          "data": {
            "image/png": "[encoded data removed]",
            "text/plain": [
              "<Figure size 432x288 with 1 Axes>"
            ]
          },
          "metadata": {
            "needs_background": "light"
          }
        }
      ]
    },
    {
      "cell_type": "code",
      "metadata": {
        "colab": {
          "base_uri": "https://localhost:8080/",
          "height": 386
        },
        "id": "lmopZ608IUkX",
        "outputId": "bec61174-c16c-4ecc-c8eb-1044a6428956"
      },
      "source": [
        "plt.figure(figsize=(10, 5))\n",
        "ax = sns.displot(x=df['temp_c'], bins='sturges', col=df['target'])"
      ],
      "execution_count": 23,
      "outputs": [
        {
          "output_type": "display_data",
          "data": {
            "text/plain": [
              "<Figure size 720x360 with 0 Axes>"
            ]
          },
          "metadata": {}
        },
        {
          "output_type": "display_data",
          "data": {
            "image/png": "[encoded data removed]",
            "text/plain": [
              "<Figure size 720x360 with 2 Axes>"
            ]
          },
          "metadata": {
            "needs_background": "light"
          }
        }
      ]
    },
    {
      "cell_type": "code",
      "metadata": {
        "colab": {
          "base_uri": "https://localhost:8080/",
          "height": 299
        },
        "id": "ZQWcuO9MLrFt",
        "outputId": "12600bf9-4af6-4a56-b5bf-7b98be5818a7"
      },
      "source": [
        "sns.boxplot(x=df['target'], y=df['temp_c'])"
      ],
      "execution_count": 24,
      "outputs": [
        {
          "output_type": "execute_result",
          "data": {
            "text/plain": [
              "<matplotlib.axes._subplots.AxesSubplot at 0x7f13605072d0>"
            ]
          },
          "metadata": {},
          "execution_count": 24
        },
        {
          "output_type": "display_data",
          "data": {
            "image/png": "[encoded data removed]",
            "text/plain": [
              "<Figure size 432x288 with 1 Axes>"
            ]
          },
          "metadata": {
            "needs_background": "light"
          }
        }
      ]
    },
    {
      "cell_type": "code",
      "metadata": {
        "colab": {
          "base_uri": "https://localhost:8080/",
          "height": 296
        },
        "id": "6hvq2UTs6L9q",
        "outputId": "93915c86-c68f-4e67-8c64-c10ee215e757"
      },
      "source": [
        "sns.boxplot(x=df['target'], y=df['cloud'])"
      ],
      "execution_count": 25,
      "outputs": [
        {
          "output_type": "execute_result",
          "data": {
            "text/plain": [
              "<matplotlib.axes._subplots.AxesSubplot at 0x7f1361ee0e50>"
            ]
          },
          "metadata": {},
          "execution_count": 25
        },
        {
          "output_type": "display_data",
          "data": {
            "image/png": "[encoded data removed]",
            "text/plain": [
              "<Figure size 432x288 with 1 Axes>"
            ]
          },
          "metadata": {
            "needs_background": "light"
          }
        }
      ]
    },
    {
      "cell_type": "code",
      "metadata": {
        "colab": {
          "base_uri": "https://localhost:8080/",
          "height": 386
        },
        "id": "8zwItGzOJISV",
        "outputId": "8fb8d872-d0fb-4f1e-9986-bde790bbee45"
      },
      "source": [
        "sns.displot(x=df['wind_kph'], col=df['target'], bins='sturges')"
      ],
      "execution_count": 26,
      "outputs": [
        {
          "output_type": "execute_result",
          "data": {
            "text/plain": [
              "<seaborn.axisgrid.FacetGrid at 0x7f135f42acd0>"
            ]
          },
          "metadata": {},
          "execution_count": 26
        },
        {
          "output_type": "display_data",
          "data": {
            "image/png": "[encoded data removed]",
            "text/plain": [
              "<Figure size 720x360 with 2 Axes>"
            ]
          },
          "metadata": {
            "needs_background": "light"
          }
        }
      ]
    },
    {
      "cell_type": "code",
      "metadata": {
        "colab": {
          "base_uri": "https://localhost:8080/",
          "height": 296
        },
        "id": "nY9eedAHJt6l",
        "outputId": "8c1ff647-b072-48ab-ab6d-689c37adb71c"
      },
      "source": [
        "sns.boxplot(x=df['target'], y=df['wind_kph'])"
      ],
      "execution_count": 27,
      "outputs": [
        {
          "output_type": "execute_result",
          "data": {
            "text/plain": [
              "<matplotlib.axes._subplots.AxesSubplot at 0x7f136031fc50>"
            ]
          },
          "metadata": {},
          "execution_count": 27
        },
        {
          "output_type": "display_data",
          "data": {
            "image/png": "[encoded data removed]",
            "text/plain": [
              "<Figure size 432x288 with 1 Axes>"
            ]
          },
          "metadata": {
            "needs_background": "light"
          }
        }
      ]
    },
    {
      "cell_type": "code",
      "metadata": {
        "colab": {
          "base_uri": "https://localhost:8080/",
          "height": 364
        },
        "id": "46-QTKRsGo3g",
        "outputId": "1c5e8b0b-e2c7-4d73-a60f-3f7e5bb9b99e"
      },
      "source": [
        "df.describe()"
      ],
      "execution_count": 28,
      "outputs": [
        {
          "output_type": "execute_result",
          "data": {
            "text/html": [
              "\n",
              "  <div id=\"df-bb974051-cd00-4695-90c4-d4d5ccfa6d62\">\n",
              "    <div class=\"colab-df-container\">\n",
              "      <div>\n",
              "<style scoped>\n",
              "    .dataframe tbody tr th:only-of-type {\n",
              "        vertical-align: middle;\n",
              "    }\n",
              "\n",
              "    .dataframe tbody tr th {\n",
              "        vertical-align: top;\n",
              "    }\n",
              "\n",
              "    .dataframe thead th {\n",
              "        text-align: right;\n",
              "    }\n",
              "</style>\n",
              "<table border=\"1\" class=\"dataframe\">\n",
              "  <thead>\n",
              "    <tr style=\"text-align: right;\">\n",
              "      <th></th>\n",
              "      <th>temp_c</th>\n",
              "      <th>temp_f</th>\n",
              "      <th>is_day</th>\n",
              "      <th>wind_mph</th>\n",
              "      <th>wind_kph</th>\n",
              "      <th>wind_degree</th>\n",
              "      <th>pressure_mb</th>\n",
              "      <th>pressure_in</th>\n",
              "      <th>precip_mm</th>\n",
              "      <th>precip_in</th>\n",
              "      <th>humidity</th>\n",
              "      <th>cloud</th>\n",
              "      <th>feelslike_c</th>\n",
              "      <th>feelslike_f</th>\n",
              "      <th>vis_km</th>\n",
              "      <th>vis_miles</th>\n",
              "      <th>uv</th>\n",
              "      <th>gust_mph</th>\n",
              "      <th>gust_kph</th>\n",
              "      <th>target</th>\n",
              "    </tr>\n",
              "  </thead>\n",
              "  <tbody>\n",
              "    <tr>\n",
              "      <th>count</th>\n",
              "      <td>97871.000000</td>\n",
              "      <td>97871.000000</td>\n",
              "      <td>97871.000000</td>\n",
              "      <td>97871.000000</td>\n",
              "      <td>97871.000000</td>\n",
              "      <td>97871.000000</td>\n",
              "      <td>97871.000000</td>\n",
              "      <td>97871.000000</td>\n",
              "      <td>97871.000000</td>\n",
              "      <td>97871.000000</td>\n",
              "      <td>97871.000000</td>\n",
              "      <td>97871.000000</td>\n",
              "      <td>97871.000000</td>\n",
              "      <td>97871.000000</td>\n",
              "      <td>97871.000000</td>\n",
              "      <td>97871.000000</td>\n",
              "      <td>97871.000000</td>\n",
              "      <td>97871.000000</td>\n",
              "      <td>97871.000000</td>\n",
              "      <td>97871.000000</td>\n",
              "    </tr>\n",
              "    <tr>\n",
              "      <th>mean</th>\n",
              "      <td>16.636618</td>\n",
              "      <td>61.946013</td>\n",
              "      <td>0.501006</td>\n",
              "      <td>6.785977</td>\n",
              "      <td>10.914232</td>\n",
              "      <td>163.831707</td>\n",
              "      <td>1016.820018</td>\n",
              "      <td>30.169358</td>\n",
              "      <td>0.262013</td>\n",
              "      <td>0.010129</td>\n",
              "      <td>71.013937</td>\n",
              "      <td>38.607616</td>\n",
              "      <td>16.436316</td>\n",
              "      <td>61.581570</td>\n",
              "      <td>10.187202</td>\n",
              "      <td>5.959079</td>\n",
              "      <td>2.991223</td>\n",
              "      <td>10.091323</td>\n",
              "      <td>16.239476</td>\n",
              "      <td>0.089363</td>\n",
              "    </tr>\n",
              "    <tr>\n",
              "      <th>std</th>\n",
              "      <td>7.310923</td>\n",
              "      <td>13.159785</td>\n",
              "      <td>0.500002</td>\n",
              "      <td>4.931780</td>\n",
              "      <td>7.947392</td>\n",
              "      <td>104.532379</td>\n",
              "      <td>7.638399</td>\n",
              "      <td>0.328624</td>\n",
              "      <td>1.668816</td>\n",
              "      <td>0.065744</td>\n",
              "      <td>18.277906</td>\n",
              "      <td>38.880118</td>\n",
              "      <td>8.841164</td>\n",
              "      <td>15.913406</td>\n",
              "      <td>2.788276</td>\n",
              "      <td>1.640698</td>\n",
              "      <td>2.312982</td>\n",
              "      <td>5.718242</td>\n",
              "      <td>9.202578</td>\n",
              "      <td>0.285268</td>\n",
              "    </tr>\n",
              "    <tr>\n",
              "      <th>min</th>\n",
              "      <td>-9.000000</td>\n",
              "      <td>15.800000</td>\n",
              "      <td>0.000000</td>\n",
              "      <td>0.000000</td>\n",
              "      <td>0.000000</td>\n",
              "      <td>0.000000</td>\n",
              "      <td>967.000000</td>\n",
              "      <td>28.560000</td>\n",
              "      <td>0.000000</td>\n",
              "      <td>0.000000</td>\n",
              "      <td>8.000000</td>\n",
              "      <td>0.000000</td>\n",
              "      <td>-16.100000</td>\n",
              "      <td>3.000000</td>\n",
              "      <td>0.000000</td>\n",
              "      <td>0.000000</td>\n",
              "      <td>1.000000</td>\n",
              "      <td>0.000000</td>\n",
              "      <td>0.000000</td>\n",
              "      <td>0.000000</td>\n",
              "    </tr>\n",
              "    <tr>\n",
              "      <th>25%</th>\n",
              "      <td>12.000000</td>\n",
              "      <td>53.600000</td>\n",
              "      <td>0.000000</td>\n",
              "      <td>3.800000</td>\n",
              "      <td>6.100000</td>\n",
              "      <td>80.000000</td>\n",
              "      <td>1013.000000</td>\n",
              "      <td>29.970000</td>\n",
              "      <td>0.000000</td>\n",
              "      <td>0.000000</td>\n",
              "      <td>60.000000</td>\n",
              "      <td>0.000000</td>\n",
              "      <td>11.100000</td>\n",
              "      <td>51.900000</td>\n",
              "      <td>10.000000</td>\n",
              "      <td>6.000000</td>\n",
              "      <td>1.000000</td>\n",
              "      <td>6.000000</td>\n",
              "      <td>9.700000</td>\n",
              "      <td>0.000000</td>\n",
              "    </tr>\n",
              "    <tr>\n",
              "      <th>50%</th>\n",
              "      <td>17.000000</td>\n",
              "      <td>62.600000</td>\n",
              "      <td>1.000000</td>\n",
              "      <td>6.900000</td>\n",
              "      <td>11.200000</td>\n",
              "      <td>150.000000</td>\n",
              "      <td>1018.000000</td>\n",
              "      <td>30.120000</td>\n",
              "      <td>0.000000</td>\n",
              "      <td>0.000000</td>\n",
              "      <td>75.000000</td>\n",
              "      <td>25.000000</td>\n",
              "      <td>17.000000</td>\n",
              "      <td>62.600000</td>\n",
              "      <td>10.000000</td>\n",
              "      <td>6.000000</td>\n",
              "      <td>1.000000</td>\n",
              "      <td>9.200000</td>\n",
              "      <td>14.800000</td>\n",
              "      <td>0.000000</td>\n",
              "    </tr>\n",
              "    <tr>\n",
              "      <th>75%</th>\n",
              "      <td>21.700000</td>\n",
              "      <td>71.100000</td>\n",
              "      <td>1.000000</td>\n",
              "      <td>9.400000</td>\n",
              "      <td>15.100000</td>\n",
              "      <td>250.000000</td>\n",
              "      <td>1022.000000</td>\n",
              "      <td>30.400000</td>\n",
              "      <td>0.000000</td>\n",
              "      <td>0.000000</td>\n",
              "      <td>87.000000</td>\n",
              "      <td>75.000000</td>\n",
              "      <td>21.700000</td>\n",
              "      <td>71.100000</td>\n",
              "      <td>10.000000</td>\n",
              "      <td>6.000000</td>\n",
              "      <td>5.000000</td>\n",
              "      <td>13.000000</td>\n",
              "      <td>20.900000</td>\n",
              "      <td>0.000000</td>\n",
              "    </tr>\n",
              "    <tr>\n",
              "      <th>max</th>\n",
              "      <td>37.900000</td>\n",
              "      <td>100.200000</td>\n",
              "      <td>1.000000</td>\n",
              "      <td>38.300000</td>\n",
              "      <td>61.600000</td>\n",
              "      <td>360.000000</td>\n",
              "      <td>1044.000000</td>\n",
              "      <td>31.000000</td>\n",
              "      <td>113.800000</td>\n",
              "      <td>4.480000</td>\n",
              "      <td>100.000000</td>\n",
              "      <td>100.000000</td>\n",
              "      <td>51.700000</td>\n",
              "      <td>125.100000</td>\n",
              "      <td>16.000000</td>\n",
              "      <td>9.000000</td>\n",
              "      <td>9.000000</td>\n",
              "      <td>57.700000</td>\n",
              "      <td>92.900000</td>\n",
              "      <td>1.000000</td>\n",
              "    </tr>\n",
              "  </tbody>\n",
              "</table>\n",
              "</div>\n",
              "      <button class=\"colab-df-convert\" onclick=\"convertToInteractive('df-bb974051-cd00-4695-90c4-d4d5ccfa6d62')\"\n",
              "              title=\"Convert this dataframe to an interactive table.\"\n",
              "              style=\"display:none;\">\n",
              "        \n",
              "  <svg xmlns=\"http://www.w3.org/2000/svg\" height=\"24px\"viewBox=\"0 0 24 24\"\n",
              "       width=\"24px\">\n",
              "    <path d=\"M0 0h24v24H0V0z\" fill=\"none\"/>\n",
              "    <path d=\"M18.56 5.44l.94 2.06.94-2.06 2.06-.94-2.06-.94-.94-2.06-.94 2.06-2.06.94zm-11 1L8.5 8.5l.94-2.06 2.06-.94-2.06-.94L8.5 2.5l-.94 2.06-2.06.94zm10 10l.94 2.06.94-2.06 2.06-.94-2.06-.94-.94-2.06-.94 2.06-2.06.94z\"/><path d=\"M17.41 7.96l-1.37-1.37c-.4-.4-.92-.59-1.43-.59-.52 0-1.04.2-1.43.59L10.3 9.45l-7.72 7.72c-.78.78-.78 2.05 0 2.83L4 21.41c.39.39.9.59 1.41.59.51 0 1.02-.2 1.41-.59l7.78-7.78 2.81-2.81c.8-.78.8-2.07 0-2.86zM5.41 20L4 18.59l7.72-7.72 1.47 1.35L5.41 20z\"/>\n",
              "  </svg>\n",
              "      </button>\n",
              "      \n",
              "  <style>\n",
              "    .colab-df-container {\n",
              "      display:flex;\n",
              "      flex-wrap:wrap;\n",
              "      gap: 12px;\n",
              "    }\n",
              "\n",
              "    .colab-df-convert {\n",
              "      background-color: #E8F0FE;\n",
              "      border: none;\n",
              "      border-radius: 50%;\n",
              "      cursor: pointer;\n",
              "      display: none;\n",
              "      fill: #1967D2;\n",
              "      height: 32px;\n",
              "      padding: 0 0 0 0;\n",
              "      width: 32px;\n",
              "    }\n",
              "\n",
              "    .colab-df-convert:hover {\n",
              "      background-color: #E2EBFA;\n",
              "      box-shadow: 0px 1px 2px rgba(60, 64, 67, 0.3), 0px 1px 3px 1px rgba(60, 64, 67, 0.15);\n",
              "      fill: #174EA6;\n",
              "    }\n",
              "\n",
              "    [theme=dark] .colab-df-convert {\n",
              "      background-color: #3B4455;\n",
              "      fill: #D2E3FC;\n",
              "    }\n",
              "\n",
              "    [theme=dark] .colab-df-convert:hover {\n",
              "      background-color: #434B5C;\n",
              "      box-shadow: 0px 1px 3px 1px rgba(0, 0, 0, 0.15);\n",
              "      filter: drop-shadow(0px 1px 2px rgba(0, 0, 0, 0.3));\n",
              "      fill: #FFFFFF;\n",
              "    }\n",
              "  </style>\n",
              "\n",
              "      <script>\n",
              "        const buttonEl =\n",
              "          document.querySelector('#df-bb974051-cd00-4695-90c4-d4d5ccfa6d62 button.colab-df-convert');\n",
              "        buttonEl.style.display =\n",
              "          google.colab.kernel.accessAllowed ? 'block' : 'none';\n",
              "\n",
              "        async function convertToInteractive(key) {\n",
              "          const element = document.querySelector('#df-bb974051-cd00-4695-90c4-d4d5ccfa6d62');\n",
              "          const dataTable =\n",
              "            await google.colab.kernel.invokeFunction('convertToInteractive',\n",
              "                                                     [key], {});\n",
              "          if (!dataTable) return;\n",
              "\n",
              "          const docLinkHtml = 'Like what you see? Visit the ' +\n",
              "            '<a target=\"_blank\" href=https://colab.research.google.com/notebooks/data_table.ipynb>data table notebook</a>'\n",
              "            + ' to learn more about interactive tables.';\n",
              "          element.innerHTML = '';\n",
              "          dataTable['output_type'] = 'display_data';\n",
              "          await google.colab.output.renderOutput(dataTable, element);\n",
              "          const docLink = document.createElement('div');\n",
              "          docLink.innerHTML = docLinkHtml;\n",
              "          element.appendChild(docLink);\n",
              "        }\n",
              "      </script>\n",
              "    </div>\n",
              "  </div>\n",
              "  "
            ],
            "text/plain": [
              "             temp_c        temp_f  ...      gust_kph        target\n",
              "count  97871.000000  97871.000000  ...  97871.000000  97871.000000\n",
              "mean      16.636618     61.946013  ...     16.239476      0.089363\n",
              "std        7.310923     13.159785  ...      9.202578      0.285268\n",
              "min       -9.000000     15.800000  ...      0.000000      0.000000\n",
              "25%       12.000000     53.600000  ...      9.700000      0.000000\n",
              "50%       17.000000     62.600000  ...     14.800000      0.000000\n",
              "75%       21.700000     71.100000  ...     20.900000      0.000000\n",
              "max       37.900000    100.200000  ...     92.900000      1.000000\n",
              "\n",
              "[8 rows x 20 columns]"
            ]
          },
          "metadata": {},
          "execution_count": 28
        }
      ]
    },
    {
      "cell_type": "markdown",
      "metadata": {
        "id": "-3wUANjOM5QR"
      },
      "source": [
        "### **4. Modelling DataSet for MachineLearning Algorithm**"
      ]
    },
    {
      "cell_type": "code",
      "metadata": {
        "id": "eVkqn0Y0KThK"
      },
      "source": [
        "# Our goal is to predict weather is going to rain or not based on the last register\n",
        "# Now we're going to split the data\n",
        "train_df = df[['last_updated', 'city', 'temp_c', 'is_day', 'condition', 'wind_kph', 'wind_degree'\n",
        "          , 'pressure_mb', 'precip_mm', 'humidity', 'cloud', 'feelslike_c', 'vis_km', 'uv'\n",
        "          , 'gust_kph', 'target']]"
      ],
      "execution_count": 29,
      "outputs": []
    },
    {
      "cell_type": "code",
      "metadata": {
        "id": "QlMHVtgsKTkq"
      },
      "source": [
        "train_df = train_df.sort_values(by=['city', 'last_updated']).reset_index().drop(columns='index')"
      ],
      "execution_count": 30,
      "outputs": []
    },
    {
      "cell_type": "code",
      "metadata": {
        "id": "VfcfI0IpNn_Q"
      },
      "source": [
        "# Calculate the difference between the actual and previous register\n",
        "def date_diff_calc(df_column):\n",
        "  i = 1\n",
        "  date_diff_list = list()\n",
        "  for cell in df_column:\n",
        "    if i < len(df_column):\n",
        "      date_diff_min = (df_column[i] - cell).total_seconds()/60\n",
        "      date_diff_list.append(date_diff_min)\n",
        "      i += 1\n",
        "  return date_diff_list"
      ],
      "execution_count": 31,
      "outputs": []
    },
    {
      "cell_type": "code",
      "metadata": {
        "id": "W8k8RxQOUtz6"
      },
      "source": [
        "train_df['date_diff'] = pd.DataFrame(date_diff_calc(train_df['last_updated']))"
      ],
      "execution_count": 32,
      "outputs": []
    },
    {
      "cell_type": "code",
      "metadata": {
        "id": "px8rcQR1YVKZ"
      },
      "source": [
        "# create a column that tells us weather is raining in the next hour\n",
        "def rain_next1(df_column):\n",
        "  i = 4\n",
        "  rain_next1 = list()\n",
        "  for cell in df_column:\n",
        "    if i < len(df_column):\n",
        "      rain_next1.append(df_column[i])\n",
        "      i += 1\n",
        "  return rain_next1"
      ],
      "execution_count": 33,
      "outputs": []
    },
    {
      "cell_type": "code",
      "metadata": {
        "id": "iqefjBKZc8uK"
      },
      "source": [
        "train_df['target_1'] = pd.DataFrame(rain_next1(train_df['target']))"
      ],
      "execution_count": 34,
      "outputs": []
    },
    {
      "cell_type": "code",
      "metadata": {
        "colab": {
          "base_uri": "https://localhost:8080/",
          "height": 337
        },
        "id": "VfJev9rggt98",
        "outputId": "1dbe0ca9-29ac-4d37-b99f-b15e85f0a46d"
      },
      "source": [
        "sns.distplot(x=train_df['date_diff'].loc[train_df['date_diff'] > -50].loc[train_df['date_diff'] < 50])"
      ],
      "execution_count": 35,
      "outputs": [
        {
          "output_type": "stream",
          "name": "stderr",
          "text": [
            "/usr/local/lib/python3.7/dist-packages/seaborn/distributions.py:2619: FutureWarning: `distplot` is a deprecated function and will be removed in a future version. Please adapt your code to use either `displot` (a figure-level function with similar flexibility) or `histplot` (an axes-level function for histograms).\n",
            "  warnings.warn(msg, FutureWarning)\n"
          ]
        },
        {
          "output_type": "execute_result",
          "data": {
            "text/plain": [
              "<matplotlib.axes._subplots.AxesSubplot at 0x7f133de06250>"
            ]
          },
          "metadata": {},
          "execution_count": 35
        },
        {
          "output_type": "display_data",
          "data": {
            "image/png": "[encoded data removed]",
            "text/plain": [
              "<Figure size 432x288 with 1 Axes>"
            ]
          },
          "metadata": {
            "needs_background": "light"
          }
        }
      ]
    },
    {
      "cell_type": "code",
      "metadata": {
        "id": "tM12bod__qyT"
      },
      "source": [
        "train_df = train_df.drop(columns=['date_diff', 'last_updated'])"
      ],
      "execution_count": 36,
      "outputs": []
    },
    {
      "cell_type": "code",
      "metadata": {
        "colab": {
          "base_uri": "https://localhost:8080/",
          "height": 297
        },
        "id": "qP-M8zh-dp5p",
        "outputId": "3fa87558-5940-479d-85be-2cbae67c46fd"
      },
      "source": [
        "sns.countplot(x=train_df['target_1'])"
      ],
      "execution_count": 37,
      "outputs": [
        {
          "output_type": "execute_result",
          "data": {
            "text/plain": [
              "<matplotlib.axes._subplots.AxesSubplot at 0x7f133e746e90>"
            ]
          },
          "metadata": {},
          "execution_count": 37
        },
        {
          "output_type": "display_data",
          "data": {
            "image/png": "[encoded data removed]",
            "text/plain": [
              "<Figure size 432x288 with 1 Axes>"
            ]
          },
          "metadata": {
            "needs_background": "light"
          }
        }
      ]
    },
    {
      "cell_type": "code",
      "metadata": {
        "colab": {
          "base_uri": "https://localhost:8080/",
          "height": 297
        },
        "id": "CtwPOh_khk58",
        "outputId": "bb9d683d-43bb-4cf4-8407-87786218922c"
      },
      "source": [
        "sns.boxplot(y=train_df['cloud'], x=train_df['target_1'])"
      ],
      "execution_count": 38,
      "outputs": [
        {
          "output_type": "execute_result",
          "data": {
            "text/plain": [
              "<matplotlib.axes._subplots.AxesSubplot at 0x7f136060dc50>"
            ]
          },
          "metadata": {},
          "execution_count": 38
        },
        {
          "output_type": "display_data",
          "data": {
            "image/png": "[encoded data removed]",
            "text/plain": [
              "<Figure size 432x288 with 1 Axes>"
            ]
          },
          "metadata": {
            "needs_background": "light"
          }
        }
      ]
    },
    {
      "cell_type": "code",
      "metadata": {
        "colab": {
          "base_uri": "https://localhost:8080/",
          "height": 667
        },
        "id": "D2QGHZvojbzx",
        "outputId": "c0155ed3-09b2-4653-9915-311ebf53d2c8"
      },
      "source": [
        "plt.figure(figsize=(15,10))\n",
        "sns.heatmap(train_df.corr())"
      ],
      "execution_count": 63,
      "outputs": [
        {
          "output_type": "execute_result",
          "data": {
            "text/plain": [
              "<matplotlib.axes._subplots.AxesSubplot at 0x7f1367e7d850>"
            ]
          },
          "metadata": {},
          "execution_count": 63
        },
        {
          "output_type": "display_data",
          "data": {
            "image/png": "[encoded data removed]",
            "text/plain": [
              "<Figure size 1080x720 with 2 Axes>"
            ]
          },
          "metadata": {
            "needs_background": "light"
          }
        }
      ]
    },
    {
      "cell_type": "code",
      "metadata": {
        "colab": {
          "base_uri": "https://localhost:8080/",
          "height": 296
        },
        "id": "wpnSmJf8imRy",
        "outputId": "518cc669-06fc-4c7f-8346-cd3c25325c47"
      },
      "source": [
        "sns.countplot(x=train_df['target'], hue=train_df['target_1'])"
      ],
      "execution_count": 58,
      "outputs": [
        {
          "output_type": "execute_result",
          "data": {
            "text/plain": [
              "<matplotlib.axes._subplots.AxesSubplot at 0x7f1365a58d50>"
            ]
          },
          "metadata": {},
          "execution_count": 58
        },
        {
          "output_type": "display_data",
          "data": {
            "image/png": "[encoded data removed]",
            "text/plain": [
              "<Figure size 432x288 with 1 Axes>"
            ]
          },
          "metadata": {
            "needs_background": "light"
          }
        }
      ]
    },
    {
      "cell_type": "code",
      "metadata": {
        "colab": {
          "base_uri": "https://localhost:8080/"
        },
        "id": "mvit1psbFWL7",
        "outputId": "8d6ce66e-6964-4f22-c14c-4989e618c523"
      },
      "source": [
        "train_df.info()"
      ],
      "execution_count": 59,
      "outputs": [
        {
          "output_type": "stream",
          "name": "stdout",
          "text": [
            "<class 'pandas.core.frame.DataFrame'>\n",
            "RangeIndex: 97871 entries, 0 to 97870\n",
            "Data columns (total 16 columns):\n",
            " #   Column       Non-Null Count  Dtype  \n",
            "---  ------       --------------  -----  \n",
            " 0   city         97871 non-null  object \n",
            " 1   temp_c       97871 non-null  float64\n",
            " 2   is_day       97871 non-null  float64\n",
            " 3   condition    97871 non-null  object \n",
            " 4   wind_kph     97871 non-null  float64\n",
            " 5   wind_degree  97871 non-null  float64\n",
            " 6   pressure_mb  97871 non-null  float64\n",
            " 7   precip_mm    97871 non-null  float64\n",
            " 8   humidity     97871 non-null  float64\n",
            " 9   cloud        97871 non-null  float64\n",
            " 10  feelslike_c  97871 non-null  float64\n",
            " 11  vis_km       97871 non-null  float64\n",
            " 12  uv           97871 non-null  float64\n",
            " 13  gust_kph     97871 non-null  float64\n",
            " 14  target       97871 non-null  int64  \n",
            " 15  target_1     97867 non-null  float64\n",
            "dtypes: float64(13), int64(1), object(2)\n",
            "memory usage: 11.9+ MB\n"
          ]
        }
      ]
    },
    {
      "cell_type": "code",
      "metadata": {
        "colab": {
          "base_uri": "https://localhost:8080/",
          "height": 579
        },
        "id": "dao_NoWv67U-",
        "outputId": "6f1f388b-71eb-4397-ad96-8611ebe0951c"
      },
      "source": [
        "plt.figure(figsize=(25, 10))\n",
        "sns.barplot(y=train_df['condition'], x=train_df['target_1'], orient='horizontal')"
      ],
      "execution_count": 64,
      "outputs": [
        {
          "output_type": "execute_result",
          "data": {
            "text/plain": [
              "<matplotlib.axes._subplots.AxesSubplot at 0x7f1367371a10>"
            ]
          },
          "metadata": {},
          "execution_count": 64
        },
        {
          "output_type": "display_data",
          "data": {
            "image/png": "[encoded data removed]",
            "text/plain": [
              "<Figure size 1800x720 with 1 Axes>"
            ]
          },
          "metadata": {
            "needs_background": "light"
          }
        }
      ]
    },
    {
      "cell_type": "code",
      "metadata": {
        "colab": {
          "base_uri": "https://localhost:8080/",
          "height": 305
        },
        "id": "_cJBtEZBGzUi",
        "outputId": "5379bd5e-0258-45cf-f303-82bc89eecc5a"
      },
      "source": [
        "# Transform categorical variables in columns and generate X array\n",
        "x = pd.get_dummies(train_df.drop(columns='target_1'), columns=['condition', 'city'])\n",
        "x.head()"
      ],
      "execution_count": 65,
      "outputs": [
        {
          "output_type": "execute_result",
          "data": {
            "text/html": [
              "\n",
              "  <div id=\"df-7dac1d4f-1a7b-4497-8ce4-8b4a7f05542c\">\n",
              "    <div class=\"colab-df-container\">\n",
              "      <div>\n",
              "<style scoped>\n",
              "    .dataframe tbody tr th:only-of-type {\n",
              "        vertical-align: middle;\n",
              "    }\n",
              "\n",
              "    .dataframe tbody tr th {\n",
              "        vertical-align: top;\n",
              "    }\n",
              "\n",
              "    .dataframe thead th {\n",
              "        text-align: right;\n",
              "    }\n",
              "</style>\n",
              "<table border=\"1\" class=\"dataframe\">\n",
              "  <thead>\n",
              "    <tr style=\"text-align: right;\">\n",
              "      <th></th>\n",
              "      <th>temp_c</th>\n",
              "      <th>is_day</th>\n",
              "      <th>wind_kph</th>\n",
              "      <th>wind_degree</th>\n",
              "      <th>pressure_mb</th>\n",
              "      <th>precip_mm</th>\n",
              "      <th>humidity</th>\n",
              "      <th>cloud</th>\n",
              "      <th>feelslike_c</th>\n",
              "      <th>vis_km</th>\n",
              "      <th>uv</th>\n",
              "      <th>gust_kph</th>\n",
              "      <th>target</th>\n",
              "      <th>condition_Blizzard</th>\n",
              "      <th>condition_Clear</th>\n",
              "      <th>condition_Cloudy</th>\n",
              "      <th>condition_Fog</th>\n",
              "      <th>condition_Freezing drizzle</th>\n",
              "      <th>condition_Freezing fog</th>\n",
              "      <th>condition_Heavy rain</th>\n",
              "      <th>condition_Heavy rain at times</th>\n",
              "      <th>condition_Heavy snow</th>\n",
              "      <th>condition_Ice pellets</th>\n",
              "      <th>condition_Light drizzle</th>\n",
              "      <th>condition_Light freezing rain</th>\n",
              "      <th>condition_Light rain</th>\n",
              "      <th>condition_Light rain shower</th>\n",
              "      <th>condition_Light sleet</th>\n",
              "      <th>condition_Light sleet showers</th>\n",
              "      <th>condition_Light snow</th>\n",
              "      <th>condition_Light snow showers</th>\n",
              "      <th>condition_Mist</th>\n",
              "      <th>condition_Moderate or heavy rain shower</th>\n",
              "      <th>condition_Moderate or heavy rain with thunder</th>\n",
              "      <th>condition_Moderate or heavy sleet</th>\n",
              "      <th>condition_Moderate or heavy snow showers</th>\n",
              "      <th>condition_Moderate or heavy snow with thunder</th>\n",
              "      <th>condition_Moderate rain</th>\n",
              "      <th>condition_Moderate rain at times</th>\n",
              "      <th>condition_Moderate snow</th>\n",
              "      <th>condition_Overcast</th>\n",
              "      <th>condition_Partly cloudy</th>\n",
              "      <th>condition_Patchy heavy snow</th>\n",
              "      <th>condition_Patchy light drizzle</th>\n",
              "      <th>condition_Patchy light rain</th>\n",
              "      <th>condition_Patchy light rain with thunder</th>\n",
              "      <th>condition_Patchy light snow</th>\n",
              "      <th>condition_Patchy moderate snow</th>\n",
              "      <th>condition_Patchy rain possible</th>\n",
              "      <th>condition_Sunny</th>\n",
              "      <th>condition_Thundery outbreaks possible</th>\n",
              "      <th>condition_Torrential rain shower</th>\n",
              "      <th>city_Beijing</th>\n",
              "      <th>city_Carapicuiba</th>\n",
              "      <th>city_Hong Kong</th>\n",
              "      <th>city_London</th>\n",
              "      <th>city_Moscow</th>\n",
              "      <th>city_New York</th>\n",
              "      <th>city_Paris</th>\n",
              "      <th>city_Rome</th>\n",
              "      <th>city_Sao Paulo</th>\n",
              "    </tr>\n",
              "  </thead>\n",
              "  <tbody>\n",
              "    <tr>\n",
              "      <th>0</th>\n",
              "      <td>27.0</td>\n",
              "      <td>1.0</td>\n",
              "      <td>6.8</td>\n",
              "      <td>140.0</td>\n",
              "      <td>1013.0</td>\n",
              "      <td>1.5</td>\n",
              "      <td>70.0</td>\n",
              "      <td>25.0</td>\n",
              "      <td>31.6</td>\n",
              "      <td>10.0</td>\n",
              "      <td>5.0</td>\n",
              "      <td>5.0</td>\n",
              "      <td>0</td>\n",
              "      <td>0</td>\n",
              "      <td>0</td>\n",
              "      <td>0</td>\n",
              "      <td>0</td>\n",
              "      <td>0</td>\n",
              "      <td>0</td>\n",
              "      <td>0</td>\n",
              "      <td>0</td>\n",
              "      <td>0</td>\n",
              "      <td>0</td>\n",
              "      <td>0</td>\n",
              "      <td>0</td>\n",
              "      <td>0</td>\n",
              "      <td>0</td>\n",
              "      <td>0</td>\n",
              "      <td>0</td>\n",
              "      <td>0</td>\n",
              "      <td>0</td>\n",
              "      <td>0</td>\n",
              "      <td>0</td>\n",
              "      <td>0</td>\n",
              "      <td>0</td>\n",
              "      <td>0</td>\n",
              "      <td>0</td>\n",
              "      <td>0</td>\n",
              "      <td>0</td>\n",
              "      <td>0</td>\n",
              "      <td>0</td>\n",
              "      <td>1</td>\n",
              "      <td>0</td>\n",
              "      <td>0</td>\n",
              "      <td>0</td>\n",
              "      <td>0</td>\n",
              "      <td>0</td>\n",
              "      <td>0</td>\n",
              "      <td>0</td>\n",
              "      <td>0</td>\n",
              "      <td>0</td>\n",
              "      <td>0</td>\n",
              "      <td>1</td>\n",
              "      <td>0</td>\n",
              "      <td>0</td>\n",
              "      <td>0</td>\n",
              "      <td>0</td>\n",
              "      <td>0</td>\n",
              "      <td>0</td>\n",
              "      <td>0</td>\n",
              "      <td>0</td>\n",
              "    </tr>\n",
              "    <tr>\n",
              "      <th>1</th>\n",
              "      <td>18.6</td>\n",
              "      <td>1.0</td>\n",
              "      <td>6.5</td>\n",
              "      <td>2.0</td>\n",
              "      <td>1011.0</td>\n",
              "      <td>0.0</td>\n",
              "      <td>62.0</td>\n",
              "      <td>9.0</td>\n",
              "      <td>18.6</td>\n",
              "      <td>10.0</td>\n",
              "      <td>5.0</td>\n",
              "      <td>11.9</td>\n",
              "      <td>0</td>\n",
              "      <td>0</td>\n",
              "      <td>0</td>\n",
              "      <td>0</td>\n",
              "      <td>0</td>\n",
              "      <td>0</td>\n",
              "      <td>0</td>\n",
              "      <td>0</td>\n",
              "      <td>0</td>\n",
              "      <td>0</td>\n",
              "      <td>0</td>\n",
              "      <td>0</td>\n",
              "      <td>0</td>\n",
              "      <td>0</td>\n",
              "      <td>0</td>\n",
              "      <td>0</td>\n",
              "      <td>0</td>\n",
              "      <td>0</td>\n",
              "      <td>0</td>\n",
              "      <td>0</td>\n",
              "      <td>0</td>\n",
              "      <td>0</td>\n",
              "      <td>0</td>\n",
              "      <td>0</td>\n",
              "      <td>0</td>\n",
              "      <td>0</td>\n",
              "      <td>0</td>\n",
              "      <td>0</td>\n",
              "      <td>0</td>\n",
              "      <td>1</td>\n",
              "      <td>0</td>\n",
              "      <td>0</td>\n",
              "      <td>0</td>\n",
              "      <td>0</td>\n",
              "      <td>0</td>\n",
              "      <td>0</td>\n",
              "      <td>0</td>\n",
              "      <td>0</td>\n",
              "      <td>0</td>\n",
              "      <td>0</td>\n",
              "      <td>1</td>\n",
              "      <td>0</td>\n",
              "      <td>0</td>\n",
              "      <td>0</td>\n",
              "      <td>0</td>\n",
              "      <td>0</td>\n",
              "      <td>0</td>\n",
              "      <td>0</td>\n",
              "      <td>0</td>\n",
              "    </tr>\n",
              "    <tr>\n",
              "      <th>2</th>\n",
              "      <td>21.0</td>\n",
              "      <td>1.0</td>\n",
              "      <td>19.1</td>\n",
              "      <td>280.0</td>\n",
              "      <td>1015.0</td>\n",
              "      <td>0.0</td>\n",
              "      <td>73.0</td>\n",
              "      <td>0.0</td>\n",
              "      <td>21.0</td>\n",
              "      <td>10.0</td>\n",
              "      <td>6.0</td>\n",
              "      <td>8.6</td>\n",
              "      <td>1</td>\n",
              "      <td>0</td>\n",
              "      <td>0</td>\n",
              "      <td>0</td>\n",
              "      <td>0</td>\n",
              "      <td>0</td>\n",
              "      <td>0</td>\n",
              "      <td>0</td>\n",
              "      <td>0</td>\n",
              "      <td>0</td>\n",
              "      <td>0</td>\n",
              "      <td>0</td>\n",
              "      <td>0</td>\n",
              "      <td>1</td>\n",
              "      <td>0</td>\n",
              "      <td>0</td>\n",
              "      <td>0</td>\n",
              "      <td>0</td>\n",
              "      <td>0</td>\n",
              "      <td>0</td>\n",
              "      <td>0</td>\n",
              "      <td>0</td>\n",
              "      <td>0</td>\n",
              "      <td>0</td>\n",
              "      <td>0</td>\n",
              "      <td>0</td>\n",
              "      <td>0</td>\n",
              "      <td>0</td>\n",
              "      <td>0</td>\n",
              "      <td>0</td>\n",
              "      <td>0</td>\n",
              "      <td>0</td>\n",
              "      <td>0</td>\n",
              "      <td>0</td>\n",
              "      <td>0</td>\n",
              "      <td>0</td>\n",
              "      <td>0</td>\n",
              "      <td>0</td>\n",
              "      <td>0</td>\n",
              "      <td>0</td>\n",
              "      <td>1</td>\n",
              "      <td>0</td>\n",
              "      <td>0</td>\n",
              "      <td>0</td>\n",
              "      <td>0</td>\n",
              "      <td>0</td>\n",
              "      <td>0</td>\n",
              "      <td>0</td>\n",
              "      <td>0</td>\n",
              "    </tr>\n",
              "    <tr>\n",
              "      <th>3</th>\n",
              "      <td>21.0</td>\n",
              "      <td>1.0</td>\n",
              "      <td>19.1</td>\n",
              "      <td>280.0</td>\n",
              "      <td>1015.0</td>\n",
              "      <td>0.0</td>\n",
              "      <td>73.0</td>\n",
              "      <td>0.0</td>\n",
              "      <td>21.0</td>\n",
              "      <td>10.0</td>\n",
              "      <td>6.0</td>\n",
              "      <td>8.6</td>\n",
              "      <td>1</td>\n",
              "      <td>0</td>\n",
              "      <td>0</td>\n",
              "      <td>0</td>\n",
              "      <td>0</td>\n",
              "      <td>0</td>\n",
              "      <td>0</td>\n",
              "      <td>0</td>\n",
              "      <td>0</td>\n",
              "      <td>0</td>\n",
              "      <td>0</td>\n",
              "      <td>0</td>\n",
              "      <td>0</td>\n",
              "      <td>1</td>\n",
              "      <td>0</td>\n",
              "      <td>0</td>\n",
              "      <td>0</td>\n",
              "      <td>0</td>\n",
              "      <td>0</td>\n",
              "      <td>0</td>\n",
              "      <td>0</td>\n",
              "      <td>0</td>\n",
              "      <td>0</td>\n",
              "      <td>0</td>\n",
              "      <td>0</td>\n",
              "      <td>0</td>\n",
              "      <td>0</td>\n",
              "      <td>0</td>\n",
              "      <td>0</td>\n",
              "      <td>0</td>\n",
              "      <td>0</td>\n",
              "      <td>0</td>\n",
              "      <td>0</td>\n",
              "      <td>0</td>\n",
              "      <td>0</td>\n",
              "      <td>0</td>\n",
              "      <td>0</td>\n",
              "      <td>0</td>\n",
              "      <td>0</td>\n",
              "      <td>0</td>\n",
              "      <td>1</td>\n",
              "      <td>0</td>\n",
              "      <td>0</td>\n",
              "      <td>0</td>\n",
              "      <td>0</td>\n",
              "      <td>0</td>\n",
              "      <td>0</td>\n",
              "      <td>0</td>\n",
              "      <td>0</td>\n",
              "    </tr>\n",
              "    <tr>\n",
              "      <th>4</th>\n",
              "      <td>21.0</td>\n",
              "      <td>0.0</td>\n",
              "      <td>0.0</td>\n",
              "      <td>221.0</td>\n",
              "      <td>1012.0</td>\n",
              "      <td>0.3</td>\n",
              "      <td>83.0</td>\n",
              "      <td>0.0</td>\n",
              "      <td>21.0</td>\n",
              "      <td>10.0</td>\n",
              "      <td>5.0</td>\n",
              "      <td>9.7</td>\n",
              "      <td>0</td>\n",
              "      <td>0</td>\n",
              "      <td>1</td>\n",
              "      <td>0</td>\n",
              "      <td>0</td>\n",
              "      <td>0</td>\n",
              "      <td>0</td>\n",
              "      <td>0</td>\n",
              "      <td>0</td>\n",
              "      <td>0</td>\n",
              "      <td>0</td>\n",
              "      <td>0</td>\n",
              "      <td>0</td>\n",
              "      <td>0</td>\n",
              "      <td>0</td>\n",
              "      <td>0</td>\n",
              "      <td>0</td>\n",
              "      <td>0</td>\n",
              "      <td>0</td>\n",
              "      <td>0</td>\n",
              "      <td>0</td>\n",
              "      <td>0</td>\n",
              "      <td>0</td>\n",
              "      <td>0</td>\n",
              "      <td>0</td>\n",
              "      <td>0</td>\n",
              "      <td>0</td>\n",
              "      <td>0</td>\n",
              "      <td>0</td>\n",
              "      <td>0</td>\n",
              "      <td>0</td>\n",
              "      <td>0</td>\n",
              "      <td>0</td>\n",
              "      <td>0</td>\n",
              "      <td>0</td>\n",
              "      <td>0</td>\n",
              "      <td>0</td>\n",
              "      <td>0</td>\n",
              "      <td>0</td>\n",
              "      <td>0</td>\n",
              "      <td>1</td>\n",
              "      <td>0</td>\n",
              "      <td>0</td>\n",
              "      <td>0</td>\n",
              "      <td>0</td>\n",
              "      <td>0</td>\n",
              "      <td>0</td>\n",
              "      <td>0</td>\n",
              "      <td>0</td>\n",
              "    </tr>\n",
              "  </tbody>\n",
              "</table>\n",
              "</div>\n",
              "      <button class=\"colab-df-convert\" onclick=\"convertToInteractive('df-7dac1d4f-1a7b-4497-8ce4-8b4a7f05542c')\"\n",
              "              title=\"Convert this dataframe to an interactive table.\"\n",
              "              style=\"display:none;\">\n",
              "        \n",
              "  <svg xmlns=\"http://www.w3.org/2000/svg\" height=\"24px\"viewBox=\"0 0 24 24\"\n",
              "       width=\"24px\">\n",
              "    <path d=\"M0 0h24v24H0V0z\" fill=\"none\"/>\n",
              "    <path d=\"M18.56 5.44l.94 2.06.94-2.06 2.06-.94-2.06-.94-.94-2.06-.94 2.06-2.06.94zm-11 1L8.5 8.5l.94-2.06 2.06-.94-2.06-.94L8.5 2.5l-.94 2.06-2.06.94zm10 10l.94 2.06.94-2.06 2.06-.94-2.06-.94-.94-2.06-.94 2.06-2.06.94z\"/><path d=\"M17.41 7.96l-1.37-1.37c-.4-.4-.92-.59-1.43-.59-.52 0-1.04.2-1.43.59L10.3 9.45l-7.72 7.72c-.78.78-.78 2.05 0 2.83L4 21.41c.39.39.9.59 1.41.59.51 0 1.02-.2 1.41-.59l7.78-7.78 2.81-2.81c.8-.78.8-2.07 0-2.86zM5.41 20L4 18.59l7.72-7.72 1.47 1.35L5.41 20z\"/>\n",
              "  </svg>\n",
              "      </button>\n",
              "      \n",
              "  <style>\n",
              "    .colab-df-container {\n",
              "      display:flex;\n",
              "      flex-wrap:wrap;\n",
              "      gap: 12px;\n",
              "    }\n",
              "\n",
              "    .colab-df-convert {\n",
              "      background-color: #E8F0FE;\n",
              "      border: none;\n",
              "      border-radius: 50%;\n",
              "      cursor: pointer;\n",
              "      display: none;\n",
              "      fill: #1967D2;\n",
              "      height: 32px;\n",
              "      padding: 0 0 0 0;\n",
              "      width: 32px;\n",
              "    }\n",
              "\n",
              "    .colab-df-convert:hover {\n",
              "      background-color: #E2EBFA;\n",
              "      box-shadow: 0px 1px 2px rgba(60, 64, 67, 0.3), 0px 1px 3px 1px rgba(60, 64, 67, 0.15);\n",
              "      fill: #174EA6;\n",
              "    }\n",
              "\n",
              "    [theme=dark] .colab-df-convert {\n",
              "      background-color: #3B4455;\n",
              "      fill: #D2E3FC;\n",
              "    }\n",
              "\n",
              "    [theme=dark] .colab-df-convert:hover {\n",
              "      background-color: #434B5C;\n",
              "      box-shadow: 0px 1px 3px 1px rgba(0, 0, 0, 0.15);\n",
              "      filter: drop-shadow(0px 1px 2px rgba(0, 0, 0, 0.3));\n",
              "      fill: #FFFFFF;\n",
              "    }\n",
              "  </style>\n",
              "\n",
              "      <script>\n",
              "        const buttonEl =\n",
              "          document.querySelector('#df-7dac1d4f-1a7b-4497-8ce4-8b4a7f05542c button.colab-df-convert');\n",
              "        buttonEl.style.display =\n",
              "          google.colab.kernel.accessAllowed ? 'block' : 'none';\n",
              "\n",
              "        async function convertToInteractive(key) {\n",
              "          const element = document.querySelector('#df-7dac1d4f-1a7b-4497-8ce4-8b4a7f05542c');\n",
              "          const dataTable =\n",
              "            await google.colab.kernel.invokeFunction('convertToInteractive',\n",
              "                                                     [key], {});\n",
              "          if (!dataTable) return;\n",
              "\n",
              "          const docLinkHtml = 'Like what you see? Visit the ' +\n",
              "            '<a target=\"_blank\" href=https://colab.research.google.com/notebooks/data_table.ipynb>data table notebook</a>'\n",
              "            + ' to learn more about interactive tables.';\n",
              "          element.innerHTML = '';\n",
              "          dataTable['output_type'] = 'display_data';\n",
              "          await google.colab.output.renderOutput(dataTable, element);\n",
              "          const docLink = document.createElement('div');\n",
              "          docLink.innerHTML = docLinkHtml;\n",
              "          element.appendChild(docLink);\n",
              "        }\n",
              "      </script>\n",
              "    </div>\n",
              "  </div>\n",
              "  "
            ],
            "text/plain": [
              "   temp_c  is_day  wind_kph  ...  city_Paris  city_Rome  city_Sao Paulo\n",
              "0    27.0     1.0       6.8  ...           0          0               0\n",
              "1    18.6     1.0       6.5  ...           0          0               0\n",
              "2    21.0     1.0      19.1  ...           0          0               0\n",
              "3    21.0     1.0      19.1  ...           0          0               0\n",
              "4    21.0     0.0       0.0  ...           0          0               0\n",
              "\n",
              "[5 rows x 61 columns]"
            ]
          },
          "metadata": {},
          "execution_count": 65
        }
      ]
    },
    {
      "cell_type": "code",
      "metadata": {
        "colab": {
          "base_uri": "https://localhost:8080/"
        },
        "id": "mxEb_8LAF-jy",
        "outputId": "b9e68525-aca1-4ac0-803b-4248d8aaafb1"
      },
      "source": [
        "# Create Y array and clean it\n",
        "y = train_df['target_1']\n",
        "y = y.fillna(0.0)\n",
        "y = y.astype('int')\n",
        "y.unique()"
      ],
      "execution_count": 66,
      "outputs": [
        {
          "output_type": "execute_result",
          "data": {
            "text/plain": [
              "array([0, 1])"
            ]
          },
          "metadata": {},
          "execution_count": 66
        }
      ]
    },
    {
      "cell_type": "code",
      "metadata": {
        "id": "XewsDa0AEftD"
      },
      "source": [
        "# Split the data between Train and Test\n",
        "x_train, x_test, y_train, y_test = train_test_split(x, y)"
      ],
      "execution_count": 93,
      "outputs": []
    },
    {
      "cell_type": "code",
      "metadata": {
        "id": "nS2sNMh-K5l1"
      },
      "source": [
        "if len(x) == len(y):\n",
        "  pass\n",
        "else:\n",
        "  raise Exception (\"The data was splitted wrong\")"
      ],
      "execution_count": 94,
      "outputs": []
    },
    {
      "cell_type": "code",
      "metadata": {
        "colab": {
          "base_uri": "https://localhost:8080/"
        },
        "id": "XcUaFsGLMBWX",
        "outputId": "cf3a5775-a127-43f1-e6d8-ff06ed719790"
      },
      "source": [
        "print(f'train: {x_train.shape}\\ntest: {x_test.shape}')"
      ],
      "execution_count": 95,
      "outputs": [
        {
          "output_type": "stream",
          "name": "stdout",
          "text": [
            "train: (73403, 61)\n",
            "test: (24468, 61)\n"
          ]
        }
      ]
    },
    {
      "cell_type": "markdown",
      "metadata": {
        "id": "v9UXRmsooNnZ"
      },
      "source": [
        "### **5. Applying Machine Learning Model**"
      ]
    },
    {
      "cell_type": "code",
      "metadata": {
        "id": "IX4nKBSaMB5c"
      },
      "source": [
        "lr = LogisticRegression(random_state=0, max_iter=10000).fit(x_train, y_train)"
      ],
      "execution_count": 96,
      "outputs": []
    },
    {
      "cell_type": "code",
      "metadata": {
        "colab": {
          "base_uri": "https://localhost:8080/"
        },
        "id": "-hK74mx2Tt3V",
        "outputId": "b3e311c7-dbc4-4d32-b46f-e7ba608e5ad0"
      },
      "source": [
        "lr.score(x_test, y_test)"
      ],
      "execution_count": 97,
      "outputs": [
        {
          "output_type": "execute_result",
          "data": {
            "text/plain": [
              "0.93563021088769"
            ]
          },
          "metadata": {},
          "execution_count": 97
        }
      ]
    },
    {
      "cell_type": "code",
      "metadata": {
        "id": "iak6YHKrUijP"
      },
      "source": [
        "#x_test['prediction'] = lr.predict(x_test)"
      ],
      "execution_count": 98,
      "outputs": []
    },
    {
      "cell_type": "code",
      "metadata": {
        "id": "s_vTqjuNWJKZ"
      },
      "source": [
        "#prob_list = []\n",
        "#a = lr.predict_proba(x_test.drop(columns='prediction'))\n",
        "#for i in a:\n",
        " # prob_list.append(i[0])"
      ],
      "execution_count": 99,
      "outputs": []
    },
    {
      "cell_type": "code",
      "metadata": {
        "id": "ruvCWODNW1AB"
      },
      "source": [
        "#x_test['prob'] = prob_list\n",
        "#x_test"
      ],
      "execution_count": 100,
      "outputs": []
    },
    {
      "cell_type": "code",
      "metadata": {
        "id": "vPkbX5USdLV5"
      },
      "source": [
        "#sns.boxplot(x=x_test['prediction'], y=x_test['prob'])"
      ],
      "execution_count": 101,
      "outputs": []
    },
    {
      "cell_type": "code",
      "metadata": {
        "id": "24gSi-YCdmK9"
      },
      "source": [
        "#plt.figure(figsize=(10,7))\n",
        "#sns.histplot(hue=x_test['prediction'], x=x_test['prob'], bins='sturges')"
      ],
      "execution_count": 102,
      "outputs": []
    },
    {
      "cell_type": "code",
      "metadata": {
        "id": "NOKWb5Ukg-aY",
        "colab": {
          "base_uri": "https://localhost:8080/"
        },
        "outputId": "5322492c-758a-4d1a-ccd4-c6db7f737080"
      },
      "source": [
        "lr_pred = lr.predict(x_test)\n",
        "print(classification_report(y_test, lr_pred, labels=[0,1]))"
      ],
      "execution_count": 106,
      "outputs": [
        {
          "output_type": "stream",
          "name": "stdout",
          "text": [
            "              precision    recall  f1-score   support\n",
            "\n",
            "           0       0.96      0.97      0.96     22219\n",
            "           1       0.68      0.55      0.61      2249\n",
            "\n",
            "    accuracy                           0.94     24468\n",
            "   macro avg       0.82      0.76      0.79     24468\n",
            "weighted avg       0.93      0.94      0.93     24468\n",
            "\n"
          ]
        }
      ]
    },
    {
      "cell_type": "code",
      "source": [
        "from sklearn.neighbors import KNeighborsClassifier\n",
        "for k in (range(3, 7)):\n",
        "  neigh = KNeighborsClassifier(n_neighbors=k, algorithm = 'auto', weights='distance', p=1)\n",
        "  neigh.fit(x_train, y_train)\n",
        "  neigh_pred = neigh.predict(x_test)\n",
        "  print(f'k: {k}')\n",
        "  print(classification_report(y_test, neigh_pred, labels=[0,1]))"
      ],
      "metadata": {
        "colab": {
          "base_uri": "https://localhost:8080/"
        },
        "id": "aJOpjZi9R0Up",
        "outputId": "e04c80e8-8283-4e64-c282-484df56a9f75"
      },
      "execution_count": 118,
      "outputs": [
        {
          "output_type": "stream",
          "name": "stdout",
          "text": [
            "k: 3\n",
            "              precision    recall  f1-score   support\n",
            "\n",
            "           0       0.97      0.98      0.98     22219\n",
            "           1       0.78      0.72      0.75      2249\n",
            "\n",
            "    accuracy                           0.96     24468\n",
            "   macro avg       0.88      0.85      0.86     24468\n",
            "weighted avg       0.95      0.96      0.95     24468\n",
            "\n",
            "k: 4\n",
            "              precision    recall  f1-score   support\n",
            "\n",
            "           0       0.97      0.98      0.98     22219\n",
            "           1       0.79      0.71      0.75      2249\n",
            "\n",
            "    accuracy                           0.96     24468\n",
            "   macro avg       0.88      0.85      0.86     24468\n",
            "weighted avg       0.95      0.96      0.95     24468\n",
            "\n",
            "k: 5\n",
            "              precision    recall  f1-score   support\n",
            "\n",
            "           0       0.97      0.98      0.98     22219\n",
            "           1       0.79      0.71      0.75      2249\n",
            "\n",
            "    accuracy                           0.96     24468\n",
            "   macro avg       0.88      0.84      0.86     24468\n",
            "weighted avg       0.95      0.96      0.95     24468\n",
            "\n",
            "k: 6\n",
            "              precision    recall  f1-score   support\n",
            "\n",
            "           0       0.97      0.98      0.98     22219\n",
            "           1       0.80      0.70      0.75      2249\n",
            "\n",
            "    accuracy                           0.96     24468\n",
            "   macro avg       0.88      0.84      0.86     24468\n",
            "weighted avg       0.95      0.96      0.95     24468\n",
            "\n"
          ]
        }
      ]
    },
    {
      "cell_type": "code",
      "source": [
        ""
      ],
      "metadata": {
        "id": "RX5QeEoKYrhc"
      },
      "execution_count": null,
      "outputs": []
    },
    {
      "cell_type": "code",
      "metadata": {
        "id": "tYWqX-Iqm5__"
      },
      "source": [
        "filename = 'model_v1'\n",
        "pickle.dump(lr, open(filename, 'wb'))\n",
        "#loaded_model = pickle.load(open(filename, 'rb'))"
      ],
      "execution_count": 79,
      "outputs": []
    },
    {
      "cell_type": "code",
      "metadata": {
        "id": "QT1oEJ1nOkFF"
      },
      "source": [
        "df_empty = x_test[0:0]\n",
        "df_empty = df_empty.drop(columns=['prediction', 'prob'])\n",
        "pickle.dump(df_empty, open('df_mask', 'wb'))"
      ],
      "execution_count": 80,
      "outputs": []
    },
    {
      "cell_type": "code",
      "metadata": {
        "id": "3LXL-pqLP3Nh"
      },
      "source": [
        ""
      ],
      "execution_count": null,
      "outputs": []
    }
  ]
}