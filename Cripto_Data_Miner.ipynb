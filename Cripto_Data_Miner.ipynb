{
  "nbformat": 4,
  "nbformat_minor": 0,
  "metadata": {
    "colab": {
      "name": "Cripto Data Miner.ipynb",
      "provenance": [],
      "authorship_tag": "ABX9TyNnesbV3mmspf6Ccp2CQQk5",
      "include_colab_link": true
    },
    "kernelspec": {
      "name": "python3",
      "display_name": "Python 3"
    },
    "language_info": {
      "name": "python"
    }
  },
  "cells": [
    {
      "cell_type": "markdown",
      "metadata": {
        "id": "view-in-github",
        "colab_type": "text"
      },
      "source": [
        "<a href=\"https://colab.research.google.com/github/phelipe-sb/Rain-Prediction/blob/main/Cripto_Data_Miner.ipynb\" target=\"_parent\"><img src=\"https://colab.research.google.com/assets/colab-badge.svg\" alt=\"Open In Colab\"/></a>"
      ]
    },
    {
      "cell_type": "code",
      "metadata": {
        "id": "GoWezQtk0tXl"
      },
      "source": [
        "import requests\n",
        "import pandas as pd\n",
        "from datetime import datetime\n",
        "import seaborn as sns\n",
        "import matplotlib.pyplot as plt"
      ],
      "execution_count": null,
      "outputs": []
    },
    {
      "cell_type": "code",
      "metadata": {
        "id": "E02Ih82Q4fpH"
      },
      "source": [
        "moedas = ['AAVE', 'ACMFT', 'ACORDO01', 'ALLFT', 'AMFT', 'ANKR', 'ARGFT', 'ASRFT', 'ATMFT', 'AXS', 'BAL'\n",
        "          , 'BAND', 'BARFT', 'BAT', 'BCH', 'BNT', 'BTC', 'CAIFT', 'CHZ', 'CITYFT', 'COMP', 'CRV', 'DAI', 'ENJ'\n",
        "          , 'ETH', 'GALFT', 'GRT', 'IMOB01', 'IMOB02', 'JUVFT', 'KNC', 'LINK', 'LTC', 'MANA', 'MATIC', 'MBCONS01'\n",
        "          , 'MBCONS02', 'MBFP01', 'MBFP02', 'MBFP03', 'MBFP04', 'MBFP05', 'MBPRK01', 'MBPRK02', 'MBPRK03', 'MBPRK04'\n",
        "          , 'MBPRK05', 'MBVASCO01', 'MCO2', 'MKR', 'NAVIFT', 'OGFT', 'OMG', 'PAXG', 'PFLFT', 'PSGFT', 'REN', 'SAUBERFT'\n",
        "          , 'SNX', 'SUSHI', 'THFT', 'UMA', 'UNI', 'USDC', 'WBTC', 'WBX', 'XRP', 'YFI', 'ZRX']"
      ],
      "execution_count": null,
      "outputs": []
    },
    {
      "cell_type": "code",
      "metadata": {
        "id": "b6mgZBEr0uhc"
      },
      "source": [
        "req_moedas = list()\n",
        "for moeda in moedas:\n",
        "  r = requests.get(f'https://www.mercadobitcoin.net/api/{moeda}/ticker/')\n",
        "  response = r.json()\n",
        "  for i in response.values():\n",
        "    dic = i\n",
        "    dic['moeda'] = f'{moeda}'\n",
        "    dic['extraction_datetime'] = datetime.now().strftime(\"%d/%m/%Y %H:%M:%S\")\n",
        "    req_moedas.append(dic)"
      ],
      "execution_count": null,
      "outputs": []
    },
    {
      "cell_type": "code",
      "metadata": {
        "id": "Gw2gGohUC9hW"
      },
      "source": [
        "df = pd.DataFrame(req_moedas)"
      ],
      "execution_count": null,
      "outputs": []
    },
    {
      "cell_type": "code",
      "metadata": {
        "id": "V6L4An2cpEa1"
      },
      "source": [
        "def convert_date(seconds):\n",
        "  date = datetime.fromtimestamp(seconds).strftime(\"%A, %B %d, %Y %I:%M:%S\")\n",
        "  return date"
      ],
      "execution_count": null,
      "outputs": []
    },
    {
      "cell_type": "code",
      "metadata": {
        "colab": {
          "base_uri": "https://localhost:8080/"
        },
        "id": "a25iMs8uFdUH",
        "outputId": "abcdfaa6-7013-45a4-d23f-f343061b28f3"
      },
      "source": [
        "df.shape # 69 moedas diferentes"
      ],
      "execution_count": null,
      "outputs": [
        {
          "output_type": "execute_result",
          "data": {
            "text/plain": [
              "(69, 10)"
            ]
          },
          "metadata": {},
          "execution_count": 20
        }
      ]
    },
    {
      "cell_type": "code",
      "metadata": {
        "id": "PVVRSKS3E2Lx"
      },
      "source": [
        "df['date_datetime'] = df['date'].apply(lambda x: convert_date(x))"
      ],
      "execution_count": null,
      "outputs": []
    },
    {
      "cell_type": "code",
      "metadata": {
        "id": "_5RGiv58rGgP"
      },
      "source": [
        "df['buy'] = df['buy'].astype('float')"
      ],
      "execution_count": null,
      "outputs": []
    },
    {
      "cell_type": "code",
      "metadata": {
        "id": "hfqTQnPksTk5"
      },
      "source": [
        "df = df.loc[df['buy'] < 50]\n",
        "df = df.sort_values(by='buy', ascending=False)"
      ],
      "execution_count": null,
      "outputs": []
    },
    {
      "cell_type": "code",
      "metadata": {
        "colab": {
          "base_uri": "https://localhost:8080/"
        },
        "id": "50OZE8sBuWgy",
        "outputId": "20bb50c7-a54c-4cff-e9fb-f2002ef584ea"
      },
      "source": [
        "df.shape"
      ],
      "execution_count": null,
      "outputs": [
        {
          "output_type": "execute_result",
          "data": {
            "text/plain": [
              "(37, 11)"
            ]
          },
          "metadata": {},
          "execution_count": 55
        }
      ]
    },
    {
      "cell_type": "code",
      "metadata": {
        "colab": {
          "base_uri": "https://localhost:8080/",
          "height": 204
        },
        "id": "nubUJouGu8g1",
        "outputId": "778251f1-604c-473d-a217-2a2e21c47904"
      },
      "source": [
        "df.head()"
      ],
      "execution_count": null,
      "outputs": [
        {
          "output_type": "execute_result",
          "data": {
            "text/html": [
              "<div>\n",
              "<style scoped>\n",
              "    .dataframe tbody tr th:only-of-type {\n",
              "        vertical-align: middle;\n",
              "    }\n",
              "\n",
              "    .dataframe tbody tr th {\n",
              "        vertical-align: top;\n",
              "    }\n",
              "\n",
              "    .dataframe thead th {\n",
              "        text-align: right;\n",
              "    }\n",
              "</style>\n",
              "<table border=\"1\" class=\"dataframe\">\n",
              "  <thead>\n",
              "    <tr style=\"text-align: right;\">\n",
              "      <th></th>\n",
              "      <th>high</th>\n",
              "      <th>low</th>\n",
              "      <th>vol</th>\n",
              "      <th>last</th>\n",
              "      <th>buy</th>\n",
              "      <th>sell</th>\n",
              "      <th>open</th>\n",
              "      <th>date</th>\n",
              "      <th>moeda</th>\n",
              "      <th>extraction_datetime</th>\n",
              "      <th>date_datetime</th>\n",
              "    </tr>\n",
              "  </thead>\n",
              "  <tbody>\n",
              "    <tr>\n",
              "      <th>11</th>\n",
              "      <td>48.09800000</td>\n",
              "      <td>44.79328000</td>\n",
              "      <td>1138.80104845</td>\n",
              "      <td>47.36556000</td>\n",
              "      <td>47.36956</td>\n",
              "      <td>47.40000000</td>\n",
              "      <td>46.65291000</td>\n",
              "      <td>1631461025</td>\n",
              "      <td>BAND</td>\n",
              "      <td>12/09/2021 15:37:08</td>\n",
              "      <td>Sunday, September 12, 2021 03:37:05</td>\n",
              "    </tr>\n",
              "    <tr>\n",
              "      <th>1</th>\n",
              "      <td>47.54000000</td>\n",
              "      <td>43.87600000</td>\n",
              "      <td>1532.98793937</td>\n",
              "      <td>44.27628000</td>\n",
              "      <td>44.42000</td>\n",
              "      <td>44.81999000</td>\n",
              "      <td>44.58533000</td>\n",
              "      <td>1631461003</td>\n",
              "      <td>ACMFT</td>\n",
              "      <td>12/09/2021 15:37:07</td>\n",
              "      <td>Sunday, September 12, 2021 03:36:43</td>\n",
              "    </tr>\n",
              "    <tr>\n",
              "      <th>7</th>\n",
              "      <td>39.40000000</td>\n",
              "      <td>38.29010000</td>\n",
              "      <td>809.98479946</td>\n",
              "      <td>38.76915000</td>\n",
              "      <td>38.61596</td>\n",
              "      <td>39.22951000</td>\n",
              "      <td>39.10072000</td>\n",
              "      <td>1631461019</td>\n",
              "      <td>ASRFT</td>\n",
              "      <td>12/09/2021 15:37:07</td>\n",
              "      <td>Sunday, September 12, 2021 03:36:59</td>\n",
              "    </tr>\n",
              "    <tr>\n",
              "      <th>51</th>\n",
              "      <td>39.60000000</td>\n",
              "      <td>35.17697000</td>\n",
              "      <td>4313.99643342</td>\n",
              "      <td>37.71015000</td>\n",
              "      <td>37.49077</td>\n",
              "      <td>37.99520000</td>\n",
              "      <td>36.37988000</td>\n",
              "      <td>1631461029</td>\n",
              "      <td>OGFT</td>\n",
              "      <td>12/09/2021 15:37:11</td>\n",
              "      <td>Sunday, September 12, 2021 03:37:09</td>\n",
              "    </tr>\n",
              "    <tr>\n",
              "      <th>48</th>\n",
              "      <td>38.50000000</td>\n",
              "      <td>37.00000000</td>\n",
              "      <td>426.25802493</td>\n",
              "      <td>37.24001000</td>\n",
              "      <td>37.24001</td>\n",
              "      <td>38.39999000</td>\n",
              "      <td>37.75000000</td>\n",
              "      <td>1631461030</td>\n",
              "      <td>MCO2</td>\n",
              "      <td>12/09/2021 15:37:11</td>\n",
              "      <td>Sunday, September 12, 2021 03:37:10</td>\n",
              "    </tr>\n",
              "  </tbody>\n",
              "</table>\n",
              "</div>"
            ],
            "text/plain": [
              "           high  ...                        date_datetime\n",
              "11  48.09800000  ...  Sunday, September 12, 2021 03:37:05\n",
              "1   47.54000000  ...  Sunday, September 12, 2021 03:36:43\n",
              "7   39.40000000  ...  Sunday, September 12, 2021 03:36:59\n",
              "51  39.60000000  ...  Sunday, September 12, 2021 03:37:09\n",
              "48  38.50000000  ...  Sunday, September 12, 2021 03:37:10\n",
              "\n",
              "[5 rows x 11 columns]"
            ]
          },
          "metadata": {},
          "execution_count": 56
        }
      ]
    },
    {
      "cell_type": "code",
      "metadata": {
        "colab": {
          "base_uri": "https://localhost:8080/",
          "height": 1000
        },
        "id": "VQ26J0t1obOz",
        "outputId": "aaaaa66f-ab20-4ccd-fea7-9648f0c03f60"
      },
      "source": [
        "plt.figure(figsize=(15, 20))\n",
        "sns.barplot(x=df['buy'], y=df['moeda'], orient='horizontal')"
      ],
      "execution_count": null,
      "outputs": [
        {
          "output_type": "execute_result",
          "data": {
            "text/plain": [
              "<matplotlib.axes._subplots.AxesSubplot at 0x7f39af043c50>"
            ]
          },
          "metadata": {},
          "execution_count": 57
        },
        {
          "output_type": "display_data",
          "data": {
            "image/png": "[encoded data removed]",
            "text/plain": [
              "<Figure size 1080x1440 with 1 Axes>"
            ]
          },
          "metadata": {
            "needs_background": "light"
          }
        }
      ]
    },
    {
      "cell_type": "code",
      "metadata": {
        "id": "X4HXeepToYoA"
      },
      "source": [
        ""
      ],
      "execution_count": null,
      "outputs": []
    }
  ]
}